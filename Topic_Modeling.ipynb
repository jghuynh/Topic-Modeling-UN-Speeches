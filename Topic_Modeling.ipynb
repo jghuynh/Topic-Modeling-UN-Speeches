{
 "cells": [
  {
   "cell_type": "code",
   "execution_count": 2,
   "id": "young-mountain",
   "metadata": {},
   "outputs": [
    {
     "name": "stderr",
     "output_type": "stream",
     "text": [
      "C:\\Users\\mtwpi\\AppData\\Local\\Programs\\Python\\Python38\\lib\\site-packages\\ipykernel\\ipkernel.py:287: DeprecationWarning: `should_run_async` will not call `transform_cell` automatically in the future. Please pass the result to `transformed_cell` argument and any exception that happen during thetransform in `preprocessing_exc_tuple` in IPython 7.17 and above.\n"
     ]
    }
   ],
   "source": [
    "import spacy\n",
    "import numpy as np\n",
    "import pandas as pd\n",
    "import matplotlib.pyplot as plt\n",
    "import altair\n",
    "from dfply import *\n",
    "from plotnine import *\n",
    "import seaborn as sns\n",
    "import missingno\n",
    "import random\n",
    "\n",
    "# Stopwords from sklearn\n",
    "# Stopwords\n",
    "from sklearn.feature_extraction.text import ENGLISH_STOP_WORDS as esw\n",
    "\n",
    "#### Stopwords from nltk\n",
    "import nltk\n",
    "from nltk.corpus import stopwords\n",
    "nltk_sw = stopwords.words(\"english\")\n",
    "\n",
    "#### Stopwrods from spacy\n",
    "from spacy.lang.en.stop_words import STOP_WORDS as spacy_sw\n",
    "\n",
    "## Sentiemtn Analysis\n",
    "import textblob\n",
    "import vaderSentiment\n",
    "\n",
    "# Count vectorizer for word frequencies\n",
    "from sklearn.feature_extraction.text import CountVectorizer\n",
    "from sklearn.decomposition import LatentDirichletAllocation\n",
    "# Lemonizer\n",
    "from nltk.stem.wordnet import WordNetLemmatizer\n",
    "# Stemer\n",
    "from nltk.stem import SnowballStemmer\n",
    "\n",
    "# Topic modeling\n",
    "import gensim\n",
    "import pyLDAvis\n",
    "import pyLDAvis.gensim_models as gensimvis\n",
    "pyLDAvis.enable_notebook()\n",
    "from gensim import corpora\n",
    "import pickle # saves the object into a file\n",
    "# But don't worry Python can understand it\n",
    "# import spacy\n",
    "# spacy.load('en_core_web_sm')\n",
    "# from spacy.lang.en import English\n",
    "# parser = English()\n",
    "# import nltk\n",
    "# nltk.download('wordnet')\n",
    "# from nltk.corpus import wordnet as wn\n",
    "from transformers import pipeline"
   ]
  },
  {
   "cell_type": "code",
   "execution_count": 3,
   "id": "imported-century",
   "metadata": {},
   "outputs": [
    {
     "name": "stderr",
     "output_type": "stream",
     "text": [
      "C:\\Users\\mtwpi\\AppData\\Local\\Programs\\Python\\Python38\\lib\\site-packages\\ipykernel\\ipkernel.py:287: DeprecationWarning: `should_run_async` will not call `transform_cell` automatically in the future. Please pass the result to `transformed_cell` argument and any exception that happen during thetransform in `preprocessing_exc_tuple` in IPython 7.17 and above.\n"
     ]
    }
   ],
   "source": [
    "import sys\n",
    "# !{sys.executable}-m pip install --upgrade ipykernel"
   ]
  },
  {
   "cell_type": "code",
   "execution_count": 4,
   "id": "available-injury",
   "metadata": {},
   "outputs": [
    {
     "name": "stderr",
     "output_type": "stream",
     "text": [
      "C:\\Users\\mtwpi\\AppData\\Local\\Programs\\Python\\Python38\\lib\\site-packages\\ipykernel\\ipkernel.py:287: DeprecationWarning: `should_run_async` will not call `transform_cell` automatically in the future. Please pass the result to `transformed_cell` argument and any exception that happen during thetransform in `preprocessing_exc_tuple` in IPython 7.17 and above.\n"
     ]
    }
   ],
   "source": [
    "# Stopword calculations\n",
    "en_stop = set(nltk.corpus.stopwords.words('english'))\n",
    "specialChars = \"!@#$%^&*()\\'\\\"?.,~<>_-+{}[]|;\"\n",
    "myPunc = set(specialChars)\n",
    "en_stop.update(myPunc)\n",
    "en_stop.add('n\\'t')"
   ]
  },
  {
   "cell_type": "code",
   "execution_count": 5,
   "id": "living-bubble",
   "metadata": {},
   "outputs": [
    {
     "name": "stderr",
     "output_type": "stream",
     "text": [
      "C:\\Users\\mtwpi\\AppData\\Local\\Programs\\Python\\Python38\\lib\\site-packages\\ipykernel\\ipkernel.py:287: DeprecationWarning: `should_run_async` will not call `transform_cell` automatically in the future. Please pass the result to `transformed_cell` argument and any exception that happen during thetransform in `preprocessing_exc_tuple` in IPython 7.17 and above.\n"
     ]
    },
    {
     "name": "stdout",
     "output_type": "stream",
     "text": [
      "(7507, 7)\n",
      "Index(['session', 'year', 'country', 'country_name', 'speaker', 'position',\n",
      "       'text'],\n",
      "      dtype='object')\n"
     ]
    }
   ],
   "source": [
    "speeches = pd.read_csv(\"un_gen_debates_text.csv\", encoding = \"utf-8\")\n",
    "print(speeches.shape)\n",
    "print(speeches.columns)"
   ]
  },
  {
   "cell_type": "markdown",
   "id": "bibliographic-comment",
   "metadata": {},
   "source": [
    "7507 rows, 7 different columns."
   ]
  },
  {
   "cell_type": "code",
   "execution_count": 6,
   "id": "single-capability",
   "metadata": {},
   "outputs": [
    {
     "name": "stderr",
     "output_type": "stream",
     "text": [
      "C:\\Users\\mtwpi\\AppData\\Local\\Programs\\Python\\Python38\\lib\\site-packages\\ipykernel\\ipkernel.py:287: DeprecationWarning: `should_run_async` will not call `transform_cell` automatically in the future. Please pass the result to `transformed_cell` argument and any exception that happen during thetransform in `preprocessing_exc_tuple` in IPython 7.17 and above.\n"
     ]
    },
    {
     "data": {
      "text/html": [
       "<div>\n",
       "<style scoped>\n",
       "    .dataframe tbody tr th:only-of-type {\n",
       "        vertical-align: middle;\n",
       "    }\n",
       "\n",
       "    .dataframe tbody tr th {\n",
       "        vertical-align: top;\n",
       "    }\n",
       "\n",
       "    .dataframe thead th {\n",
       "        text-align: right;\n",
       "    }\n",
       "</style>\n",
       "<table border=\"1\" class=\"dataframe\">\n",
       "  <thead>\n",
       "    <tr style=\"text-align: right;\">\n",
       "      <th></th>\n",
       "      <th>session</th>\n",
       "      <th>year</th>\n",
       "      <th>country</th>\n",
       "      <th>country_name</th>\n",
       "      <th>speaker</th>\n",
       "      <th>position</th>\n",
       "      <th>text</th>\n",
       "    </tr>\n",
       "  </thead>\n",
       "  <tbody>\n",
       "    <tr>\n",
       "      <th>0</th>\n",
       "      <td>25</td>\n",
       "      <td>1970</td>\n",
       "      <td>ALB</td>\n",
       "      <td>Albania</td>\n",
       "      <td>Mr. NAS</td>\n",
       "      <td>NaN</td>\n",
       "      <td>33: May I first convey to our President the co...</td>\n",
       "    </tr>\n",
       "    <tr>\n",
       "      <th>1</th>\n",
       "      <td>25</td>\n",
       "      <td>1970</td>\n",
       "      <td>ARG</td>\n",
       "      <td>Argentina</td>\n",
       "      <td>Mr. DE PABLO PARDO</td>\n",
       "      <td>NaN</td>\n",
       "      <td>177.\\t : It is a fortunate coincidence that pr...</td>\n",
       "    </tr>\n",
       "    <tr>\n",
       "      <th>2</th>\n",
       "      <td>25</td>\n",
       "      <td>1970</td>\n",
       "      <td>AUS</td>\n",
       "      <td>Australia</td>\n",
       "      <td>Mr. McMAHON</td>\n",
       "      <td>NaN</td>\n",
       "      <td>100.\\t  It is a pleasure for me to extend to y...</td>\n",
       "    </tr>\n",
       "    <tr>\n",
       "      <th>3</th>\n",
       "      <td>25</td>\n",
       "      <td>1970</td>\n",
       "      <td>AUT</td>\n",
       "      <td>Austria</td>\n",
       "      <td>Mr. KIRCHSCHLAEGER</td>\n",
       "      <td>NaN</td>\n",
       "      <td>155.\\t  May I begin by expressing to Ambassado...</td>\n",
       "    </tr>\n",
       "    <tr>\n",
       "      <th>4</th>\n",
       "      <td>25</td>\n",
       "      <td>1970</td>\n",
       "      <td>BEL</td>\n",
       "      <td>Belgium</td>\n",
       "      <td>Mr. HARMEL</td>\n",
       "      <td>NaN</td>\n",
       "      <td>176. No doubt each of us, before coming up to ...</td>\n",
       "    </tr>\n",
       "  </tbody>\n",
       "</table>\n",
       "</div>"
      ],
      "text/plain": [
       "   session  year country country_name             speaker position  \\\n",
       "0       25  1970     ALB      Albania             Mr. NAS      NaN   \n",
       "1       25  1970     ARG    Argentina  Mr. DE PABLO PARDO      NaN   \n",
       "2       25  1970     AUS    Australia         Mr. McMAHON      NaN   \n",
       "3       25  1970     AUT      Austria  Mr. KIRCHSCHLAEGER      NaN   \n",
       "4       25  1970     BEL      Belgium          Mr. HARMEL      NaN   \n",
       "\n",
       "                                                text  \n",
       "0  33: May I first convey to our President the co...  \n",
       "1  177.\\t : It is a fortunate coincidence that pr...  \n",
       "2  100.\\t  It is a pleasure for me to extend to y...  \n",
       "3  155.\\t  May I begin by expressing to Ambassado...  \n",
       "4  176. No doubt each of us, before coming up to ...  "
      ]
     },
     "execution_count": 6,
     "metadata": {},
     "output_type": "execute_result"
    }
   ],
   "source": [
    "speeches.head()"
   ]
  },
  {
   "cell_type": "code",
   "execution_count": 7,
   "id": "protective-possibility",
   "metadata": {},
   "outputs": [
    {
     "name": "stderr",
     "output_type": "stream",
     "text": [
      "C:\\Users\\mtwpi\\AppData\\Local\\Programs\\Python\\Python38\\lib\\site-packages\\ipykernel\\ipkernel.py:287: DeprecationWarning: `should_run_async` will not call `transform_cell` automatically in the future. Please pass the result to `transformed_cell` argument and any exception that happen during thetransform in `preprocessing_exc_tuple` in IPython 7.17 and above.\n"
     ]
    },
    {
     "data": {
      "text/plain": [
       "<AxesSubplot:>"
      ]
     },
     "execution_count": 7,
     "metadata": {},
     "output_type": "execute_result"
    },
    {
     "data": {
      "image/png": "[encoded data removed]",
      "text/plain": [
       "<Figure size 1800x720 with 2 Axes>"
      ]
     },
     "metadata": {
      "needs_background": "light"
     },
     "output_type": "display_data"
    }
   ],
   "source": [
    "missingno.matrix(speeches)"
   ]
  },
  {
   "cell_type": "markdown",
   "id": "direct-prompt",
   "metadata": {},
   "source": [
    "Position appears to be the column with the biggest amount of missingness."
   ]
  },
  {
   "cell_type": "code",
   "execution_count": 8,
   "id": "geological-jungle",
   "metadata": {},
   "outputs": [
    {
     "name": "stderr",
     "output_type": "stream",
     "text": [
      "C:\\Users\\mtwpi\\AppData\\Local\\Programs\\Python\\Python38\\lib\\site-packages\\ipykernel\\ipkernel.py:287: DeprecationWarning: `should_run_async` will not call `transform_cell` automatically in the future. Please pass the result to `transformed_cell` argument and any exception that happen during thetransform in `preprocessing_exc_tuple` in IPython 7.17 and above.\n"
     ]
    },
    {
     "data": {
      "text/plain": [
       "session            0\n",
       "year               0\n",
       "country            0\n",
       "country_name       0\n",
       "speaker           27\n",
       "position        3005\n",
       "text               0\n",
       "dtype: int64"
      ]
     },
     "execution_count": 8,
     "metadata": {},
     "output_type": "execute_result"
    }
   ],
   "source": [
    "speeches.isna().sum()"
   ]
  },
  {
   "cell_type": "markdown",
   "id": "existing-blind",
   "metadata": {},
   "source": [
    "Wow. There are quite a bit of NAs in the `position` column. I wonder why. \n",
    "\n",
    "And a little bit in the `speaker` column."
   ]
  },
  {
   "cell_type": "markdown",
   "id": "pressing-functionality",
   "metadata": {},
   "source": [
    "My God these humans talked a FREAKTON! \n",
    "\n",
    "I'd rather eat horse scat off a rotting cow than read this mess."
   ]
  },
  {
   "cell_type": "code",
   "execution_count": 9,
   "id": "practical-dining",
   "metadata": {},
   "outputs": [
    {
     "name": "stderr",
     "output_type": "stream",
     "text": [
      "C:\\Users\\mtwpi\\AppData\\Local\\Programs\\Python\\Python38\\lib\\site-packages\\ipykernel\\ipkernel.py:287: DeprecationWarning: `should_run_async` will not call `transform_cell` automatically in the future. Please pass the result to `transformed_cell` argument and any exception that happen during thetransform in `preprocessing_exc_tuple` in IPython 7.17 and above.\n"
     ]
    }
   ],
   "source": [
    "# Creating an nlp object\n",
    "nlp = spacy.load(\"en_core_web_sm\")\n",
    "doc = nlp(speeches.text[0])"
   ]
  },
  {
   "cell_type": "markdown",
   "id": "defensive-appearance",
   "metadata": {},
   "source": [
    "### Printing text, lemma, parts of speech..."
   ]
  },
  {
   "cell_type": "code",
   "execution_count": 10,
   "id": "settled-revision",
   "metadata": {},
   "outputs": [
    {
     "name": "stderr",
     "output_type": "stream",
     "text": [
      "C:\\Users\\mtwpi\\AppData\\Local\\Programs\\Python\\Python38\\lib\\site-packages\\ipykernel\\ipkernel.py:287: DeprecationWarning: `should_run_async` will not call `transform_cell` automatically in the future. Please pass the result to `transformed_cell` argument and any exception that happen during thetransform in `preprocessing_exc_tuple` in IPython 7.17 and above.\n"
     ]
    }
   ],
   "source": [
    "# for token in doc:\n",
    "#     print(token.text, token.lemma_, token.pos_, token.tag_, token.dep_,\n",
    "#             token.shape_, token.is_alpha, token.is_stop)"
   ]
  },
  {
   "cell_type": "code",
   "execution_count": 11,
   "id": "color-bandwidth",
   "metadata": {},
   "outputs": [
    {
     "name": "stderr",
     "output_type": "stream",
     "text": [
      "C:\\Users\\mtwpi\\AppData\\Local\\Programs\\Python\\Python38\\lib\\site-packages\\ipykernel\\ipkernel.py:287: DeprecationWarning: `should_run_async` will not call `transform_cell` automatically in the future. Please pass the result to `transformed_cell` argument and any exception that happen during thetransform in `preprocessing_exc_tuple` in IPython 7.17 and above.\n"
     ]
    },
    {
     "data": {
      "text/plain": [
       "0.116178337718085"
      ]
     },
     "execution_count": 11,
     "metadata": {},
     "output_type": "execute_result"
    }
   ],
   "source": [
    "textblob.TextBlob(doc.text).sentiment.polarity"
   ]
  },
  {
   "cell_type": "markdown",
   "id": "prepared-saying",
   "metadata": {},
   "source": [
    "As a whole, the first speech is filled with 0.12 sentiment. Barely positive feelings."
   ]
  },
  {
   "cell_type": "code",
   "execution_count": 12,
   "id": "abstract-pennsylvania",
   "metadata": {},
   "outputs": [
    {
     "name": "stdout",
     "output_type": "stream",
     "text": [
      "Number of stop words in nltk list: 179\n",
      "Number of stop words in list: 326\n",
      "Words in spacy but not in nltk: {'becoming', 'beforehand', 'seem', 'herein', 'four', 'mostly', 'front', 'without', 'move', 'formerly', 'us', 'could', '‘ll', 'whereupon', 'thus', 'everyone', 'really', 'within', 'three', 'former', 'someone', 'ever', 'indeed', 'often', 'go', 'namely', 'afterwards', '’ve', 'six', 'whether', 'much', 'bottom', \"'re\", 'seems', 'eight', 'twenty', 'less', '’d', 'say', 'due', 'either', 'never', 'wherein', 'may', 'anyhow', 'used', 'last', 'thereafter', '’m', 'might', 'seeming', 'eleven', 'make', 'least', 'amount', 'quite', 'twelve', 'made', 'somehow', 'anyone', 'noone', 'two', '‘s', 'become', 'ten', 'beside', 'whence', 'must', 'yet', 'five', 'several', 'therein', 'alone', 'another', '‘re', 'thereby', 'wherever', 'anyway', 'n’t', 'sometimes', 'since', 'else', 'many', 'however', 'elsewhere', 'one', 'would', 'always', 'hundred', 'mine', 'somewhere', 'whereafter', 'latter', 'nevertheless', 'thereupon', 'anywhere', 'per', 'top', 'next', 'thru', 'regarding', 'behind', 'perhaps', 'hereby', 'neither', 'meanwhile', 'nobody', 'also', 'whose', 'call', '’re', 'put', 'besides', '’ll', 'fifteen', 'throughout', 'serious', 'via', \"n't\", \"'ve\", 'empty', 'using', 'none', 'seemed', 'nine', 'something', 'whereby', 'became', 'except', 'hence', 'rather', 'whoever', 'please', 'take', 'thence', 'among', 'onto', 'various', 'every', 'done', '’s', 'name', 'sixty', \"'ll\", 'see', \"'d\", 'across', 'enough', 'get', 'whole', 'amongst', \"'s\", 'although', 'whereas', 'nothing', 'others', 'third', '‘d', 'show', 'otherwise', 'still', '‘ve', 'even', 'side', '‘m', \"'m\", 'along', 'whatever', 'almost', 'cannot', 'ca', 'already', 'part', 'latterly', 'unless', 'becomes', 'hereupon', 'whenever', 'toward', 'give', 'around', 'well', 'everything', 'everywhere', 'forty', 'hereafter', 'full', 'together', 'n‘t', 'upon', 'back', 'whither', 'first', 'therefore', 'fifty', 'beyond', 'keep', 'moreover', 'sometime', 'towards', 'anything', 'though', 'nowhere'}\n"
     ]
    },
    {
     "name": "stderr",
     "output_type": "stream",
     "text": [
      "C:\\Users\\mtwpi\\AppData\\Local\\Programs\\Python\\Python38\\lib\\site-packages\\ipykernel\\ipkernel.py:287: DeprecationWarning: `should_run_async` will not call `transform_cell` automatically in the future. Please pass the result to `transformed_cell` argument and any exception that happen during thetransform in `preprocessing_exc_tuple` in IPython 7.17 and above.\n"
     ]
    }
   ],
   "source": [
    "print(f\"Number of stop words in nltk list: {len(nltk_sw)}\")\n",
    "print(f\"Number of stop words in list: {len(spacy_sw)}\")\n",
    "#### Comparing stopword lists\n",
    "print(f\"Words in spacy but not in nltk: {spacy_sw.difference(set(nltk_sw))}\")"
   ]
  },
  {
   "cell_type": "code",
   "execution_count": 13,
   "id": "related-works",
   "metadata": {},
   "outputs": [
    {
     "name": "stdout",
     "output_type": "stream",
     "text": [
      "Words in spacy but not in sklearn: {'regarding', 'did', 'just', \"'s\", '’m', '‘ll', 'make', '’re', '‘d', '‘ve', 'quite', 'really', '‘m', \"'m\", 'ca', '’ll', 'unless', '‘s', \"n't\", \"'ve\", 'using', '’ve', '‘re', \"'re\", 'n‘t', 'n’t', '’d', 'say', 'various', '’s', \"'ll\", 'doing', \"'d\", 'used', 'does'}\n"
     ]
    },
    {
     "name": "stderr",
     "output_type": "stream",
     "text": [
      "C:\\Users\\mtwpi\\AppData\\Local\\Programs\\Python\\Python38\\lib\\site-packages\\ipykernel\\ipkernel.py:287: DeprecationWarning: `should_run_async` will not call `transform_cell` automatically in the future. Please pass the result to `transformed_cell` argument and any exception that happen during thetransform in `preprocessing_exc_tuple` in IPython 7.17 and above.\n"
     ]
    }
   ],
   "source": [
    "#### Comparing stopword lists\n",
    "print(f\"Words in spacy but not in sklearn: {spacy_sw.difference(esw)}\")"
   ]
  },
  {
   "cell_type": "code",
   "execution_count": 14,
   "id": "prospective-moment",
   "metadata": {},
   "outputs": [
    {
     "name": "stdout",
     "output_type": "stream",
     "text": [
      "Length of both nltk and spacy stopwords: 409\n"
     ]
    },
    {
     "name": "stderr",
     "output_type": "stream",
     "text": [
      "C:\\Users\\mtwpi\\AppData\\Local\\Programs\\Python\\Python38\\lib\\site-packages\\ipykernel\\ipkernel.py:287: DeprecationWarning: `should_run_async` will not call `transform_cell` automatically in the future. Please pass the result to `transformed_cell` argument and any exception that happen during thetransform in `preprocessing_exc_tuple` in IPython 7.17 and above.\n"
     ]
    }
   ],
   "source": [
    "#### Combine nltk and spacy stopwords into one: both_sw\n",
    "both_sw = set.union(en_stop, spacy_sw)\n",
    "# both_sw = en_stop.update(spacy_sw)\n",
    "print(f\"Length of both nltk and spacy stopwords: {len(both_sw)}\")\n",
    "\n"
   ]
  },
  {
   "cell_type": "markdown",
   "id": "union-planet",
   "metadata": {},
   "source": [
    "We have successfully combined nltk, spacy, and Daniel's stop words!"
   ]
  },
  {
   "cell_type": "code",
   "execution_count": 15,
   "id": "nonprofit-genealogy",
   "metadata": {},
   "outputs": [
    {
     "name": "stderr",
     "output_type": "stream",
     "text": [
      "C:\\Users\\mtwpi\\AppData\\Local\\Programs\\Python\\Python38\\lib\\site-packages\\ipykernel\\ipkernel.py:287: DeprecationWarning: `should_run_async` will not call `transform_cell` automatically in the future. Please pass the result to `transformed_cell` argument and any exception that happen during thetransform in `preprocessing_exc_tuple` in IPython 7.17 and above.\n"
     ]
    }
   ],
   "source": [
    "### Vectorize training text, set min_df to 5\n",
    "speeches_text = CountVectorizer(min_df=5).fit_transform(speeches[\"text\"])\n",
    "# We want words who appear in at least 5 docs"
   ]
  },
  {
   "cell_type": "code",
   "execution_count": 16,
   "id": "suspended-apparel",
   "metadata": {},
   "outputs": [
    {
     "name": "stdout",
     "output_type": "stream",
     "text": [
      "Number Of Features, taking words that occur in at least 5 dfs: 24979\n"
     ]
    },
    {
     "name": "stderr",
     "output_type": "stream",
     "text": [
      "C:\\Users\\mtwpi\\AppData\\Local\\Programs\\Python\\Python38\\lib\\site-packages\\ipykernel\\ipkernel.py:287: DeprecationWarning: `should_run_async` will not call `transform_cell` automatically in the future. Please pass the result to `transformed_cell` argument and any exception that happen during thetransform in `preprocessing_exc_tuple` in IPython 7.17 and above.\n"
     ]
    }
   ],
   "source": [
    "print(f\"Number Of Features, taking words that occur in at least 5 dfs: {speeches_text.shape[1]}\")"
   ]
  },
  {
   "cell_type": "code",
   "execution_count": 17,
   "id": "martial-tolerance",
   "metadata": {},
   "outputs": [
    {
     "name": "stderr",
     "output_type": "stream",
     "text": [
      "C:\\Users\\mtwpi\\AppData\\Local\\Programs\\Python\\Python38\\lib\\site-packages\\ipykernel\\ipkernel.py:287: DeprecationWarning: `should_run_async` will not call `transform_cell` automatically in the future. Please pass the result to `transformed_cell` argument and any exception that happen during thetransform in `preprocessing_exc_tuple` in IPython 7.17 and above.\n"
     ]
    },
    {
     "data": {
      "text/html": [
       "<div>\n",
       "<style scoped>\n",
       "    .dataframe tbody tr th:only-of-type {\n",
       "        vertical-align: middle;\n",
       "    }\n",
       "\n",
       "    .dataframe tbody tr th {\n",
       "        vertical-align: top;\n",
       "    }\n",
       "\n",
       "    .dataframe thead th {\n",
       "        text-align: right;\n",
       "    }\n",
       "</style>\n",
       "<table border=\"1\" class=\"dataframe\">\n",
       "  <thead>\n",
       "    <tr style=\"text-align: right;\">\n",
       "      <th></th>\n",
       "      <th>session</th>\n",
       "      <th>year</th>\n",
       "      <th>country</th>\n",
       "      <th>country_name</th>\n",
       "      <th>speaker</th>\n",
       "      <th>position</th>\n",
       "      <th>text</th>\n",
       "    </tr>\n",
       "  </thead>\n",
       "  <tbody>\n",
       "    <tr>\n",
       "      <th>0</th>\n",
       "      <td>25</td>\n",
       "      <td>1970</td>\n",
       "      <td>ALB</td>\n",
       "      <td>Albania</td>\n",
       "      <td>Mr. NAS</td>\n",
       "      <td>NaN</td>\n",
       "      <td>33: May I first convey to our President the co...</td>\n",
       "    </tr>\n",
       "    <tr>\n",
       "      <th>1</th>\n",
       "      <td>25</td>\n",
       "      <td>1970</td>\n",
       "      <td>ARG</td>\n",
       "      <td>Argentina</td>\n",
       "      <td>Mr. DE PABLO PARDO</td>\n",
       "      <td>NaN</td>\n",
       "      <td>177.\\t : It is a fortunate coincidence that pr...</td>\n",
       "    </tr>\n",
       "    <tr>\n",
       "      <th>2</th>\n",
       "      <td>25</td>\n",
       "      <td>1970</td>\n",
       "      <td>AUS</td>\n",
       "      <td>Australia</td>\n",
       "      <td>Mr. McMAHON</td>\n",
       "      <td>NaN</td>\n",
       "      <td>100.\\t  It is a pleasure for me to extend to y...</td>\n",
       "    </tr>\n",
       "    <tr>\n",
       "      <th>3</th>\n",
       "      <td>25</td>\n",
       "      <td>1970</td>\n",
       "      <td>AUT</td>\n",
       "      <td>Austria</td>\n",
       "      <td>Mr. KIRCHSCHLAEGER</td>\n",
       "      <td>NaN</td>\n",
       "      <td>155.\\t  May I begin by expressing to Ambassado...</td>\n",
       "    </tr>\n",
       "    <tr>\n",
       "      <th>4</th>\n",
       "      <td>25</td>\n",
       "      <td>1970</td>\n",
       "      <td>BEL</td>\n",
       "      <td>Belgium</td>\n",
       "      <td>Mr. HARMEL</td>\n",
       "      <td>NaN</td>\n",
       "      <td>176. No doubt each of us, before coming up to ...</td>\n",
       "    </tr>\n",
       "  </tbody>\n",
       "</table>\n",
       "</div>"
      ],
      "text/plain": [
       "   session  year country country_name             speaker position  \\\n",
       "0       25  1970     ALB      Albania             Mr. NAS      NaN   \n",
       "1       25  1970     ARG    Argentina  Mr. DE PABLO PARDO      NaN   \n",
       "2       25  1970     AUS    Australia         Mr. McMAHON      NaN   \n",
       "3       25  1970     AUT      Austria  Mr. KIRCHSCHLAEGER      NaN   \n",
       "4       25  1970     BEL      Belgium          Mr. HARMEL      NaN   \n",
       "\n",
       "                                                text  \n",
       "0  33: May I first convey to our President the co...  \n",
       "1  177.\\t : It is a fortunate coincidence that pr...  \n",
       "2  100.\\t  It is a pleasure for me to extend to y...  \n",
       "3  155.\\t  May I begin by expressing to Ambassado...  \n",
       "4  176. No doubt each of us, before coming up to ...  "
      ]
     },
     "execution_count": 17,
     "metadata": {},
     "output_type": "execute_result"
    }
   ],
   "source": [
    "speeches.head()"
   ]
  },
  {
   "cell_type": "markdown",
   "id": "fifth-hierarchy",
   "metadata": {},
   "source": [
    "## Vectorization\n",
    "\n",
    "- Lowercase\n",
    "- Tokenize\n",
    "- Build vocab: collect all vocab\n",
    "- Lemmatize\n",
    "- Remove stopwords? and punctuation\n",
    "- Encode: count frequency of each word in each speech\n",
    "\n",
    "Daniels crazy idea\n",
    "\n",
    "- Grab multiple SA packages\n",
    "\n",
    "- SA of each speech\n",
    "\n",
    "- Graph the mean of each SA package or whatever and compare them?"
   ]
  },
  {
   "cell_type": "code",
   "execution_count": 18,
   "id": "developmental-victorian",
   "metadata": {},
   "outputs": [
    {
     "name": "stderr",
     "output_type": "stream",
     "text": [
      "C:\\Users\\mtwpi\\AppData\\Local\\Programs\\Python\\Python38\\lib\\site-packages\\ipykernel\\ipkernel.py:287: DeprecationWarning: `should_run_async` will not call `transform_cell` automatically in the future. Please pass the result to `transformed_cell` argument and any exception that happen during thetransform in `preprocessing_exc_tuple` in IPython 7.17 and above.\n"
     ]
    }
   ],
   "source": [
    "def get_lemma(word, myLemonizer = WordNetLemmatizer()):\n",
    "    '''\n",
    "    Lemmatizes the word\n",
    "    \n",
    "    @param String word the given word to lemmatize\n",
    "    @param myLemonizer the given lemmatizer; optional\n",
    "    @return the newly lemmatized core word\n",
    "    '''\n",
    "    \n",
    "#     print(\"word lemonizer\", WordNetLemmatizer().lemmatize(word))\n",
    "    # Should I do stemming too? Hmmmm\n",
    "    return myLemonizer.lemmatize(word)\n",
    "\n",
    "def get_stemmer(word, myStemmer = SnowballStemmer(language = \"english\")):\n",
    "    '''\n",
    "    Stems the word\n",
    "    \n",
    "    @param String word the given word to stem\n",
    "    @param myStemmer the given stemmer; optional\n",
    "    @return the newly stemmed core word\n",
    "    '''\n",
    "    return myStemmer.stem(word)\n",
    "    \n",
    "\n",
    "def removePunctuation(word):\n",
    "    '''\n",
    "    Removes punctuation from a given word\n",
    "    \n",
    "    @param String word the given word\n",
    "    @return the word, without punctuation\n",
    "    '''\n",
    "    \n",
    "    lastIndex = len(word) - 1\n",
    "    if word[lastIndex] in myPunc:\n",
    "        # eradicate the last index value\n",
    "        return word[:-1]\n",
    "\n",
    "    return word\n",
    "    \n",
    "\n",
    "def prepare_text_for_lda(text, myLemonizer = WordNetLemmatizer(), myStemmer = SnowballStemmer(language = \"english\")):\n",
    "    '''\n",
    "    Tokenizes, splits, removes stopwords from the text.\n",
    "    Basically, preparing text for LDA (one type of topic model)\n",
    "    \n",
    "    @param String text the given text\n",
    "    @param WordNetLemmatizer myLemonizer the given lemmatizer\n",
    "    @return the tokens\n",
    "    '''\n",
    "    text = text.lower()\n",
    "    \n",
    "    # Split by spaces\n",
    "    tokens = text.split(\" \")\n",
    "    \n",
    "    # Stripping away newline characters and tabs\n",
    "    tokens = [word.strip(\"\\n\") for word in tokens]\n",
    "    tokens = [word.strip(\"\\t\") for word in tokens]\n",
    "#     tokens = [word.strip(\"\\d\") for word in tokens]\n",
    "    # Strip damn numbers\n",
    "    \n",
    "    tokens = [token for token in tokens if len(token) > 1]\n",
    "    # a\n",
    "    \n",
    "    tokens = [token for token in tokens if token not in both_sw]\n",
    "#     if \"the\" or \"an\" or \"and\" in tokens:\n",
    "# #         print(f\"found the/an/and in: {tokens}\")\n",
    "#         print(\"found the/an/and\")\n",
    "    tokens = [get_lemma(token, myLemonizer) for token in tokens]\n",
    "    tokens = [get_stemmer(token, myStemmer) for token in tokens]\n",
    "    tokens = [removePunctuation(token) for token in tokens]\n",
    "    return tokens\n",
    "\n",
    "def getCleanedTokensList(data, myLemonizer = WordNetLemmatizer(), myStemmer = SnowballStemmer(language = \"english\")):\n",
    "    '''\n",
    "    Gets cleaned tokens. \n",
    "    Processes include: lowercasing, splitting by spaces, strips spaces/tabs/newlines,\n",
    "    punctuation, lemmatizing, stems\n",
    "    \n",
    "    @param DataFrame data the given data frame\n",
    "    @param WordNetLemmatizer myLemonizer the given lemmatizer\n",
    "    @param SnowballStemmer myStemmer the given stemmer\n",
    "    @return the list of tokens for each speech\n",
    "    '''\n",
    "    text_data = []\n",
    "\n",
    "    for line in data:\n",
    "        tokens = prepare_text_for_lda(line, myLemonizer, myStemmer)\n",
    "        text_data.append(tokens)\n",
    "    return text_data\n",
    "\n",
    "\n",
    "def generate_viz(data, NUM_TOPICS=5, myLemonizer = WordNetLemmatizer(), myStemmer = SnowballStemmer(language = \"english\")):\n",
    "    '''\n",
    "    Graphs the data by topic.\n",
    "    Also saves the files and model into other files\n",
    "    \n",
    "    @param list data the given list of Strings\n",
    "    @param int NUM_TOPICS number of topics to graph; default set to 5\n",
    "    @param WordNetLemmatizer myLemonizer the given lemmatizer\n",
    "    @return the graph, dictionary, and corpus\n",
    "    '''\n",
    "#     text_data = []\n",
    "\n",
    "#     for line in data:\n",
    "#         tokens = prepare_text_for_lda(line, myLemonizer, myStemmer)\n",
    "#         text_data.append(tokens)\n",
    "    text_data = getCleanedTokensList(data, myLemonizer, myStemmer)\n",
    "\n",
    "    dictionary = corpora.Dictionary(text_data)\n",
    "    corpus = [dictionary.doc2bow(text) for text in text_data]\n",
    "    pickle.dump(corpus, open('corpus.pkl', 'wb'))\n",
    "    dictionary.save('dictionary.gensim')\n",
    "    ldamodel = gensim.models.ldamodel.LdaModel(corpus, num_topics = NUM_TOPICS, id2word=dictionary, passes=15, random_state = 420)\n",
    "    ldamodel.save('model5.gensim')\n",
    "\n",
    "    topics = ldamodel.print_topics(num_words=4)\n",
    "    for topic in topics:\n",
    "        print(f\"topic: {topic}\")\n",
    "\n",
    "    dictionary = gensim.corpora.Dictionary.load('dictionary.gensim')\n",
    "    corpus = pickle.load(open('corpus.pkl', 'rb'))\n",
    "    lda = gensim.models.ldamodel.LdaModel.load('model5.gensim')\n",
    "\n",
    "    lda_display = gensimvis.prepare(lda, corpus, dictionary, sort_topics=False)\n",
    "    return lda_display, dictionary, corpus\n"
   ]
  },
  {
   "cell_type": "code",
   "execution_count": 20,
   "id": "robust-copying",
   "metadata": {},
   "outputs": [
    {
     "name": "stdout",
     "output_type": "stream",
     "text": [
      "207\n",
      "Both stop length: 409\n",
      "False\n"
     ]
    },
    {
     "name": "stderr",
     "output_type": "stream",
     "text": [
      "C:\\Users\\mtwpi\\AppData\\Local\\Programs\\Python\\Python38\\lib\\site-packages\\ipykernel\\ipkernel.py:287: DeprecationWarning: `should_run_async` will not call `transform_cell` automatically in the future. Please pass the result to `transformed_cell` argument and any exception that happen during thetransform in `preprocessing_exc_tuple` in IPython 7.17 and above.\n"
     ]
    }
   ],
   "source": [
    "print(len(en_stop))\n",
    "print(f\"Both stop length: {len(both_sw)}\")\n",
    "print(\"one\" in en_stop)\n",
    "# print(both_sw)"
   ]
  },
  {
   "cell_type": "code",
   "execution_count": null,
   "id": "velvet-adapter",
   "metadata": {},
   "outputs": [],
   "source": []
  },
  {
   "cell_type": "markdown",
   "id": "backed-rebate",
   "metadata": {},
   "source": [
    "## Updating Both_Sw stopwords"
   ]
  },
  {
   "cell_type": "code",
   "execution_count": 26,
   "id": "working-barrel",
   "metadata": {},
   "outputs": [
    {
     "name": "stderr",
     "output_type": "stream",
     "text": [
      "C:\\Users\\mtwpi\\AppData\\Local\\Programs\\Python\\Python38\\lib\\site-packages\\ipykernel\\ipkernel.py:287: DeprecationWarning: `should_run_async` will not call `transform_cell` automatically in the future. Please pass the result to `transformed_cell` argument and any exception that happen during thetransform in `preprocessing_exc_tuple` in IPython 7.17 and above.\n"
     ]
    }
   ],
   "source": [
    "# Updating Both_Sw\n",
    "both_sw.update([\"\\n\", \"\\t\", \"'s\"])\n",
    "\n",
    "# I also wanna eradicate words that appear in many documents,too\n",
    "both_sw.update([\"united\", \"states\", \"nation\", \"international\", \"state\", \"like\", \"would\", \"should\", \"country\"])"
   ]
  },
  {
   "cell_type": "code",
   "execution_count": 22,
   "id": "computational-outside",
   "metadata": {},
   "outputs": [
    {
     "name": "stderr",
     "output_type": "stream",
     "text": [
      "C:\\Users\\mtwpi\\AppData\\Local\\Programs\\Python\\Python38\\lib\\site-packages\\ipykernel\\ipkernel.py:287: DeprecationWarning: `should_run_async` will not call `transform_cell` automatically in the future. Please pass the result to `transformed_cell` argument and any exception that happen during thetransform in `preprocessing_exc_tuple` in IPython 7.17 and above.\n"
     ]
    }
   ],
   "source": [
    "# myLemonizer = WordNetLemmatizer()\n",
    "# list_of_strings = speeches[\"text\"].tolist()\n",
    "# viz, dictionary, corpus = generate_viz(list_of_strings[0:5], 3)\n",
    "# pyLDAvis.display(viz)"
   ]
  },
  {
   "cell_type": "code",
   "execution_count": null,
   "id": "colonial-kruger",
   "metadata": {},
   "outputs": [],
   "source": [
    "# myLemonizer = WordNetLemmatizer()\n",
    "# # list_of_strings = speeches[\"text\"].tolist()\n",
    "# list_of_strings = (\n",
    "#     speeches >>\n",
    "#     mask((X.country_name == \"China\") | (X.country_name == \"Canada\"))\n",
    "# )[\"text\"].tolist()\n",
    "# viz, dictionary, corpus = generate_viz(list_of_strings, 2)\n",
    "# pyLDAvis.display(viz)"
   ]
  },
  {
   "cell_type": "markdown",
   "id": "preceding-census",
   "metadata": {},
   "source": [
    "## Topic Modelling For Each Country"
   ]
  },
  {
   "cell_type": "code",
   "execution_count": 27,
   "id": "about-chile",
   "metadata": {},
   "outputs": [
    {
     "name": "stderr",
     "output_type": "stream",
     "text": [
      "C:\\Users\\mtwpi\\AppData\\Local\\Programs\\Python\\Python38\\lib\\site-packages\\ipykernel\\ipkernel.py:287: DeprecationWarning: `should_run_async` will not call `transform_cell` automatically in the future. Please pass the result to `transformed_cell` argument and any exception that happen during thetransform in `preprocessing_exc_tuple` in IPython 7.17 and above.\n"
     ]
    },
    {
     "name": "stdout",
     "output_type": "stream",
     "text": [
      "topic: (0, '0.007*\"albania\" + 0.007*\"kosovo\" + 0.006*\"nation\" + 0.006*\"govern\"')\n",
      "topic: (1, '0.019*\"peopl\" + 0.006*\"nation\" + 0.006*\"albania\" + 0.006*\"world\"')\n",
      "topic: (2, '0.017*\"peopl\" + 0.008*\"nation\" + 0.008*\"albania\" + 0.007*\"countri\"')\n"
     ]
    },
    {
     "name": "stderr",
     "output_type": "stream",
     "text": [
      "C:\\Users\\mtwpi\\AppData\\Local\\Programs\\Python\\Python38\\lib\\site-packages\\pyLDAvis\\_prepare.py:246: FutureWarning: In a future version of pandas all arguments of DataFrame.drop except for the argument 'labels' will be keyword-only\n"
     ]
    },
    {
     "name": "stdout",
     "output_type": "stream",
     "text": [
      "topic: (0, '0.007*\"nation\" + 0.005*\"world\" + 0.005*\"argentina\" + 0.005*\"countri\"')\n",
      "topic: (1, '0.002*\"new\" + 0.002*\"peac\" + 0.002*\"integr\" + 0.002*\"countri\"')\n",
      "topic: (2, '0.007*\"argentina\" + 0.007*\"world\" + 0.006*\"countri\" + 0.006*\"nation\"')\n"
     ]
    },
    {
     "name": "stderr",
     "output_type": "stream",
     "text": [
      "C:\\Users\\mtwpi\\AppData\\Local\\Programs\\Python\\Python38\\lib\\site-packages\\pyLDAvis\\_prepare.py:246: FutureWarning: In a future version of pandas all arguments of DataFrame.drop except for the argument 'labels' will be keyword-only\n"
     ]
    },
    {
     "name": "stdout",
     "output_type": "stream",
     "text": [
      "topic: (0, '0.014*\"nation\" + 0.010*\"australia\" + 0.008*\"develop\" + 0.008*\"world\"')\n",
      "topic: (1, '0.008*\"nation\" + 0.003*\"work\" + 0.003*\"iraq\" + 0.003*\"world\"')\n",
      "topic: (2, '0.013*\"nation\" + 0.006*\"australia\" + 0.006*\"human\" + 0.005*\"right\"')\n"
     ]
    },
    {
     "name": "stderr",
     "output_type": "stream",
     "text": [
      "C:\\Users\\mtwpi\\AppData\\Local\\Programs\\Python\\Python38\\lib\\site-packages\\pyLDAvis\\_prepare.py:246: FutureWarning: In a future version of pandas all arguments of DataFrame.drop except for the argument 'labels' will be keyword-only\n"
     ]
    },
    {
     "name": "stdout",
     "output_type": "stream",
     "text": [
      "topic: (0, '0.011*\"nation\" + 0.009*\"austria\" + 0.008*\"human\" + 0.006*\"peac\"')\n",
      "topic: (1, '0.011*\"nation\" + 0.006*\"human\" + 0.005*\"right\" + 0.004*\"austria\"')\n",
      "topic: (2, '0.005*\"human\" + 0.003*\"right\" + 0.002*\"austria\" + 0.002*\"osc\"')\n"
     ]
    },
    {
     "name": "stderr",
     "output_type": "stream",
     "text": [
      "C:\\Users\\mtwpi\\AppData\\Local\\Programs\\Python\\Python38\\lib\\site-packages\\pyLDAvis\\_prepare.py:246: FutureWarning: In a future version of pandas all arguments of DataFrame.drop except for the argument 'labels' will be keyword-only\n"
     ]
    },
    {
     "name": "stdout",
     "output_type": "stream",
     "text": [
      "topic: (0, '0.007*\"nation\" + 0.006*\"world\" + 0.005*\"countri\" + 0.005*\"belgium\"')\n",
      "topic: (1, '0.008*\"human\" + 0.007*\"nation\" + 0.007*\"right\" + 0.007*\"belgium\"')\n",
      "topic: (2, '0.007*\"world\" + 0.005*\"nation\" + 0.005*\"european\" + 0.004*\"region\"')\n"
     ]
    },
    {
     "name": "stderr",
     "output_type": "stream",
     "text": [
      "C:\\Users\\mtwpi\\AppData\\Local\\Programs\\Python\\Python38\\lib\\site-packages\\pyLDAvis\\_prepare.py:246: FutureWarning: In a future version of pandas all arguments of DataFrame.drop except for the argument 'labels' will be keyword-only\n"
     ]
    },
    {
     "name": "stdout",
     "output_type": "stream",
     "text": [
      "topic: (0, '0.012*\"nation\" + 0.012*\"belarus\" + 0.008*\"world\" + 0.006*\"develop\"')\n",
      "topic: (1, '0.006*\"belarus\" + 0.005*\"nation\" + 0.005*\"new\" + 0.004*\"world\"')\n",
      "topic: (2, '0.011*\"nation\" + 0.009*\"peopl\" + 0.008*\"peac\" + 0.008*\"soviet\"')\n"
     ]
    },
    {
     "name": "stderr",
     "output_type": "stream",
     "text": [
      "C:\\Users\\mtwpi\\AppData\\Local\\Programs\\Python\\Python38\\lib\\site-packages\\pyLDAvis\\_prepare.py:246: FutureWarning: In a future version of pandas all arguments of DataFrame.drop except for the argument 'labels' will be keyword-only\n"
     ]
    },
    {
     "name": "stdout",
     "output_type": "stream",
     "text": [
      "topic: (0, '0.010*\"bolivia\" + 0.007*\"world\" + 0.006*\"nation\" + 0.005*\"countri\"')\n",
      "topic: (1, '0.011*\"bolivia\" + 0.007*\"nation\" + 0.006*\"peopl\" + 0.006*\"econom\"')\n",
      "topic: (2, '0.009*\"bolivia\" + 0.008*\"nation\" + 0.007*\"peopl\" + 0.006*\"world\"')\n"
     ]
    },
    {
     "name": "stderr",
     "output_type": "stream",
     "text": [
      "C:\\Users\\mtwpi\\AppData\\Local\\Programs\\Python\\Python38\\lib\\site-packages\\pyLDAvis\\_prepare.py:246: FutureWarning: In a future version of pandas all arguments of DataFrame.drop except for the argument 'labels' will be keyword-only\n"
     ]
    },
    {
     "name": "stdout",
     "output_type": "stream",
     "text": [
      "topic: (0, '0.010*\"develop\" + 0.009*\"nation\" + 0.009*\"world\" + 0.008*\"brazil\"')\n",
      "topic: (1, '0.008*\"nation\" + 0.005*\"brazil\" + 0.004*\"world\" + 0.004*\"peac\"')\n",
      "topic: (2, '0.003*\"world\" + 0.003*\"nation\" + 0.002*\"social\" + 0.002*\"new\"')\n"
     ]
    },
    {
     "name": "stderr",
     "output_type": "stream",
     "text": [
      "C:\\Users\\mtwpi\\AppData\\Local\\Programs\\Python\\Python38\\lib\\site-packages\\pyLDAvis\\_prepare.py:246: FutureWarning: In a future version of pandas all arguments of DataFrame.drop except for the argument 'labels' will be keyword-only\n"
     ]
    },
    {
     "name": "stdout",
     "output_type": "stream",
     "text": [
      "topic: (0, '0.016*\"nation\" + 0.007*\"canada\" + 0.007*\"world\" + 0.005*\"develop\"')\n",
      "topic: (1, '0.012*\"canada\" + 0.012*\"nation\" + 0.007*\"world\" + 0.006*\"secur\"')\n",
      "topic: (2, '0.009*\"nation\" + 0.009*\"world\" + 0.007*\"develop\" + 0.006*\"canada\"')\n"
     ]
    },
    {
     "name": "stderr",
     "output_type": "stream",
     "text": [
      "C:\\Users\\mtwpi\\AppData\\Local\\Programs\\Python\\Python38\\lib\\site-packages\\pyLDAvis\\_prepare.py:246: FutureWarning: In a future version of pandas all arguments of DataFrame.drop except for the argument 'labels' will be keyword-only\n"
     ]
    },
    {
     "name": "stdout",
     "output_type": "stream",
     "text": [
      "topic: (0, '0.006*\"nation\" + 0.005*\"cameroon\" + 0.004*\"world\" + 0.004*\"right\"')\n",
      "topic: (1, '0.009*\"nation\" + 0.008*\"develop\" + 0.008*\"world\" + 0.007*\"peac\"')\n",
      "topic: (2, '0.008*\"nation\" + 0.007*\"develop\" + 0.007*\"world\" + 0.007*\"africa\"')\n"
     ]
    },
    {
     "name": "stderr",
     "output_type": "stream",
     "text": [
      "C:\\Users\\mtwpi\\AppData\\Local\\Programs\\Python\\Python38\\lib\\site-packages\\pyLDAvis\\_prepare.py:246: FutureWarning: In a future version of pandas all arguments of DataFrame.drop except for the argument 'labels' will be keyword-only\n"
     ]
    },
    {
     "name": "stdout",
     "output_type": "stream",
     "text": [
      "topic: (0, '0.003*\"nation\" + 0.002*\"develop\" + 0.002*\"african\" + 0.002*\"econom\"')\n",
      "topic: (1, '0.003*\"peopl\" + 0.003*\"problem\" + 0.002*\"south\" + 0.002*\"chad\"')\n",
      "topic: (2, '0.010*\"nation\" + 0.009*\"peopl\" + 0.008*\"world\" + 0.008*\"africa\"')\n"
     ]
    },
    {
     "name": "stderr",
     "output_type": "stream",
     "text": [
      "C:\\Users\\mtwpi\\AppData\\Local\\Programs\\Python\\Python38\\lib\\site-packages\\pyLDAvis\\_prepare.py:246: FutureWarning: In a future version of pandas all arguments of DataFrame.drop except for the argument 'labels' will be keyword-only\n"
     ]
    },
    {
     "name": "stdout",
     "output_type": "stream",
     "text": [
      "topic: (0, '0.010*\"world\" + 0.008*\"nation\" + 0.006*\"colombia\" + 0.006*\"develop\"')\n",
      "topic: (1, '0.007*\"drug\" + 0.007*\"colombia\" + 0.006*\"world\" + 0.004*\"nation\"')\n",
      "topic: (2, '0.009*\"nation\" + 0.009*\"world\" + 0.007*\"countri\" + 0.006*\"develop\"')\n"
     ]
    },
    {
     "name": "stderr",
     "output_type": "stream",
     "text": [
      "C:\\Users\\mtwpi\\AppData\\Local\\Programs\\Python\\Python38\\lib\\site-packages\\pyLDAvis\\_prepare.py:246: FutureWarning: In a future version of pandas all arguments of DataFrame.drop except for the argument 'labels' will be keyword-only\n"
     ]
    },
    {
     "name": "stdout",
     "output_type": "stream",
     "text": [
      "topic: (0, '0.009*\"nation\" + 0.008*\"peac\" + 0.006*\"world\" + 0.006*\"human\"')\n",
      "topic: (1, '0.004*\"human\" + 0.003*\"develop\" + 0.003*\"nation\" + 0.002*\"promot\"')\n",
      "topic: (2, '0.009*\"nation\" + 0.009*\"rica\" + 0.008*\"costa\" + 0.008*\"human\"')\n"
     ]
    },
    {
     "name": "stderr",
     "output_type": "stream",
     "text": [
      "C:\\Users\\mtwpi\\AppData\\Local\\Programs\\Python\\Python38\\lib\\site-packages\\pyLDAvis\\_prepare.py:246: FutureWarning: In a future version of pandas all arguments of DataFrame.drop except for the argument 'labels' will be keyword-only\n"
     ]
    },
    {
     "name": "stdout",
     "output_type": "stream",
     "text": [
      "topic: (0, '0.014*\"peopl\" + 0.007*\"cuba\" + 0.006*\"govern\" + 0.006*\"nation\"')\n",
      "topic: (1, '0.009*\"peopl\" + 0.009*\"countri\" + 0.008*\"world\" + 0.007*\"develop\"')\n",
      "topic: (2, '0.006*\"right\" + 0.006*\"world\" + 0.004*\"human\" + 0.004*\"nation\"')\n"
     ]
    },
    {
     "name": "stderr",
     "output_type": "stream",
     "text": [
      "C:\\Users\\mtwpi\\AppData\\Local\\Programs\\Python\\Python38\\lib\\site-packages\\pyLDAvis\\_prepare.py:246: FutureWarning: In a future version of pandas all arguments of DataFrame.drop except for the argument 'labels' will be keyword-only\n"
     ]
    },
    {
     "name": "stdout",
     "output_type": "stream",
     "text": [
      "topic: (0, '0.001*\"vi\" + 0.001*\"summar\" + 0.001*\"plans\" + 0.001*\"pollut\"')\n",
      "topic: (1, '0.010*\"dominican\" + 0.009*\"nation\" + 0.008*\"world\" + 0.007*\"countri\"')\n",
      "topic: (2, '0.008*\"develop\" + 0.008*\"world\" + 0.005*\"nation\" + 0.005*\"dominican\"')\n"
     ]
    },
    {
     "name": "stderr",
     "output_type": "stream",
     "text": [
      "C:\\Users\\mtwpi\\AppData\\Local\\Programs\\Python\\Python38\\lib\\site-packages\\pyLDAvis\\_prepare.py:246: FutureWarning: In a future version of pandas all arguments of DataFrame.drop except for the argument 'labels' will be keyword-only\n"
     ]
    },
    {
     "name": "stdout",
     "output_type": "stream",
     "text": [
      "topic: (0, '0.003*\"terror\" + 0.002*\"algeria\" + 0.001*\"process\" + 0.001*\"implement\"')\n",
      "topic: (1, '0.006*\"algeria\" + 0.004*\"nation\" + 0.003*\"peac\" + 0.003*\"new\"')\n",
      "topic: (2, '0.010*\"nation\" + 0.009*\"peopl\" + 0.009*\"world\" + 0.007*\"develop\"')\n"
     ]
    },
    {
     "name": "stderr",
     "output_type": "stream",
     "text": [
      "C:\\Users\\mtwpi\\AppData\\Local\\Programs\\Python\\Python38\\lib\\site-packages\\pyLDAvis\\_prepare.py:246: FutureWarning: In a future version of pandas all arguments of DataFrame.drop except for the argument 'labels' will be keyword-only\n"
     ]
    },
    {
     "name": "stdout",
     "output_type": "stream",
     "text": [
      "topic: (0, '0.004*\"ecuador\" + 0.003*\"human\" + 0.003*\"world\" + 0.003*\"peac\"')\n",
      "topic: (1, '0.002*\"cent\" + 0.001*\"debt\" + 0.001*\"ask\" + 0.001*\"open\"')\n",
      "topic: (2, '0.010*\"ecuador\" + 0.009*\"nation\" + 0.008*\"develop\" + 0.008*\"world\"')\n"
     ]
    },
    {
     "name": "stderr",
     "output_type": "stream",
     "text": [
      "C:\\Users\\mtwpi\\AppData\\Local\\Programs\\Python\\Python38\\lib\\site-packages\\pyLDAvis\\_prepare.py:246: FutureWarning: In a future version of pandas all arguments of DataFrame.drop except for the argument 'labels' will be keyword-only\n"
     ]
    },
    {
     "name": "stdout",
     "output_type": "stream",
     "text": [
      "topic: (0, '0.007*\"franc\" + 0.006*\"world\" + 0.005*\"nation\" + 0.005*\"countri\"')\n",
      "topic: (1, '0.010*\"world\" + 0.007*\"franc\" + 0.006*\"nation\" + 0.005*\"peopl\"')\n",
      "topic: (2, '0.005*\"european\" + 0.005*\"nation\" + 0.005*\"union\" + 0.004*\"franc\"')\n"
     ]
    },
    {
     "name": "stderr",
     "output_type": "stream",
     "text": [
      "C:\\Users\\mtwpi\\AppData\\Local\\Programs\\Python\\Python38\\lib\\site-packages\\pyLDAvis\\_prepare.py:246: FutureWarning: In a future version of pandas all arguments of DataFrame.drop except for the argument 'labels' will be keyword-only\n"
     ]
    },
    {
     "name": "stdout",
     "output_type": "stream",
     "text": [
      "topic: (0, '0.015*\"nation\" + 0.005*\"world\" + 0.004*\"secur\" + 0.004*\"need\"')\n",
      "topic: (1, '0.007*\"world\" + 0.007*\"nation\" + 0.006*\"secur\" + 0.005*\"year\"')\n",
      "topic: (2, '0.011*\"nation\" + 0.009*\"world\" + 0.006*\"develop\" + 0.005*\"year\"')\n"
     ]
    },
    {
     "name": "stderr",
     "output_type": "stream",
     "text": [
      "C:\\Users\\mtwpi\\AppData\\Local\\Programs\\Python\\Python38\\lib\\site-packages\\pyLDAvis\\_prepare.py:246: FutureWarning: In a future version of pandas all arguments of DataFrame.drop except for the argument 'labels' will be keyword-only\n"
     ]
    },
    {
     "name": "stdout",
     "output_type": "stream",
     "text": [
      "topic: (0, '0.009*\"africa\" + 0.009*\"world\" + 0.008*\"develop\" + 0.007*\"nation\"')\n",
      "topic: (1, '0.011*\"nation\" + 0.011*\"develop\" + 0.008*\"world\" + 0.007*\"countri\"')\n",
      "topic: (2, '0.008*\"ghana\" + 0.008*\"nation\" + 0.007*\"world\" + 0.007*\"africa\"')\n"
     ]
    },
    {
     "name": "stderr",
     "output_type": "stream",
     "text": [
      "C:\\Users\\mtwpi\\AppData\\Local\\Programs\\Python\\Python38\\lib\\site-packages\\pyLDAvis\\_prepare.py:246: FutureWarning: In a future version of pandas all arguments of DataFrame.drop except for the argument 'labels' will be keyword-only\n"
     ]
    },
    {
     "name": "stdout",
     "output_type": "stream",
     "text": [
      "topic: (0, '0.007*\"peac\" + 0.006*\"nation\" + 0.005*\"develop\" + 0.005*\"world\"')\n",
      "topic: (1, '0.008*\"develop\" + 0.008*\"peac\" + 0.007*\"nation\" + 0.007*\"guinea\"')\n",
      "topic: (2, '0.014*\"peopl\" + 0.009*\"nation\" + 0.008*\"guinea\" + 0.007*\"republ\"')\n"
     ]
    },
    {
     "name": "stderr",
     "output_type": "stream",
     "text": [
      "C:\\Users\\mtwpi\\AppData\\Local\\Programs\\Python\\Python38\\lib\\site-packages\\pyLDAvis\\_prepare.py:246: FutureWarning: In a future version of pandas all arguments of DataFrame.drop except for the argument 'labels' will be keyword-only\n"
     ]
    },
    {
     "name": "stdout",
     "output_type": "stream",
     "text": [
      "topic: (0, '0.003*\"world\" + 0.002*\"human\" + 0.002*\"war\" + 0.002*\"peac\"')\n",
      "topic: (1, '0.008*\"develop\" + 0.007*\"nation\" + 0.005*\"govern\" + 0.005*\"peac\"')\n",
      "topic: (2, '0.010*\"nation\" + 0.009*\"develop\" + 0.008*\"world\" + 0.007*\"peac\"')\n"
     ]
    },
    {
     "name": "stderr",
     "output_type": "stream",
     "text": [
      "C:\\Users\\mtwpi\\AppData\\Local\\Programs\\Python\\Python38\\lib\\site-packages\\pyLDAvis\\_prepare.py:246: FutureWarning: In a future version of pandas all arguments of DataFrame.drop except for the argument 'labels' will be keyword-only\n"
     ]
    },
    {
     "name": "stdout",
     "output_type": "stream",
     "text": [
      "topic: (0, '0.010*\"nation\" + 0.009*\"guatemala\" + 0.007*\"peac\" + 0.007*\"develop\"')\n",
      "topic: (1, '0.002*\"right\" + 0.002*\"human\" + 0.002*\"world\" + 0.002*\"effort\"')\n",
      "topic: (2, '0.012*\"guatemala\" + 0.009*\"nation\" + 0.008*\"govern\" + 0.008*\"develop\"')\n"
     ]
    },
    {
     "name": "stderr",
     "output_type": "stream",
     "text": [
      "C:\\Users\\mtwpi\\AppData\\Local\\Programs\\Python\\Python38\\lib\\site-packages\\pyLDAvis\\_prepare.py:246: FutureWarning: In a future version of pandas all arguments of DataFrame.drop except for the argument 'labels' will be keyword-only\n"
     ]
    },
    {
     "name": "stdout",
     "output_type": "stream",
     "text": [
      "topic: (0, '0.005*\"nation\" + 0.004*\"hondura\" + 0.004*\"world\" + 0.004*\"peopl\"')\n",
      "topic: (1, '0.009*\"nation\" + 0.008*\"world\" + 0.006*\"peopl\" + 0.006*\"govern\"')\n",
      "topic: (2, '0.010*\"govern\" + 0.009*\"peac\" + 0.009*\"central\" + 0.008*\"nation\"')\n"
     ]
    },
    {
     "name": "stderr",
     "output_type": "stream",
     "text": [
      "C:\\Users\\mtwpi\\AppData\\Local\\Programs\\Python\\Python38\\lib\\site-packages\\pyLDAvis\\_prepare.py:246: FutureWarning: In a future version of pandas all arguments of DataFrame.drop except for the argument 'labels' will be keyword-only\n"
     ]
    },
    {
     "name": "stdout",
     "output_type": "stream",
     "text": [
      "topic: (0, '0.012*\"haiti\" + 0.008*\"nation\" + 0.007*\"peopl\" + 0.007*\"world\"')\n",
      "topic: (1, '0.007*\"haiti\" + 0.006*\"world\" + 0.005*\"nation\" + 0.005*\"econom\"')\n",
      "topic: (2, '0.008*\"nation\" + 0.007*\"haiti\" + 0.007*\"world\" + 0.007*\"develop\"')\n"
     ]
    },
    {
     "name": "stderr",
     "output_type": "stream",
     "text": [
      "C:\\Users\\mtwpi\\AppData\\Local\\Programs\\Python\\Python38\\lib\\site-packages\\pyLDAvis\\_prepare.py:246: FutureWarning: In a future version of pandas all arguments of DataFrame.drop except for the argument 'labels' will be keyword-only\n"
     ]
    },
    {
     "name": "stdout",
     "output_type": "stream",
     "text": [
      "topic: (0, '0.004*\"human\" + 0.004*\"nation\" + 0.003*\"world\" + 0.002*\"indonesia\"')\n",
      "topic: (1, '0.012*\"nation\" + 0.009*\"develop\" + 0.007*\"world\" + 0.007*\"peac\"')\n",
      "topic: (2, '0.013*\"develop\" + 0.010*\"nation\" + 0.008*\"world\" + 0.006*\"econom\"')\n"
     ]
    },
    {
     "name": "stderr",
     "output_type": "stream",
     "text": [
      "C:\\Users\\mtwpi\\AppData\\Local\\Programs\\Python\\Python38\\lib\\site-packages\\pyLDAvis\\_prepare.py:246: FutureWarning: In a future version of pandas all arguments of DataFrame.drop except for the argument 'labels' will be keyword-only\n"
     ]
    },
    {
     "name": "stdout",
     "output_type": "stream",
     "text": [
      "topic: (0, '0.013*\"develop\" + 0.012*\"nation\" + 0.009*\"world\" + 0.008*\"countri\"')\n",
      "topic: (1, '0.007*\"nation\" + 0.007*\"india\" + 0.006*\"develop\" + 0.006*\"world\"')\n",
      "topic: (2, '0.009*\"nation\" + 0.008*\"develop\" + 0.007*\"global\" + 0.007*\"india\"')\n"
     ]
    },
    {
     "name": "stderr",
     "output_type": "stream",
     "text": [
      "C:\\Users\\mtwpi\\AppData\\Local\\Programs\\Python\\Python38\\lib\\site-packages\\pyLDAvis\\_prepare.py:246: FutureWarning: In a future version of pandas all arguments of DataFrame.drop except for the argument 'labels' will be keyword-only\n"
     ]
    },
    {
     "name": "stdout",
     "output_type": "stream",
     "text": [
      "topic: (0, '0.009*\"islam\" + 0.009*\"peopl\" + 0.009*\"iran\" + 0.008*\"world\"')\n",
      "topic: (1, '0.011*\"world\" + 0.009*\"nation\" + 0.007*\"iran\" + 0.006*\"countri\"')\n",
      "topic: (2, '0.006*\"nation\" + 0.005*\"human\" + 0.005*\"world\" + 0.004*\"iran\"')\n"
     ]
    },
    {
     "name": "stderr",
     "output_type": "stream",
     "text": [
      "C:\\Users\\mtwpi\\AppData\\Local\\Programs\\Python\\Python38\\lib\\site-packages\\pyLDAvis\\_prepare.py:246: FutureWarning: In a future version of pandas all arguments of DataFrame.drop except for the argument 'labels' will be keyword-only\n"
     ]
    },
    {
     "name": "stdout",
     "output_type": "stream",
     "text": [
      "topic: (0, '0.010*\"iraq\" + 0.008*\"nation\" + 0.007*\"zionist\" + 0.007*\"arab\"')\n",
      "topic: (1, '0.008*\"iraq\" + 0.003*\"nation\" + 0.002*\"council\" + 0.002*\"american\"')\n",
      "topic: (2, '0.018*\"iraq\" + 0.008*\"nation\" + 0.008*\"secur\" + 0.007*\"peopl\"')\n"
     ]
    },
    {
     "name": "stderr",
     "output_type": "stream",
     "text": [
      "C:\\Users\\mtwpi\\AppData\\Local\\Programs\\Python\\Python38\\lib\\site-packages\\pyLDAvis\\_prepare.py:246: FutureWarning: In a future version of pandas all arguments of DataFrame.drop except for the argument 'labels' will be keyword-only\n"
     ]
    },
    {
     "name": "stdout",
     "output_type": "stream",
     "text": [
      "topic: (0, '0.013*\"nation\" + 0.011*\"world\" + 0.006*\"iceland\" + 0.006*\"year\"')\n",
      "topic: (1, '0.013*\"iceland\" + 0.011*\"nation\" + 0.006*\"govern\" + 0.005*\"world\"')\n",
      "topic: (2, '0.012*\"nation\" + 0.008*\"iceland\" + 0.007*\"world\" + 0.006*\"develop\"')\n"
     ]
    },
    {
     "name": "stderr",
     "output_type": "stream",
     "text": [
      "C:\\Users\\mtwpi\\AppData\\Local\\Programs\\Python\\Python38\\lib\\site-packages\\pyLDAvis\\_prepare.py:246: FutureWarning: In a future version of pandas all arguments of DataFrame.drop except for the argument 'labels' will be keyword-only\n"
     ]
    },
    {
     "name": "stdout",
     "output_type": "stream",
     "text": [
      "topic: (0, '0.010*\"israel\" + 0.009*\"arab\" + 0.008*\"peac\" + 0.005*\"nation\"')\n",
      "topic: (1, '0.018*\"israel\" + 0.010*\"peac\" + 0.007*\"nation\" + 0.007*\"arab\"')\n",
      "topic: (2, '0.007*\"peac\" + 0.007*\"israel\" + 0.005*\"terror\" + 0.005*\"palestinian\"')\n"
     ]
    },
    {
     "name": "stderr",
     "output_type": "stream",
     "text": [
      "C:\\Users\\mtwpi\\AppData\\Local\\Programs\\Python\\Python38\\lib\\site-packages\\pyLDAvis\\_prepare.py:246: FutureWarning: In a future version of pandas all arguments of DataFrame.drop except for the argument 'labels' will be keyword-only\n"
     ]
    },
    {
     "name": "stdout",
     "output_type": "stream",
     "text": [
      "topic: (0, '0.009*\"nation\" + 0.007*\"itali\" + 0.006*\"world\" + 0.006*\"develop\"')\n",
      "topic: (1, '0.009*\"nation\" + 0.006*\"secur\" + 0.005*\"itali\" + 0.004*\"new\"')\n",
      "topic: (2, '0.005*\"nation\" + 0.004*\"european\" + 0.004*\"union\" + 0.003*\"new\"')\n"
     ]
    },
    {
     "name": "stderr",
     "output_type": "stream",
     "text": [
      "C:\\Users\\mtwpi\\AppData\\Local\\Programs\\Python\\Python38\\lib\\site-packages\\pyLDAvis\\_prepare.py:246: FutureWarning: In a future version of pandas all arguments of DataFrame.drop except for the argument 'labels' will be keyword-only\n"
     ]
    },
    {
     "name": "stdout",
     "output_type": "stream",
     "text": [
      "topic: (0, '0.018*\"japan\" + 0.009*\"nation\" + 0.006*\"develop\" + 0.006*\"effort\"')\n",
      "topic: (1, '0.017*\"japan\" + 0.016*\"nation\" + 0.011*\"peac\" + 0.010*\"world\"')\n",
      "topic: (2, '0.017*\"japan\" + 0.010*\"nation\" + 0.007*\"develop\" + 0.006*\"reform\"')\n"
     ]
    },
    {
     "name": "stderr",
     "output_type": "stream",
     "text": [
      "C:\\Users\\mtwpi\\AppData\\Local\\Programs\\Python\\Python38\\lib\\site-packages\\pyLDAvis\\_prepare.py:246: FutureWarning: In a future version of pandas all arguments of DataFrame.drop except for the argument 'labels' will be keyword-only\n"
     ]
    },
    {
     "name": "stdout",
     "output_type": "stream",
     "text": [
      "topic: (0, '0.011*\"nation\" + 0.009*\"africa\" + 0.008*\"develop\" + 0.007*\"kenya\"')\n",
      "topic: (1, '0.010*\"nation\" + 0.006*\"kenya\" + 0.005*\"develop\" + 0.004*\"support\"')\n",
      "topic: (2, '0.014*\"develop\" + 0.010*\"nation\" + 0.010*\"africa\" + 0.007*\"peac\"')\n"
     ]
    },
    {
     "name": "stderr",
     "output_type": "stream",
     "text": [
      "C:\\Users\\mtwpi\\AppData\\Local\\Programs\\Python\\Python38\\lib\\site-packages\\pyLDAvis\\_prepare.py:246: FutureWarning: In a future version of pandas all arguments of DataFrame.drop except for the argument 'labels' will be keyword-only\n"
     ]
    },
    {
     "name": "stdout",
     "output_type": "stream",
     "text": [
      "topic: (0, '0.014*\"cambodia\" + 0.013*\"nation\" + 0.012*\"develop\" + 0.010*\"world\"')\n",
      "topic: (1, '0.006*\"cambodia\" + 0.003*\"nation\" + 0.003*\"human\" + 0.003*\"govern\"')\n",
      "topic: (2, '0.015*\"peopl\" + 0.013*\"kampuchea\" + 0.012*\"nation\" + 0.008*\"vietnames\"')\n"
     ]
    },
    {
     "name": "stderr",
     "output_type": "stream",
     "text": [
      "C:\\Users\\mtwpi\\AppData\\Local\\Programs\\Python\\Python38\\lib\\site-packages\\pyLDAvis\\_prepare.py:246: FutureWarning: In a future version of pandas all arguments of DataFrame.drop except for the argument 'labels' will be keyword-only\n"
     ]
    },
    {
     "name": "stdout",
     "output_type": "stream",
     "text": [
      "topic: (0, '0.008*\"kuwait\" + 0.007*\"council\" + 0.007*\"secur\" + 0.006*\"nation\"')\n",
      "topic: (1, '0.007*\"nation\" + 0.007*\"kuwait\" + 0.007*\"secur\" + 0.006*\"iraq\"')\n",
      "topic: (2, '0.012*\"nation\" + 0.009*\"kuwait\" + 0.009*\"world\" + 0.009*\"develop\"')\n"
     ]
    },
    {
     "name": "stderr",
     "output_type": "stream",
     "text": [
      "C:\\Users\\mtwpi\\AppData\\Local\\Programs\\Python\\Python38\\lib\\site-packages\\pyLDAvis\\_prepare.py:246: FutureWarning: In a future version of pandas all arguments of DataFrame.drop except for the argument 'labels' will be keyword-only\n"
     ]
    },
    {
     "name": "stdout",
     "output_type": "stream",
     "text": [
      "topic: (0, '0.009*\"peac\" + 0.007*\"lebanon\" + 0.007*\"nation\" + 0.005*\"israel\"')\n",
      "topic: (1, '0.017*\"lebanon\" + 0.008*\"nation\" + 0.007*\"peac\" + 0.007*\"lebanes\"')\n",
      "topic: (2, '0.025*\"lebanon\" + 0.010*\"lebanes\" + 0.009*\"nation\" + 0.008*\"secur\"')\n"
     ]
    },
    {
     "name": "stderr",
     "output_type": "stream",
     "text": [
      "C:\\Users\\mtwpi\\AppData\\Local\\Programs\\Python\\Python38\\lib\\site-packages\\pyLDAvis\\_prepare.py:246: FutureWarning: In a future version of pandas all arguments of DataFrame.drop except for the argument 'labels' will be keyword-only\n"
     ]
    },
    {
     "name": "stdout",
     "output_type": "stream",
     "text": [
      "topic: (0, '0.006*\"liberia\" + 0.006*\"nation\" + 0.004*\"peac\" + 0.004*\"world\"')\n",
      "topic: (1, '0.008*\"liberia\" + 0.007*\"nation\" + 0.005*\"peac\" + 0.004*\"world\"')\n",
      "topic: (2, '0.012*\"nation\" + 0.008*\"liberia\" + 0.008*\"world\" + 0.008*\"peac\"')\n"
     ]
    },
    {
     "name": "stderr",
     "output_type": "stream",
     "text": [
      "C:\\Users\\mtwpi\\AppData\\Local\\Programs\\Python\\Python38\\lib\\site-packages\\pyLDAvis\\_prepare.py:246: FutureWarning: In a future version of pandas all arguments of DataFrame.drop except for the argument 'labels' will be keyword-only\n"
     ]
    },
    {
     "name": "stdout",
     "output_type": "stream",
     "text": [
      "topic: (0, '0.008*\"world\" + 0.008*\"peopl\" + 0.006*\"nation\" + 0.005*\"human\"')\n",
      "topic: (1, '0.010*\"council\" + 0.009*\"secur\" + 0.006*\"libya\" + 0.005*\"countri\"')\n",
      "topic: (2, '0.012*\"peopl\" + 0.010*\"nation\" + 0.010*\"arab\" + 0.008*\"world\"')\n"
     ]
    },
    {
     "name": "stderr",
     "output_type": "stream",
     "text": [
      "C:\\Users\\mtwpi\\AppData\\Local\\Programs\\Python\\Python38\\lib\\site-packages\\pyLDAvis\\_prepare.py:246: FutureWarning: In a future version of pandas all arguments of DataFrame.drop except for the argument 'labels' will be keyword-only\n"
     ]
    },
    {
     "name": "stdout",
     "output_type": "stream",
     "text": [
      "topic: (0, '0.011*\"nation\" + 0.010*\"develop\" + 0.009*\"lanka\" + 0.008*\"sri\"')\n",
      "topic: (1, '0.007*\"lanka\" + 0.007*\"sri\" + 0.006*\"child\" + 0.005*\"nation\"')\n",
      "topic: (2, '0.002*\"cooper\" + 0.001*\"sri\" + 0.001*\"sanction\" + 0.001*\"human\"')\n"
     ]
    },
    {
     "name": "stderr",
     "output_type": "stream",
     "text": [
      "C:\\Users\\mtwpi\\AppData\\Local\\Programs\\Python\\Python38\\lib\\site-packages\\pyLDAvis\\_prepare.py:246: FutureWarning: In a future version of pandas all arguments of DataFrame.drop except for the argument 'labels' will be keyword-only\n"
     ]
    },
    {
     "name": "stdout",
     "output_type": "stream",
     "text": [
      "topic: (0, '0.011*\"morocco\" + 0.007*\"nation\" + 0.007*\"world\" + 0.006*\"peac\"')\n",
      "topic: (1, '0.008*\"morocco\" + 0.006*\"nation\" + 0.004*\"develop\" + 0.004*\"countri\"')\n",
      "topic: (2, '0.004*\"nation\" + 0.004*\"govern\" + 0.004*\"territori\" + 0.004*\"spain\"')\n"
     ]
    },
    {
     "name": "stderr",
     "output_type": "stream",
     "text": [
      "C:\\Users\\mtwpi\\AppData\\Local\\Programs\\Python\\Python38\\lib\\site-packages\\pyLDAvis\\_prepare.py:246: FutureWarning: In a future version of pandas all arguments of DataFrame.drop except for the argument 'labels' will be keyword-only\n"
     ]
    },
    {
     "name": "stdout",
     "output_type": "stream",
     "text": [
      "topic: (0, '0.007*\"nation\" + 0.006*\"develop\" + 0.006*\"world\" + 0.005*\"countri\"')\n",
      "topic: (1, '0.008*\"develop\" + 0.008*\"nation\" + 0.007*\"world\" + 0.006*\"madagascar\"')\n",
      "topic: (2, '0.006*\"world\" + 0.005*\"peopl\" + 0.005*\"peac\" + 0.005*\"countri\"')\n"
     ]
    },
    {
     "name": "stderr",
     "output_type": "stream",
     "text": [
      "C:\\Users\\mtwpi\\AppData\\Local\\Programs\\Python\\Python38\\lib\\site-packages\\pyLDAvis\\_prepare.py:246: FutureWarning: In a future version of pandas all arguments of DataFrame.drop except for the argument 'labels' will be keyword-only\n"
     ]
    },
    {
     "name": "stdout",
     "output_type": "stream",
     "text": [
      "topic: (0, '0.006*\"nation\" + 0.006*\"mexico\" + 0.003*\"human\" + 0.003*\"secur\"')\n",
      "topic: (1, '0.009*\"nation\" + 0.007*\"world\" + 0.007*\"develop\" + 0.006*\"mexico\"')\n",
      "topic: (2, '0.009*\"world\" + 0.008*\"mexico\" + 0.008*\"nation\" + 0.007*\"develop\"')\n"
     ]
    },
    {
     "name": "stderr",
     "output_type": "stream",
     "text": [
      "C:\\Users\\mtwpi\\AppData\\Local\\Programs\\Python\\Python38\\lib\\site-packages\\pyLDAvis\\_prepare.py:246: FutureWarning: In a future version of pandas all arguments of DataFrame.drop except for the argument 'labels' will be keyword-only\n"
     ]
    },
    {
     "name": "stdout",
     "output_type": "stream",
     "text": [
      "topic: (0, '0.003*\"secur\" + 0.002*\"member\" + 0.002*\"myanmar\" + 0.002*\"council\"')\n",
      "topic: (1, '0.015*\"myanmar\" + 0.014*\"nation\" + 0.008*\"develop\" + 0.005*\"peac\"')\n",
      "topic: (2, '0.012*\"nation\" + 0.011*\"world\" + 0.009*\"develop\" + 0.007*\"peac\"')\n"
     ]
    },
    {
     "name": "stderr",
     "output_type": "stream",
     "text": [
      "C:\\Users\\mtwpi\\AppData\\Local\\Programs\\Python\\Python38\\lib\\site-packages\\pyLDAvis\\_prepare.py:246: FutureWarning: In a future version of pandas all arguments of DataFrame.drop except for the argument 'labels' will be keyword-only\n"
     ]
    },
    {
     "name": "stdout",
     "output_type": "stream",
     "text": [
      "topic: (0, '0.013*\"nation\" + 0.005*\"world\" + 0.004*\"need\" + 0.004*\"human\"')\n",
      "topic: (1, '0.004*\"nation\" + 0.004*\"union\" + 0.003*\"european\" + 0.003*\"countri\"')\n",
      "topic: (2, '0.015*\"nation\" + 0.009*\"world\" + 0.008*\"human\" + 0.007*\"develop\"')\n"
     ]
    },
    {
     "name": "stderr",
     "output_type": "stream",
     "text": [
      "C:\\Users\\mtwpi\\AppData\\Local\\Programs\\Python\\Python38\\lib\\site-packages\\pyLDAvis\\_prepare.py:246: FutureWarning: In a future version of pandas all arguments of DataFrame.drop except for the argument 'labels' will be keyword-only\n"
     ]
    },
    {
     "name": "stdout",
     "output_type": "stream",
     "text": [
      "topic: (0, '0.016*\"nation\" + 0.008*\"develop\" + 0.008*\"world\" + 0.007*\"human\"')\n",
      "topic: (1, '0.010*\"nation\" + 0.007*\"develop\" + 0.007*\"human\" + 0.005*\"right\"')\n",
      "topic: (2, '0.012*\"nation\" + 0.007*\"develop\" + 0.005*\"world\" + 0.005*\"countri\"')\n"
     ]
    },
    {
     "name": "stderr",
     "output_type": "stream",
     "text": [
      "C:\\Users\\mtwpi\\AppData\\Local\\Programs\\Python\\Python38\\lib\\site-packages\\pyLDAvis\\_prepare.py:246: FutureWarning: In a future version of pandas all arguments of DataFrame.drop except for the argument 'labels' will be keyword-only\n"
     ]
    },
    {
     "name": "stdout",
     "output_type": "stream",
     "text": [
      "topic: (0, '0.013*\"new\" + 0.012*\"nation\" + 0.009*\"zealand\" + 0.007*\"year\"')\n",
      "topic: (1, '0.017*\"new\" + 0.014*\"zealand\" + 0.009*\"nation\" + 0.007*\"world\"')\n",
      "topic: (2, '0.010*\"new\" + 0.008*\"zealand\" + 0.007*\"nation\" + 0.006*\"world\"')\n"
     ]
    },
    {
     "name": "stderr",
     "output_type": "stream",
     "text": [
      "C:\\Users\\mtwpi\\AppData\\Local\\Programs\\Python\\Python38\\lib\\site-packages\\pyLDAvis\\_prepare.py:246: FutureWarning: In a future version of pandas all arguments of DataFrame.drop except for the argument 'labels' will be keyword-only\n"
     ]
    },
    {
     "name": "stdout",
     "output_type": "stream",
     "text": [
      "topic: (0, '0.010*\"pakistan\" + 0.009*\"develop\" + 0.008*\"peac\" + 0.008*\"nation\"')\n",
      "topic: (1, '0.012*\"pakistan\" + 0.009*\"world\" + 0.008*\"nation\" + 0.007*\"peac\"')\n",
      "topic: (2, '0.007*\"pakistan\" + 0.007*\"india\" + 0.006*\"nation\" + 0.005*\"peac\"')\n"
     ]
    },
    {
     "name": "stderr",
     "output_type": "stream",
     "text": [
      "C:\\Users\\mtwpi\\AppData\\Local\\Programs\\Python\\Python38\\lib\\site-packages\\pyLDAvis\\_prepare.py:246: FutureWarning: In a future version of pandas all arguments of DataFrame.drop except for the argument 'labels' will be keyword-only\n"
     ]
    },
    {
     "name": "stdout",
     "output_type": "stream",
     "text": [
      "topic: (0, '0.008*\"peru\" + 0.005*\"world\" + 0.005*\"new\" + 0.004*\"nation\"')\n",
      "topic: (1, '0.007*\"world\" + 0.007*\"peru\" + 0.005*\"countri\" + 0.004*\"peopl\"')\n",
      "topic: (2, '0.010*\"develop\" + 0.009*\"world\" + 0.009*\"peru\" + 0.008*\"nation\"')\n"
     ]
    },
    {
     "name": "stderr",
     "output_type": "stream",
     "text": [
      "C:\\Users\\mtwpi\\AppData\\Local\\Programs\\Python\\Python38\\lib\\site-packages\\pyLDAvis\\_prepare.py:246: FutureWarning: In a future version of pandas all arguments of DataFrame.drop except for the argument 'labels' will be keyword-only\n"
     ]
    },
    {
     "name": "stdout",
     "output_type": "stream",
     "text": [
      "topic: (0, '0.015*\"nation\" + 0.010*\"world\" + 0.009*\"develop\" + 0.006*\"peac\"')\n",
      "topic: (1, '0.013*\"nation\" + 0.009*\"philippin\" + 0.009*\"world\" + 0.008*\"develop\"')\n",
      "topic: (2, '0.012*\"nation\" + 0.008*\"world\" + 0.007*\"develop\" + 0.005*\"new\"')\n"
     ]
    },
    {
     "name": "stderr",
     "output_type": "stream",
     "text": [
      "C:\\Users\\mtwpi\\AppData\\Local\\Programs\\Python\\Python38\\lib\\site-packages\\pyLDAvis\\_prepare.py:246: FutureWarning: In a future version of pandas all arguments of DataFrame.drop except for the argument 'labels' will be keyword-only\n"
     ]
    },
    {
     "name": "stdout",
     "output_type": "stream",
     "text": [
      "topic: (0, '0.007*\"paraguay\" + 0.006*\"nation\" + 0.006*\"world\" + 0.006*\"develop\"')\n",
      "topic: (1, '0.012*\"paraguay\" + 0.010*\"nation\" + 0.009*\"world\" + 0.008*\"develop\"')\n",
      "topic: (2, '0.009*\"nation\" + 0.009*\"world\" + 0.008*\"paraguay\" + 0.008*\"countri\"')\n"
     ]
    },
    {
     "name": "stderr",
     "output_type": "stream",
     "text": [
      "C:\\Users\\mtwpi\\AppData\\Local\\Programs\\Python\\Python38\\lib\\site-packages\\pyLDAvis\\_prepare.py:246: FutureWarning: In a future version of pandas all arguments of DataFrame.drop except for the argument 'labels' will be keyword-only\n"
     ]
    },
    {
     "name": "stdout",
     "output_type": "stream",
     "text": [
      "topic: (0, '0.008*\"rwanda\" + 0.007*\"nation\" + 0.005*\"govern\" + 0.004*\"genocid\"')\n",
      "topic: (1, '0.008*\"rwanda\" + 0.008*\"nation\" + 0.004*\"world\" + 0.004*\"govern\"')\n",
      "topic: (2, '0.009*\"nation\" + 0.009*\"develop\" + 0.009*\"world\" + 0.009*\"countri\"')\n"
     ]
    },
    {
     "name": "stderr",
     "output_type": "stream",
     "text": [
      "C:\\Users\\mtwpi\\AppData\\Local\\Programs\\Python\\Python38\\lib\\site-packages\\pyLDAvis\\_prepare.py:246: FutureWarning: In a future version of pandas all arguments of DataFrame.drop except for the argument 'labels' will be keyword-only\n"
     ]
    },
    {
     "name": "stdout",
     "output_type": "stream",
     "text": [
      "topic: (0, '0.010*\"develop\" + 0.009*\"peac\" + 0.009*\"nation\" + 0.007*\"sudan\"')\n",
      "topic: (1, '0.010*\"world\" + 0.007*\"nation\" + 0.004*\"peopl\" + 0.004*\"africa\"')\n",
      "topic: (2, '0.011*\"sudan\" + 0.009*\"nation\" + 0.008*\"develop\" + 0.008*\"peac\"')\n"
     ]
    },
    {
     "name": "stderr",
     "output_type": "stream",
     "text": [
      "C:\\Users\\mtwpi\\AppData\\Local\\Programs\\Python\\Python38\\lib\\site-packages\\pyLDAvis\\_prepare.py:246: FutureWarning: In a future version of pandas all arguments of DataFrame.drop except for the argument 'labels' will be keyword-only\n"
     ]
    },
    {
     "name": "stdout",
     "output_type": "stream",
     "text": [
      "topic: (0, '0.011*\"world\" + 0.010*\"nation\" + 0.008*\"countri\" + 0.007*\"develop\"')\n",
      "topic: (1, '0.008*\"nation\" + 0.007*\"nam\" + 0.006*\"viet\" + 0.005*\"kampuchea\"')\n",
      "topic: (2, '0.020*\"nation\" + 0.010*\"world\" + 0.008*\"develop\" + 0.006*\"econom\"')\n"
     ]
    },
    {
     "name": "stderr",
     "output_type": "stream",
     "text": [
      "C:\\Users\\mtwpi\\AppData\\Local\\Programs\\Python\\Python38\\lib\\site-packages\\pyLDAvis\\_prepare.py:246: FutureWarning: In a future version of pandas all arguments of DataFrame.drop except for the argument 'labels' will be keyword-only\n"
     ]
    },
    {
     "name": "stdout",
     "output_type": "stream",
     "text": [
      "topic: (0, '0.006*\"nation\" + 0.006*\"peac\" + 0.005*\"sierra\" + 0.005*\"develop\"')\n",
      "topic: (1, '0.002*\"sierra\" + 0.001*\"commit\" + 0.001*\"peac\" + 0.001*\"leon\"')\n",
      "topic: (2, '0.011*\"nation\" + 0.009*\"develop\" + 0.008*\"world\" + 0.007*\"sierra\"')\n"
     ]
    },
    {
     "name": "stderr",
     "output_type": "stream",
     "text": [
      "C:\\Users\\mtwpi\\AppData\\Local\\Programs\\Python\\Python38\\lib\\site-packages\\pyLDAvis\\_prepare.py:246: FutureWarning: In a future version of pandas all arguments of DataFrame.drop except for the argument 'labels' will be keyword-only\n"
     ]
    },
    {
     "name": "stdout",
     "output_type": "stream",
     "text": [
      "topic: (0, '0.010*\"peac\" + 0.009*\"salvador\" + 0.007*\"govern\" + 0.007*\"el\"')\n",
      "topic: (1, '0.008*\"salvador\" + 0.008*\"el\" + 0.007*\"nation\" + 0.007*\"develop\"')\n",
      "topic: (2, '0.010*\"nation\" + 0.008*\"develop\" + 0.006*\"govern\" + 0.006*\"countri\"')\n"
     ]
    },
    {
     "name": "stderr",
     "output_type": "stream",
     "text": [
      "C:\\Users\\mtwpi\\AppData\\Local\\Programs\\Python\\Python38\\lib\\site-packages\\pyLDAvis\\_prepare.py:246: FutureWarning: In a future version of pandas all arguments of DataFrame.drop except for the argument 'labels' will be keyword-only\n"
     ]
    },
    {
     "name": "stdout",
     "output_type": "stream",
     "text": [
      "topic: (0, '0.007*\"africa\" + 0.006*\"peopl\" + 0.005*\"world\" + 0.004*\"problem\"')\n",
      "topic: (1, '0.016*\"somalia\" + 0.009*\"somali\" + 0.007*\"nation\" + 0.006*\"govern\"')\n",
      "topic: (2, '0.011*\"nation\" + 0.009*\"world\" + 0.009*\"peopl\" + 0.009*\"peac\"')\n"
     ]
    },
    {
     "name": "stderr",
     "output_type": "stream",
     "text": [
      "C:\\Users\\mtwpi\\AppData\\Local\\Programs\\Python\\Python38\\lib\\site-packages\\pyLDAvis\\_prepare.py:246: FutureWarning: In a future version of pandas all arguments of DataFrame.drop except for the argument 'labels' will be keyword-only\n"
     ]
    },
    {
     "name": "stdout",
     "output_type": "stream",
     "text": [
      "topic: (0, '0.012*\"nation\" + 0.011*\"world\" + 0.010*\"peopl\" + 0.010*\"israel\"')\n",
      "topic: (1, '0.008*\"syria\" + 0.007*\"peac\" + 0.006*\"israel\" + 0.005*\"nation\"')\n",
      "topic: (2, '0.006*\"syria\" + 0.004*\"syrian\" + 0.003*\"terror\" + 0.002*\"support\"')\n"
     ]
    },
    {
     "name": "stderr",
     "output_type": "stream",
     "text": [
      "C:\\Users\\mtwpi\\AppData\\Local\\Programs\\Python\\Python38\\lib\\site-packages\\pyLDAvis\\_prepare.py:246: FutureWarning: In a future version of pandas all arguments of DataFrame.drop except for the argument 'labels' will be keyword-only\n"
     ]
    },
    {
     "name": "stdout",
     "output_type": "stream",
     "text": [
      "topic: (0, '0.006*\"togo\" + 0.004*\"peac\" + 0.004*\"african\" + 0.004*\"africa\"')\n",
      "topic: (1, '0.009*\"countri\" + 0.008*\"nation\" + 0.008*\"peac\" + 0.008*\"develop\"')\n",
      "topic: (2, '0.010*\"peac\" + 0.008*\"develop\" + 0.008*\"nation\" + 0.007*\"world\"')\n"
     ]
    },
    {
     "name": "stderr",
     "output_type": "stream",
     "text": [
      "C:\\Users\\mtwpi\\AppData\\Local\\Programs\\Python\\Python38\\lib\\site-packages\\pyLDAvis\\_prepare.py:246: FutureWarning: In a future version of pandas all arguments of DataFrame.drop except for the argument 'labels' will be keyword-only\n"
     ]
    },
    {
     "name": "stdout",
     "output_type": "stream",
     "text": [
      "topic: (0, '0.014*\"nation\" + 0.012*\"thailand\" + 0.010*\"develop\" + 0.008*\"human\"')\n",
      "topic: (1, '0.002*\"arf\" + 0.001*\"an\" + 0.001*\"cairo\" + 0.001*\"the\\nasia-pacif\"')\n",
      "topic: (2, '0.013*\"nation\" + 0.009*\"thailand\" + 0.009*\"world\" + 0.009*\"develop\"')\n"
     ]
    },
    {
     "name": "stderr",
     "output_type": "stream",
     "text": [
      "C:\\Users\\mtwpi\\AppData\\Local\\Programs\\Python\\Python38\\lib\\site-packages\\pyLDAvis\\_prepare.py:246: FutureWarning: In a future version of pandas all arguments of DataFrame.drop except for the argument 'labels' will be keyword-only\n"
     ]
    },
    {
     "name": "stdout",
     "output_type": "stream",
     "text": [
      "topic: (0, '0.008*\"tobago\" + 0.007*\"develop\" + 0.006*\"trinidad\" + 0.005*\"nation\"')\n",
      "topic: (1, '0.015*\"develop\" + 0.011*\"tobago\" + 0.010*\"trinidad\" + 0.008*\"nation\"')\n",
      "topic: (2, '0.018*\"develop\" + 0.010*\"nation\" + 0.010*\"tobago\" + 0.009*\"countri\"')\n"
     ]
    },
    {
     "name": "stderr",
     "output_type": "stream",
     "text": [
      "C:\\Users\\mtwpi\\AppData\\Local\\Programs\\Python\\Python38\\lib\\site-packages\\pyLDAvis\\_prepare.py:246: FutureWarning: In a future version of pandas all arguments of DataFrame.drop except for the argument 'labels' will be keyword-only\n"
     ]
    },
    {
     "name": "stdout",
     "output_type": "stream",
     "text": [
      "topic: (0, '0.005*\"nation\" + 0.004*\"peopl\" + 0.004*\"peac\" + 0.004*\"world\"')\n",
      "topic: (1, '0.012*\"tunisia\" + 0.009*\"develop\" + 0.006*\"nation\" + 0.006*\"effort\"')\n",
      "topic: (2, '0.009*\"world\" + 0.009*\"develop\" + 0.008*\"nation\" + 0.007*\"countri\"')\n"
     ]
    },
    {
     "name": "stderr",
     "output_type": "stream",
     "text": [
      "C:\\Users\\mtwpi\\AppData\\Local\\Programs\\Python\\Python38\\lib\\site-packages\\pyLDAvis\\_prepare.py:246: FutureWarning: In a future version of pandas all arguments of DataFrame.drop except for the argument 'labels' will be keyword-only\n"
     ]
    },
    {
     "name": "stdout",
     "output_type": "stream",
     "text": [
      "topic: (0, '0.007*\"nation\" + 0.006*\"peac\" + 0.005*\"turkey\" + 0.005*\"secur\"')\n",
      "topic: (1, '0.008*\"nation\" + 0.008*\"turkey\" + 0.007*\"world\" + 0.007*\"peac\"')\n",
      "topic: (2, '0.007*\"nation\" + 0.006*\"develop\" + 0.005*\"turkey\" + 0.005*\"problem\"')\n"
     ]
    },
    {
     "name": "stderr",
     "output_type": "stream",
     "text": [
      "C:\\Users\\mtwpi\\AppData\\Local\\Programs\\Python\\Python38\\lib\\site-packages\\pyLDAvis\\_prepare.py:246: FutureWarning: In a future version of pandas all arguments of DataFrame.drop except for the argument 'labels' will be keyword-only\n"
     ]
    },
    {
     "name": "stdout",
     "output_type": "stream",
     "text": [
      "topic: (0, '0.010*\"nation\" + 0.007*\"peopl\" + 0.006*\"countri\" + 0.006*\"peac\"')\n",
      "topic: (1, '0.016*\"ukrain\" + 0.012*\"nation\" + 0.008*\"secur\" + 0.006*\"world\"')\n",
      "topic: (2, '0.009*\"nation\" + 0.009*\"nuclear\" + 0.008*\"world\" + 0.007*\"peac\"')\n"
     ]
    },
    {
     "name": "stderr",
     "output_type": "stream",
     "text": [
      "C:\\Users\\mtwpi\\AppData\\Local\\Programs\\Python\\Python38\\lib\\site-packages\\pyLDAvis\\_prepare.py:246: FutureWarning: In a future version of pandas all arguments of DataFrame.drop except for the argument 'labels' will be keyword-only\n"
     ]
    },
    {
     "name": "stdout",
     "output_type": "stream",
     "text": [
      "topic: (0, '0.007*\"world\" + 0.007*\"peac\" + 0.007*\"develop\" + 0.006*\"uruguay\"')\n",
      "topic: (1, '0.006*\"world\" + 0.004*\"nation\" + 0.003*\"human\" + 0.003*\"uruguay\"')\n",
      "topic: (2, '0.009*\"nation\" + 0.009*\"develop\" + 0.008*\"world\" + 0.007*\"countri\"')\n"
     ]
    },
    {
     "name": "stderr",
     "output_type": "stream",
     "text": [
      "C:\\Users\\mtwpi\\AppData\\Local\\Programs\\Python\\Python38\\lib\\site-packages\\pyLDAvis\\_prepare.py:246: FutureWarning: In a future version of pandas all arguments of DataFrame.drop except for the argument 'labels' will be keyword-only\n"
     ]
    },
    {
     "name": "stdout",
     "output_type": "stream",
     "text": [
      "topic: (0, '0.014*\"nation\" + 0.009*\"world\" + 0.006*\"develop\" + 0.006*\"peac\"')\n",
      "topic: (1, '0.011*\"nation\" + 0.011*\"world\" + 0.010*\"peopl\" + 0.006*\"peac\"')\n",
      "topic: (2, '0.013*\"nation\" + 0.010*\"world\" + 0.006*\"peac\" + 0.006*\"new\"')\n"
     ]
    },
    {
     "name": "stderr",
     "output_type": "stream",
     "text": [
      "C:\\Users\\mtwpi\\AppData\\Local\\Programs\\Python\\Python38\\lib\\site-packages\\pyLDAvis\\_prepare.py:246: FutureWarning: In a future version of pandas all arguments of DataFrame.drop except for the argument 'labels' will be keyword-only\n"
     ]
    },
    {
     "name": "stdout",
     "output_type": "stream",
     "text": [
      "topic: (0, '0.011*\"world\" + 0.007*\"peopl\" + 0.006*\"venezuela\" + 0.005*\"presid\"')\n",
      "topic: (1, '0.008*\"world\" + 0.006*\"peopl\" + 0.005*\"venezuela\" + 0.004*\"nation\"')\n",
      "topic: (2, '0.010*\"world\" + 0.009*\"countri\" + 0.009*\"develop\" + 0.009*\"nation\"')\n"
     ]
    },
    {
     "name": "stderr",
     "output_type": "stream",
     "text": [
      "C:\\Users\\mtwpi\\AppData\\Local\\Programs\\Python\\Python38\\lib\\site-packages\\pyLDAvis\\_prepare.py:246: FutureWarning: In a future version of pandas all arguments of DataFrame.drop except for the argument 'labels' will be keyword-only\n"
     ]
    },
    {
     "name": "stdout",
     "output_type": "stream",
     "text": [
      "topic: (0, '0.005*\"develop\" + 0.005*\"world\" + 0.003*\"year\" + 0.003*\"debt\"')\n",
      "topic: (1, '0.014*\"world\" + 0.011*\"countri\" + 0.010*\"develop\" + 0.010*\"nation\"')\n",
      "topic: (2, '0.017*\"serbia\" + 0.010*\"kosovo\" + 0.009*\"nation\" + 0.006*\"region\"')\n"
     ]
    },
    {
     "name": "stderr",
     "output_type": "stream",
     "text": [
      "C:\\Users\\mtwpi\\AppData\\Local\\Programs\\Python\\Python38\\lib\\site-packages\\pyLDAvis\\_prepare.py:246: FutureWarning: In a future version of pandas all arguments of DataFrame.drop except for the argument 'labels' will be keyword-only\n"
     ]
    },
    {
     "name": "stdout",
     "output_type": "stream",
     "text": [
      "topic: (0, '0.013*\"nation\" + 0.011*\"africa\" + 0.009*\"develop\" + 0.008*\"south\"')\n",
      "topic: (1, '0.012*\"world\" + 0.008*\"nation\" + 0.007*\"human\" + 0.007*\"develop\"')\n",
      "topic: (2, '0.012*\"south\" + 0.012*\"africa\" + 0.007*\"nation\" + 0.006*\"african\"')\n"
     ]
    },
    {
     "name": "stderr",
     "output_type": "stream",
     "text": [
      "C:\\Users\\mtwpi\\AppData\\Local\\Programs\\Python\\Python38\\lib\\site-packages\\pyLDAvis\\_prepare.py:246: FutureWarning: In a future version of pandas all arguments of DataFrame.drop except for the argument 'labels' will be keyword-only\n"
     ]
    },
    {
     "name": "stdout",
     "output_type": "stream",
     "text": [
      "topic: (0, '0.007*\"nation\" + 0.006*\"develop\" + 0.006*\"zambia\" + 0.004*\"peac\"')\n",
      "topic: (1, '0.011*\"develop\" + 0.009*\"zambia\" + 0.008*\"nation\" + 0.008*\"africa\"')\n",
      "topic: (2, '0.013*\"africa\" + 0.012*\"south\" + 0.010*\"nation\" + 0.008*\"peopl\"')\n"
     ]
    },
    {
     "name": "stderr",
     "output_type": "stream",
     "text": [
      "C:\\Users\\mtwpi\\AppData\\Local\\Programs\\Python\\Python38\\lib\\site-packages\\pyLDAvis\\_prepare.py:246: FutureWarning: In a future version of pandas all arguments of DataFrame.drop except for the argument 'labels' will be keyword-only\n"
     ]
    },
    {
     "name": "stdout",
     "output_type": "stream",
     "text": [
      "topic: (0, '0.011*\"afghanistan\" + 0.009*\"peac\" + 0.009*\"nation\" + 0.009*\"peopl\"')\n",
      "topic: (1, '0.008*\"taliban\" + 0.005*\"afghanistan\" + 0.004*\"nation\" + 0.002*\"1995\"')\n",
      "topic: (2, '0.017*\"afghanistan\" + 0.010*\"nation\" + 0.007*\"peopl\" + 0.006*\"peac\"')\n"
     ]
    },
    {
     "name": "stderr",
     "output_type": "stream",
     "text": [
      "C:\\Users\\mtwpi\\AppData\\Local\\Programs\\Python\\Python38\\lib\\site-packages\\pyLDAvis\\_prepare.py:246: FutureWarning: In a future version of pandas all arguments of DataFrame.drop except for the argument 'labels' will be keyword-only\n"
     ]
    },
    {
     "name": "stdout",
     "output_type": "stream",
     "text": [
      "topic: (0, '0.004*\"burundi\" + 0.004*\"peac\" + 0.004*\"nation\" + 0.002*\"organ\"')\n",
      "topic: (1, '0.010*\"peopl\" + 0.007*\"nation\" + 0.007*\"africa\" + 0.006*\"world\"')\n",
      "topic: (2, '0.013*\"burundi\" + 0.010*\"nation\" + 0.008*\"peopl\" + 0.008*\"develop\"')\n"
     ]
    },
    {
     "name": "stderr",
     "output_type": "stream",
     "text": [
      "C:\\Users\\mtwpi\\AppData\\Local\\Programs\\Python\\Python38\\lib\\site-packages\\pyLDAvis\\_prepare.py:246: FutureWarning: In a future version of pandas all arguments of DataFrame.drop except for the argument 'labels' will be keyword-only\n"
     ]
    },
    {
     "name": "stdout",
     "output_type": "stream",
     "text": [
      "topic: (0, '0.011*\"develop\" + 0.010*\"nation\" + 0.007*\"benin\" + 0.006*\"countri\"')\n",
      "topic: (1, '0.014*\"peopl\" + 0.008*\"world\" + 0.007*\"countri\" + 0.007*\"peac\"')\n",
      "topic: (2, '0.007*\"develop\" + 0.006*\"nation\" + 0.006*\"benin\" + 0.004*\"africa\"')\n"
     ]
    },
    {
     "name": "stderr",
     "output_type": "stream",
     "text": [
      "C:\\Users\\mtwpi\\AppData\\Local\\Programs\\Python\\Python38\\lib\\site-packages\\pyLDAvis\\_prepare.py:246: FutureWarning: In a future version of pandas all arguments of DataFrame.drop except for the argument 'labels' will be keyword-only\n"
     ]
    },
    {
     "name": "stdout",
     "output_type": "stream",
     "text": [
      "topic: (0, '0.007*\"world\" + 0.007*\"nation\" + 0.005*\"peopl\" + 0.005*\"year\"')\n",
      "topic: (1, '0.010*\"faso\" + 0.009*\"burkina\" + 0.007*\"world\" + 0.007*\"nation\"')\n",
      "topic: (2, '0.012*\"develop\" + 0.010*\"countri\" + 0.008*\"nation\" + 0.007*\"world\"')\n"
     ]
    },
    {
     "name": "stderr",
     "output_type": "stream",
     "text": [
      "C:\\Users\\mtwpi\\AppData\\Local\\Programs\\Python\\Python38\\lib\\site-packages\\pyLDAvis\\_prepare.py:246: FutureWarning: In a future version of pandas all arguments of DataFrame.drop except for the argument 'labels' will be keyword-only\n"
     ]
    },
    {
     "name": "stdout",
     "output_type": "stream",
     "text": [
      "topic: (0, '0.009*\"nation\" + 0.008*\"bulgaria\" + 0.006*\"secur\" + 0.006*\"region\"')\n",
      "topic: (1, '0.007*\"nation\" + 0.005*\"bulgaria\" + 0.005*\"region\" + 0.003*\"cooper\"')\n",
      "topic: (2, '0.011*\"peopl\" + 0.009*\"peac\" + 0.009*\"bulgaria\" + 0.008*\"nation\"')\n"
     ]
    },
    {
     "name": "stderr",
     "output_type": "stream",
     "text": [
      "C:\\Users\\mtwpi\\AppData\\Local\\Programs\\Python\\Python38\\lib\\site-packages\\pyLDAvis\\_prepare.py:246: FutureWarning: In a future version of pandas all arguments of DataFrame.drop except for the argument 'labels' will be keyword-only\n"
     ]
    },
    {
     "name": "stdout",
     "output_type": "stream",
     "text": [
      "topic: (0, '0.003*\"law\" + 0.003*\"african\" + 0.002*\"secur\" + 0.002*\"nation\"')\n",
      "topic: (1, '0.004*\"african\" + 0.003*\"republ\" + 0.003*\"central\" + 0.003*\"world\"')\n",
      "topic: (2, '0.015*\"african\" + 0.013*\"central\" + 0.010*\"nation\" + 0.008*\"develop\"')\n"
     ]
    },
    {
     "name": "stderr",
     "output_type": "stream",
     "text": [
      "C:\\Users\\mtwpi\\AppData\\Local\\Programs\\Python\\Python38\\lib\\site-packages\\pyLDAvis\\_prepare.py:246: FutureWarning: In a future version of pandas all arguments of DataFrame.drop except for the argument 'labels' will be keyword-only\n"
     ]
    },
    {
     "name": "stdout",
     "output_type": "stream",
     "text": [
      "topic: (0, '0.010*\"nation\" + 0.009*\"chile\" + 0.008*\"world\" + 0.006*\"govern\"')\n",
      "topic: (1, '0.002*\"nation\" + 0.002*\"chile\" + 0.002*\"soviet\" + 0.002*\"time\"')\n",
      "topic: (2, '0.008*\"nation\" + 0.007*\"chile\" + 0.006*\"world\" + 0.006*\"peac\"')\n"
     ]
    },
    {
     "name": "stderr",
     "output_type": "stream",
     "text": [
      "C:\\Users\\mtwpi\\AppData\\Local\\Programs\\Python\\Python38\\lib\\site-packages\\pyLDAvis\\_prepare.py:246: FutureWarning: In a future version of pandas all arguments of DataFrame.drop except for the argument 'labels' will be keyword-only\n"
     ]
    },
    {
     "name": "stdout",
     "output_type": "stream",
     "text": [
      "topic: (0, '0.017*\"peopl\" + 0.009*\"world\" + 0.007*\"super-pow\" + 0.006*\"nation\"')\n",
      "topic: (1, '0.018*\"develop\" + 0.015*\"china\" + 0.011*\"world\" + 0.011*\"peac\"')\n",
      "topic: (2, '0.015*\"countri\" + 0.013*\"world\" + 0.012*\"peopl\" + 0.011*\"nation\"')\n"
     ]
    },
    {
     "name": "stderr",
     "output_type": "stream",
     "text": [
      "C:\\Users\\mtwpi\\AppData\\Local\\Programs\\Python\\Python38\\lib\\site-packages\\pyLDAvis\\_prepare.py:246: FutureWarning: In a future version of pandas all arguments of DataFrame.drop except for the argument 'labels' will be keyword-only\n"
     ]
    },
    {
     "name": "stdout",
     "output_type": "stream",
     "text": [
      "topic: (0, '0.002*\"d\\'ivoir\" + 0.001*\"côte\" + 0.001*\"nuclear\" + 0.001*\"2001\"')\n",
      "topic: (1, '0.010*\"develop\" + 0.008*\"nation\" + 0.008*\"peac\" + 0.008*\"countri\"')\n",
      "topic: (2, '0.003*\"peac\" + 0.003*\"africa\" + 0.003*\"region\" + 0.003*\"african\"')\n"
     ]
    },
    {
     "name": "stderr",
     "output_type": "stream",
     "text": [
      "C:\\Users\\mtwpi\\AppData\\Local\\Programs\\Python\\Python38\\lib\\site-packages\\pyLDAvis\\_prepare.py:246: FutureWarning: In a future version of pandas all arguments of DataFrame.drop except for the argument 'labels' will be keyword-only\n"
     ]
    },
    {
     "name": "stdout",
     "output_type": "stream",
     "text": [
      "topic: (0, '0.006*\"nation\" + 0.006*\"zair\" + 0.005*\"countri\" + 0.004*\"world\"')\n",
      "topic: (1, '0.009*\"nation\" + 0.008*\"world\" + 0.007*\"peac\" + 0.007*\"develop\"')\n",
      "topic: (2, '0.008*\"countri\" + 0.005*\"nation\" + 0.005*\"peopl\" + 0.005*\"republ\"')\n"
     ]
    },
    {
     "name": "stderr",
     "output_type": "stream",
     "text": [
      "C:\\Users\\mtwpi\\AppData\\Local\\Programs\\Python\\Python38\\lib\\site-packages\\pyLDAvis\\_prepare.py:246: FutureWarning: In a future version of pandas all arguments of DataFrame.drop except for the argument 'labels' will be keyword-only\n"
     ]
    },
    {
     "name": "stdout",
     "output_type": "stream",
     "text": [
      "topic: (0, '0.010*\"peac\" + 0.007*\"world\" + 0.007*\"develop\" + 0.006*\"nation\"')\n",
      "topic: (1, '0.005*\"peac\" + 0.004*\"nuclear\" + 0.003*\"secur\" + 0.002*\"polit\"')\n",
      "topic: (2, '0.016*\"nation\" + 0.006*\"year\" + 0.006*\"world\" + 0.005*\"develop\"')\n"
     ]
    },
    {
     "name": "stderr",
     "output_type": "stream",
     "text": [
      "C:\\Users\\mtwpi\\AppData\\Local\\Programs\\Python\\Python38\\lib\\site-packages\\pyLDAvis\\_prepare.py:246: FutureWarning: In a future version of pandas all arguments of DataFrame.drop except for the argument 'labels' will be keyword-only\n"
     ]
    },
    {
     "name": "stdout",
     "output_type": "stream",
     "text": [
      "topic: (0, '0.015*\"cyprus\" + 0.009*\"nation\" + 0.009*\"turkish\" + 0.006*\"cypriot\"')\n",
      "topic: (1, '0.010*\"cyprus\" + 0.007*\"nation\" + 0.004*\"turkish\" + 0.004*\"right\"')\n",
      "topic: (2, '0.014*\"cyprus\" + 0.012*\"nation\" + 0.009*\"problem\" + 0.008*\"world\"')\n"
     ]
    },
    {
     "name": "stderr",
     "output_type": "stream",
     "text": [
      "C:\\Users\\mtwpi\\AppData\\Local\\Programs\\Python\\Python38\\lib\\site-packages\\pyLDAvis\\_prepare.py:246: FutureWarning: In a future version of pandas all arguments of DataFrame.drop except for the argument 'labels' will be keyword-only\n"
     ]
    },
    {
     "name": "stdout",
     "output_type": "stream",
     "text": [
      "topic: (0, '0.009*\"peac\" + 0.009*\"egypt\" + 0.008*\"peopl\" + 0.007*\"nation\"')\n",
      "topic: (1, '0.009*\"egypt\" + 0.008*\"world\" + 0.007*\"peopl\" + 0.006*\"develop\"')\n",
      "topic: (2, '0.005*\"nation\" + 0.004*\"secur\" + 0.004*\"develop\" + 0.004*\"need\"')\n"
     ]
    },
    {
     "name": "stderr",
     "output_type": "stream",
     "text": [
      "C:\\Users\\mtwpi\\AppData\\Local\\Programs\\Python\\Python38\\lib\\site-packages\\pyLDAvis\\_prepare.py:246: FutureWarning: In a future version of pandas all arguments of DataFrame.drop except for the argument 'labels' will be keyword-only\n"
     ]
    },
    {
     "name": "stdout",
     "output_type": "stream",
     "text": [
      "topic: (0, '0.009*\"spain\" + 0.007*\"nation\" + 0.005*\"problem\" + 0.005*\"right\"')\n",
      "topic: (1, '0.007*\"spain\" + 0.005*\"nation\" + 0.003*\"organ\" + 0.003*\"human\"')\n",
      "topic: (2, '0.010*\"spain\" + 0.009*\"nation\" + 0.006*\"peac\" + 0.006*\"develop\"')\n"
     ]
    },
    {
     "name": "stderr",
     "output_type": "stream",
     "text": [
      "C:\\Users\\mtwpi\\AppData\\Local\\Programs\\Python\\Python38\\lib\\site-packages\\pyLDAvis\\_prepare.py:246: FutureWarning: In a future version of pandas all arguments of DataFrame.drop except for the argument 'labels' will be keyword-only\n"
     ]
    },
    {
     "name": "stdout",
     "output_type": "stream",
     "text": [
      "topic: (0, '0.011*\"ethiopia\" + 0.010*\"peac\" + 0.008*\"nation\" + 0.008*\"africa\"')\n",
      "topic: (1, '0.009*\"nation\" + 0.006*\"africa\" + 0.006*\"develop\" + 0.006*\"ethiopia\"')\n",
      "topic: (2, '0.010*\"nation\" + 0.010*\"develop\" + 0.009*\"africa\" + 0.008*\"peac\"')\n"
     ]
    },
    {
     "name": "stderr",
     "output_type": "stream",
     "text": [
      "C:\\Users\\mtwpi\\AppData\\Local\\Programs\\Python\\Python38\\lib\\site-packages\\pyLDAvis\\_prepare.py:246: FutureWarning: In a future version of pandas all arguments of DataFrame.drop except for the argument 'labels' will be keyword-only\n"
     ]
    },
    {
     "name": "stdout",
     "output_type": "stream",
     "text": [
      "topic: (0, '0.015*\"nation\" + 0.007*\"human\" + 0.006*\"need\" + 0.005*\"secur\"')\n",
      "topic: (1, '0.016*\"nation\" + 0.011*\"develop\" + 0.008*\"finland\" + 0.007*\"secur\"')\n",
      "topic: (2, '0.014*\"nation\" + 0.008*\"govern\" + 0.008*\"secur\" + 0.007*\"peac\"')\n"
     ]
    },
    {
     "name": "stderr",
     "output_type": "stream",
     "text": [
      "C:\\Users\\mtwpi\\AppData\\Local\\Programs\\Python\\Python38\\lib\\site-packages\\pyLDAvis\\_prepare.py:246: FutureWarning: In a future version of pandas all arguments of DataFrame.drop except for the argument 'labels' will be keyword-only\n"
     ]
    },
    {
     "name": "stdout",
     "output_type": "stream",
     "text": [
      "topic: (0, '0.011*\"nation\" + 0.009*\"develop\" + 0.007*\"fiji\" + 0.007*\"world\"')\n",
      "topic: (1, '0.022*\"fiji\" + 0.008*\"nation\" + 0.006*\"peopl\" + 0.006*\"govern\"')\n",
      "topic: (2, '0.009*\"nation\" + 0.009*\"develop\" + 0.008*\"fiji\" + 0.006*\"countri\"')\n"
     ]
    },
    {
     "name": "stderr",
     "output_type": "stream",
     "text": [
      "C:\\Users\\mtwpi\\AppData\\Local\\Programs\\Python\\Python38\\lib\\site-packages\\pyLDAvis\\_prepare.py:246: FutureWarning: In a future version of pandas all arguments of DataFrame.drop except for the argument 'labels' will be keyword-only\n"
     ]
    },
    {
     "name": "stdout",
     "output_type": "stream",
     "text": [
      "topic: (0, '0.008*\"world\" + 0.007*\"countri\" + 0.006*\"develop\" + 0.005*\"nation\"')\n",
      "topic: (1, '0.009*\"nation\" + 0.009*\"gabon\" + 0.007*\"peac\" + 0.007*\"develop\"')\n",
      "topic: (2, '0.008*\"world\" + 0.006*\"develop\" + 0.005*\"countri\" + 0.004*\"problem\"')\n"
     ]
    },
    {
     "name": "stderr",
     "output_type": "stream",
     "text": [
      "C:\\Users\\mtwpi\\AppData\\Local\\Programs\\Python\\Python38\\lib\\site-packages\\pyLDAvis\\_prepare.py:246: FutureWarning: In a future version of pandas all arguments of DataFrame.drop except for the argument 'labels' will be keyword-only\n"
     ]
    },
    {
     "name": "stdout",
     "output_type": "stream",
     "text": [
      "topic: (0, '0.004*\"need\" + 0.003*\"global\" + 0.003*\"peac\" + 0.003*\"world\"')\n",
      "topic: (1, '0.001*\"olymp\" + 0.001*\"global\" + 0.001*\"peac\" + 0.001*\"european\\nunion\"')\n",
      "topic: (2, '0.009*\"nation\" + 0.006*\"peac\" + 0.006*\"greec\" + 0.006*\"effort\"')\n"
     ]
    },
    {
     "name": "stderr",
     "output_type": "stream",
     "text": [
      "C:\\Users\\mtwpi\\AppData\\Local\\Programs\\Python\\Python38\\lib\\site-packages\\pyLDAvis\\_prepare.py:246: FutureWarning: In a future version of pandas all arguments of DataFrame.drop except for the argument 'labels' will be keyword-only\n"
     ]
    },
    {
     "name": "stdout",
     "output_type": "stream",
     "text": [
      "topic: (0, '0.015*\"develop\" + 0.007*\"countri\" + 0.007*\"world\" + 0.007*\"global\"')\n",
      "topic: (1, '0.008*\"venezuela\" + 0.007*\"guyana\" + 0.005*\"develop\" + 0.004*\"global\"')\n",
      "topic: (2, '0.013*\"develop\" + 0.008*\"nation\" + 0.008*\"world\" + 0.007*\"econom\"')\n"
     ]
    },
    {
     "name": "stderr",
     "output_type": "stream",
     "text": [
      "C:\\Users\\mtwpi\\AppData\\Local\\Programs\\Python\\Python38\\lib\\site-packages\\pyLDAvis\\_prepare.py:246: FutureWarning: In a future version of pandas all arguments of DataFrame.drop except for the argument 'labels' will be keyword-only\n"
     ]
    },
    {
     "name": "stdout",
     "output_type": "stream",
     "text": [
      "topic: (0, '0.011*\"peopl\" + 0.008*\"govern\" + 0.007*\"nation\" + 0.007*\"world\"')\n",
      "topic: (1, '0.010*\"nation\" + 0.007*\"world\" + 0.007*\"govern\" + 0.006*\"right\"')\n",
      "topic: (2, '0.008*\"nation\" + 0.005*\"world\" + 0.005*\"hungari\" + 0.004*\"human\"')\n"
     ]
    },
    {
     "name": "stderr",
     "output_type": "stream",
     "text": [
      "C:\\Users\\mtwpi\\AppData\\Local\\Programs\\Python\\Python38\\lib\\site-packages\\pyLDAvis\\_prepare.py:246: FutureWarning: In a future version of pandas all arguments of DataFrame.drop except for the argument 'labels' will be keyword-only\n"
     ]
    },
    {
     "name": "stdout",
     "output_type": "stream",
     "text": [
      "topic: (0, '0.010*\"ireland\" + 0.009*\"nation\" + 0.007*\"world\" + 0.006*\"develop\"')\n",
      "topic: (1, '0.002*\"ireland\" + 0.001*\"loyalti\" + 0.001*\"human\" + 0.001*\"peopl\"')\n",
      "topic: (2, '0.010*\"nation\" + 0.009*\"ireland\" + 0.006*\"peac\" + 0.005*\"secur\"')\n"
     ]
    },
    {
     "name": "stderr",
     "output_type": "stream",
     "text": [
      "C:\\Users\\mtwpi\\AppData\\Local\\Programs\\Python\\Python38\\lib\\site-packages\\pyLDAvis\\_prepare.py:246: FutureWarning: In a future version of pandas all arguments of DataFrame.drop except for the argument 'labels' will be keyword-only\n"
     ]
    },
    {
     "name": "stdout",
     "output_type": "stream",
     "text": [
      "topic: (0, '0.005*\"nation\" + 0.005*\"world\" + 0.004*\"countri\" + 0.003*\"develop\"')\n",
      "topic: (1, '0.005*\"develop\" + 0.005*\"global\" + 0.003*\"nation\" + 0.002*\"need\"')\n",
      "topic: (2, '0.016*\"develop\" + 0.010*\"nation\" + 0.009*\"countri\" + 0.009*\"world\"')\n"
     ]
    },
    {
     "name": "stderr",
     "output_type": "stream",
     "text": [
      "C:\\Users\\mtwpi\\AppData\\Local\\Programs\\Python\\Python38\\lib\\site-packages\\pyLDAvis\\_prepare.py:246: FutureWarning: In a future version of pandas all arguments of DataFrame.drop except for the argument 'labels' will be keyword-only\n"
     ]
    },
    {
     "name": "stdout",
     "output_type": "stream",
     "text": [
      "topic: (0, '0.011*\"peac\" + 0.009*\"nation\" + 0.007*\"jordan\" + 0.007*\"secur\"')\n",
      "topic: (1, '0.007*\"nation\" + 0.007*\"israel\" + 0.006*\"jordan\" + 0.006*\"peac\"')\n",
      "topic: (2, '0.010*\"world\" + 0.009*\"nation\" + 0.007*\"peac\" + 0.007*\"arab\"')\n"
     ]
    },
    {
     "name": "stderr",
     "output_type": "stream",
     "text": [
      "C:\\Users\\mtwpi\\AppData\\Local\\Programs\\Python\\Python38\\lib\\site-packages\\pyLDAvis\\_prepare.py:246: FutureWarning: In a future version of pandas all arguments of DataFrame.drop except for the argument 'labels' will be keyword-only\n"
     ]
    },
    {
     "name": "stdout",
     "output_type": "stream",
     "text": [
      "topic: (0, '0.018*\"peopl\" + 0.013*\"lao\" + 0.011*\"countri\" + 0.010*\"republ\"')\n",
      "topic: (1, '0.009*\"nation\" + 0.007*\"peac\" + 0.005*\"lao\" + 0.005*\"peopl\"')\n",
      "topic: (2, '0.017*\"peopl\" + 0.010*\"develop\" + 0.010*\"lao\" + 0.010*\"world\"')\n"
     ]
    },
    {
     "name": "stderr",
     "output_type": "stream",
     "text": [
      "C:\\Users\\mtwpi\\AppData\\Local\\Programs\\Python\\Python38\\lib\\site-packages\\pyLDAvis\\_prepare.py:246: FutureWarning: In a future version of pandas all arguments of DataFrame.drop except for the argument 'labels' will be keyword-only\n"
     ]
    },
    {
     "name": "stdout",
     "output_type": "stream",
     "text": [
      "topic: (0, '0.009*\"nation\" + 0.006*\"develop\" + 0.006*\"european\" + 0.005*\"secur\"')\n",
      "topic: (1, '0.008*\"nation\" + 0.004*\"luxembourg\" + 0.004*\"develop\" + 0.004*\"council\"')\n",
      "topic: (2, '0.007*\"world\" + 0.006*\"nation\" + 0.005*\"countri\" + 0.005*\"communiti\"')\n"
     ]
    },
    {
     "name": "stderr",
     "output_type": "stream",
     "text": [
      "C:\\Users\\mtwpi\\AppData\\Local\\Programs\\Python\\Python38\\lib\\site-packages\\pyLDAvis\\_prepare.py:246: FutureWarning: In a future version of pandas all arguments of DataFrame.drop except for the argument 'labels' will be keyword-only\n"
     ]
    },
    {
     "name": "stdout",
     "output_type": "stream",
     "text": [
      "topic: (0, '0.012*\"mali\" + 0.010*\"develop\" + 0.008*\"nation\" + 0.007*\"peac\"')\n",
      "topic: (1, '0.007*\"peopl\" + 0.006*\"nation\" + 0.005*\"mali\" + 0.005*\"world\"')\n",
      "topic: (2, '0.010*\"world\" + 0.009*\"peopl\" + 0.008*\"nation\" + 0.006*\"peac\"')\n"
     ]
    },
    {
     "name": "stderr",
     "output_type": "stream",
     "text": [
      "C:\\Users\\mtwpi\\AppData\\Local\\Programs\\Python\\Python38\\lib\\site-packages\\pyLDAvis\\_prepare.py:246: FutureWarning: In a future version of pandas all arguments of DataFrame.drop except for the argument 'labels' will be keyword-only\n"
     ]
    },
    {
     "name": "stdout",
     "output_type": "stream",
     "text": [
      "topic: (0, '0.011*\"malta\" + 0.009*\"nation\" + 0.007*\"mediterranean\" + 0.006*\"develop\"')\n",
      "topic: (1, '0.010*\"malta\" + 0.008*\"nation\" + 0.004*\"region\" + 0.004*\"year\"')\n",
      "topic: (2, '0.005*\"nation\" + 0.005*\"malta\" + 0.003*\"union\" + 0.003*\"european\"')\n"
     ]
    },
    {
     "name": "stderr",
     "output_type": "stream",
     "text": [
      "C:\\Users\\mtwpi\\AppData\\Local\\Programs\\Python\\Python38\\lib\\site-packages\\pyLDAvis\\_prepare.py:246: FutureWarning: In a future version of pandas all arguments of DataFrame.drop except for the argument 'labels' will be keyword-only\n"
     ]
    },
    {
     "name": "stdout",
     "output_type": "stream",
     "text": [
      "topic: (0, '0.000*\"peopl\" + 0.000*\"nation\" + 0.000*\"peac\" + 0.000*\"republ\"')\n",
      "topic: (1, '0.016*\"peopl\" + 0.011*\"republ\" + 0.010*\"peac\" + 0.010*\"mongolian\"')\n",
      "topic: (2, '0.012*\"mongolia\" + 0.011*\"nation\" + 0.010*\"develop\" + 0.008*\"world\"')\n"
     ]
    },
    {
     "name": "stderr",
     "output_type": "stream",
     "text": [
      "C:\\Users\\mtwpi\\AppData\\Local\\Programs\\Python\\Python38\\lib\\site-packages\\pyLDAvis\\_prepare.py:246: FutureWarning: In a future version of pandas all arguments of DataFrame.drop except for the argument 'labels' will be keyword-only\n"
     ]
    },
    {
     "name": "stdout",
     "output_type": "stream",
     "text": [
      "topic: (0, '0.005*\"develop\" + 0.005*\"peac\" + 0.004*\"effort\" + 0.003*\"hope\"')\n",
      "topic: (1, '0.006*\"develop\" + 0.006*\"peac\" + 0.006*\"secur\" + 0.005*\"peopl\"')\n",
      "topic: (2, '0.010*\"peopl\" + 0.009*\"nation\" + 0.008*\"develop\" + 0.007*\"peac\"')\n"
     ]
    },
    {
     "name": "stderr",
     "output_type": "stream",
     "text": [
      "C:\\Users\\mtwpi\\AppData\\Local\\Programs\\Python\\Python38\\lib\\site-packages\\pyLDAvis\\_prepare.py:246: FutureWarning: In a future version of pandas all arguments of DataFrame.drop except for the argument 'labels' will be keyword-only\n"
     ]
    },
    {
     "name": "stdout",
     "output_type": "stream",
     "text": [
      "topic: (0, '0.010*\"develop\" + 0.009*\"world\" + 0.007*\"nation\" + 0.006*\"countri\"')\n",
      "topic: (1, '0.002*\"nation\" + 0.002*\"wish\" + 0.002*\"mauritius\" + 0.002*\"peac\"')\n",
      "topic: (2, '0.010*\"nation\" + 0.009*\"develop\" + 0.009*\"world\" + 0.007*\"mauritius\"')\n"
     ]
    },
    {
     "name": "stderr",
     "output_type": "stream",
     "text": [
      "C:\\Users\\mtwpi\\AppData\\Local\\Programs\\Python\\Python38\\lib\\site-packages\\pyLDAvis\\_prepare.py:246: FutureWarning: In a future version of pandas all arguments of DataFrame.drop except for the argument 'labels' will be keyword-only\n"
     ]
    },
    {
     "name": "stdout",
     "output_type": "stream",
     "text": [
      "topic: (0, '0.008*\"world\" + 0.008*\"nation\" + 0.004*\"peopl\" + 0.004*\"islam\"')\n",
      "topic: (1, '0.011*\"nation\" + 0.010*\"develop\" + 0.008*\"world\" + 0.006*\"countri\"')\n",
      "topic: (2, '0.012*\"nation\" + 0.009*\"develop\" + 0.008*\"countri\" + 0.008*\"world\"')\n"
     ]
    },
    {
     "name": "stderr",
     "output_type": "stream",
     "text": [
      "C:\\Users\\mtwpi\\AppData\\Local\\Programs\\Python\\Python38\\lib\\site-packages\\pyLDAvis\\_prepare.py:246: FutureWarning: In a future version of pandas all arguments of DataFrame.drop except for the argument 'labels' will be keyword-only\n"
     ]
    },
    {
     "name": "stdout",
     "output_type": "stream",
     "text": [
      "topic: (0, '0.009*\"niger\" + 0.008*\"develop\" + 0.007*\"nation\" + 0.005*\"secur\"')\n",
      "topic: (1, '0.009*\"niger\" + 0.008*\"nation\" + 0.006*\"develop\" + 0.006*\"world\"')\n",
      "topic: (2, '0.010*\"world\" + 0.008*\"nation\" + 0.008*\"develop\" + 0.007*\"countri\"')\n"
     ]
    },
    {
     "name": "stderr",
     "output_type": "stream",
     "text": [
      "C:\\Users\\mtwpi\\AppData\\Local\\Programs\\Python\\Python38\\lib\\site-packages\\pyLDAvis\\_prepare.py:246: FutureWarning: In a future version of pandas all arguments of DataFrame.drop except for the argument 'labels' will be keyword-only\n"
     ]
    },
    {
     "name": "stdout",
     "output_type": "stream",
     "text": [
      "topic: (0, '0.004*\"african\" + 0.003*\"peac\" + 0.002*\"effort\" + 0.002*\"nation\"')\n",
      "topic: (1, '0.008*\"nation\" + 0.007*\"nigeria\" + 0.006*\"africa\" + 0.006*\"develop\"')\n",
      "topic: (2, '0.011*\"nation\" + 0.011*\"africa\" + 0.010*\"develop\" + 0.009*\"world\"')\n"
     ]
    },
    {
     "name": "stderr",
     "output_type": "stream",
     "text": [
      "C:\\Users\\mtwpi\\AppData\\Local\\Programs\\Python\\Python38\\lib\\site-packages\\pyLDAvis\\_prepare.py:246: FutureWarning: In a future version of pandas all arguments of DataFrame.drop except for the argument 'labels' will be keyword-only\n"
     ]
    },
    {
     "name": "stdout",
     "output_type": "stream",
     "text": [
      "topic: (0, '0.008*\"nation\" + 0.008*\"nicaragua\" + 0.006*\"govern\" + 0.006*\"peopl\"')\n",
      "topic: (1, '0.008*\"new\" + 0.006*\"nation\" + 0.005*\"nicaragua\" + 0.005*\"world\"')\n",
      "topic: (2, '0.011*\"peopl\" + 0.009*\"nicaragua\" + 0.008*\"nation\" + 0.007*\"world\"')\n"
     ]
    },
    {
     "name": "stderr",
     "output_type": "stream",
     "text": [
      "C:\\Users\\mtwpi\\AppData\\Local\\Programs\\Python\\Python38\\lib\\site-packages\\pyLDAvis\\_prepare.py:246: FutureWarning: In a future version of pandas all arguments of DataFrame.drop except for the argument 'labels' will be keyword-only\n"
     ]
    },
    {
     "name": "stdout",
     "output_type": "stream",
     "text": [
      "topic: (0, '0.011*\"develop\" + 0.011*\"nation\" + 0.007*\"nepal\" + 0.006*\"world\"')\n",
      "topic: (1, '0.013*\"nation\" + 0.012*\"nepal\" + 0.011*\"develop\" + 0.009*\"peac\"')\n",
      "topic: (2, '0.017*\"develop\" + 0.013*\"nation\" + 0.010*\"peac\" + 0.009*\"countri\"')\n"
     ]
    },
    {
     "name": "stderr",
     "output_type": "stream",
     "text": [
      "C:\\Users\\mtwpi\\AppData\\Local\\Programs\\Python\\Python38\\lib\\site-packages\\pyLDAvis\\_prepare.py:246: FutureWarning: In a future version of pandas all arguments of DataFrame.drop except for the argument 'labels' will be keyword-only\n"
     ]
    },
    {
     "name": "stdout",
     "output_type": "stream",
     "text": [
      "topic: (0, '0.014*\"panama\" + 0.008*\"nation\" + 0.007*\"canal\" + 0.006*\"govern\"')\n",
      "topic: (1, '0.006*\"panamanian\" + 0.006*\"panama\" + 0.005*\"govern\" + 0.005*\"peopl\"')\n",
      "topic: (2, '0.017*\"panama\" + 0.010*\"nation\" + 0.006*\"world\" + 0.006*\"canal\"')\n"
     ]
    },
    {
     "name": "stderr",
     "output_type": "stream",
     "text": [
      "C:\\Users\\mtwpi\\AppData\\Local\\Programs\\Python\\Python38\\lib\\site-packages\\pyLDAvis\\_prepare.py:246: FutureWarning: In a future version of pandas all arguments of DataFrame.drop except for the argument 'labels' will be keyword-only\n"
     ]
    },
    {
     "name": "stdout",
     "output_type": "stream",
     "text": [
      "topic: (0, '0.011*\"nation\" + 0.006*\"world\" + 0.006*\"poland\" + 0.006*\"develop\"')\n",
      "topic: (1, '0.009*\"nation\" + 0.007*\"secur\" + 0.005*\"poland\" + 0.005*\"world\"')\n",
      "topic: (2, '0.010*\"poland\" + 0.009*\"world\" + 0.009*\"nation\" + 0.008*\"peac\"')\n"
     ]
    },
    {
     "name": "stderr",
     "output_type": "stream",
     "text": [
      "C:\\Users\\mtwpi\\AppData\\Local\\Programs\\Python\\Python38\\lib\\site-packages\\pyLDAvis\\_prepare.py:246: FutureWarning: In a future version of pandas all arguments of DataFrame.drop except for the argument 'labels' will be keyword-only\n"
     ]
    },
    {
     "name": "stdout",
     "output_type": "stream",
     "text": [
      "topic: (0, '0.010*\"nation\" + 0.009*\"world\" + 0.008*\"peac\" + 0.006*\"develop\"')\n",
      "topic: (1, '0.007*\"peopl\" + 0.006*\"world\" + 0.005*\"nation\" + 0.005*\"peac\"')\n",
      "topic: (2, '0.011*\"world\" + 0.009*\"nation\" + 0.008*\"develop\" + 0.008*\"peopl\"')\n"
     ]
    },
    {
     "name": "stderr",
     "output_type": "stream",
     "text": [
      "C:\\Users\\mtwpi\\AppData\\Local\\Programs\\Python\\Python38\\lib\\site-packages\\pyLDAvis\\_prepare.py:246: FutureWarning: In a future version of pandas all arguments of DataFrame.drop except for the argument 'labels' will be keyword-only\n"
     ]
    },
    {
     "name": "stdout",
     "output_type": "stream",
     "text": [
      "topic: (0, '0.002*\"region\" + 0.002*\"develop\" + 0.002*\"nation\" + 0.002*\"secur\"')\n",
      "topic: (1, '0.012*\"nation\" + 0.008*\"romania\" + 0.006*\"human\" + 0.006*\"region\"')\n",
      "topic: (2, '0.013*\"nation\" + 0.011*\"develop\" + 0.009*\"world\" + 0.009*\"peac\"')\n"
     ]
    },
    {
     "name": "stderr",
     "output_type": "stream",
     "text": [
      "C:\\Users\\mtwpi\\AppData\\Local\\Programs\\Python\\Python38\\lib\\site-packages\\pyLDAvis\\_prepare.py:246: FutureWarning: In a future version of pandas all arguments of DataFrame.drop except for the argument 'labels' will be keyword-only\n"
     ]
    },
    {
     "name": "stdout",
     "output_type": "stream",
     "text": [
      "topic: (0, '0.010*\"nation\" + 0.008*\"soviet\" + 0.008*\"world\" + 0.007*\"union\"')\n",
      "topic: (1, '0.010*\"nation\" + 0.007*\"secur\" + 0.006*\"russia\" + 0.006*\"world\"')\n",
      "topic: (2, '0.011*\"soviet\" + 0.009*\"union\" + 0.008*\"world\" + 0.008*\"nuclear\"')\n"
     ]
    },
    {
     "name": "stderr",
     "output_type": "stream",
     "text": [
      "C:\\Users\\mtwpi\\AppData\\Local\\Programs\\Python\\Python38\\lib\\site-packages\\pyLDAvis\\_prepare.py:246: FutureWarning: In a future version of pandas all arguments of DataFrame.drop except for the argument 'labels' will be keyword-only\n"
     ]
    },
    {
     "name": "stdout",
     "output_type": "stream",
     "text": [
      "topic: (0, '0.002*\"terror\" + 0.002*\"arabia\" + 0.001*\"terrorism\" + 0.001*\"palestinian\"')\n",
      "topic: (1, '0.008*\"arab\" + 0.007*\"nation\" + 0.006*\"world\" + 0.005*\"saudi\"')\n",
      "topic: (2, '0.010*\"nation\" + 0.010*\"peac\" + 0.008*\"world\" + 0.007*\"develop\"')\n"
     ]
    },
    {
     "name": "stderr",
     "output_type": "stream",
     "text": [
      "C:\\Users\\mtwpi\\AppData\\Local\\Programs\\Python\\Python38\\lib\\site-packages\\pyLDAvis\\_prepare.py:246: FutureWarning: In a future version of pandas all arguments of DataFrame.drop except for the argument 'labels' will be keyword-only\n"
     ]
    },
    {
     "name": "stdout",
     "output_type": "stream",
     "text": [
      "topic: (0, '0.007*\"nation\" + 0.006*\"world\" + 0.006*\"peac\" + 0.006*\"develop\"')\n",
      "topic: (1, '0.008*\"nation\" + 0.007*\"world\" + 0.006*\"peac\" + 0.006*\"africa\"')\n",
      "topic: (2, '0.008*\"nation\" + 0.007*\"world\" + 0.007*\"develop\" + 0.006*\"peac\"')\n"
     ]
    },
    {
     "name": "stderr",
     "output_type": "stream",
     "text": [
      "C:\\Users\\mtwpi\\AppData\\Local\\Programs\\Python\\Python38\\lib\\site-packages\\pyLDAvis\\_prepare.py:246: FutureWarning: In a future version of pandas all arguments of DataFrame.drop except for the argument 'labels' will be keyword-only\n"
     ]
    },
    {
     "name": "stdout",
     "output_type": "stream",
     "text": [
      "topic: (0, '0.016*\"nation\" + 0.009*\"develop\" + 0.008*\"world\" + 0.007*\"secur\"')\n",
      "topic: (1, '0.004*\"prevent\" + 0.003*\"need\" + 0.003*\"nation\" + 0.003*\"secur\"')\n",
      "topic: (2, '0.014*\"nation\" + 0.004*\"peac\" + 0.004*\"human\" + 0.004*\"need\"')\n"
     ]
    },
    {
     "name": "stderr",
     "output_type": "stream",
     "text": [
      "C:\\Users\\mtwpi\\AppData\\Local\\Programs\\Python\\Python38\\lib\\site-packages\\pyLDAvis\\_prepare.py:246: FutureWarning: In a future version of pandas all arguments of DataFrame.drop except for the argument 'labels' will be keyword-only\n"
     ]
    },
    {
     "name": "stdout",
     "output_type": "stream",
     "text": [
      "topic: (0, '0.016*\"chad\" + 0.008*\"nation\" + 0.007*\"govern\" + 0.007*\"peac\"')\n",
      "topic: (1, '0.006*\"chad\" + 0.004*\"nation\" + 0.003*\"conflict\" + 0.003*\"peac\"')\n",
      "topic: (2, '0.014*\"chad\" + 0.009*\"nation\" + 0.007*\"peac\" + 0.007*\"develop\"')\n"
     ]
    },
    {
     "name": "stderr",
     "output_type": "stream",
     "text": [
      "C:\\Users\\mtwpi\\AppData\\Local\\Programs\\Python\\Python38\\lib\\site-packages\\pyLDAvis\\_prepare.py:246: FutureWarning: In a future version of pandas all arguments of DataFrame.drop except for the argument 'labels' will be keyword-only\n"
     ]
    },
    {
     "name": "stdout",
     "output_type": "stream",
     "text": [
      "topic: (0, '0.011*\"nation\" + 0.010*\"africa\" + 0.009*\"develop\" + 0.009*\"world\"')\n",
      "topic: (1, '0.008*\"develop\" + 0.008*\"nation\" + 0.005*\"world\" + 0.004*\"peac\"')\n",
      "topic: (2, '0.010*\"develop\" + 0.010*\"nation\" + 0.007*\"africa\" + 0.006*\"peopl\"')\n"
     ]
    },
    {
     "name": "stderr",
     "output_type": "stream",
     "text": [
      "C:\\Users\\mtwpi\\AppData\\Local\\Programs\\Python\\Python38\\lib\\site-packages\\pyLDAvis\\_prepare.py:246: FutureWarning: In a future version of pandas all arguments of DataFrame.drop except for the argument 'labels' will be keyword-only\n"
     ]
    },
    {
     "name": "stdout",
     "output_type": "stream",
     "text": [
      "topic: (0, '0.008*\"uganda\" + 0.008*\"develop\" + 0.007*\"nation\" + 0.006*\"peac\"')\n",
      "topic: (1, '0.010*\"develop\" + 0.010*\"africa\" + 0.009*\"uganda\" + 0.008*\"nation\"')\n",
      "topic: (2, '0.010*\"uganda\" + 0.009*\"world\" + 0.007*\"africa\" + 0.006*\"nation\"')\n"
     ]
    },
    {
     "name": "stderr",
     "output_type": "stream",
     "text": [
      "C:\\Users\\mtwpi\\AppData\\Local\\Programs\\Python\\Python38\\lib\\site-packages\\pyLDAvis\\_prepare.py:246: FutureWarning: In a future version of pandas all arguments of DataFrame.drop except for the argument 'labels' will be keyword-only\n"
     ]
    },
    {
     "name": "stdout",
     "output_type": "stream",
     "text": [
      "topic: (0, '0.021*\"peopl\" + 0.015*\"nation\" + 0.009*\"world\" + 0.008*\"peac\"')\n",
      "topic: (1, '0.006*\"region\" + 0.005*\"agreement\" + 0.005*\"effort\" + 0.004*\"address\"')\n",
      "topic: (2, '0.015*\"peopl\" + 0.010*\"nation\" + 0.010*\"develop\" + 0.010*\"peac\"')\n"
     ]
    },
    {
     "name": "stderr",
     "output_type": "stream",
     "text": [
      "C:\\Users\\mtwpi\\AppData\\Local\\Programs\\Python\\Python38\\lib\\site-packages\\pyLDAvis\\_prepare.py:246: FutureWarning: In a future version of pandas all arguments of DataFrame.drop except for the argument 'labels' will be keyword-only\n"
     ]
    },
    {
     "name": "stdout",
     "output_type": "stream",
     "text": [
      "topic: (0, '0.013*\"yemen\" + 0.008*\"peac\" + 0.007*\"nation\" + 0.007*\"secur\"')\n",
      "topic: (1, '0.005*\"nation\" + 0.004*\"secur\" + 0.003*\"yemen\" + 0.003*\"region\"')\n",
      "topic: (2, '0.010*\"peopl\" + 0.010*\"nation\" + 0.009*\"peac\" + 0.009*\"world\"')\n"
     ]
    },
    {
     "name": "stderr",
     "output_type": "stream",
     "text": [
      "C:\\Users\\mtwpi\\AppData\\Local\\Programs\\Python\\Python38\\lib\\site-packages\\pyLDAvis\\_prepare.py:246: FutureWarning: In a future version of pandas all arguments of DataFrame.drop except for the argument 'labels' will be keyword-only\n"
     ]
    },
    {
     "name": "stdout",
     "output_type": "stream",
     "text": [
      "topic: (0, '0.010*\"nation\" + 0.008*\"peac\" + 0.008*\"develop\" + 0.007*\"arab\"')\n",
      "topic: (1, '0.011*\"arab\" + 0.009*\"develop\" + 0.009*\"nation\" + 0.008*\"peac\"')\n",
      "topic: (2, '0.009*\"peac\" + 0.008*\"arab\" + 0.007*\"region\" + 0.005*\"nation\"')\n"
     ]
    },
    {
     "name": "stderr",
     "output_type": "stream",
     "text": [
      "C:\\Users\\mtwpi\\AppData\\Local\\Programs\\Python\\Python38\\lib\\site-packages\\pyLDAvis\\_prepare.py:246: FutureWarning: In a future version of pandas all arguments of DataFrame.drop except for the argument 'labels' will be keyword-only\n"
     ]
    },
    {
     "name": "stdout",
     "output_type": "stream",
     "text": [
      "topic: (0, '0.006*\"secur\" + 0.005*\"develop\" + 0.004*\"region\" + 0.004*\"nation\"')\n",
      "topic: (1, '0.014*\"world\" + 0.012*\"nation\" + 0.010*\"peac\" + 0.008*\"peopl\"')\n",
      "topic: (2, '0.009*\"bahrain\" + 0.009*\"nation\" + 0.008*\"peac\" + 0.007*\"region\"')\n"
     ]
    },
    {
     "name": "stderr",
     "output_type": "stream",
     "text": [
      "C:\\Users\\mtwpi\\AppData\\Local\\Programs\\Python\\Python38\\lib\\site-packages\\pyLDAvis\\_prepare.py:246: FutureWarning: In a future version of pandas all arguments of DataFrame.drop except for the argument 'labels' will be keyword-only\n"
     ]
    },
    {
     "name": "stdout",
     "output_type": "stream",
     "text": [
      "topic: (0, '0.002*\"black\" + 0.001*\"south\" + 0.001*\"hard\" + 0.001*\"white\"')\n",
      "topic: (1, '0.008*\"develop\" + 0.007*\"nation\" + 0.006*\"barbado\" + 0.004*\"small\"')\n",
      "topic: (2, '0.014*\"develop\" + 0.011*\"nation\" + 0.008*\"barbado\" + 0.008*\"world\"')\n"
     ]
    },
    {
     "name": "stderr",
     "output_type": "stream",
     "text": [
      "C:\\Users\\mtwpi\\AppData\\Local\\Programs\\Python\\Python38\\lib\\site-packages\\pyLDAvis\\_prepare.py:246: FutureWarning: In a future version of pandas all arguments of DataFrame.drop except for the argument 'labels' will be keyword-only\n"
     ]
    },
    {
     "name": "stdout",
     "output_type": "stream",
     "text": [
      "topic: (0, '0.016*\"nation\" + 0.009*\"develop\" + 0.005*\"world\" + 0.005*\"nations\"')\n",
      "topic: (1, '0.017*\"develop\" + 0.011*\"nation\" + 0.008*\"countri\" + 0.006*\"world\"')\n",
      "topic: (2, '0.011*\"nation\" + 0.010*\"develop\" + 0.009*\"world\" + 0.008*\"peac\"')\n"
     ]
    },
    {
     "name": "stderr",
     "output_type": "stream",
     "text": [
      "C:\\Users\\mtwpi\\AppData\\Local\\Programs\\Python\\Python38\\lib\\site-packages\\pyLDAvis\\_prepare.py:246: FutureWarning: In a future version of pandas all arguments of DataFrame.drop except for the argument 'labels' will be keyword-only\n"
     ]
    },
    {
     "name": "stdout",
     "output_type": "stream",
     "text": [
      "topic: (0, '0.015*\"nation\" + 0.011*\"develop\" + 0.007*\"world\" + 0.006*\"effort\"')\n",
      "topic: (1, '0.011*\"nation\" + 0.007*\"human\" + 0.006*\"right\" + 0.006*\"develop\"')\n",
      "topic: (2, '0.003*\"denmark\" + 0.002*\"nation\" + 0.002*\"council\" + 0.002*\"united\\nn\"')\n"
     ]
    },
    {
     "name": "stderr",
     "output_type": "stream",
     "text": [
      "C:\\Users\\mtwpi\\AppData\\Local\\Programs\\Python\\Python38\\lib\\site-packages\\pyLDAvis\\_prepare.py:246: FutureWarning: In a future version of pandas all arguments of DataFrame.drop except for the argument 'labels' will be keyword-only\n"
     ]
    },
    {
     "name": "stdout",
     "output_type": "stream",
     "text": [
      "topic: (0, '0.014*\"malawi\" + 0.012*\"develop\" + 0.009*\"nation\" + 0.006*\"global\"')\n",
      "topic: (1, '0.011*\"malawi\" + 0.009*\"develop\" + 0.009*\"govern\" + 0.008*\"nation\"')\n",
      "topic: (2, '0.009*\"africa\" + 0.008*\"nation\" + 0.007*\"govern\" + 0.007*\"malawi\"')\n"
     ]
    },
    {
     "name": "stderr",
     "output_type": "stream",
     "text": [
      "C:\\Users\\mtwpi\\AppData\\Local\\Programs\\Python\\Python38\\lib\\site-packages\\pyLDAvis\\_prepare.py:246: FutureWarning: In a future version of pandas all arguments of DataFrame.drop except for the argument 'labels' will be keyword-only\n"
     ]
    },
    {
     "name": "stdout",
     "output_type": "stream",
     "text": [
      "topic: (0, '0.011*\"peac\" + 0.009*\"develop\" + 0.009*\"effort\" + 0.009*\"nation\"')\n",
      "topic: (1, '0.009*\"nation\" + 0.008*\"peac\" + 0.007*\"world\" + 0.006*\"effort\"')\n",
      "topic: (2, '0.010*\"peac\" + 0.009*\"countri\" + 0.008*\"develop\" + 0.008*\"nation\"')\n"
     ]
    },
    {
     "name": "stderr",
     "output_type": "stream",
     "text": [
      "C:\\Users\\mtwpi\\AppData\\Local\\Programs\\Python\\Python38\\lib\\site-packages\\pyLDAvis\\_prepare.py:246: FutureWarning: In a future version of pandas all arguments of DataFrame.drop except for the argument 'labels' will be keyword-only\n"
     ]
    },
    {
     "name": "stdout",
     "output_type": "stream",
     "text": [
      "topic: (0, '0.009*\"nation\" + 0.007*\"portug\" + 0.007*\"right\" + 0.006*\"peopl\"')\n",
      "topic: (1, '0.005*\"nation\" + 0.005*\"timor\" + 0.004*\"east\" + 0.003*\"secur\"')\n",
      "topic: (2, '0.009*\"nation\" + 0.007*\"portug\" + 0.006*\"peac\" + 0.005*\"human\"')\n"
     ]
    },
    {
     "name": "stderr",
     "output_type": "stream",
     "text": [
      "C:\\Users\\mtwpi\\AppData\\Local\\Programs\\Python\\Python38\\lib\\site-packages\\pyLDAvis\\_prepare.py:246: FutureWarning: In a future version of pandas all arguments of DataFrame.drop except for the argument 'labels' will be keyword-only\n"
     ]
    },
    {
     "name": "stdout",
     "output_type": "stream",
     "text": [
      "topic: (0, '0.012*\"nation\" + 0.011*\"world\" + 0.010*\"peac\" + 0.009*\"develop\"')\n",
      "topic: (1, '0.014*\"nation\" + 0.012*\"develop\" + 0.008*\"kingdom\" + 0.008*\"world\"')\n",
      "topic: (2, '0.010*\"nation\" + 0.010*\"swaziland\" + 0.009*\"kingdom\" + 0.007*\"support\"')\n"
     ]
    },
    {
     "name": "stderr",
     "output_type": "stream",
     "text": [
      "C:\\Users\\mtwpi\\AppData\\Local\\Programs\\Python\\Python38\\lib\\site-packages\\pyLDAvis\\_prepare.py:246: FutureWarning: In a future version of pandas all arguments of DataFrame.drop except for the argument 'labels' will be keyword-only\n"
     ]
    },
    {
     "name": "stdout",
     "output_type": "stream",
     "text": [
      "topic: (0, '0.004*\"bahama\" + 0.003*\"haiti\" + 0.003*\"of\\nth\" + 0.003*\"caribbean\"')\n",
      "topic: (1, '0.003*\"bahama\" + 0.003*\"develop\" + 0.002*\"world\" + 0.002*\"nation\"')\n",
      "topic: (2, '0.015*\"bahama\" + 0.013*\"nation\" + 0.009*\"develop\" + 0.008*\"world\"')\n"
     ]
    },
    {
     "name": "stderr",
     "output_type": "stream",
     "text": [
      "C:\\Users\\mtwpi\\AppData\\Local\\Programs\\Python\\Python38\\lib\\site-packages\\pyLDAvis\\_prepare.py:246: FutureWarning: In a future version of pandas all arguments of DataFrame.drop except for the argument 'labels' will be keyword-only\n"
     ]
    },
    {
     "name": "stdout",
     "output_type": "stream",
     "text": [
      "topic: (0, '0.014*\"democrat\" + 0.014*\"german\" + 0.013*\"republ\" + 0.011*\"peac\"')\n",
      "topic: (1, '0.000*\"german\" + 0.000*\"republ\" + 0.000*\"democrat\" + 0.000*\"peac\"')\n",
      "topic: (2, '0.018*\"german\" + 0.018*\"republ\" + 0.017*\"democrat\" + 0.008*\"peopl\"')\n"
     ]
    },
    {
     "name": "stderr",
     "output_type": "stream",
     "text": [
      "C:\\Users\\mtwpi\\AppData\\Local\\Programs\\Python\\Python38\\lib\\site-packages\\pyLDAvis\\_prepare.py:246: FutureWarning: In a future version of pandas all arguments of DataFrame.drop except for the argument 'labels' will be keyword-only\n"
     ]
    },
    {
     "name": "stdout",
     "output_type": "stream",
     "text": [
      "topic: (0, '0.014*\"world\" + 0.010*\"nation\" + 0.010*\"develop\" + 0.008*\"peac\"')\n",
      "topic: (1, '0.006*\"nation\" + 0.005*\"european\" + 0.003*\"union\" + 0.002*\"world\"')\n",
      "topic: (2, '0.009*\"nation\" + 0.007*\"world\" + 0.005*\"peac\" + 0.005*\"secur\"')\n"
     ]
    },
    {
     "name": "stderr",
     "output_type": "stream",
     "text": [
      "C:\\Users\\mtwpi\\AppData\\Local\\Programs\\Python\\Python38\\lib\\site-packages\\pyLDAvis\\_prepare.py:246: FutureWarning: In a future version of pandas all arguments of DataFrame.drop except for the argument 'labels' will be keyword-only\n"
     ]
    },
    {
     "name": "stdout",
     "output_type": "stream",
     "text": [
      "topic: (0, '0.010*\"develop\" + 0.010*\"nation\" + 0.009*\"africa\" + 0.009*\"world\"')\n",
      "topic: (1, '0.008*\"nation\" + 0.006*\"world\" + 0.006*\"develop\" + 0.004*\"peac\"')\n",
      "topic: (2, '0.014*\"africa\" + 0.013*\"south\" + 0.008*\"govern\" + 0.008*\"peopl\"')\n"
     ]
    },
    {
     "name": "stderr",
     "output_type": "stream",
     "text": [
      "C:\\Users\\mtwpi\\AppData\\Local\\Programs\\Python\\Python38\\lib\\site-packages\\pyLDAvis\\_prepare.py:246: FutureWarning: In a future version of pandas all arguments of DataFrame.drop except for the argument 'labels' will be keyword-only\n"
     ]
    },
    {
     "name": "stdout",
     "output_type": "stream",
     "text": [
      "topic: (0, '0.002*\"climat\" + 0.001*\"cent\" + 0.001*\"member\" + 0.001*\"justic\"')\n",
      "topic: (1, '0.001*\"of\\nth\" + 0.001*\"united\\nn\" + 0.001*\"way\" + 0.001*\"support\"')\n",
      "topic: (2, '0.013*\"develop\" + 0.012*\"nation\" + 0.009*\"world\" + 0.009*\"bangladesh\"')\n"
     ]
    },
    {
     "name": "stderr",
     "output_type": "stream",
     "text": [
      "C:\\Users\\mtwpi\\AppData\\Local\\Programs\\Python\\Python38\\lib\\site-packages\\pyLDAvis\\_prepare.py:246: FutureWarning: In a future version of pandas all arguments of DataFrame.drop except for the argument 'labels' will be keyword-only\n"
     ]
    },
    {
     "name": "stdout",
     "output_type": "stream",
     "text": [
      "topic: (0, '0.011*\"nation\" + 0.008*\"develop\" + 0.007*\"africa\" + 0.007*\"world\"')\n",
      "topic: (1, '0.003*\"develop\" + 0.002*\"nation\" + 0.001*\"aim\" + 0.001*\"communiti\"')\n",
      "topic: (2, '0.012*\"africa\" + 0.011*\"south\" + 0.008*\"nation\" + 0.007*\"peopl\"')\n"
     ]
    },
    {
     "name": "stderr",
     "output_type": "stream",
     "text": [
      "C:\\Users\\mtwpi\\AppData\\Local\\Programs\\Python\\Python38\\lib\\site-packages\\pyLDAvis\\_prepare.py:246: FutureWarning: In a future version of pandas all arguments of DataFrame.drop except for the argument 'labels' will be keyword-only\n"
     ]
    },
    {
     "name": "stdout",
     "output_type": "stream",
     "text": [
      "topic: (0, '0.010*\"guinea\" + 0.010*\"equatori\" + 0.008*\"nation\" + 0.008*\"world\"')\n",
      "topic: (1, '0.011*\"guinea\" + 0.010*\"nation\" + 0.010*\"equatori\" + 0.008*\"countri\"')\n",
      "topic: (2, '0.006*\"polit\" + 0.006*\"world\" + 0.006*\"nation\" + 0.005*\"guinea\"')\n"
     ]
    },
    {
     "name": "stderr",
     "output_type": "stream",
     "text": [
      "C:\\Users\\mtwpi\\AppData\\Local\\Programs\\Python\\Python38\\lib\\site-packages\\pyLDAvis\\_prepare.py:246: FutureWarning: In a future version of pandas all arguments of DataFrame.drop except for the argument 'labels' will be keyword-only\n"
     ]
    },
    {
     "name": "stdout",
     "output_type": "stream",
     "text": [
      "topic: (0, '0.006*\"peopl\" + 0.006*\"nation\" + 0.006*\"human\" + 0.006*\"world\"')\n",
      "topic: (1, '0.009*\"grenada\" + 0.006*\"develop\" + 0.004*\"econom\" + 0.004*\"world\"')\n",
      "topic: (2, '0.011*\"develop\" + 0.011*\"grenada\" + 0.009*\"nation\" + 0.008*\"world\"')\n"
     ]
    },
    {
     "name": "stderr",
     "output_type": "stream",
     "text": [
      "C:\\Users\\mtwpi\\AppData\\Local\\Programs\\Python\\Python38\\lib\\site-packages\\pyLDAvis\\_prepare.py:246: FutureWarning: In a future version of pandas all arguments of DataFrame.drop except for the argument 'labels' will be keyword-only\n"
     ]
    },
    {
     "name": "stdout",
     "output_type": "stream",
     "text": [
      "topic: (0, '0.002*\"develop\" + 0.002*\"right\" + 0.002*\"debt\" + 0.001*\"regard\"')\n",
      "topic: (1, '0.019*\"peopl\" + 0.009*\"south\" + 0.009*\"africa\" + 0.008*\"nation\"')\n",
      "topic: (2, '0.010*\"nation\" + 0.010*\"develop\" + 0.008*\"peac\" + 0.005*\"govern\"')\n"
     ]
    },
    {
     "name": "stderr",
     "output_type": "stream",
     "text": [
      "C:\\Users\\mtwpi\\AppData\\Local\\Programs\\Python\\Python38\\lib\\site-packages\\pyLDAvis\\_prepare.py:246: FutureWarning: In a future version of pandas all arguments of DataFrame.drop except for the argument 'labels' will be keyword-only\n"
     ]
    },
    {
     "name": "stdout",
     "output_type": "stream",
     "text": [
      "topic: (0, '0.008*\"world\" + 0.006*\"develop\" + 0.005*\"peac\" + 0.004*\"peopl\"')\n",
      "topic: (1, '0.007*\"peac\" + 0.007*\"peopl\" + 0.006*\"govern\" + 0.006*\"organ\"')\n",
      "topic: (2, '0.007*\"world\" + 0.006*\"peopl\" + 0.006*\"peac\" + 0.005*\"nation\"')\n"
     ]
    },
    {
     "name": "stderr",
     "output_type": "stream",
     "text": [
      "C:\\Users\\mtwpi\\AppData\\Local\\Programs\\Python\\Python38\\lib\\site-packages\\pyLDAvis\\_prepare.py:246: FutureWarning: In a future version of pandas all arguments of DataFrame.drop except for the argument 'labels' will be keyword-only\n"
     ]
    },
    {
     "name": "stdout",
     "output_type": "stream",
     "text": [
      "topic: (0, '0.009*\"nation\" + 0.009*\"peopl\" + 0.007*\"develop\" + 0.006*\"world\"')\n",
      "topic: (1, '0.011*\"develop\" + 0.010*\"nation\" + 0.007*\"countri\" + 0.007*\"world\"')\n",
      "topic: (2, '0.004*\"nation\" + 0.004*\"human\" + 0.003*\"countri\" + 0.003*\"peopl\"')\n"
     ]
    },
    {
     "name": "stderr",
     "output_type": "stream",
     "text": [
      "C:\\Users\\mtwpi\\AppData\\Local\\Programs\\Python\\Python38\\lib\\site-packages\\pyLDAvis\\_prepare.py:246: FutureWarning: In a future version of pandas all arguments of DataFrame.drop except for the argument 'labels' will be keyword-only\n"
     ]
    },
    {
     "name": "stdout",
     "output_type": "stream",
     "text": [
      "topic: (0, '0.009*\"guinea-bissau\" + 0.008*\"nation\" + 0.007*\"polit\" + 0.005*\"peopl\"')\n",
      "topic: (1, '0.010*\"peopl\" + 0.009*\"nation\" + 0.007*\"peac\" + 0.007*\"develop\"')\n",
      "topic: (2, '0.009*\"develop\" + 0.008*\"nation\" + 0.007*\"world\" + 0.007*\"peopl\"')\n"
     ]
    },
    {
     "name": "stderr",
     "output_type": "stream",
     "text": [
      "C:\\Users\\mtwpi\\AppData\\Local\\Programs\\Python\\Python38\\lib\\site-packages\\pyLDAvis\\_prepare.py:246: FutureWarning: In a future version of pandas all arguments of DataFrame.drop except for the argument 'labels' will be keyword-only\n"
     ]
    },
    {
     "name": "stdout",
     "output_type": "stream",
     "text": [
      "topic: (0, '0.005*\"develop\" + 0.004*\"nation\" + 0.004*\"year\" + 0.003*\"world\"')\n",
      "topic: (1, '0.012*\"nation\" + 0.011*\"develop\" + 0.009*\"world\" + 0.008*\"maldiv\"')\n",
      "topic: (2, '0.007*\"nation\" + 0.007*\"develop\" + 0.006*\"maldiv\" + 0.006*\"small\"')\n"
     ]
    },
    {
     "name": "stderr",
     "output_type": "stream",
     "text": [
      "C:\\Users\\mtwpi\\AppData\\Local\\Programs\\Python\\Python38\\lib\\site-packages\\pyLDAvis\\_prepare.py:246: FutureWarning: In a future version of pandas all arguments of DataFrame.drop except for the argument 'labels' will be keyword-only\n"
     ]
    },
    {
     "name": "stdout",
     "output_type": "stream",
     "text": [
      "topic: (0, '0.003*\"nation\" + 0.002*\"nations\" + 0.002*\"world\" + 0.001*\"forum\"')\n",
      "topic: (1, '0.016*\"new\" + 0.015*\"develop\" + 0.012*\"guinea\" + 0.012*\"nation\"')\n",
      "topic: (2, '0.016*\"new\" + 0.013*\"govern\" + 0.011*\"nation\" + 0.011*\"guinea\"')\n"
     ]
    },
    {
     "name": "stderr",
     "output_type": "stream",
     "text": [
      "C:\\Users\\mtwpi\\AppData\\Local\\Programs\\Python\\Python38\\lib\\site-packages\\pyLDAvis\\_prepare.py:246: FutureWarning: In a future version of pandas all arguments of DataFrame.drop except for the argument 'labels' will be keyword-only\n"
     ]
    },
    {
     "name": "stdout",
     "output_type": "stream",
     "text": [
      "topic: (0, '0.005*\"peopl\" + 0.005*\"tome\" + 0.005*\"sao\" + 0.005*\"world\"')\n",
      "topic: (1, '0.013*\"peopl\" + 0.008*\"nation\" + 0.007*\"world\" + 0.006*\"econom\"')\n",
      "topic: (2, '0.011*\"nation\" + 0.010*\"peopl\" + 0.008*\"develop\" + 0.007*\"tome\"')\n"
     ]
    },
    {
     "name": "stderr",
     "output_type": "stream",
     "text": [
      "C:\\Users\\mtwpi\\AppData\\Local\\Programs\\Python\\Python38\\lib\\site-packages\\pyLDAvis\\_prepare.py:246: FutureWarning: In a future version of pandas all arguments of DataFrame.drop except for the argument 'labels' will be keyword-only\n"
     ]
    },
    {
     "name": "stdout",
     "output_type": "stream",
     "text": [
      "topic: (0, '0.013*\"develop\" + 0.011*\"nation\" + 0.009*\"govern\" + 0.008*\"econom\"')\n",
      "topic: (1, '0.008*\"nation\" + 0.008*\"develop\" + 0.006*\"world\" + 0.006*\"peopl\"')\n",
      "topic: (2, '0.007*\"develop\" + 0.006*\"nation\" + 0.005*\"world\" + 0.004*\"govern\"')\n"
     ]
    },
    {
     "name": "stderr",
     "output_type": "stream",
     "text": [
      "C:\\Users\\mtwpi\\AppData\\Local\\Programs\\Python\\Python38\\lib\\site-packages\\pyLDAvis\\_prepare.py:246: FutureWarning: In a future version of pandas all arguments of DataFrame.drop except for the argument 'labels' will be keyword-only\n"
     ]
    },
    {
     "name": "stdout",
     "output_type": "stream",
     "text": [
      "topic: (0, '0.005*\"nation\" + 0.004*\"countri\" + 0.004*\"econom\" + 0.004*\"peac\"')\n",
      "topic: (1, '0.015*\"peopl\" + 0.010*\"angola\" + 0.009*\"nation\" + 0.008*\"republ\"')\n",
      "topic: (2, '0.010*\"angola\" + 0.008*\"peac\" + 0.008*\"nation\" + 0.007*\"govern\"')\n"
     ]
    },
    {
     "name": "stderr",
     "output_type": "stream",
     "text": [
      "C:\\Users\\mtwpi\\AppData\\Local\\Programs\\Python\\Python38\\lib\\site-packages\\pyLDAvis\\_prepare.py:246: FutureWarning: In a future version of pandas all arguments of DataFrame.drop except for the argument 'labels' will be keyword-only\n"
     ]
    },
    {
     "name": "stdout",
     "output_type": "stream",
     "text": [
      "topic: (0, '0.010*\"peopl\" + 0.007*\"countri\" + 0.005*\"world\" + 0.005*\"nation\"')\n",
      "topic: (1, '0.013*\"develop\" + 0.008*\"nation\" + 0.006*\"island\" + 0.006*\"need\"')\n",
      "topic: (2, '0.015*\"develop\" + 0.008*\"countri\" + 0.007*\"nation\" + 0.007*\"world\"')\n"
     ]
    },
    {
     "name": "stderr",
     "output_type": "stream",
     "text": [
      "C:\\Users\\mtwpi\\AppData\\Local\\Programs\\Python\\Python38\\lib\\site-packages\\pyLDAvis\\_prepare.py:246: FutureWarning: In a future version of pandas all arguments of DataFrame.drop except for the argument 'labels' will be keyword-only\n"
     ]
    },
    {
     "name": "stdout",
     "output_type": "stream",
     "text": [
      "topic: (0, '0.001*\"plan\" + 0.001*\"africa\" + 0.001*\"let\" + 0.001*\"united\\nst\"')\n",
      "topic: (1, '0.010*\"nation\" + 0.009*\"develop\" + 0.008*\"climat\" + 0.007*\"chang\"')\n",
      "topic: (2, '0.013*\"nation\" + 0.009*\"world\" + 0.008*\"develop\" + 0.006*\"peac\"')\n"
     ]
    },
    {
     "name": "stderr",
     "output_type": "stream",
     "text": [
      "C:\\Users\\mtwpi\\AppData\\Local\\Programs\\Python\\Python38\\lib\\site-packages\\pyLDAvis\\_prepare.py:246: FutureWarning: In a future version of pandas all arguments of DataFrame.drop except for the argument 'labels' will be keyword-only\n"
     ]
    },
    {
     "name": "stdout",
     "output_type": "stream",
     "text": [
      "topic: (0, '0.012*\"develop\" + 0.008*\"nation\" + 0.006*\"countri\" + 0.006*\"viet\"')\n",
      "topic: (1, '0.018*\"peopl\" + 0.012*\"countri\" + 0.011*\"peac\" + 0.011*\"viet\"')\n",
      "topic: (2, '0.019*\"nation\" + 0.013*\"nam\" + 0.012*\"develop\" + 0.012*\"viet\"')\n"
     ]
    },
    {
     "name": "stderr",
     "output_type": "stream",
     "text": [
      "C:\\Users\\mtwpi\\AppData\\Local\\Programs\\Python\\Python38\\lib\\site-packages\\pyLDAvis\\_prepare.py:246: FutureWarning: In a future version of pandas all arguments of DataFrame.drop except for the argument 'labels' will be keyword-only\n"
     ]
    },
    {
     "name": "stdout",
     "output_type": "stream",
     "text": [
      "topic: (0, '0.003*\"develop\" + 0.003*\"peac\" + 0.003*\"nation\" + 0.003*\"secur\"')\n",
      "topic: (1, '0.007*\"nation\" + 0.005*\"somalia\" + 0.005*\"world\" + 0.004*\"peopl\"')\n",
      "topic: (2, '0.009*\"nation\" + 0.008*\"peac\" + 0.007*\"econom\" + 0.007*\"peopl\"')\n"
     ]
    },
    {
     "name": "stderr",
     "output_type": "stream",
     "text": [
      "C:\\Users\\mtwpi\\AppData\\Local\\Programs\\Python\\Python38\\lib\\site-packages\\pyLDAvis\\_prepare.py:246: FutureWarning: In a future version of pandas all arguments of DataFrame.drop except for the argument 'labels' will be keyword-only\n"
     ]
    },
    {
     "name": "stdout",
     "output_type": "stream",
     "text": [
      "topic: (0, '0.009*\"develop\" + 0.008*\"nation\" + 0.008*\"world\" + 0.007*\"dominica\"')\n",
      "topic: (1, '0.012*\"develop\" + 0.012*\"nation\" + 0.009*\"world\" + 0.007*\"dominica\"')\n",
      "topic: (2, '0.011*\"develop\" + 0.010*\"dominica\" + 0.007*\"nation\" + 0.006*\"caribbean\"')\n"
     ]
    },
    {
     "name": "stderr",
     "output_type": "stream",
     "text": [
      "C:\\Users\\mtwpi\\AppData\\Local\\Programs\\Python\\Python38\\lib\\site-packages\\pyLDAvis\\_prepare.py:246: FutureWarning: In a future version of pandas all arguments of DataFrame.drop except for the argument 'labels' will be keyword-only\n"
     ]
    },
    {
     "name": "stdout",
     "output_type": "stream",
     "text": [
      "topic: (0, '0.008*\"right\" + 0.004*\"human\" + 0.004*\"nation\" + 0.004*\"univers\"')\n",
      "topic: (1, '0.011*\"human\" + 0.009*\"nation\" + 0.007*\"right\" + 0.006*\"respons\"')\n",
      "topic: (2, '0.012*\"human\" + 0.009*\"nation\" + 0.006*\"holi\" + 0.006*\"right\"')\n"
     ]
    },
    {
     "name": "stderr",
     "output_type": "stream",
     "text": [
      "C:\\Users\\mtwpi\\AppData\\Local\\Programs\\Python\\Python38\\lib\\site-packages\\pyLDAvis\\_prepare.py:246: FutureWarning: In a future version of pandas all arguments of DataFrame.drop except for the argument 'labels' will be keyword-only\n"
     ]
    },
    {
     "name": "stdout",
     "output_type": "stream",
     "text": [
      "topic: (0, '0.015*\"develop\" + 0.009*\"lucia\" + 0.009*\"world\" + 0.009*\"saint\"')\n",
      "topic: (1, '0.011*\"develop\" + 0.010*\"nation\" + 0.008*\"lucia\" + 0.007*\"saint\"')\n",
      "topic: (2, '0.001*\"african\" + 0.001*\"futur\" + 0.001*\"century\" + 0.001*\"market\"')\n"
     ]
    },
    {
     "name": "stderr",
     "output_type": "stream",
     "text": [
      "C:\\Users\\mtwpi\\AppData\\Local\\Programs\\Python\\Python38\\lib\\site-packages\\pyLDAvis\\_prepare.py:246: FutureWarning: In a future version of pandas all arguments of DataFrame.drop except for the argument 'labels' will be keyword-only\n"
     ]
    },
    {
     "name": "stdout",
     "output_type": "stream",
     "text": [
      "topic: (0, '0.008*\"world\" + 0.007*\"nation\" + 0.005*\"develop\" + 0.005*\"vincent\"')\n",
      "topic: (1, '0.007*\"vincent\" + 0.007*\"develop\" + 0.006*\"nation\" + 0.005*\"saint\"')\n",
      "topic: (2, '0.011*\"nation\" + 0.009*\"world\" + 0.007*\"develop\" + 0.005*\"vincent\"')\n"
     ]
    },
    {
     "name": "stderr",
     "output_type": "stream",
     "text": [
      "C:\\Users\\mtwpi\\AppData\\Local\\Programs\\Python\\Python38\\lib\\site-packages\\pyLDAvis\\_prepare.py:246: FutureWarning: In a future version of pandas all arguments of DataFrame.drop except for the argument 'labels' will be keyword-only\n"
     ]
    },
    {
     "name": "stdout",
     "output_type": "stream",
     "text": [
      "topic: (0, '0.001*\"world\" + 0.001*\"war\" + 0.001*\"will\" + 0.001*\"power\"')\n",
      "topic: (1, '0.004*\"africa\" + 0.004*\"south\" + 0.003*\"countri\" + 0.002*\"wish\"')\n",
      "topic: (2, '0.010*\"nation\" + 0.009*\"develop\" + 0.007*\"africa\" + 0.007*\"peac\"')\n"
     ]
    },
    {
     "name": "stderr",
     "output_type": "stream",
     "text": [
      "C:\\Users\\mtwpi\\AppData\\Local\\Programs\\Python\\Python38\\lib\\site-packages\\pyLDAvis\\_prepare.py:246: FutureWarning: In a future version of pandas all arguments of DataFrame.drop except for the argument 'labels' will be keyword-only\n"
     ]
    },
    {
     "name": "stdout",
     "output_type": "stream",
     "text": [
      "topic: (0, '0.008*\"nation\" + 0.007*\"develop\" + 0.006*\"world\" + 0.006*\"countri\"')\n",
      "topic: (1, '0.009*\"nation\" + 0.009*\"develop\" + 0.008*\"countri\" + 0.007*\"world\"')\n",
      "topic: (2, '0.010*\"nation\" + 0.010*\"develop\" + 0.008*\"small\" + 0.007*\"barbuda\"')\n"
     ]
    },
    {
     "name": "stderr",
     "output_type": "stream",
     "text": [
      "C:\\Users\\mtwpi\\AppData\\Local\\Programs\\Python\\Python38\\lib\\site-packages\\pyLDAvis\\_prepare.py:246: FutureWarning: In a future version of pandas all arguments of DataFrame.drop except for the argument 'labels' will be keyword-only\n"
     ]
    },
    {
     "name": "stdout",
     "output_type": "stream",
     "text": [
      "topic: (0, '0.006*\"develop\" + 0.004*\"beliz\" + 0.004*\"world\" + 0.003*\"econom\"')\n",
      "topic: (1, '0.011*\"develop\" + 0.008*\"nation\" + 0.006*\"beliz\" + 0.005*\"global\"')\n",
      "topic: (2, '0.011*\"nation\" + 0.008*\"world\" + 0.008*\"beliz\" + 0.008*\"develop\"')\n"
     ]
    },
    {
     "name": "stderr",
     "output_type": "stream",
     "text": [
      "C:\\Users\\mtwpi\\AppData\\Local\\Programs\\Python\\Python38\\lib\\site-packages\\pyLDAvis\\_prepare.py:246: FutureWarning: In a future version of pandas all arguments of DataFrame.drop except for the argument 'labels' will be keyword-only\n"
     ]
    },
    {
     "name": "stdout",
     "output_type": "stream",
     "text": [
      "topic: (0, '0.018*\"island\" + 0.015*\"solomon\" + 0.013*\"nation\" + 0.011*\"develop\"')\n",
      "topic: (1, '0.012*\"island\" + 0.005*\"develop\" + 0.005*\"solomon\" + 0.004*\"nation\"')\n",
      "topic: (2, '0.004*\"peac\" + 0.003*\"world\" + 0.002*\"peopl\" + 0.002*\"nation\"')\n"
     ]
    },
    {
     "name": "stderr",
     "output_type": "stream",
     "text": [
      "C:\\Users\\mtwpi\\AppData\\Local\\Programs\\Python\\Python38\\lib\\site-packages\\pyLDAvis\\_prepare.py:246: FutureWarning: In a future version of pandas all arguments of DataFrame.drop except for the argument 'labels' will be keyword-only\n"
     ]
    },
    {
     "name": "stdout",
     "output_type": "stream",
     "text": [
      "topic: (0, '0.013*\"nation\" + 0.008*\"develop\" + 0.008*\"peopl\" + 0.007*\"world\"')\n",
      "topic: (1, '0.012*\"nation\" + 0.009*\"vanuatu\" + 0.008*\"develop\" + 0.007*\"peopl\"')\n",
      "topic: (2, '0.007*\"nation\" + 0.007*\"world\" + 0.006*\"peopl\" + 0.005*\"develop\"')\n"
     ]
    },
    {
     "name": "stderr",
     "output_type": "stream",
     "text": [
      "C:\\Users\\mtwpi\\AppData\\Local\\Programs\\Python\\Python38\\lib\\site-packages\\pyLDAvis\\_prepare.py:246: FutureWarning: In a future version of pandas all arguments of DataFrame.drop except for the argument 'labels' will be keyword-only\n"
     ]
    },
    {
     "name": "stdout",
     "output_type": "stream",
     "text": [
      "topic: (0, '0.014*\"nation\" + 0.008*\"peopl\" + 0.008*\"work\" + 0.008*\"year\"')\n",
      "topic: (1, '0.017*\"nation\" + 0.009*\"peac\" + 0.009*\"world\" + 0.006*\"region\"')\n",
      "topic: (2, '0.009*\"region\" + 0.007*\"work\" + 0.006*\"nation\" + 0.004*\"new\"')\n"
     ]
    },
    {
     "name": "stderr",
     "output_type": "stream",
     "text": [
      "C:\\Users\\mtwpi\\AppData\\Local\\Programs\\Python\\Python38\\lib\\site-packages\\pyLDAvis\\_prepare.py:246: FutureWarning: In a future version of pandas all arguments of DataFrame.drop except for the argument 'labels' will be keyword-only\n"
     ]
    },
    {
     "name": "stdout",
     "output_type": "stream",
     "text": [
      "topic: (0, '0.007*\"nation\" + 0.007*\"develop\" + 0.006*\"peopl\" + 0.006*\"govern\"')\n",
      "topic: (1, '0.010*\"develop\" + 0.010*\"nation\" + 0.007*\"world\" + 0.006*\"peopl\"')\n",
      "topic: (2, '0.015*\"develop\" + 0.010*\"nation\" + 0.007*\"kitt\" + 0.007*\"saint\"')\n"
     ]
    },
    {
     "name": "stderr",
     "output_type": "stream",
     "text": [
      "C:\\Users\\mtwpi\\AppData\\Local\\Programs\\Python\\Python38\\lib\\site-packages\\pyLDAvis\\_prepare.py:246: FutureWarning: In a future version of pandas all arguments of DataFrame.drop except for the argument 'labels' will be keyword-only\n"
     ]
    },
    {
     "name": "stdout",
     "output_type": "stream",
     "text": [
      "topic: (0, '0.011*\"council\" + 0.008*\"nation\" + 0.007*\"law\" + 0.007*\"secur\"')\n",
      "topic: (1, '0.008*\"nation\" + 0.007*\"right\" + 0.005*\"liechtenstein\" + 0.005*\"human\"')\n",
      "topic: (2, '0.007*\"nation\" + 0.007*\"communiti\" + 0.006*\"liechtenstein\" + 0.004*\"nations\"')\n"
     ]
    },
    {
     "name": "stderr",
     "output_type": "stream",
     "text": [
      "C:\\Users\\mtwpi\\AppData\\Local\\Programs\\Python\\Python38\\lib\\site-packages\\pyLDAvis\\_prepare.py:246: FutureWarning: In a future version of pandas all arguments of DataFrame.drop except for the argument 'labels' will be keyword-only\n"
     ]
    },
    {
     "name": "stdout",
     "output_type": "stream",
     "text": [
      "topic: (0, '0.006*\"world\" + 0.004*\"nation\" + 0.004*\"africa\" + 0.003*\"summit\"')\n",
      "topic: (1, '0.011*\"namibia\" + 0.011*\"nation\" + 0.007*\"world\" + 0.007*\"develop\"')\n",
      "topic: (2, '0.007*\"nation\" + 0.005*\"peopl\" + 0.004*\"develop\" + 0.004*\"peac\"')\n"
     ]
    },
    {
     "name": "stderr",
     "output_type": "stream",
     "text": [
      "C:\\Users\\mtwpi\\AppData\\Local\\Programs\\Python\\Python38\\lib\\site-packages\\pyLDAvis\\_prepare.py:246: FutureWarning: In a future version of pandas all arguments of DataFrame.drop except for the argument 'labels' will be keyword-only\n"
     ]
    },
    {
     "name": "stdout",
     "output_type": "stream",
     "text": [
      "topic: (0, '0.015*\"estonia\" + 0.014*\"nation\" + 0.006*\"human\" + 0.006*\"world\"')\n",
      "topic: (1, '0.012*\"estonia\" + 0.011*\"nation\" + 0.006*\"develop\" + 0.005*\"secur\"')\n",
      "topic: (2, '0.009*\"nation\" + 0.007*\"estonia\" + 0.007*\"world\" + 0.007*\"secur\"')\n"
     ]
    },
    {
     "name": "stderr",
     "output_type": "stream",
     "text": [
      "C:\\Users\\mtwpi\\AppData\\Local\\Programs\\Python\\Python38\\lib\\site-packages\\pyLDAvis\\_prepare.py:246: FutureWarning: In a future version of pandas all arguments of DataFrame.drop except for the argument 'labels' will be keyword-only\n"
     ]
    },
    {
     "name": "stdout",
     "output_type": "stream",
     "text": [
      "topic: (0, '0.009*\"develop\" + 0.008*\"nation\" + 0.007*\"forum\" + 0.006*\"island\"')\n",
      "topic: (1, '0.011*\"develop\" + 0.009*\"island\" + 0.008*\"nation\" + 0.008*\"climat\"')\n",
      "topic: (2, '0.001*\"week\" + 0.001*\"develop\" + 0.001*\"mdgs\" + 0.001*\"high-level\"')\n"
     ]
    },
    {
     "name": "stderr",
     "output_type": "stream",
     "text": [
      "C:\\Users\\mtwpi\\AppData\\Local\\Programs\\Python\\Python38\\lib\\site-packages\\pyLDAvis\\_prepare.py:246: FutureWarning: In a future version of pandas all arguments of DataFrame.drop except for the argument 'labels' will be keyword-only\n"
     ]
    },
    {
     "name": "stdout",
     "output_type": "stream",
     "text": [
      "topic: (0, '0.010*\"korea\" + 0.009*\"nation\" + 0.007*\"republ\" + 0.006*\"world\"')\n",
      "topic: (1, '0.008*\"nation\" + 0.006*\"korea\" + 0.005*\"human\" + 0.005*\"develop\"')\n",
      "topic: (2, '0.018*\"korea\" + 0.014*\"nation\" + 0.011*\"republ\" + 0.010*\"develop\"')\n"
     ]
    },
    {
     "name": "stderr",
     "output_type": "stream",
     "text": [
      "C:\\Users\\mtwpi\\AppData\\Local\\Programs\\Python\\Python38\\lib\\site-packages\\pyLDAvis\\_prepare.py:246: FutureWarning: In a future version of pandas all arguments of DataFrame.drop except for the argument 'labels' will be keyword-only\n"
     ]
    },
    {
     "name": "stdout",
     "output_type": "stream",
     "text": [
      "topic: (0, '0.009*\"nation\" + 0.007*\"lithuania\" + 0.006*\"world\" + 0.006*\"secur\"')\n",
      "topic: (1, '0.011*\"lithuania\" + 0.008*\"nation\" + 0.007*\"world\" + 0.005*\"year\"')\n",
      "topic: (2, '0.016*\"nation\" + 0.006*\"lithuania\" + 0.006*\"human\" + 0.006*\"secur\"')\n"
     ]
    },
    {
     "name": "stderr",
     "output_type": "stream",
     "text": [
      "C:\\Users\\mtwpi\\AppData\\Local\\Programs\\Python\\Python38\\lib\\site-packages\\pyLDAvis\\_prepare.py:246: FutureWarning: In a future version of pandas all arguments of DataFrame.drop except for the argument 'labels' will be keyword-only\n"
     ]
    },
    {
     "name": "stdout",
     "output_type": "stream",
     "text": [
      "topic: (0, '0.010*\"nation\" + 0.007*\"latvia\" + 0.005*\"human\" + 0.005*\"world\"')\n",
      "topic: (1, '0.014*\"nation\" + 0.014*\"latvia\" + 0.008*\"council\" + 0.007*\"secur\"')\n",
      "topic: (2, '0.023*\"latvia\" + 0.013*\"nation\" + 0.005*\"human\" + 0.005*\"right\"')\n"
     ]
    },
    {
     "name": "stderr",
     "output_type": "stream",
     "text": [
      "C:\\Users\\mtwpi\\AppData\\Local\\Programs\\Python\\Python38\\lib\\site-packages\\pyLDAvis\\_prepare.py:246: FutureWarning: In a future version of pandas all arguments of DataFrame.drop except for the argument 'labels' will be keyword-only\n"
     ]
    },
    {
     "name": "stdout",
     "output_type": "stream",
     "text": [
      "topic: (0, '0.017*\"island\" + 0.016*\"nation\" + 0.011*\"marshal\" + 0.009*\"develop\"')\n",
      "topic: (1, '0.009*\"island\" + 0.008*\"marshal\" + 0.005*\"nation\" + 0.005*\"develop\"')\n",
      "topic: (2, '0.014*\"nation\" + 0.011*\"island\" + 0.009*\"marshal\" + 0.007*\"world\"')\n"
     ]
    },
    {
     "name": "stderr",
     "output_type": "stream",
     "text": [
      "C:\\Users\\mtwpi\\AppData\\Local\\Programs\\Python\\Python38\\lib\\site-packages\\pyLDAvis\\_prepare.py:246: FutureWarning: In a future version of pandas all arguments of DataFrame.drop except for the argument 'labels' will be keyword-only\n"
     ]
    },
    {
     "name": "stdout",
     "output_type": "stream",
     "text": [
      "topic: (0, '0.016*\"nation\" + 0.015*\"korea\" + 0.015*\"peopl\" + 0.014*\"peac\"')\n",
      "topic: (1, '0.010*\"peopl\" + 0.007*\"peac\" + 0.007*\"korea\" + 0.005*\"democrat\"')\n",
      "topic: (2, '0.003*\"kim\" + 0.003*\"il\" + 0.003*\"nation\" + 0.003*\"peopl\"')\n"
     ]
    },
    {
     "name": "stderr",
     "output_type": "stream",
     "text": [
      "C:\\Users\\mtwpi\\AppData\\Local\\Programs\\Python\\Python38\\lib\\site-packages\\pyLDAvis\\_prepare.py:246: FutureWarning: In a future version of pandas all arguments of DataFrame.drop except for the argument 'labels' will be keyword-only\n"
     ]
    },
    {
     "name": "stdout",
     "output_type": "stream",
     "text": [
      "topic: (0, '0.011*\"armenia\" + 0.007*\"nation\" + 0.006*\"econom\" + 0.005*\"peac\"')\n",
      "topic: (1, '0.000*\"armenia\" + 0.000*\"nation\" + 0.000*\"azerbaijan\" + 0.000*\"world\"')\n",
      "topic: (2, '0.007*\"armenia\" + 0.006*\"nation\" + 0.006*\"azerbaijan\" + 0.006*\"right\"')\n"
     ]
    },
    {
     "name": "stderr",
     "output_type": "stream",
     "text": [
      "C:\\Users\\mtwpi\\AppData\\Local\\Programs\\Python\\Python38\\lib\\site-packages\\pyLDAvis\\_prepare.py:246: FutureWarning: In a future version of pandas all arguments of DataFrame.drop except for the argument 'labels' will be keyword-only\n"
     ]
    },
    {
     "name": "stdout",
     "output_type": "stream",
     "text": [
      "topic: (0, '0.019*\"azerbaijan\" + 0.007*\"territori\" + 0.007*\"nation\" + 0.007*\"armenia\"')\n",
      "topic: (1, '0.013*\"azerbaijan\" + 0.008*\"nation\" + 0.005*\"world\" + 0.005*\"conflict\"')\n",
      "topic: (2, '0.012*\"azerbaijan\" + 0.007*\"secur\" + 0.007*\"region\" + 0.006*\"council\"')\n"
     ]
    },
    {
     "name": "stderr",
     "output_type": "stream",
     "text": [
      "C:\\Users\\mtwpi\\AppData\\Local\\Programs\\Python\\Python38\\lib\\site-packages\\pyLDAvis\\_prepare.py:246: FutureWarning: In a future version of pandas all arguments of DataFrame.drop except for the argument 'labels' will be keyword-only\n"
     ]
    },
    {
     "name": "stdout",
     "output_type": "stream",
     "text": [
      "topic: (0, '0.015*\"bosnia\" + 0.011*\"herzegovina\" + 0.005*\"peac\" + 0.005*\"nation\"')\n",
      "topic: (1, '0.016*\"bosnia\" + 0.013*\"herzegovina\" + 0.006*\"nation\" + 0.005*\"world\"')\n",
      "topic: (2, '0.021*\"herzegovina\" + 0.021*\"bosnia\" + 0.008*\"nation\" + 0.007*\"council\"')\n"
     ]
    },
    {
     "name": "stderr",
     "output_type": "stream",
     "text": [
      "C:\\Users\\mtwpi\\AppData\\Local\\Programs\\Python\\Python38\\lib\\site-packages\\pyLDAvis\\_prepare.py:246: FutureWarning: In a future version of pandas all arguments of DataFrame.drop except for the argument 'labels' will be keyword-only\n"
     ]
    },
    {
     "name": "stdout",
     "output_type": "stream",
     "text": [
      "topic: (0, '0.014*\"georgia\" + 0.007*\"world\" + 0.006*\"nation\" + 0.006*\"new\"')\n",
      "topic: (1, '0.009*\"georgia\" + 0.007*\"world\" + 0.005*\"new\" + 0.005*\"today\"')\n",
      "topic: (2, '0.009*\"nation\" + 0.007*\"georgia\" + 0.005*\"world\" + 0.004*\"region\"')\n"
     ]
    },
    {
     "name": "stderr",
     "output_type": "stream",
     "text": [
      "C:\\Users\\mtwpi\\AppData\\Local\\Programs\\Python\\Python38\\lib\\site-packages\\pyLDAvis\\_prepare.py:246: FutureWarning: In a future version of pandas all arguments of DataFrame.drop except for the argument 'labels' will be keyword-only\n"
     ]
    },
    {
     "name": "stdout",
     "output_type": "stream",
     "text": [
      "topic: (0, '0.009*\"nation\" + 0.007*\"world\" + 0.007*\"croatia\" + 0.005*\"develop\"')\n",
      "topic: (1, '0.007*\"croatia\" + 0.005*\"nation\" + 0.005*\"order\" + 0.004*\"world\"')\n",
      "topic: (2, '0.018*\"croatia\" + 0.012*\"nation\" + 0.007*\"secur\" + 0.006*\"world\"')\n"
     ]
    },
    {
     "name": "stderr",
     "output_type": "stream",
     "text": [
      "C:\\Users\\mtwpi\\AppData\\Local\\Programs\\Python\\Python38\\lib\\site-packages\\pyLDAvis\\_prepare.py:246: FutureWarning: In a future version of pandas all arguments of DataFrame.drop except for the argument 'labels' will be keyword-only\n"
     ]
    },
    {
     "name": "stdout",
     "output_type": "stream",
     "text": [
      "topic: (0, '0.010*\"nation\" + 0.009*\"world\" + 0.005*\"asia\" + 0.004*\"new\"')\n",
      "topic: (1, '0.011*\"nation\" + 0.006*\"world\" + 0.006*\"econom\" + 0.006*\"kazakhstan\"')\n",
      "topic: (2, '0.015*\"kazakhstan\" + 0.011*\"nation\" + 0.010*\"world\" + 0.008*\"nuclear\"')\n"
     ]
    },
    {
     "name": "stderr",
     "output_type": "stream",
     "text": [
      "C:\\Users\\mtwpi\\AppData\\Local\\Programs\\Python\\Python38\\lib\\site-packages\\pyLDAvis\\_prepare.py:246: FutureWarning: In a future version of pandas all arguments of DataFrame.drop except for the argument 'labels' will be keyword-only\n"
     ]
    },
    {
     "name": "stdout",
     "output_type": "stream",
     "text": [
      "topic: (0, '0.013*\"nation\" + 0.010*\"develop\" + 0.008*\"kyrgyzstan\" + 0.007*\"world\"')\n",
      "topic: (1, '0.010*\"kyrgyzstan\" + 0.008*\"nation\" + 0.007*\"develop\" + 0.006*\"region\"')\n",
      "topic: (2, '0.004*\"session\" + 0.002*\"nation\" + 0.002*\"the\\nintern\" + 0.002*\"terror\"')\n"
     ]
    },
    {
     "name": "stderr",
     "output_type": "stream",
     "text": [
      "C:\\Users\\mtwpi\\AppData\\Local\\Programs\\Python\\Python38\\lib\\site-packages\\pyLDAvis\\_prepare.py:246: FutureWarning: In a future version of pandas all arguments of DataFrame.drop except for the argument 'labels' will be keyword-only\n"
     ]
    },
    {
     "name": "stdout",
     "output_type": "stream",
     "text": [
      "topic: (0, '0.014*\"moldova\" + 0.012*\"nation\" + 0.012*\"republ\" + 0.007*\"develop\"')\n",
      "topic: (1, '0.010*\"nation\" + 0.009*\"republ\" + 0.008*\"moldova\" + 0.005*\"support\"')\n",
      "topic: (2, '0.011*\"moldova\" + 0.008*\"republ\" + 0.007*\"nation\" + 0.005*\"region\"')\n"
     ]
    },
    {
     "name": "stderr",
     "output_type": "stream",
     "text": [
      "C:\\Users\\mtwpi\\AppData\\Local\\Programs\\Python\\Python38\\lib\\site-packages\\pyLDAvis\\_prepare.py:246: FutureWarning: In a future version of pandas all arguments of DataFrame.drop except for the argument 'labels' will be keyword-only\n"
     ]
    },
    {
     "name": "stdout",
     "output_type": "stream",
     "text": [
      "topic: (0, '0.011*\"marino\" + 0.008*\"san\" + 0.007*\"nation\" + 0.005*\"right\"')\n",
      "topic: (1, '0.014*\"marino\" + 0.014*\"san\" + 0.011*\"nation\" + 0.007*\"general\"')\n",
      "topic: (2, '0.006*\"nation\" + 0.006*\"san\" + 0.005*\"marino\" + 0.005*\"freedom\"')\n"
     ]
    },
    {
     "name": "stderr",
     "output_type": "stream",
     "text": [
      "C:\\Users\\mtwpi\\AppData\\Local\\Programs\\Python\\Python38\\lib\\site-packages\\pyLDAvis\\_prepare.py:246: FutureWarning: In a future version of pandas all arguments of DataFrame.drop except for the argument 'labels' will be keyword-only\n"
     ]
    },
    {
     "name": "stdout",
     "output_type": "stream",
     "text": [
      "topic: (0, '0.014*\"human\" + 0.011*\"nation\" + 0.010*\"right\" + 0.007*\"secur\"')\n",
      "topic: (1, '0.012*\"nation\" + 0.010*\"world\" + 0.007*\"human\" + 0.007*\"slovenia\"')\n",
      "topic: (2, '0.011*\"nation\" + 0.008*\"world\" + 0.007*\"human\" + 0.006*\"secur\"')\n"
     ]
    },
    {
     "name": "stderr",
     "output_type": "stream",
     "text": [
      "C:\\Users\\mtwpi\\AppData\\Local\\Programs\\Python\\Python38\\lib\\site-packages\\pyLDAvis\\_prepare.py:246: FutureWarning: In a future version of pandas all arguments of DataFrame.drop except for the argument 'labels' will be keyword-only\n"
     ]
    },
    {
     "name": "stdout",
     "output_type": "stream",
     "text": [
      "topic: (0, '0.016*\"tajikistan\" + 0.008*\"nation\" + 0.006*\"develop\" + 0.005*\"world\"')\n",
      "topic: (1, '0.011*\"tajikistan\" + 0.009*\"nation\" + 0.006*\"world\" + 0.004*\"peopl\"')\n",
      "topic: (2, '0.013*\"develop\" + 0.011*\"nation\" + 0.011*\"tajikistan\" + 0.009*\"water\"')\n"
     ]
    },
    {
     "name": "stderr",
     "output_type": "stream",
     "text": [
      "C:\\Users\\mtwpi\\AppData\\Local\\Programs\\Python\\Python38\\lib\\site-packages\\pyLDAvis\\_prepare.py:246: FutureWarning: In a future version of pandas all arguments of DataFrame.drop except for the argument 'labels' will be keyword-only\n"
     ]
    },
    {
     "name": "stdout",
     "output_type": "stream",
     "text": [
      "topic: (0, '0.006*\"afghanistan\" + 0.004*\"nation\" + 0.004*\"support\" + 0.003*\"region\"')\n",
      "topic: (1, '0.011*\"nation\" + 0.011*\"uzbekistan\" + 0.007*\"region\" + 0.006*\"world\"')\n",
      "topic: (2, '0.010*\"uzbekistan\" + 0.009*\"nation\" + 0.009*\"region\" + 0.007*\"develop\"')\n"
     ]
    },
    {
     "name": "stderr",
     "output_type": "stream",
     "text": [
      "C:\\Users\\mtwpi\\AppData\\Local\\Programs\\Python\\Python38\\lib\\site-packages\\pyLDAvis\\_prepare.py:246: FutureWarning: In a future version of pandas all arguments of DataFrame.drop except for the argument 'labels' will be keyword-only\n"
     ]
    },
    {
     "name": "stdout",
     "output_type": "stream",
     "text": [
      "topic: (0, '0.008*\"nation\" + 0.007*\"czech\" + 0.006*\"republ\" + 0.006*\"human\"')\n",
      "topic: (1, '0.012*\"nation\" + 0.009*\"czech\" + 0.008*\"republ\" + 0.007*\"secur\"')\n",
      "topic: (2, '0.007*\"czech\" + 0.006*\"nation\" + 0.006*\"republ\" + 0.005*\"world\"')\n"
     ]
    },
    {
     "name": "stderr",
     "output_type": "stream",
     "text": [
      "C:\\Users\\mtwpi\\AppData\\Local\\Programs\\Python\\Python38\\lib\\site-packages\\pyLDAvis\\_prepare.py:246: FutureWarning: In a future version of pandas all arguments of DataFrame.drop except for the argument 'labels' will be keyword-only\n"
     ]
    },
    {
     "name": "stdout",
     "output_type": "stream",
     "text": [
      "topic: (0, '0.011*\"nation\" + 0.008*\"eritrea\" + 0.006*\"peopl\" + 0.005*\"world\"')\n",
      "topic: (1, '0.007*\"world\" + 0.004*\"nation\" + 0.004*\"peac\" + 0.004*\"region\"')\n",
      "topic: (2, '0.011*\"ethiopia\" + 0.010*\"peac\" + 0.009*\"eritrea\" + 0.007*\"nation\"')\n"
     ]
    },
    {
     "name": "stderr",
     "output_type": "stream",
     "text": [
      "C:\\Users\\mtwpi\\AppData\\Local\\Programs\\Python\\Python38\\lib\\site-packages\\pyLDAvis\\_prepare.py:246: FutureWarning: In a future version of pandas all arguments of DataFrame.drop except for the argument 'labels' will be keyword-only\n"
     ]
    },
    {
     "name": "stdout",
     "output_type": "stream",
     "text": [
      "topic: (0, '0.007*\"monaco\" + 0.006*\"nation\" + 0.005*\"develop\" + 0.005*\"human\"')\n",
      "topic: (1, '0.007*\"monaco\" + 0.005*\"develop\" + 0.004*\"princip\" + 0.004*\"world\"')\n",
      "topic: (2, '0.008*\"monaco\" + 0.007*\"nation\" + 0.006*\"princip\" + 0.005*\"develop\"')\n"
     ]
    },
    {
     "name": "stderr",
     "output_type": "stream",
     "text": [
      "C:\\Users\\mtwpi\\AppData\\Local\\Programs\\Python\\Python38\\lib\\site-packages\\pyLDAvis\\_prepare.py:246: FutureWarning: In a future version of pandas all arguments of DataFrame.drop except for the argument 'labels' will be keyword-only\n"
     ]
    },
    {
     "name": "stdout",
     "output_type": "stream",
     "text": [
      "topic: (0, '0.012*\"republ\" + 0.011*\"macedonia\" + 0.009*\"nation\" + 0.008*\"region\"')\n",
      "topic: (1, '0.010*\"macedonia\" + 0.010*\"republ\" + 0.008*\"nation\" + 0.005*\"peac\"')\n",
      "topic: (2, '0.010*\"nation\" + 0.007*\"macedonia\" + 0.007*\"republ\" + 0.007*\"world\"')\n"
     ]
    },
    {
     "name": "stderr",
     "output_type": "stream",
     "text": [
      "C:\\Users\\mtwpi\\AppData\\Local\\Programs\\Python\\Python38\\lib\\site-packages\\pyLDAvis\\_prepare.py:246: FutureWarning: In a future version of pandas all arguments of DataFrame.drop except for the argument 'labels' will be keyword-only\n"
     ]
    },
    {
     "name": "stdout",
     "output_type": "stream",
     "text": [
      "topic: (0, '0.004*\"support\" + 0.003*\"secur\" + 0.003*\"econom\" + 0.003*\"nation\"')\n",
      "topic: (1, '0.016*\"nation\" + 0.011*\"slovakia\" + 0.009*\"secur\" + 0.007*\"council\"')\n",
      "topic: (2, '0.014*\"nation\" + 0.005*\"peac\" + 0.004*\"slovakia\" + 0.004*\"secur\"')\n"
     ]
    },
    {
     "name": "stderr",
     "output_type": "stream",
     "text": [
      "C:\\Users\\mtwpi\\AppData\\Local\\Programs\\Python\\Python38\\lib\\site-packages\\pyLDAvis\\_prepare.py:246: FutureWarning: In a future version of pandas all arguments of DataFrame.drop except for the argument 'labels' will be keyword-only\n"
     ]
    },
    {
     "name": "stdout",
     "output_type": "stream",
     "text": [
      "topic: (0, '0.007*\"nation\" + 0.003*\"sea\" + 0.003*\"turkmenistan\" + 0.003*\"world\"')\n",
      "topic: (1, '0.017*\"nation\" + 0.015*\"turkmenistan\" + 0.009*\"develop\" + 0.008*\"region\"')\n",
      "topic: (2, '0.012*\"turkmenistan\" + 0.010*\"nation\" + 0.008*\"develop\" + 0.006*\"region\"')\n"
     ]
    },
    {
     "name": "stderr",
     "output_type": "stream",
     "text": [
      "C:\\Users\\mtwpi\\AppData\\Local\\Programs\\Python\\Python38\\lib\\site-packages\\pyLDAvis\\_prepare.py:246: FutureWarning: In a future version of pandas all arguments of DataFrame.drop except for the argument 'labels' will be keyword-only\n"
     ]
    },
    {
     "name": "stdout",
     "output_type": "stream",
     "text": [
      "topic: (0, '0.010*\"world\" + 0.009*\"global\" + 0.007*\"andorra\" + 0.006*\"nation\"')\n",
      "topic: (1, '0.008*\"andorra\" + 0.008*\"world\" + 0.007*\"nation\" + 0.006*\"human\"')\n",
      "topic: (2, '0.008*\"world\" + 0.007*\"nation\" + 0.006*\"andorra\" + 0.005*\"new\"')\n"
     ]
    },
    {
     "name": "stderr",
     "output_type": "stream",
     "text": [
      "C:\\Users\\mtwpi\\AppData\\Local\\Programs\\Python\\Python38\\lib\\site-packages\\pyLDAvis\\_prepare.py:246: FutureWarning: In a future version of pandas all arguments of DataFrame.drop except for the argument 'labels' will be keyword-only\n"
     ]
    },
    {
     "name": "stdout",
     "output_type": "stream",
     "text": [
      "topic: (0, '0.013*\"develop\" + 0.010*\"nation\" + 0.010*\"palau\" + 0.009*\"world\"')\n",
      "topic: (1, '0.020*\"palau\" + 0.012*\"nation\" + 0.008*\"world\" + 0.005*\"climat\"')\n",
      "topic: (2, '0.008*\"world\" + 0.008*\"nation\" + 0.006*\"palau\" + 0.004*\"global\"')\n"
     ]
    },
    {
     "name": "stderr",
     "output_type": "stream",
     "text": [
      "C:\\Users\\mtwpi\\AppData\\Local\\Programs\\Python\\Python38\\lib\\site-packages\\pyLDAvis\\_prepare.py:246: FutureWarning: In a future version of pandas all arguments of DataFrame.drop except for the argument 'labels' will be keyword-only\n"
     ]
    },
    {
     "name": "stdout",
     "output_type": "stream",
     "text": [
      "topic: (0, '0.013*\"palestinian\" + 0.010*\"israel\" + 0.009*\"peopl\" + 0.009*\"peac\"')\n",
      "topic: (1, '0.011*\"palestinian\" + 0.010*\"peac\" + 0.008*\"peopl\" + 0.006*\"israel\"')\n",
      "topic: (2, '0.011*\"palestinian\" + 0.009*\"peopl\" + 0.008*\"peac\" + 0.005*\"nation\"')\n"
     ]
    },
    {
     "name": "stderr",
     "output_type": "stream",
     "text": [
      "C:\\Users\\mtwpi\\AppData\\Local\\Programs\\Python\\Python38\\lib\\site-packages\\pyLDAvis\\_prepare.py:246: FutureWarning: In a future version of pandas all arguments of DataFrame.drop except for the argument 'labels' will be keyword-only\n"
     ]
    },
    {
     "name": "stdout",
     "output_type": "stream",
     "text": [
      "topic: (0, '0.010*\"nation\" + 0.007*\"nauru\" + 0.004*\"world\" + 0.004*\"develop\"')\n",
      "topic: (1, '0.017*\"develop\" + 0.012*\"nation\" + 0.011*\"nauru\" + 0.008*\"climat\"')\n",
      "topic: (2, '0.007*\"nauru\" + 0.005*\"island\" + 0.005*\"develop\" + 0.005*\"small\"')\n"
     ]
    },
    {
     "name": "stderr",
     "output_type": "stream",
     "text": [
      "C:\\Users\\mtwpi\\AppData\\Local\\Programs\\Python\\Python38\\lib\\site-packages\\pyLDAvis\\_prepare.py:246: FutureWarning: In a future version of pandas all arguments of DataFrame.drop except for the argument 'labels' will be keyword-only\n"
     ]
    },
    {
     "name": "stdout",
     "output_type": "stream",
     "text": [
      "topic: (0, '0.009*\"island\" + 0.008*\"develop\" + 0.006*\"nation\" + 0.006*\"tonga\"')\n",
      "topic: (1, '0.011*\"tonga\" + 0.010*\"develop\" + 0.008*\"continu\" + 0.006*\"island\"')\n",
      "topic: (2, '0.017*\"develop\" + 0.016*\"tonga\" + 0.010*\"nation\" + 0.009*\"support\"')\n"
     ]
    },
    {
     "name": "stderr",
     "output_type": "stream",
     "text": [
      "C:\\Users\\mtwpi\\AppData\\Local\\Programs\\Python\\Python38\\lib\\site-packages\\pyLDAvis\\_prepare.py:246: FutureWarning: In a future version of pandas all arguments of DataFrame.drop except for the argument 'labels' will be keyword-only\n"
     ]
    },
    {
     "name": "stdout",
     "output_type": "stream",
     "text": [
      "topic: (0, '0.015*\"tuvalu\" + 0.014*\"nation\" + 0.012*\"develop\" + 0.007*\"island\"')\n",
      "topic: (1, '0.000*\"tuvalu\" + 0.000*\"nation\" + 0.000*\"develop\" + 0.000*\"climat\"')\n",
      "topic: (2, '0.019*\"tuvalu\" + 0.017*\"nation\" + 0.017*\"develop\" + 0.013*\"climat\"')\n"
     ]
    },
    {
     "name": "stderr",
     "output_type": "stream",
     "text": [
      "C:\\Users\\mtwpi\\AppData\\Local\\Programs\\Python\\Python38\\lib\\site-packages\\pyLDAvis\\_prepare.py:246: FutureWarning: In a future version of pandas all arguments of DataFrame.drop except for the argument 'labels' will be keyword-only\n"
     ]
    },
    {
     "name": "stdout",
     "output_type": "stream",
     "text": [
      "topic: (0, '0.015*\"nation\" + 0.011*\"world\" + 0.010*\"switzerland\" + 0.007*\"human\"')\n",
      "topic: (1, '0.009*\"nation\" + 0.009*\"council\" + 0.007*\"member\" + 0.007*\"secur\"')\n",
      "topic: (2, '0.014*\"nation\" + 0.010*\"switzerland\" + 0.007*\"human\" + 0.006*\"develop\"')\n"
     ]
    },
    {
     "name": "stderr",
     "output_type": "stream",
     "text": [
      "C:\\Users\\mtwpi\\AppData\\Local\\Programs\\Python\\Python38\\lib\\site-packages\\pyLDAvis\\_prepare.py:246: FutureWarning: In a future version of pandas all arguments of DataFrame.drop except for the argument 'labels' will be keyword-only\n"
     ]
    },
    {
     "name": "stdout",
     "output_type": "stream",
     "text": [
      "topic: (0, '0.012*\"develop\" + 0.009*\"global\" + 0.008*\"kiribati\" + 0.008*\"continu\"')\n",
      "topic: (1, '0.014*\"climat\" + 0.011*\"develop\" + 0.009*\"global\" + 0.009*\"challeng\"')\n",
      "topic: (2, '0.015*\"climat\" + 0.010*\"develop\" + 0.009*\"chang\" + 0.008*\"island\"')\n"
     ]
    },
    {
     "name": "stderr",
     "output_type": "stream",
     "text": [
      "C:\\Users\\mtwpi\\AppData\\Local\\Programs\\Python\\Python38\\lib\\site-packages\\pyLDAvis\\_prepare.py:246: FutureWarning: In a future version of pandas all arguments of DataFrame.drop except for the argument 'labels' will be keyword-only\n"
     ]
    },
    {
     "name": "stdout",
     "output_type": "stream",
     "text": [
      "topic: (0, '0.004*\"world\" + 0.003*\"council\" + 0.003*\"nation\" + 0.003*\"countri\"')\n",
      "topic: (1, '0.011*\"nation\" + 0.009*\"timor-lest\" + 0.008*\"develop\" + 0.008*\"peopl\"')\n",
      "topic: (2, '0.010*\"nation\" + 0.008*\"peopl\" + 0.007*\"world\" + 0.006*\"timor-lest\"')\n"
     ]
    },
    {
     "name": "stderr",
     "output_type": "stream",
     "text": [
      "C:\\Users\\mtwpi\\AppData\\Local\\Programs\\Python\\Python38\\lib\\site-packages\\pyLDAvis\\_prepare.py:246: FutureWarning: In a future version of pandas all arguments of DataFrame.drop except for the argument 'labels' will be keyword-only\n"
     ]
    },
    {
     "name": "stdout",
     "output_type": "stream",
     "text": [
      "topic: (0, '0.020*\"nation\" + 0.016*\"montenegro\" + 0.010*\"develop\" + 0.009*\"support\"')\n",
      "topic: (1, '0.018*\"montenegro\" + 0.012*\"nation\" + 0.008*\"contribut\" + 0.007*\"develop\"')\n",
      "topic: (2, '0.017*\"nation\" + 0.015*\"montenegro\" + 0.012*\"develop\" + 0.008*\"support\"')\n"
     ]
    },
    {
     "name": "stderr",
     "output_type": "stream",
     "text": [
      "C:\\Users\\mtwpi\\AppData\\Local\\Programs\\Python\\Python38\\lib\\site-packages\\pyLDAvis\\_prepare.py:246: FutureWarning: In a future version of pandas all arguments of DataFrame.drop except for the argument 'labels' will be keyword-only\n"
     ]
    },
    {
     "name": "stdout",
     "output_type": "stream",
     "text": [
      "topic: (0, '0.007*\"world\" + 0.007*\"europ\" + 0.007*\"european\" + 0.007*\"peopl\"')\n",
      "topic: (1, '0.011*\"world\" + 0.007*\"worri\" + 0.007*\"european\" + 0.007*\"europ\"')\n",
      "topic: (2, '0.014*\"syria\" + 0.008*\"european\" + 0.007*\"year\" + 0.006*\"new\"')\n"
     ]
    },
    {
     "name": "stderr",
     "output_type": "stream",
     "text": [
      "C:\\Users\\mtwpi\\AppData\\Local\\Programs\\Python\\Python38\\lib\\site-packages\\pyLDAvis\\_prepare.py:246: FutureWarning: In a future version of pandas all arguments of DataFrame.drop except for the argument 'labels' will be keyword-only\n"
     ]
    },
    {
     "name": "stdout",
     "output_type": "stream",
     "text": [
      "topic: (0, '0.014*\"sudan\" + 0.008*\"govern\" + 0.008*\"south\" + 0.008*\"agreement\"')\n",
      "topic: (1, '0.022*\"sudan\" + 0.014*\"south\" + 0.012*\"govern\" + 0.010*\"peac\"')\n",
      "topic: (2, '0.014*\"sudan\" + 0.010*\"govern\" + 0.009*\"south\" + 0.007*\"peac\"')\n"
     ]
    },
    {
     "name": "stderr",
     "output_type": "stream",
     "text": [
      "C:\\Users\\mtwpi\\AppData\\Local\\Programs\\Python\\Python38\\lib\\site-packages\\pyLDAvis\\_prepare.py:246: FutureWarning: In a future version of pandas all arguments of DataFrame.drop except for the argument 'labels' will be keyword-only\n"
     ]
    }
   ],
   "source": [
    "'''\n",
    "for every country:\n",
    "    list of strings\n",
    "    spawn a viz, dictionary, corpus\n",
    "    display\n",
    "'''\n",
    "\n",
    "countriesList = speeches[\"country_name\"].unique()\n",
    "\n",
    "numTopics = 3\n",
    "for country in countriesList:\n",
    "    \n",
    "    # Grab the speeches from each country\n",
    "    list_of_strings = (\n",
    "        speeches >>\n",
    "        mask(X.country_name == country)\n",
    "    )[\"text\"].tolist()\n",
    "    \n",
    "    # Spawn vizualization, dictionary, corpus\n",
    "    viz, dictionary, corpus = generate_viz(list_of_strings, numTopics)\n",
    "    # pyLDAvis.display(viz)\n",
    "    # save image\n",
    "    pyLDAvis.save_html(viz, f\"Topic_Graphs_Country/{country}.html\")"
   ]
  },
  {
   "cell_type": "code",
   "execution_count": 28,
   "id": "liked-circular",
   "metadata": {},
   "outputs": [
    {
     "name": "stderr",
     "output_type": "stream",
     "text": [
      "C:\\Users\\mtwpi\\AppData\\Local\\Programs\\Python\\Python38\\lib\\site-packages\\ipykernel\\ipkernel.py:287: DeprecationWarning: `should_run_async` will not call `transform_cell` automatically in the future. Please pass the result to `transformed_cell` argument and any exception that happen during thetransform in `preprocessing_exc_tuple` in IPython 7.17 and above.\n"
     ]
    },
    {
     "name": "stdout",
     "output_type": "stream",
     "text": [
      "topic: (0, '0.008*\"develop\" + 0.007*\"nation\" + 0.007*\"peac\" + 0.007*\"peopl\"')\n",
      "topic: (1, '0.010*\"nation\" + 0.009*\"world\" + 0.007*\"develop\" + 0.007*\"peopl\"')\n",
      "topic: (2, '0.012*\"peopl\" + 0.008*\"countri\" + 0.007*\"world\" + 0.007*\"peac\"')\n"
     ]
    },
    {
     "name": "stderr",
     "output_type": "stream",
     "text": [
      "C:\\Users\\mtwpi\\AppData\\Local\\Programs\\Python\\Python38\\lib\\site-packages\\pyLDAvis\\_prepare.py:246: FutureWarning: In a future version of pandas all arguments of DataFrame.drop except for the argument 'labels' will be keyword-only\n"
     ]
    },
    {
     "name": "stdout",
     "output_type": "stream",
     "text": [
      "topic: (0, '0.010*\"nation\" + 0.008*\"world\" + 0.006*\"countri\" + 0.006*\"peac\"')\n",
      "topic: (1, '0.011*\"nation\" + 0.009*\"world\" + 0.007*\"develop\" + 0.007*\"peac\"')\n",
      "topic: (2, '0.011*\"nation\" + 0.011*\"develop\" + 0.010*\"world\" + 0.007*\"econom\"')\n"
     ]
    },
    {
     "name": "stderr",
     "output_type": "stream",
     "text": [
      "C:\\Users\\mtwpi\\AppData\\Local\\Programs\\Python\\Python38\\lib\\site-packages\\pyLDAvis\\_prepare.py:246: FutureWarning: In a future version of pandas all arguments of DataFrame.drop except for the argument 'labels' will be keyword-only\n"
     ]
    },
    {
     "name": "stdout",
     "output_type": "stream",
     "text": [
      "topic: (0, '0.005*\"nation\" + 0.004*\"world\" + 0.003*\"peopl\" + 0.002*\"global\"')\n",
      "topic: (1, '0.010*\"nation\" + 0.007*\"develop\" + 0.005*\"world\" + 0.004*\"peac\"')\n",
      "topic: (2, '0.007*\"nation\" + 0.005*\"develop\" + 0.005*\"world\" + 0.004*\"peac\"')\n"
     ]
    },
    {
     "name": "stderr",
     "output_type": "stream",
     "text": [
      "C:\\Users\\mtwpi\\AppData\\Local\\Programs\\Python\\Python38\\lib\\site-packages\\pyLDAvis\\_prepare.py:246: FutureWarning: In a future version of pandas all arguments of DataFrame.drop except for the argument 'labels' will be keyword-only\n"
     ]
    },
    {
     "name": "stdout",
     "output_type": "stream",
     "text": [
      "topic: (0, '0.006*\"world\" + 0.005*\"nation\" + 0.005*\"human\" + 0.004*\"peopl\"')\n",
      "topic: (1, '0.011*\"nation\" + 0.009*\"develop\" + 0.008*\"world\" + 0.008*\"peac\"')\n",
      "topic: (2, '0.015*\"nation\" + 0.012*\"develop\" + 0.009*\"global\" + 0.007*\"world\"')\n"
     ]
    },
    {
     "name": "stderr",
     "output_type": "stream",
     "text": [
      "C:\\Users\\mtwpi\\AppData\\Local\\Programs\\Python\\Python38\\lib\\site-packages\\pyLDAvis\\_prepare.py:246: FutureWarning: In a future version of pandas all arguments of DataFrame.drop except for the argument 'labels' will be keyword-only\n"
     ]
    },
    {
     "name": "stdout",
     "output_type": "stream",
     "text": [
      "topic: (0, '0.013*\"nation\" + 0.010*\"develop\" + 0.007*\"secur\" + 0.007*\"world\"')\n",
      "topic: (1, '0.010*\"develop\" + 0.009*\"nation\" + 0.006*\"island\" + 0.006*\"climat\"')\n",
      "topic: (2, '0.011*\"nation\" + 0.009*\"world\" + 0.007*\"develop\" + 0.006*\"peopl\"')\n"
     ]
    },
    {
     "name": "stderr",
     "output_type": "stream",
     "text": [
      "C:\\Users\\mtwpi\\AppData\\Local\\Programs\\Python\\Python38\\lib\\site-packages\\pyLDAvis\\_prepare.py:246: FutureWarning: In a future version of pandas all arguments of DataFrame.drop except for the argument 'labels' will be keyword-only\n"
     ]
    }
   ],
   "source": [
    "yearsList = [1980, 1990, 2000, 2010, 2015]\n",
    "numTopics = 3\n",
    "for myYear in yearsList:\n",
    "    \n",
    "    # Grab the speeches from each year-group\n",
    "    list_of_strings = (\n",
    "        speeches >>\n",
    "        mask(X.year == myYear)\n",
    "    )[\"text\"].tolist()\n",
    "    \n",
    "    # Spawn vizualization, dictionary, corpus\n",
    "    viz, dictionary, corpus = generate_viz(list_of_strings, numTopics)\n",
    "    # pyLDAvis.display(viz)\n",
    "    # save image\n",
    "    pyLDAvis.save_html(viz, f\"Topic_Graphs_Year/{myYear}.html\")"
   ]
  },
  {
   "cell_type": "code",
   "execution_count": 75,
   "id": "bored-mercy",
   "metadata": {},
   "outputs": [
    {
     "name": "stderr",
     "output_type": "stream",
     "text": [
      "C:\\Users\\mtwpi\\AppData\\Local\\Programs\\Python\\Python38\\lib\\site-packages\\ipykernel\\ipkernel.py:287: DeprecationWarning: `should_run_async` will not call `transform_cell` automatically in the future. Please pass the result to `transformed_cell` argument and any exception that happen during thetransform in `preprocessing_exc_tuple` in IPython 7.17 and above.\n"
     ]
    },
    {
     "data": {
      "text/plain": [
       "\"The whole dam world is 3just as obsessed with \\nwho's \\tbetter dressed\""
      ]
     },
     "execution_count": 75,
     "metadata": {},
     "output_type": "execute_result"
    }
   ],
   "source": [
    "# Scratch\n",
    "# d.strip(\"\\n\")"
   ]
  },
  {
   "cell_type": "code",
   "execution_count": 29,
   "id": "tested-ballet",
   "metadata": {},
   "outputs": [
    {
     "name": "stdout",
     "output_type": "stream",
     "text": [
      "topic: (0, '0.138*\"daniel\" + 0.138*\"idiot\" + 0.138*\"dumb\" + 0.138*\"curios\"')\n",
      "topic: (1, '0.174*\"sun\" + 0.174*\"shine\" + 0.174*\"beautifully\" + 0.044*\"world\"')\n",
      "topic: (2, '0.116*\"world\" + 0.114*\"3just\" + 0.114*\"who\" + 0.114*\"better\"')\n"
     ]
    },
    {
     "name": "stderr",
     "output_type": "stream",
     "text": [
      "C:\\Users\\mtwpi\\AppData\\Local\\Programs\\Python\\Python38\\lib\\site-packages\\ipykernel\\ipkernel.py:287: DeprecationWarning: `should_run_async` will not call `transform_cell` automatically in the future. Please pass the result to `transformed_cell` argument and any exception that happen during thetransform in `preprocessing_exc_tuple` in IPython 7.17 and above.\n",
      "C:\\Users\\mtwpi\\AppData\\Local\\Programs\\Python\\Python38\\lib\\site-packages\\pyLDAvis\\_prepare.py:246: FutureWarning: In a future version of pandas all arguments of DataFrame.drop except for the argument 'labels' will be keyword-only\n"
     ]
    },
    {
     "data": {
      "text/html": [
       "\n",
       "<link rel=\"stylesheet\" type=\"text/css\" href=\"https://cdn.jsdelivr.net/gh/bmabey/pyLDAvis@3.3.1/pyLDAvis/js/ldavis.v1.0.0.css\">\n",
       "\n",
       "\n",
       "<div id=\"ldavis_el3176424623778532168506188008\"></div>\n",
       "<script type=\"text/javascript\">\n",
       "\n",
       "var ldavis_el3176424623778532168506188008_data = {\"mdsDat\": {\"x\": [-0.03583825229315915, -0.049514750792835696, 0.08535300308599485], \"y\": [-0.0742070071935739, 0.06668191692284697, 0.00752509027072698], \"topics\": [1, 2, 3], \"cluster\": [1, 1, 1], \"Freq\": [30.56266364964639, 21.793016262128244, 47.64432008822537]}, \"tinfo\": {\"Term\": [\"sun\", \"shine\", \"beautifully\", \"daniel\", \"idiot\", \"dumb\", \"curios\", \"world\", \"3just\", \"better\", \"who\", \"dress\", \"dam\", \"obsess\", \"daniel\", \"idiot\", \"dumb\", \"curios\", \"world\", \"beautifully\", \"sun\", \"shine\", \"obsess\", \"dam\", \"dress\", \"3just\", \"who\", \"better\", \"sun\", \"shine\", \"beautifully\", \"curios\", \"dumb\", \"daniel\", \"idiot\", \"dam\", \"obsess\", \"dress\", \"better\", \"who\", \"3just\", \"world\", \"3just\", \"who\", \"better\", \"dress\", \"obsess\", \"dam\", \"world\", \"beautifully\", \"shine\", \"sun\", \"curios\", \"dumb\", \"idiot\", \"daniel\"], \"Freq\": [0.0, 0.0, 0.0, 0.0, 0.0, 0.0, 0.0, 1.0, 1.0, 1.0, 1.0, 1.0, 1.0, 1.0, 0.6329661998275301, 0.632965516698776, 0.6329494631730541, 0.6323655247140325, 0.6248332104453569, 0.15878308319849216, 0.15877075272448027, 0.15876778111439988, 0.15867116963034847, 0.15866693423207293, 0.1586671904053557, 0.1586644408121204, 0.1586640821695245, 0.15866362105761544, 0.567501882924083, 0.5674950633579923, 0.5674735817248064, 0.14272029319169519, 0.14247333965463493, 0.14246419412939543, 0.14246065039058758, 0.14224308187670037, 0.14223860044755504, 0.14223789413535282, 0.14223791849094597, 0.14223732177891305, 0.1422338754624779, 0.14293468330067222, 0.8150521419986932, 0.8150476692779035, 0.8150474030445232, 0.8150428770770574, 0.8150367537093095, 0.8150357952691403, 0.8258585016600826, 0.20427872955739498, 0.20426762762543474, 0.20425398316469223, 0.2047318720824054, 0.20433510447568232, 0.20433269506359023, 0.20432671812420156], \"Total\": [0.0, 0.0, 0.0, 0.0, 0.0, 0.0, 0.0, 1.0, 1.0, 1.0, 1.0, 1.0, 1.0, 1.0, 0.9797571120811271, 0.9797588621529538, 0.9797579073033713, 0.9798176899881331, 1.5936263954061116, 0.9305353944806937, 0.9305266188132555, 0.9305304720978269, 1.115946523787213, 1.1159458113779137, 1.1159479616177659, 1.1159504582732915, 1.115949073226341, 1.1159489425930846, 0.9305266188132555, 0.9305304720978269, 0.9305353944806937, 0.9798176899881331, 0.9797579073033713, 0.9797571120811271, 0.9797588621529538, 1.1159458113779137, 1.115946523787213, 1.1159479616177659, 1.1159489425930846, 1.115949073226341, 1.1159504582732915, 1.5936263954061116, 1.1159504582732915, 1.115949073226341, 1.1159489425930846, 1.1159479616177659, 1.115946523787213, 1.1159458113779137, 1.5936263954061116, 0.9305353944806937, 0.9305304720978269, 0.9305266188132555, 0.9798176899881331, 0.9797579073033713, 0.9797588621529538, 0.9797571120811271], \"Category\": [\"Default\", \"Default\", \"Default\", \"Default\", \"Default\", \"Default\", \"Default\", \"Default\", \"Default\", \"Default\", \"Default\", \"Default\", \"Default\", \"Default\", \"Topic1\", \"Topic1\", \"Topic1\", \"Topic1\", \"Topic1\", \"Topic1\", \"Topic1\", \"Topic1\", \"Topic1\", \"Topic1\", \"Topic1\", \"Topic1\", \"Topic1\", \"Topic1\", \"Topic2\", \"Topic2\", \"Topic2\", \"Topic2\", \"Topic2\", \"Topic2\", \"Topic2\", \"Topic2\", \"Topic2\", \"Topic2\", \"Topic2\", \"Topic2\", \"Topic2\", \"Topic2\", \"Topic3\", \"Topic3\", \"Topic3\", \"Topic3\", \"Topic3\", \"Topic3\", \"Topic3\", \"Topic3\", \"Topic3\", \"Topic3\", \"Topic3\", \"Topic3\", \"Topic3\", \"Topic3\"], \"logprob\": [14.0, 13.0, 12.0, 11.0, 10.0, 9.0, 8.0, 7.0, 6.0, 5.0, 4.0, 3.0, 2.0, 1.0, -1.98, -1.98, -1.98, -1.9809, -1.9929, -3.3629, -3.363, -3.363, -3.3636, -3.3636, -3.3636, -3.3636, -3.3636, -3.3636, -1.751, -1.751, -1.751, -3.1313, -3.1331, -3.1331, -3.1332, -3.1347, -3.1347, -3.1347, -3.1347, -3.1347, -3.1348, -3.1298, -2.1711, -2.1712, -2.1712, -2.1712, -2.1712, -2.1712, -2.158, -3.5549, -3.555, -3.555, -3.5527, -3.5546, -3.5546, -3.5547], \"loglift\": [14.0, 13.0, 12.0, 11.0, 10.0, 9.0, 8.0, 7.0, 6.0, 5.0, 4.0, 3.0, 2.0, 1.0, 0.7485, 0.7485, 0.7485, 0.7475, 0.2491, -0.5828, -0.5829, -0.5829, -0.7652, -0.7653, -0.7653, -0.7653, -0.7653, -0.7653, 1.0291, 1.0291, 1.029, -0.4029, -0.4046, -0.4046, -0.4047, -0.5363, -0.5364, -0.5364, -0.5364, -0.5364, -0.5364, -0.8878, 0.4272, 0.4272, 0.4272, 0.4272, 0.4272, 0.4272, 0.0841, -0.7749, -0.7749, -0.775, -0.8243, -0.8261, -0.8262, -0.8262]}, \"token.table\": {\"Topic\": [3, 2, 3, 1, 3, 1, 3, 1, 1, 3, 2, 2, 3, 1, 3], \"Freq\": [0.8960971274184505, 1.07465014864703, 0.8960983444962465, 1.0205980257532514, 0.896100858844795, 1.0206611288341398, 0.8960991322125105, 1.0206603004127233, 1.020659305701576, 0.8961002867828086, 1.0746558334038843, 1.0746602835234818, 0.8960982395987672, 0.6274996466440712, 0.6274996466440712], \"Term\": [\"3just\", \"beautifully\", \"better\", \"curios\", \"dam\", \"daniel\", \"dress\", \"dumb\", \"idiot\", \"obsess\", \"shine\", \"sun\", \"who\", \"world\", \"world\"]}, \"R\": 14, \"lambda.step\": 0.01, \"plot.opts\": {\"xlab\": \"PC1\", \"ylab\": \"PC2\"}, \"topic.order\": [1, 2, 3]};\n",
       "\n",
       "function LDAvis_load_lib(url, callback){\n",
       "  var s = document.createElement('script');\n",
       "  s.src = url;\n",
       "  s.async = true;\n",
       "  s.onreadystatechange = s.onload = callback;\n",
       "  s.onerror = function(){console.warn(\"failed to load library \" + url);};\n",
       "  document.getElementsByTagName(\"head\")[0].appendChild(s);\n",
       "}\n",
       "\n",
       "if(typeof(LDAvis) !== \"undefined\"){\n",
       "   // already loaded: just create the visualization\n",
       "   !function(LDAvis){\n",
       "       new LDAvis(\"#\" + \"ldavis_el3176424623778532168506188008\", ldavis_el3176424623778532168506188008_data);\n",
       "   }(LDAvis);\n",
       "}else if(typeof define === \"function\" && define.amd){\n",
       "   // require.js is available: use it to load d3/LDAvis\n",
       "   require.config({paths: {d3: \"https://d3js.org/d3.v5\"}});\n",
       "   require([\"d3\"], function(d3){\n",
       "      window.d3 = d3;\n",
       "      LDAvis_load_lib(\"https://cdn.jsdelivr.net/gh/bmabey/pyLDAvis@3.3.1/pyLDAvis/js/ldavis.v3.0.0.js\", function(){\n",
       "        new LDAvis(\"#\" + \"ldavis_el3176424623778532168506188008\", ldavis_el3176424623778532168506188008_data);\n",
       "      });\n",
       "    });\n",
       "}else{\n",
       "    // require.js not available: dynamically load d3 & LDAvis\n",
       "    LDAvis_load_lib(\"https://d3js.org/d3.v5.js\", function(){\n",
       "         LDAvis_load_lib(\"https://cdn.jsdelivr.net/gh/bmabey/pyLDAvis@3.3.1/pyLDAvis/js/ldavis.v3.0.0.js\", function(){\n",
       "                 new LDAvis(\"#\" + \"ldavis_el3176424623778532168506188008\", ldavis_el3176424623778532168506188008_data);\n",
       "            })\n",
       "         });\n",
       "}\n",
       "</script>"
      ],
      "text/plain": [
       "<IPython.core.display.HTML object>"
      ]
     },
     "execution_count": 29,
     "metadata": {},
     "output_type": "execute_result"
    }
   ],
   "source": [
    "myLemonizer = WordNetLemmatizer()\n",
    "a = \"The sun is shining beautifully.\"\n",
    "b = \"The world has curiosity\"\n",
    "c = \"Daniel is a dumb idiot\"\n",
    "d = \"The whole dam world is 3just as obsessed with \\nwho's \\tbetter dressed\"\n",
    "\n",
    "\n",
    "text = [a, b, c, d]\n",
    "# spareList = [\"hello\"]\n",
    "# tokens = prepare_text_for_lda(text, myLemonizer)\n",
    "# print(tokens)\n",
    "# spareList.append(tokens)\n",
    "# print(spareList)\n",
    "\n",
    "viz, dictionary, corpus = generate_viz(text, 3, myLemonizer)\n",
    "pyLDAvis.display(viz)"
   ]
  },
  {
   "cell_type": "code",
   "execution_count": null,
   "id": "functional-allergy",
   "metadata": {},
   "outputs": [],
   "source": [
    "# list_of_strings = speeches[\"text\"].tolist()\n",
    "# myLemonizer = WordNetLemmatizer()\n",
    "# viz, dictionary, corpus = generate_viz(list_of_strings, 4, myLemonizer)\n",
    "# pyLDAvis.display(viz)"
   ]
  },
  {
   "cell_type": "code",
   "execution_count": null,
   "id": "objective-visibility",
   "metadata": {},
   "outputs": [],
   "source": [
    "# # Can we save the viz?\n",
    "# print(type(viz))"
   ]
  },
  {
   "cell_type": "code",
   "execution_count": null,
   "id": "unsigned-juvenile",
   "metadata": {},
   "outputs": [],
   "source": [
    "# list_of_strings = speeches[\"text\"].tolist()\n",
    "# viz, dictionary, corpus = generate_viz(list_of_strings, 3)\n",
    "# pyLDAvis.display(viz)"
   ]
  },
  {
   "cell_type": "code",
   "execution_count": null,
   "id": "requested-james",
   "metadata": {},
   "outputs": [],
   "source": [
    "# viz, dictionary, corpus = generate_viz(list_of_strings, 4)\n",
    "# pyLDAvis.display(viz)"
   ]
  },
  {
   "cell_type": "code",
   "execution_count": 66,
   "id": "stuffed-hardware",
   "metadata": {},
   "outputs": [
    {
     "name": "stderr",
     "output_type": "stream",
     "text": [
      "C:\\Users\\mtwpi\\AppData\\Local\\Programs\\Python\\Python38\\lib\\site-packages\\ipykernel\\ipkernel.py:287: DeprecationWarning: `should_run_async` will not call `transform_cell` automatically in the future. Please pass the result to `transformed_cell` argument and any exception that happen during thetransform in `preprocessing_exc_tuple` in IPython 7.17 and above.\n",
      "<>:2: DeprecationWarning: invalid escape sequence \\d\n",
      "<>:2: DeprecationWarning: invalid escape sequence \\d\n",
      "<ipython-input-66-4587ec8c108d>:2: DeprecationWarning: invalid escape sequence \\d\n"
     ]
    },
    {
     "data": {
      "text/plain": [
       "'34 more \\n44moves'"
      ]
     },
     "execution_count": 66,
     "metadata": {},
     "output_type": "execute_result"
    }
   ],
   "source": [
    "# myText = \"34 more \\n44moves\"\n",
    "# myText.strip(\"\\d+\")\n",
    "# myText.strip(\"\\n\")"
   ]
  },
  {
   "cell_type": "markdown",
   "id": "dimensional-welcome",
   "metadata": {},
   "source": [
    "## Attempting More Topic Modeling\n",
    "\n",
    "Using Prof Gregory Lyon's code"
   ]
  },
  {
   "cell_type": "code",
   "execution_count": 32,
   "id": "enclosed-federation",
   "metadata": {},
   "outputs": [
    {
     "name": "stderr",
     "output_type": "stream",
     "text": [
      "C:\\Users\\mtwpi\\AppData\\Local\\Programs\\Python\\Python38\\lib\\site-packages\\ipykernel\\ipkernel.py:287: DeprecationWarning: `should_run_async` will not call `transform_cell` automatically in the future. Please pass the result to `transformed_cell` argument and any exception that happen during thetransform in `preprocessing_exc_tuple` in IPython 7.17 and above.\n"
     ]
    }
   ],
   "source": [
    "def top_words_f(n_words):\n",
    "    '''\n",
    "    Extract the top words from each topic\n",
    "    \n",
    "    @param int n_words the number of top words to grab from each topic\n",
    "    @return the resulting dataframe\n",
    "    '''\n",
    "    n_words=n_words\n",
    "    imp_words = lambda x: [voc[each] for each in np.argsort(x)[:-n_words-1:-1]]\n",
    "    words_in_topic = ([imp_words(x) for x in lda.components_])\n",
    "    main_topics = [' '.join(x) for x in words_in_topic]\n",
    "#     df = pd.DataFrame(main_topics).T\n",
    "#     df.columns = columns=[\"Topic_\" + str(each) for each in range(lda.n_components)]\n",
    "    df = pd.DataFrame({\"top_words\": main_topics},\n",
    "                             index=[\"Topic_\" + str(each) for each in range(lda.n_components)])\n",
    "    return df"
   ]
  },
  {
   "cell_type": "markdown",
   "id": "rotary-property",
   "metadata": {},
   "source": [
    "#### Steps:\n",
    "\n",
    "    1: Instantiate vectorizer with parameters: vec\n",
    "    2: Vectorize column of text with fit_transform: X\n",
    "    3: Instantiate LDA model with parameters: lda\n",
    "    4: Fit LDA model to vectorized text: doc_topics"
   ]
  },
  {
   "cell_type": "code",
   "execution_count": 33,
   "id": "endangered-smart",
   "metadata": {},
   "outputs": [
    {
     "name": "stderr",
     "output_type": "stream",
     "text": [
      "C:\\Users\\mtwpi\\AppData\\Local\\Programs\\Python\\Python38\\lib\\site-packages\\ipykernel\\ipkernel.py:287: DeprecationWarning: `should_run_async` will not call `transform_cell` automatically in the future. Please pass the result to `transformed_cell` argument and any exception that happen during thetransform in `preprocessing_exc_tuple` in IPython 7.17 and above.\n"
     ]
    }
   ],
   "source": [
    "# 1: create vectorizer\n",
    "# countervectorizer transforms words into vectors!\n",
    "vec = CountVectorizer(stop_words= both_sw)"
   ]
  },
  {
   "cell_type": "code",
   "execution_count": 34,
   "id": "sized-maintenance",
   "metadata": {},
   "outputs": [
    {
     "name": "stderr",
     "output_type": "stream",
     "text": [
      "C:\\Users\\mtwpi\\AppData\\Local\\Programs\\Python\\Python38\\lib\\site-packages\\ipykernel\\ipkernel.py:287: DeprecationWarning: `should_run_async` will not call `transform_cell` automatically in the future. Please pass the result to `transformed_cell` argument and any exception that happen during thetransform in `preprocessing_exc_tuple` in IPython 7.17 and above.\n"
     ]
    }
   ],
   "source": [
    "# get_stemmer()\n",
    "# speeches[\"text\"]\n",
    "# text_data[0]"
   ]
  },
  {
   "cell_type": "code",
   "execution_count": 35,
   "id": "explicit-exception",
   "metadata": {
    "scrolled": true
   },
   "outputs": [
    {
     "name": "stderr",
     "output_type": "stream",
     "text": [
      "C:\\Users\\mtwpi\\AppData\\Local\\Programs\\Python\\Python38\\lib\\site-packages\\ipykernel\\ipkernel.py:287: DeprecationWarning: `should_run_async` will not call `transform_cell` automatically in the future. Please pass the result to `transformed_cell` argument and any exception that happen during thetransform in `preprocessing_exc_tuple` in IPython 7.17 and above.\n"
     ]
    }
   ],
   "source": [
    "myLemonizer = WordNetLemmatizer()\n",
    "myStemmer = SnowballStemmer(language = \"english\")\n",
    "\n",
    "# for mySpeech in speeches[\"text\"]:\n",
    "#     prepare_text_for_lda(mySpeech, myLemonizer, myStemmer)\n",
    "text_data = getCleanedTokensList(speeches[\"text\"], myLemonizer, myStemmer)"
   ]
  },
  {
   "cell_type": "code",
   "execution_count": 36,
   "id": "frozen-suspect",
   "metadata": {},
   "outputs": [
    {
     "name": "stdout",
     "output_type": "stream",
     "text": [
      "['33:', 'convey', 'presid', 'congratul', 'albanian', 'deleg', 'elect', 'presid', 'twenty-fifth', 'session', 'general', 'assembly?\\n34.\\tin', 'take', 'work', 'agenda', 'twenty', 'fifth', 'session', 'general', 'assembly', 'held', 'eve', 'twenty-fifth', 'anniversari', 'come', 'forc', 'charter', 'nations', 'peace-lov', 'member', 'wish', 'posit', 'present', 'occas', 'pictur', 'posit', 'satisfactori', 'activ', 'nations', 'albanian', 'delegation', 'part', 'taken', 'great', 'pleasur', 'draw', 'balanc', 'sheet', 'activ', 'cover', 'quarter', 'century', 'certain', 'short', 'period', 'life', 'organization', 'unfortunately', 'situation', 'creat', 'day', 'victori', 'achiev', 'power', 'rome', 'berlintokyo', 'axi', 'conceiv', 'spirit', 'principl', 'predomin', 'war', 'antifascist', 'coalition', 'organ', 'awaken', 'progress', 'human', 'hope', 'serv', 'import', 'factor', 'creat', 'better', 'condit', 'order', 'favor', 'caus', 'freedom', 'peac', 'world', 'security', 'activ', 'number', 'event', 'occur', 'world', 'arena', 'period', 'disappoint', 'hope', 'peoples', 'nations', 'far', 'contributed', 'requir', 'fundament', 'provis', 'charter', 'consolid', 'peac', 'secur', 'liber', 'struggl', 'peoples', 'contrary', 'diktat', 'imperialist', 'powers', 'america', 'foremost', 'them', 'embark', 'path', 'diametr', 'oppos', 'principles', 'serv', 'instrument', 'favor', 'polici', 'pillage', 'oppress', 'aggress', 'peace-lov', 'peopl', 'countries.\\n35.\\tth', 'util', 'nation', 'serv', 'polici', 'result', 'organ', 'abl', 'stay', 'hand', 'commit', 'aggress', 'part', 'world', 'frequent', 'help', 'aggressors', 'activ', 'direct', 'go', 'far', 'moreover', 'flag', 'nation', 'perpetr', 'barbar', 'aggress', 'experienc', 'end', 'second', 'world', 'war', 'as', 'others', 'arm', 'aggress', 'korea', 'congo.\\n36.\\tth', 'progress', 'mankind', 'recal', 'admir', 'heroic', 'struggl', 'which', 'direct', 'great', 'stalin', 'soviet', 'union', 'waged', 'cooper', 'angloamerican', 'coalition', 'defend', 'peac', 'peopl', 'countri', 'hitlerit', 'germany', 'histor', 'decis', 'victori', 'red', 'armi', 'nazi', 'hord', 'great', 'role', 'play', 'soviet', 'union', 'second', 'world', 'war', 'arous', 'great', 'enthusiasm', 'peopl', 'awaken', 'hope', 'better', 'future', 'follow', 'great', 'interest', 'particular', 'joy', 'unflinch', 'struggl', 'wage', 'leninist', 'soviet', 'union', 'world', 'arena', 'authent', 'repres', 'organization', 'order', 'defend', 'vital', 'interest', 'sustain', 'legitim', 'struggl', 'liber', 'imperialist', 'colonialist', 'racist', 'yoke', 'follow', 'usurp', 'power', 'khrushchev', 'clique', 'situat', 'chang', 'completely', 'struggl', 'soviet', 'union', 'american', 'imperi', 'alli', 'replac', 'holi', 'allianc', 'soviet', 'union', 'peace-lov', 'freedom-lov', 'peopl', 'countries', 'that', 'far', 'nation', 'concerned', 'center', 'bargaining', 'maneuv', 'underhand', 'manipul', 'american', 'imperialist', 'soviet', 'social-imperialists', 'design', 'lull', 'vigil', 'peopl', 'disguis', 'best', 'polici', 'world', 'hegemony.\\n37.\\tal', 'known', 'consequ', 'nations', 'particular', 'damag', 'author', 'abil', 'play', 'incumb', 'charter', 'but', 'time', 'negat', 'activ', 'help', 'peopl', 'realiz', 'better', 'natur', 'imperialist', 'power', 'expect', 'nation', 'present', 'circumst', 'manipul', 'powers', 'has', 'particular', 'obvious', 'initi', 'propos', 'american', 'govern', 'circl', 'moscow', 'revisionist', 'connexion', 'disarma', 'agreement', 'seek', 'impos', 'field', 'respect', 'convent', 'armament', 'nuclear', 'armaments', 'design', 'sole', 'disarm', 'peace-lov', 'countri', 'ensur', 'nuclear', 'monopoli', 'largest', 'possibl', 'quantiti', 'armament', 'sort', 'order', 'subjug', 'peopl', 'enslav', 'world', 'wish', 'divid', 'them', 'peopl', 'awar', 'way', 'break', 'free', 'imperialist', 'colonialist', 'racist', 'yoke', 'arm', 'struggl', 'trust', 'strength', 'time', 'enjoy', 'solidar', 'support', 'freedom-lov', 'peopl', 'countries.\\n38.\\ton', 'undeni', 'proof', 'nation', 'embark', 'road', 'violat', 'principl', 'spirit', 'charter', 'withhold', '21', 'year', 'legitim', 'right', 'peopl', 'republ', 'china', 'organization', 'circumst', 'brought', 'abnorm', 'situat', 'preced', 'organ', 'constitut', 'sever', 'blow', 'prestige', 'time', 'affect', 'capac', 'contribut', 'settlement', 'import', 'problem', 'time', 'which', 'know', 'given', 'real', 'solut', 'particip', 'great', 'socialist', 'china', '700', 'million', 'people.\\n39.\\tundoubtedly', 'affair', 'organ', 'discourag', 'member', 'espous', 'fundament', 'principl', 'charter', 'contrary', 'trust', 'strength', 'possibl', 'encourag', 'develop', 'victori', 'liber', 'struggl', 'wage', 'peopl', 'continents', 'redoubl', 'effort', 'cooper', 'close', 'order', 'wage', 'effect', 'battl', 'polici', 'diktat', 'forc', 'practic', 'great', 'imperialist', 'power', 'nation', 'world.\\n40.\\tth', 'liber', 'movement', 'world', 'level', 'imperialist', 'colonialist', 'power', 'present', 'make', 'new', 'strides', 'peopl', 'react', 'polici', 'oppress', 'domin', 'practic', 'imperialist', 'power', 'aggress', 'plots', 'strengthen', 'struggl', 'independ', 'freedom', 'join', 'rank', 'arm', 'struggl', 'aggressors', 'shown', 'struggl', 'heroic', 'peopl', 'vietnam', 'laos', 'cambodia', 'countri', 'indo-china', 'straggl', 'peopl', 'korea', 'peopl', 'far', 'east', 'imperialists', 'alli', 'tools', 'struggl', 'valiant', 'palestinian', 'arab', 'peopl', 'imperialistzionist', 'aggression', 'struggl', 'peopl', 'oman', 'dhofar', 'peopl', 'arabian', 'gulf', 'free', 'coloni', 'yoke', 'resist', 'peopl', 'eastern', 'europ', 'domin', 'new', 'imperialist', 'kremlin', 'struggl', 'african', 'peopl', 'mozambique', 'angola', 'guinea', '(bissau)', 'namibia', 'southern', 'rhodesia', 'south', 'africa', 'coloni', 'powers', 'settler', 'racist', 'tools', 'struggl', 'peopl', 'puerto', 'rico', 'free', 'imperialist', 'yoke', 'states', 'struggl', 'wage', 'peopl', 'part', 'world', 'includ', 'american', 'peopl', 'citadel', 'imperialism', 'imperialist', 'power', 'alli', 'suffer', 'defeat', 'defeat', 'power', 'blow', 'struck', 'peopl', 'struggl', 'nation', 'independence', 'freedom', 'sacr', 'inalien', 'right', 'master', 'destiny.\\n41.\\tpanic-stricken', 'impetu', 'growth', 'revolutionari', 'struggl', 'liber', 'peopl', 'assail', 'multipl', 'intern', 'extern', 'difficulties', 'so-cal', 'superpowers', 'american', 'imperi', 'soviet', 'social-imperialism', 'head', 'reactionari', 'forces', 'strive', 'mean', 'power', 'face', 'desper', 'situat', 'acceler', 'implement', 'aggress', 'warlik', 'plan', 'peace-lov', 'peopl', 'countries', 'power', 'period', 'intensifi', 'collus', 'crimin', 'activities', 'deceit', 'demagogi', 'form', 'pressure', 'forc', 'arm', 'aggression.\\n42.\\talthough', 'split', 'numer', 'contradict', 'deriv', 'imperialist', 'nature', 'tri', 'undermin', 'evict', 'political', 'econom', 'strateg', 'positions', 'superpow', 'common', 'hatr', 'freedom', 'peopl', 'socialist', 'revolution', 'basi', 'rest', 'cooper', 'aggress', 'activities', 'plan', 'plots', 'extend', 'contin', 'conform', 'global', 'counterrevolutionari', 'strategy', 'design', 'divid', 'domin', 'world', 'glasborough', 'polici', 'pursu', 'uninterruptedly', 'americansoviet', 'collus', 'taken', 'fresh', 'step', 'forward', 'guis', 'peac', 'slogan', 'peac', 'settlement', 'conflict', 'brought', 'precis', 'aggress', 'perpetr', 'directed', 'european', 'asian', 'secur', 'fact', 'secur', 'imperialist', 'order', 'disarmament', 'intern', 'presuppos', 'limit', \"sovereignty'\", 'exact', 'subjug', 'peopl', 'nations', 'slogans', 'plot', 'coordin', 'posit', 'activ', 'problem', 'affect', 'interest', 'mankind', 'whole', 'slogans', 'hatch', 'plan', 'tri', 'impos', 'so-cal', 'peac', 'settlement', 'mean', 'tri', 'repress', 'liber', 'struggl', 'wage', 'peoples', 'conclud', 'treati', 'fraudul', 'enslav', 'tri', 'conclud', 'new', 'aggress', 'pact', 'ad', 'pacts', 'bloc', 'militari', 'base', 'existence', 'exert', 'pressur', 'sort', 'freedom-lov', 'peopl', 'countri', 'dare', 'resist', 'them', 'carri', 'arm', 'race', 'prepar', 'new', 'war', 'indulg', 'nuclear', 'blackmail', 'fresh', 'act', 'aggression.\\n43.\\tin', 'connexion', 'cite', 'simultan', 'secret', 'negoti', 'power', 'diplomat', 'channels', 'long', 'meet', 'repres', 'helsinki', 'later', 'vienna', 'meet', 'certain', 'limit', 'question', 'limit', 'strateg', \"arms'\", 'socal', 'roger', 'plan', 'peac', 'settlement', 'middl', 'east', 'problem', 'plan', 'result', 'american', 'soviet', 'plot', 'design', 'stifl', 'legitim', 'liber', 'struggl', 'palestinian', 'peopl', 'arab', 'peoples', 'origin', 'bloodi', 'event', 'taken', 'place', 'recent', 'jordan', 'similar', 'natur', 'negoti', 'soviet', 'union', 'indo-china', 'meet', 'organ', 'moscow', 'repres', 'reactionari', 'regim', 'asia', 'bring', 'peac', 'settlement', 'problem', 'settlement', 'believ', 'lead', 'capitul', 'peopl', 'vietnam', 'lao', 'cambodia', 'travel', 'high', 'emissari', 'power', 'asia', 'effort', 'creat', 'new', 'aggress', 'pact', 'accord', 'brezhnev', 'plan', 'collect', 'secur', 'asia', 'nixon', 'plan', 'pit', 'asiat', 'asiatics', 'plan', 'concert', 'power', 'design', 'foremost', 'creat', 'circl', 'fire', 'peopl', 'republ', 'china', 'categori', 'mention', 'enslav', 'sovietczechoslovak', 'treati', 'moscowbonn', 'treaty', 'thing', 'trampl', 'foot', 'sovereign', 'right', 'german', 'peopl', 'democrat', 'republ', 'germani', 'which', 'sovietamerican', 'project', 'so-cal', 'european', 'security', 'relat', 'sphere', 'influenc', 'power', 'europ', 'rearguard', 'activ', 'contin', 'order', 'implement', 'counterrevolutionari', 'plan', 'asia', 'africa', 'elsewhere.\\n44.\\tin', 'order', 'bring', 'great', 'anti-popular', 'conspiracy', 'american', 'soviet', 'imperialist', 'appli', 'seri', 'political', 'econom', 'militari', 'measures', 'intensifi', 'imperialist', 'american', 'aggress', 'lao', 'new', 'aggress', 'cambodia', 'plot', 'wile', 'design', 'divid', 'arab', 'peopl', 'countri', 'plung', 'bloodi', 'fratricid', 'conflict', 'repress', 'mean', 'possible', 'includ', 'arm', 'force', 'legitim', 'struggl', 'heroic', 'peopl', 'palestine', 'similar', 'natur', 'threat', 'measur', 'taken', 'soviet', 'revisionist', 'peopl', 'eastern', 'european', 'countries', 'includ', 'militari', 'maneuv', 'soviet', 'occup', 'forc', 'czechoslovakia', 'carri', 'august', 'intimid', 'peopl', 'eve', 'second', 'anniversari', 'soviet', 'invas', 'czechoslovakia.\\n45.\\tthus', 'power', 'stop', 'realiz', 'imperialist', 'plan', 'stifl', 'revolutionari', 'struggl', 'peace-lov', 'peopl', 'countries', 'establish', 'domin', 'world', 'arrog', 'role', 'polic', 'order', 'decid', 'good', 'time', 'fate', 'humanity.\\n46.\\thowever', 'castl', 'air', 'wheel', 'histori', 'turn', 'backwards', 'era', 'fate', 'peopl', 'small', 'countri', 'decid', 'great', 'imperialist', 'power', 'gone', 'ever', 'imperialist', 'intensifi', 'aggress', 'activities', 'peopl', 'strengthen', 'struggl', 'peopl', 'strengthen', 'struggl', 'close', 'vast', 'arm', 'struggl', 'common', 'enemy', 'peopl', 'renounc', 'legitim', 'struggl', 'win', 'vital', 'rights', 'despit', 'temporari', 'vicissitudes', 'struggl', 'increas', 'strengthen', 'appear', 'ever', 'storm', 'liber', 'break', 'asia', 'africa', 'elsewhere', 'storm', 'complet', 'annihilate', 'spite', 'underhand', 'maneuv', 'repressions', 'imperialist', 'colonialist', 'domin', 'form', 'exist.\\n47.\\ta', 'recent', 'exampl', 'best', 'illustr', 'await', 'american', 'imperialist', 'polici', 'intervent', 'war', 'arm', 'aggress', 'perpetr', 'cambodia', 'march', 'immedi', 'coup', \"d'etat\", 'plot', 'country', 'face', 'impass', 'blow', 'mete', 'struggl', 'vietnames', 'people', 'american', 'aggressor', 'sent', 'troop', 'cambodia', 'order', 'implement', 'nixon', \"doctrine'\", 'design', 'pit', 'indochines', 'indochinese', 'aggression', 'far', 'lead', 'expect', 'results', 'immedi', 'met', 'arm', 'resist', 'peopl', 'cambodia', 'militari', 'solidar', 'vietnames', 'laotian', 'brothers', 'power', 'support', 'great', 'chines', 'peopl', 'peopl', 'asia', 'arous', 'energet', 'opposit', 'peopl', 'world', 'includ', 'american', 'people', 'instead', 'stifl', 'liber', 'struggl', 'vietnames', 'people', 'aggress', 'cambodia', 'spread', 'indo-china', 'fire', 'liber', 'revolutionari', 'struggl', 'open', 'wider', 'deeper', 'abyss', 'american', 'imperi', 'final', 'engulf', 'hope', 'rescued.\\n48.\\tth', 'success', 'gain', 'cambodian', 'people', 'leadership', 'cambodia', 'presid', 'head', 'state', 'samdech', 'norodom', 'sihanouk', 'liber', 'larg', 'nation', 'territori', 'aggressor', 'lackeys', 'solidar', 'new', 'consolid', 'uniti', 'peopl', 'cambodia', 'vietnam', 'laos', 'peopl', 'republ', 'china', 'democrat', 'peopl', 'republ', 'korea', 'revolutionari', 'peopl', 'asia', 'constitut', 'harsh', 'blow', 'american', 'imperialism', 'collabor', 'lackeys.\\n49.\\tth', 'american', 'aggress', 'cambodia', 'time', 'proof', 'collusion', 'expens', 'people', 'american', 'imperi', 'revisionist', 'moscow', 'adopt', 'occas', 'attitud', 'similar', 'american', 'govern', 'aggress', 'czechoslovakia', 'particular', 'refus', 'recogn', 'govern', 'cambodia', 'fact', 'maintain', 'normal', 'diplomat', 'relat', 'lon', 'nol', 'clique', 'instrument', 'american', 'imperi', 'support', 'puppet', 'saigon', 'seoul', 'riffraff', 'chiang', 'kaishek', 'reaction', 'whole', 'reveal', 'world', 'public', 'opinion', 'true\\nway', 'camp', 'imperi', 'reaction.\\n50.\\tth', 'event', 'current', 'year', 'cambodia', 'indo-china', 'great', 'import', 'indochines', 'peoples', 'fresh', 'proof', 'obstinaci', 'american', 'imperi', 'carri', 'act', 'aggress', 'extend', 'war', 'better', 'posit', 'decid', 'sincer', 'yanke', 'invad', 'him', 'soviet', 'social-imperialist', 'great', 'socialist', 'china', 'repres', 'them', 'realiz', 'arm', 'struggl', 'way', 'free', 'american', 'aggressors.\\n51.\\tdespit', 'intensif', 'effort', 'american', 'imperialists', 'back', 'soviet', 'revisionists', 'valiant', 'peopl', 'vietnam', 'thwart', 'plan', 'danger', 'subterfug', 'design', 'bring', 'capitulation', 'south', 'vietnam', 'peopl', 'popular', 'liber', 'armi', 'taken', 'arm', 'struck', 'crush', 'blow', 'american', 'aggressors', 'give', 'moment', 'respit', 'militari', 'camp', 'bases', 'da', 'nang', 'ben', 'tre', 'hue', 'outskirt', 'saigon', 'part', 'country', 'vietnames', 'peopl', 'arm', 'forc', 'have', 'brilliant', 'victories', 'tie', 'american', 'imperialist', 'saigon', 'tool', 'battlefield', 'victori', 'shown', 'undeni', 'effort', 'yanke', 'aggressor', 'escap', 'inevit', 'defeat', 'extend', 'war', 'brought', 'irrepar', 'reversals', 'long', 'revolutionari', 'struggl', 'temper', 'vietnames', 'peopl', 'invincible', 'determin', 'heroic', 'struggl', 'undoubt', 'deal', 'crush', 'blow', 'american', 'imperi', 'complet', 'defeated.\\n52.\\tth', 'arm', 'struggl', 'nation', 'wellb', 'peoples', 'vietnam', 'lao', 'cambodia', 'constant', 'develop', 'reinforced', 'new', 'stage', 'crimin', 'plot', 'american', 'soviet', 'imperialist', 'hatch', 'order', 'bring', 'so-cal', 'peac', 'settlement', 'indo-china', 'doom', 'complet', 'failure', 'american', 'imperi', 'surround', 'defeat', 'fronts', 'bound', 'beaten.\\n53.\\ta', 'typic', 'case', 'show', 'feroc', 'great', 'americansoviet', 'conspiraci', 'method', 'combin', 'divers', 'mean', 'action', 'imperialist', 'power', 'order', 'carri', 'polici', 'aggress', 'hegemoni', 'tragic', 'situat', 'prevail', 'present', 'time', 'near', 'east', 'concern', 'implement', 'cost', 'common', 'plan', 'sad', 'reput', 'baptiz', 'roger', 'plan', 'design', 'liquid', 'palestinian', 'question', 'divid', 'arab', 'peoples', 'legal', 'reward', 'imperialistisra', 'aggress', 'assur', 'imperialist', 'interest', 'area', 'revisionist', 'soviet', 'union', 'plot', 'effect', 'crimin', 'collus', 'design', 'stifl', 'palestinian', 'liber', 'movement', 'reactionari', 'regim', 'jordan', 'tri', 'implement', 'near', 'east', 'nixon', 'doctrin', 'aim', 'pit', 'asian', 'asians', 'jordanian', 'reaction', 'serv', 'american', 'imperi', 'zionism', 'fire', 'sword', 'cannons', 'tank', 'aviat', 'heroic', 'palestinian', 'fighters', 'barbar', 'mass', 'massacr', 'perpetr', 'palestinian', 'popul', 'amman', 'elsewhere', 'time', 'american', 'imperialism', 'statement', 'nixon', 'laird', 'leaders', 'threaten', 'interven', 'intern', 'affair', 'arab', 'countri', 'threaten', 'intervent', 'sixth', 'fleet', 'trying', 'always', 'play', 'role', 'policeman', 'oppress', 'peopl', 'suppress', 'liber', 'struggles', 'defend', 'cliqu', 'pockets', 'defend', 'rapaci', 'interest', 'enslav', 'peoples.\\n54.\\tamerican', 'imperi', 'world', 'reaction', 'consid', 'unfair', 'fratern', 'assist', 'given', 'syria', 'iraq', 'arab', 'brother', 'struggl', 'cause', 'common', 'cause', 'accord', 'logic', 'right', 'freedom', 'interven', 'countries', 'everywhere', 'util', 'tanks', 'cannons', 'war', 'fleet', 'oppress', 'exploit', 'peopl', 'countries', 'syria', 'iraq', 'entitl', 'come', 'aid', 'brothers.\\n55.\\ta', 'wave', 'indign', 'resent', 'unleash', 'progress', 'world', 'rightly', 'conscienc', 'arab', 'peopl', 'revolt', 'treacheri', 'rule', 'cliqu', 'jordan', 'world', 'wonders:', 'tank', 'bullet', 'palestinians', 'struggl', 'liberty', 'independ', 'sacr', 'land?\\n56.\\tth', 'peopl', 'continents', 'profound', 'indignant', 'rais', 'voic', 'protest', 'american', 'imperialist', 'soviet', 'socio', 'imperialists', 'crying:', 'hand', 'palestinian', 'people', 'jordan', 'syria', 'arab', \"countries.'\\n57.\\tit\", 'clear', 'palestinian', 'obey', 'roger', \"plan'\", 'know', 'american', 'plan', 'base', 'secur', 'council', 'resolut', '22', 'novemb', '1967', '[242', '(1967)', 'which', 'know', 'result', 'bargain', 'corridor', 'american', 'soviet', 'designed', 'inter', 'alia', 'impos', 'elimin', 'palestinian', 'question', 'recognit', 'israel', 'right', 'annex', 'territori', 'invad', 'follow', 'aggress', 'june', '1967', 'plan', 'design', 'reward', 'zionist', 'aggress', 'guarante', 'exist', 'israel', 'taken', 'arab', 'territori', 'conquer', 'aggression', 'recogn', 'rights', 'worse', 'superpow', 'want', 'use', 'new', 'ceasefir', 'continu', 'maneuv', 'machin', 'engag', 'past', 'year', 'order', 'appli', 'tactic', 'imperialist', 'power', 'isra', 'aggress', '1948', 'aim', 'put', 'fulfil', 'sacr', 'caus', 'arab', 'make', 'fait', 'accompli', 'israel', 'new', 'occup', 'territories.\\n58.\\tno', 'arab', 'peopl', 'accept', 'statessoviet', 'diktat', 'design', 'bring', 'recapitulation', 'palestinian', 'peopl', 'arab', 'peopl', 'reject', 'plot', 'effort', 'imperialist', 'soviet', 'revisionist', 'vain', 'arab', 'peopl', 'long', 'experience', 'know', 'isra', 'aggressor', 'masters', 'allow', 'foreign', 'power', 'decid', 'fate', 'machin', 'share', 'roles', 'present', 'author', 'crimin', 'plan', 'give', 'plan', 'support.\\n59.\\tth', 'arab', 'peopl', 'know', 'propos', 'america', 'incit', 'assist', 'israel', 'unleash', 'aggress', 'year', 'ago', 'continu', 'provid', 'israel', 'armament', 'encourag', 'pursu', 'aggress', 'provocation', 'design', 'simpli', 'serv', 'imperialist', 'interest', 'power', 'area', 'near', 'east', 'great', 'strateg', 'import', 'rich', 'petroleum', 'deposits', 'interest', 'israel', 'instrument', 'obvious', 'deni', 'assist', 'support', 'israel', 'posit', 'initi', 'aggress', 'june', '1967', 'continu', 'occupi', 'arab', 'territories.\\n60.\\twith', 'regard', 'soviet', 'revisionists', 'mask', 'on', 'arab', 'peopl', 'know', 'faces', 'especi', 'americanisra', 'aggression', 'convinc', 'interest', 'penetr', 'near', 'east', 'mediterranean', 'basin', 'creat', 'condit', 'favor', 'expans', 'area.\\n61.\\tth', 'leader', 'albanian', 'people', 'comrad', 'enver', 'hoxha', 'refer', 'problem', 'statement', '18', 'septemb', 'elector', 'tirana', 'said', \"things:\\n'in\", 'final', 'analysis', 'glorious', 'revolutionari', 'arab', 'peopl', 'wool', 'pull', 'eye', 'fals', 'friendship', 'soviet', 'social', 'imperialism', 'taken', 'advantag', 'temporari', 'difficulti', 'occupi', 'port', 'sea', 'stifl', 'liber', 'struggl', 'fascist', 'zionist', 'imperialists', 'aggress', 'imperialist', 'power', 'interest', 'plant', 'root', 'deep', 'near', 'east', 'ensur', 'economic', 'polit', 'militari', 'base', 'countri', 'area', 'want', 'oppress', 'peopl', 'countries', 'lull', 'words', 'demor', 'corrupt', 'order', 'finally', 'use', 'bases', 'invad', 'africa', 'asia', 'regions', 'start', 'coloni', 'war', 'plunder', \"continents.\\n'th\", 'albanian', 'peopl', 'love', 'arab', 'peoples', 'brother', 'friend', 'good', 'time', 'bad', 'time', 'revolutionari', 'liber', 'struggles', 'constantly', 'support', 'continu', 'support', 'mean', 'disposal', 'confid', 'triumph', 'caus', 'fighting', 'but', 'order', 'win', 'earli', 'victori', 'common', 'enemy', 'uniti', 'hard', 'steel', 'forg', 'arab', 'peopl', 'arm', 'struggle', 'zionists', 'imperialist', 'soviet', 'revisionist', 'seek', 'divid', 'arab', 'peoples', 'disarm', 'them', 'impos', 'peac', \"enemies'\", 'arm', 'suppli', 'control', 'soviets', 'avail', 'sacr', 'arab', 'cause', 'precis', 'deceiv', 'arabs', 'tie', 'hand', 'send', 'slaughterhouse', 'roger', 'plan', 'ill', 'reput', 'accur', 'call', 'rogersgromyko', \"plan'\", 'arab', 'peopl', 'certain', 'fall', 'terribl', 'trap', 'plan', 'sovietunit', 'armi', 'can', 'recours', 'insidi', 'means', 'succeed', 'establish', 'side', 'suez', 'canal', 'case', 'wonder', 'purpos', 'hardwar', 'suppli', 'arab', 'soviet', 'serve', 'heroic', 'driven', 'imperialist', 'canal', 'occupi', \"others.\\n'th\", 'clamor', 'day', 'harmoni', 'secret', 'maneuv', 'soviet', 'revisionists', 'crackl', 'heroic', 'gun', 'arab', 'palestinian', 'brother', 'glorious', 'reply', 'great', 'conspiraci', 'enemies', 'therefore', 'possibl', 'means', 'resolut', 'assist', 'partisan', 'struggl', 'palestinians', 'struggl', 'forefront', 'general', 'battl', 'wage', 'arab', 'peopl', 'fronts', 'arab', 'brother', 'succeed', 'rais', 'high', 'banner', 'liber', 'struggl', 'imperialist', 'zionists', 'reduc', 'plan', 'soviet', 'revisionist', 'provoc', 'organ', 'agenc', 'cia', 'conspir', 'liber', 'struggl', 'peopl', 'palestin', 'arab', \"peoples.'\\n62.\\tth\", 'arab', 'peopl', 'great', 'revolutionari', 'tradit', 'known', 'braveri', 'liber', 'struggles', 'know', 'fight', 'isra', 'aggressor', 'only', 'imperialist', 'power', 'main', 'respons', 'situat', 'near', 'east', 'and', 'therefore', 'allow', 'fall', 'trap', 'powers.\\n63.\\tth', 'event', 'recent', 'day', 'jordan', 'confirm', 'that', 'leader', 'albanian', 'people', 'comrad', 'enver', 'hoxha', 'indic', 'statement', '18', 'september', 'soviet', 'social-imperi', 'pursu', 'aim', 'common', 'interest', 'arab', 'peoples', 'occasions', 'concern', 'fate', 'arab', 'peoples', 'sole', 'aim', 'consolid', 'imperialist', 'positions', 'particular', 'case', 'soviet', 'revisionist', 'leaders', 'repli', 'nixon', 'appeal', 'bring', 'moscow', 'fire', 'brigad', 'snuff', 'revolutionari', 'struggl', 'palestinian', 'arab', 'peoples', 'subjug', 'enslav', 'them', 'hasten', 'assum', 'role', 'firemen', 'offici', 'declar', 'propaganda', 'organs', 'came', 'defens', 'cliqu', 'power', 'jordan', 'threaten', 'palestinian', 'slogan', 'violenc', 'lead', \"violence'\", 'address', 'appeal', 'arab', 'peopl', 'ask', 'struggle', 'fact', 'serv', 'obvious', 'arab', 'peopl', 'perfidi', 'role', 'play', 'social', 'imperialist', 'moscow', 'real', 'aim', 'statessoviet', 'plan', 'near', 'east.\\n64.\\tth', 'palestinian', 'consid', 'jordan', 'second', 'homeland', 'caus', 'disrupt', 'jordan', 'rather', 'fault', 'lie', 'reactionari', 'regim', 'jordan', 'king', 'hussein', 'servic', 'imperi', 'roger', \"plan'\", 'contrary', 'palestinian', 'jordan', 'healthiest', 'element', 'common', 'struggl', 'annihil', 'common', 'enemy.\\n65.\\tth', 'albanian', 'peopl', 'profound', 'indignant', 'strong', 'condemn', 'crimin', 'act', 'support', 'heroic', 'struggl', 'palestinian', 'fight', 'sacr', 'rights', 'convinc', 'that', 'thank', 'resolut', 'struggl', 'strengthen', 'uniti', 'combat', 'enjoy', 'support', 'true', 'friends', 'freedom-lov', 'peoples', 'expos', 'plot', 'enemi', 'gain', 'final', 'victori', 'aggressors.\\n66.\\tin', 'deal', 'soviet', 'union', 'import', 'place', 'held', 'so-cal', 'question', 'european', 'secur', 'conference', 'propos', 'year', 'kremlin', 'leader', 'instrument', 'aggression', 'warsaw', 'treaty', 'sign', 'intens', 'activ', 'year', 'instig', 'powers', 'accord', 'strategi', 'consolid', 'subsequ', 'extend', 'domin', 'europ', 'carri', 'aggress', 'plan', 'areas', 'soviet', 'imperialist', 'particular', 'concern', 'ensur', 'success', 'project', 'soviet', 'revisionist', 'particular', 'show', 'special', 'haste', 'explain', 'intern', 'difficulties', 'grow', 'resist', 'countri', 'eastern', 'europ', 'polici', 'intervent', 'domination', 'plan', 'prepar', 'aggress', 'direct', 'asia', 'peopl', 'republ', 'china', 'cours', 'west', 'em', 'allies', 'particular', 'feder', 'republ', 'germany', 'fail', 'power', 'exploit', 'hast', 'display', 'soviet', 'revisionist', 'leadership', 'order', 'obtain', 'largest', 'possibl', 'number', 'concess', 'german', 'problem', 'west', 'berlin', 'ensur', 'economic', 'polit', 'cultur', 'penetr', 'countri', 'eastern', 'europe.\\n67.\\tconfront', 'insurmount', 'difficulti', 'relat', 'contradict', 'exist', 'problem', 'imperialist', 'soviet', 'social', 'imperialist', 'european', 'states', 'call', 'superpowers', 'order', 'find', 'way', 'mislead', 'public', 'opinion', 'hit', 'follow', 'formula', 'serv', 'guid', 'principl', 'agreement', 'conclud', 'framework:', 'renunci', 'use', 'forc', 'relat', \"europe'\", 'mislead', 'formula', 'design', 'fact', 'cling', 'conclud', 'agreements', 'basi', 'formula', 'negoti', 'took', 'place', 'feder', 'republ', 'germani', 'german', 'democrat', 'republ', 'poland', 'long', 'negotiations', 'paramount', 'importance', 'soviet', 'union', 'west', 'germany.\\n68.\\tin', 'activ', 'step', 'greatest', 'impact', 'sovietwest', 'german', 'treati', 'sign', '12', 'august', 'moscow', 'intens', 'propaganda', 'attend', 'sign', 'treati', 'design', 'present', 'histor', 'event', 'said', 'bring', 'peac', 'europ', 'integr', 'borders', 'course', 'campaign', 'regardless', 'mean', 'used', 'deceiv', 'naive', 'peopl', 'europe', 'great', 'experience', 'taken', 'rhetoric', 'particular', 'propaganda', 'statement', 'soviet', 'american', 'leaders', 'supporters', 'fail', 'recal', 'vast', 'deceit', 'campaign', 'accompani', 'stage', 'plot', 'compromis', 'western', 'power', 'hitlerian', 'militarism', 'especi', 'regard', 'munich', 'agreement', 'septemb', '1938.\\n69.\\tthe', 'moscow', 'treati', 'fact', 'solut', 'german', 'problem', 'open', 'violat', 'decis', 'problem', 'adopt', 'alli', 'power', 'war', 'oft', 'renew', 'promis', 'soviet', 'revisionist', 'leadership', 'conclud', 'peac', 'treati', 'german', 'states', 'simpli', 'german', 'democrat', 'republic', 'defend', 'interest', 'sovereign', 'right', 'latter', 'soviet', 'revisionist', 'trampl', 'foot', 'commit', 'obligations', 'commit', 'crime', 'german', 'people', 'german', 'democrat', 'republic', 'peac', 'secur', 'europ', 'entir', 'world', 'assum', 'heavi', 'responsibility.\\n70.\\tth', 'moscow', 'treati', 'fact', 'formal', 'recognit', 'entri', 'conquer', 'germani', 'communiti', 'states', 'sign', 'peac', 'treaty', 'sovietgerman', 'treaty', 'apart', 'equivoc', 'question', 'terms', 'refer', 'recognit', 'border', 'german', 'oderneiss', 'line', 'divid', 'poland', 'german', 'democrat', 'republ', 'final', 'unchang', 'borders', 'recognit', 'feder', 'republ', 'germani', 'german', 'democrat', 'republ', 'independent', 'sovereign', 'fulli', 'enjoy', 'rights', 'important', 'chancellor', 'west', 'germani', 'leader', 'bonn', 'state', 'occasion', 'sign', 'treaty', 'idea', 'reunif', 'german', 'nation', 'mean', 'annex', 'german', 'democrat', 'republic', 'posit', 'confirm', 'document', 'annex', 'treaty', 'bonn', 'govern', 'endeavor', 'situat', 'gain', 'time', 'order', 'prepar', 'attain', 'its', 'expansionist', 'object', 'favor', 'circumstances', 'thus', 'soviet', 'revisionist', 'consid', 'german', 'democrat', 'republ', 'bargain', 'counter', 'deal', 'revengeseek', 'bonn', 'claim', 'right', 'speak', 'act', 'behalf', 'germany', 'support', 'great', 'western', 'powers.\\n71.\\ta', 'provis', 'treati', 'concern', 'renunci', 'use', 'forc', 'inviol', 'borders', 'mean', 'border', 'fact', 'unchangeable', 'peopl', 'europ', 'know', 'valu', 'commit', 'german', 'revenge-seekers', 'memori', 'hitler', 'nonaggress', 'pact', 'european', 'fresh', 'minds.\\n72.\\ttherefore', 'point', 'view', 'moscow', 'treati', 'undeni', 'provid', 'bonn', 'leader', 'fall', 'on', 'encourag', 'expansionist', 'revenge-seek', 'plan', 'time', 'blow', 'german', 'democrat', 'republ', 'progress', 'peace-lov', 'forc', 'germany.\\n73.\\tno', 'deni', 'he', 'creation', 'german', 'democrat', 'republ', 'great', 'victori', 'german', 'peopl', 'peopl', 'europe', 'close', 'connect', 'peac', 'secur', 'europe', 'strengthen', 'german', 'democrat', 'republ', 'recognit', 'europe', 'basi', 'principl', 'sovereign', 'equality', 'interest', 'security', 'essenti', 'condit', 'settlement', 'german', 'problem', 'sound', 'basi', 'sincer', 'attempt', 'place', 'german', 'peopl', 'road', 'peac', 'democracy', 'cooperation', 'friendship', 'european', 'peoples', 'agreement', 'soviet', 'union', 'west', 'germani', 'danger', 'step', 'opposit', 'direction', 'fail', 'condemn', ',bi', 'peac', 'freedom-lov', 'countri', 'peopl', 'europe.\\n74.\\tit', 'obvious', 'moscow', 'treati', 'foremost', 'result', 'bargain', 'soviet', 'imperialists', 'framework', 'plan', 'global', 'strategi', 'europ', 'continents', 'treati', 'time', 'agreement', 'new', 'imperialist', 'powers', 'soviet', 'social', 'imperi', 'west', 'german', 'militarism', 'and', 'such', 'threat', 'european', 'contin', 'area', 'world', 'object', 'statessoviet', 'plan', 'aggression', 'leader', 'moscow', 'join', 'success', 'govern', 'washington', 'rais', 'west', 'germani', 'level', 'main', 'shock', 'force', 'princip', 'partner', 'power', 'put', 'effect', 'counterrevolutionari', 'plan', 'plan', 'subjug', 'freedom-lov', 'peopl', 'countries', 'fail', 'occas', 'remind', 'assembl', 'similar', 'plan', 'polici', 'western', 'power', 'hitler', 'germany', 'prove', 'cost', 'them', 'hitler', 'germani', 'eventu', 'turn', 'them.\\n75.\\tth', 'moscowbonn', 'treati', 'undeni', 'new', 'link', 'seri', 'plot', 'soviet', 'american', 'world', 'peoples', 'threat', 'entail', 'escap', 'attent', 'govern', 'sincer', 'concern', 'vital', 'interest', 'people', 'nation', 'secur', 'independ', 'world', 'peace.\\n76.\\tth', 'albanian', 'govern', 'sympathi', 'justifi', 'concern', 'european', 'sincer', 'interest', 'secur', 'peac', 'europ', 'search', 'appropri', 'way', 'mean', 'normal', 'situat', 'continent', 'deliv', 'hegemoni', 'major', 'imperialist', 'power', 'reject', 'idea', 'sphere', 'influence', 'elimin', 'aggress', 'bloc', 'domin', 'them', 'creat', 'favor', 'circumst', 'develop', 'european', 'cooper', 'basi', 'respect', 'independ', 'nation', 'sovereignty', 'sovereign', 'equal', 'mutual', 'benefit.\\nthat', 'fulli', 'line', 'principl', 'under', 'foreign', 'policy', 'but', 'know', 'well', 'nobl', 'object', 'common', 'crimin', 'plan', 'soviet', 'imperialist', 'supporters', 'activities', 'pact', 'propos', 'conclude', 'initi', 'proposals', 'includ', 'european', \"security'\", 'collect', 'secur', \"asia'\", 'intern', 'secur', 'present', 'again', 'initi', 'soviet', 'revisionists', 'present', 'session', 'general', 'assembl', 'power', 'constant', 'motiv', 'insati', 'greed', 'domin', 'exploit', 'peopl', 'world', 'desir', 'maintain', 'consolid', 'sphere', 'influenc', 'europ', 'free', 'hand', 'areas', 'ensur', 'tranquil', 'rear', 'better', 'carri', 'expansionist', 'plan', 'asia', 'africa', 'elsewhere', 'mean', 'necessary', 'extent', 'threaten', 'arm', 'force.\\n77.\\tther', 'need', 'prove', 'true', 'affairs', 'ampli', 'born', 'realiti', 'hotb', 'imperialist', 'war', 'area', 'world', 'aggress', 'indo-china', 'middl', 'east', 'far', 'east', 'europ', 'elsewhere', 'militari', 'base', 'soviet', 'imperialist', 'europ', 'continents', 'occup', 'foreign', 'territories', 'nuclear', 'blackmail', 'arm', 'race', 'fleet', 'warship', 'v/hich', 'cruis', 'mediterranean', 'pacif', 'sea', 'ocean', 'threaten', 'peace-lov', 'peopl', 'countri', 'areas', 'born', 'out', 'inter', 'alia', 'crimin', 'plan', 'europe', 'particular', 'role', 'assign', 'revenge-seek', 'germany', 'plan', 'asia', 'aim', 'particular', 'encircl', 'peopl', 'republ', 'china', 'prepar', 'war', 'cooper', 'aggress', 'powers', 'particular', 'japanes', 'militarism', 'claim', 'guarante', 'peac', 'europ', 'condit', 'aegi', 'protect', 'imperialist', 'powers', 'american', 'soviet?\\n78.\\ton', 'wonder', 'peac', 'guaranteed', 'threaten', 'peac', 'secur', 'peopl', 'europe', 'small', 'peace-lov', 'countries', 'opinion', 'caught', 'sovietamerican', 'trap', 'european', 'secur', 'collect', 'secur', 'asia', 'tantamount', 'serv', 'aggress', 'plan', 'or', 'rather', 'throw', 'oneself', 'wolves', 'today', 'peac', 'indivisible', 'peac', 'europ', 'war', 'asia', 'elsewhere.\\n79.\\tcomrad', 'enver', 'hoxha', 'statement', 'occas', 'twenty-fifth', 'anniversari', 'liber', 'albania', 'state', \"connexion:\\n'first\", 'question', 'assur', 'whom', 'european', 'secur', 'sought', 'soviet', 'revisionist', 'support', 'imperialist', 'mean', 'secur', 'sphere', 'influenc', 'europe', 'secur', 'militari', 'base', 'right', 'squadron', 'patrol', 'european', 'coasts', 'mean', 'peopl', 'europ', 'legal', 'offici', 'recogn', 'right', 'moscow', 'washington', 'conserv', 'special', 'privileg', 'imperialist', 'colonialist', 'natur', 'countri', 'europe', 'secur', 'boil', 'perman', 'mainten', 'europ', 'status', 'quo', 'soviet', 'american', 'domination', 'calm', 'ensur', 'contin', 'soviet', 'revisionist', 'american', 'imperialist', 'freedom', 'movement', 'act', 'freeli', 'asia', 'africa', 'order', 'subjug', 'enslav', 'peoples', 'reinforc', 'capitalist', 'system', 'exploitation', 'home', \"empires.'\\n80.\\tw\", 'believ', 'peac', 'secur', 'assur', 'resolut', 'opposit', 'struggl', 'imperialist', 'powers', 'polici', 'diktat', 'aggress', 'war', 'way', 'grist', 'mill', 'powers', 'envisag', 'enslav', 'europ', 'world.\\n81.\\tw', 'convinc', 'matter', 'effort', 'american', 'soviet', 'imperialist', 'collaborators', 'tranquil', 'seek', 'europe', 'run', 'contradictions', 'peopl', 'europ', 'accept', 'hegemoni', 'guise', 'allow', 'pit', 'europ', 'asia', 'allow', 'cannon', 'fodder', 'realize', 'crimin', 'plan', 'powers.\\n82.\\tw', 'awar', 'peace-lov', 'member', 'condemn', 'aggress', 'polici', 'imperialist', 'powers', 'collus', 'expens', 'caus', 'peace-lov', 'peopl', 'countries', 'monstrous', 'plan', 'redivid', 'domin', 'world', 'constant', 'admir', 'courag', 'struggl', 'wage', 'countries', 'nation', 'outsid', 'it', 'grand', 'conspiraci', 'powers', 'present', 'situat', 'requir', 'member', 'faith', 'principl', 'independ', 'equal', 'great', 'small', 'respect', 'sovereignti', 'territori', 'integr', 'intensifi', 'struggl', 'unit', 'effort', 'americansoviet', 'imperi', 'collus', 'desir', 'impos', 'diktat', 'here', 'higher', 'interest', 'peac', 'security', 'serious', 'threaten', 'aggress', 'polici', 'american', 'soviet', 'coalition', 'requir', 'lofti', 'interest', 'peopl', 'fight', 'imperialism', 'coloni', 'reaction.\\n83.\\tmani', 'fought', 'unceas', 'away', 'unpreced', 'anomali', 'exist', 'organ', 'result', 'violat', 'law', 'right', 'peopl', 'republ', 'china', 'usurp', 'place', 'cliqu', 'renegad', 'servic', 'american', 'imperialism', 'nevertheless', 'scandal', 'intoler', 'situat', 'continu', 'today', 'hostil', 'aggress', 'polici', 'great', 'socialist', 'china', 'manipul', 'nations.\\n84.\\tat', 'session', 'albania', 'fourteen', 'countri', 'place', 'assembl', 'agenda', 'question', 'restor', 'law', 'right', 'peopl', 'republ', 'china', 'nation', '[a/8043', 'add.i', '2]', 'flagrant', 'gross', 'violat', 'charter', 'affect', 'sovereign', 'right', 'found', 'member', 'nation', 'perman', 'member', 'secur', 'council', 'elimin', 'abnormal', 'unpreced', 'situat', 'urgent', 'necess', 'nation', 'desir', 'step', 'recoveri', 'posit', 'accomplish', 'task', 'charter', 'clear', 'peopl', 'republ', 'china', 'given', 'authority', 'great', 'role', 'tremend', 'potential', 'organ', 'posit', 'effect', 'contribut', 'settlement', 'import', 'problem', 'time.\\n85.\\tth', 'peopl', 'republ', 'china', 'great', 'power', 'socialist', 'tremend', 'success', 'area', 'enjoy', 'incompar', 'prestig', 'authority', 'dazzl', 'victori', 'great', 'proletarian', 'cultur', 'revolut', 'thwart', 'plot', 'imperialist', 'revisionist', 'took', 'control', 'insid', 'chines', 'citadel', 'live', 'testimoni', 'invinc', 'forc', 'great', 'chines', 'peopl', 'guarante', 'great', 'role', 'power', 'socialist', 'china', 'undeni', 'play', 'destini', 'peopl', 'world.\\n86.\\tth', 'peopl', 'republ', 'china', 'today', 'great', 'impregn', 'fortress', 'liber', 'struggl', 'peopl', 'imperialism', 'coloni', 'reaction', 'unshak', 'rampart', 'progress', 'mankind.\\n87.\\tw', 'consid', 'posit', 'taken', 'general', 'assembl', 'question', 'prove', 'determin', 'reject', 'diktat', 'great', 'imperialist', 'power', 'seek', 'lo', 'exercis', 'nation', 'embark', 'cours', 'conform', 'aspir', 'peopl', 'fundament', 'provis', 'charter', 'express', 'hope', 'govern', 'peace-lov', 'constitut', 'xnajor', 'here', 'awar', 'situat', 'nations', 'courag', 'adopt', 'attitud', 'dictat', 'convict', 'true', 'interest', 'countri', 'organ', 'itself.\\n88.\\tth', 'peopl', 'republ', 'albania', 'constant', 'pursu', 'independ', 'revolutionari', 'foreign', 'polici', 'accord', 'higher', 'interest', 'build', 'defens', 'socialist', 'homeland', 'great', 'caus', 'peopl', 'fight', 'freedom', 'independ', 'sacr', 'right', 'freeli', 'determin', 'future,\\n89.\\tth', 'albanian', 'peopl', 'abl', 'defend', 'socialist', 'homeland', 'circumst', 'plots', 'threat', 'provoc', 'imperialist', 'revisionists', 'watch', 'prepar', 'moment', 'respond', 'dare', 'rais', 'hand', 'it.\\n16\\n90.\\tth', 'albanian', 'people', 'parti', 'government', 'support', 'continu', 'strong', 'support', 'legitim', 'struggl', 'peace-lov', 'peopl', 'countri', 'aggress', 'polici', 'imperialist', 'powers', 'colonialist', 'collabor', 'lackey', 'kinds', 'stood', 'shall', 'stand', 'brother', 'peopl', 'vietnam', 'laos', 'cambodia', 'peopl', 'indo-china', 'asia', 'heroic', 'struggl', 'american', 'aggressor', 'alli', 'kinds', 'support', 'shall', 'continu', 'unreserv', 'support', 'legitim', 'fight', 'fratern', 'arab', 'peopl', 'zionist', 'aggressor', 'american', 'soviet', 'imperialists', 'main', 'respons', 'present', 'situat', 'middl', 'east', 'vigor', 'support', 'struggl', 'peopl', 'european', 'countri', 'peopl', 'czechoslovakia', 'german', 'democrat', 'republ', 'peopl', 'contin', 'peopl', 'contin', 'polici', 'domination', 'oppress', 'exploit', 'imperialist', 'power', 'counterrevolutionari', 'holi', \"alliance'.\\n91.\\tw\", 'firm', 'convinc', 'peopl', 'entir', 'world', 'fight', 'caus', 'vast', 'anti-imperialist', 'anti-colonialist', 'front', 'resolut', 'combat', 'solidarity', 'plots', 'aggress', 'plan', 'aggressions', 'matter', 'respons', 'them', 'win', 'final', 'victori', 'common', 'enemies.\\n92.\\tth', 'deleg', 'peopl', 'republ', 'albania', 'session', 'general', 'assembly', 'guid', 'marxistleninist', 'principl', 'socialist', 'state', 'continue', 'past', 'freedom-lov', 'peopl', 'modest', 'contribut', 'caus', 'freedom', 'independ', 'genuin', 'cooper', 'friendship', 'peopl', 'th', 'world']\n"
     ]
    },
    {
     "name": "stderr",
     "output_type": "stream",
     "text": [
      "C:\\Users\\mtwpi\\AppData\\Local\\Programs\\Python\\Python38\\lib\\site-packages\\ipykernel\\ipkernel.py:287: DeprecationWarning: `should_run_async` will not call `transform_cell` automatically in the future. Please pass the result to `transformed_cell` argument and any exception that happen during thetransform in `preprocessing_exc_tuple` in IPython 7.17 and above.\n"
     ]
    }
   ],
   "source": [
    "# print(\" \".join(text_data[0]))\n",
    "print(text_data[0])"
   ]
  },
  {
   "cell_type": "code",
   "execution_count": 37,
   "id": "coordinated-tuning",
   "metadata": {},
   "outputs": [
    {
     "name": "stderr",
     "output_type": "stream",
     "text": [
      "C:\\Users\\mtwpi\\AppData\\Local\\Programs\\Python\\Python38\\lib\\site-packages\\ipykernel\\ipkernel.py:287: DeprecationWarning: `should_run_async` will not call `transform_cell` automatically in the future. Please pass the result to `transformed_cell` argument and any exception that happen during thetransform in `preprocessing_exc_tuple` in IPython 7.17 and above.\n",
      "<ipython-input-37-fd25541ce06f>:3: DeprecationWarning: The default dtype for empty Series will be 'object' instead of 'float64' in a future version. Specify a dtype explicitly to silence this warning.\n"
     ]
    },
    {
     "name": "stdout",
     "output_type": "stream",
     "text": [
      "7507\n"
     ]
    }
   ],
   "source": [
    "# print(text_data[0])\n",
    "print(len(text_data))\n",
    "speechesSeries = pd.Series()\n",
    "for mySpeech in text_data:\n",
    "#     textForm = \" \".join(mySpeech)\n",
    "    seriesForm = pd.Series(mySpeech)\n",
    "    speechesSeries = speechesSeries.append(seriesForm, ignore_index=True)"
   ]
  },
  {
   "cell_type": "code",
   "execution_count": 38,
   "id": "norman-buying",
   "metadata": {},
   "outputs": [
    {
     "name": "stderr",
     "output_type": "stream",
     "text": [
      "C:\\Users\\mtwpi\\AppData\\Local\\Programs\\Python\\Python38\\lib\\site-packages\\ipykernel\\ipkernel.py:287: DeprecationWarning: `should_run_async` will not call `transform_cell` automatically in the future. Please pass the result to `transformed_cell` argument and any exception that happen during thetransform in `preprocessing_exc_tuple` in IPython 7.17 and above.\n"
     ]
    },
    {
     "name": "stdout",
     "output_type": "stream",
     "text": [
      "0 (1967)\n",
      "1 (bissau)\n",
      "2 ,bi\n",
      "3 12\n",
      "4 18\n",
      "5 1938.\n",
      "69.\tthe\n",
      "6 1948\n",
      "7 1967\n",
      "8 21\n",
      "9 22\n",
      "10 2]\n"
     ]
    }
   ],
   "source": [
    "dictionary = gensim.corpora.Dictionary(text_data)\n",
    "\n",
    "# For fun\n",
    "count = 0\n",
    "for k, v in dictionary.iteritems():\n",
    "    print(k, v)\n",
    "    count += 1\n",
    "    if count > 10:\n",
    "        break\n"
   ]
  },
  {
   "cell_type": "markdown",
   "id": "virtual-stand",
   "metadata": {},
   "source": [
    "I want to extract words who appear in:\n",
    "\n",
    "- fewer than 15 speeches\n",
    "- more than 50% of speeches in total\n",
    "\n",
    "and keep only the first 100000 most frequent words."
   ]
  },
  {
   "cell_type": "code",
   "execution_count": 39,
   "id": "compound-baseball",
   "metadata": {},
   "outputs": [
    {
     "name": "stderr",
     "output_type": "stream",
     "text": [
      "C:\\Users\\mtwpi\\AppData\\Local\\Programs\\Python\\Python38\\lib\\site-packages\\ipykernel\\ipkernel.py:287: DeprecationWarning: `should_run_async` will not call `transform_cell` automatically in the future. Please pass the result to `transformed_cell` argument and any exception that happen during thetransform in `preprocessing_exc_tuple` in IPython 7.17 and above.\n"
     ]
    }
   ],
   "source": [
    "dictionary.filter_extremes(no_below=15, no_above=0.5, keep_n=100000)"
   ]
  },
  {
   "cell_type": "markdown",
   "id": "prepared-rental",
   "metadata": {},
   "source": [
    "#### Gensim doc2bow"
   ]
  },
  {
   "cell_type": "code",
   "execution_count": 40,
   "id": "environmental-emphasis",
   "metadata": {},
   "outputs": [
    {
     "name": "stderr",
     "output_type": "stream",
     "text": [
      "C:\\Users\\mtwpi\\AppData\\Local\\Programs\\Python\\Python38\\lib\\site-packages\\ipykernel\\ipkernel.py:287: DeprecationWarning: `should_run_async` will not call `transform_cell` automatically in the future. Please pass the result to `transformed_cell` argument and any exception that happen during thetransform in `preprocessing_exc_tuple` in IPython 7.17 and above.\n"
     ]
    }
   ],
   "source": [
    "bow_corpus = [dictionary.doc2bow(doc) for doc in text_data]\n",
    "# bow_doc_4310 = bow_corpus[4310]\n",
    "# for i in range(len(bow_doc_4310)):\n",
    "#     print(\"Word {} (\\\"{}\\\") appears {} time.\".format(bow_doc_4310[i][0], \n",
    "#                                                dictionary[bow_doc_4310[i][0]], \n",
    "# bow_doc_4310[i][1]))"
   ]
  },
  {
   "cell_type": "code",
   "execution_count": 41,
   "id": "nonprofit-jewel",
   "metadata": {},
   "outputs": [
    {
     "name": "stderr",
     "output_type": "stream",
     "text": [
      "C:\\Users\\mtwpi\\AppData\\Local\\Programs\\Python\\Python38\\lib\\site-packages\\ipykernel\\ipkernel.py:287: DeprecationWarning: `should_run_async` will not call `transform_cell` automatically in the future. Please pass the result to `transformed_cell` argument and any exception that happen during thetransform in `preprocessing_exc_tuple` in IPython 7.17 and above.\n"
     ]
    }
   ],
   "source": [
    "lda_model = gensim.models.LdaMulticore(bow_corpus, num_topics=10, id2word=dictionary, passes=2, workers=2)"
   ]
  },
  {
   "cell_type": "markdown",
   "id": "nutritional-longitude",
   "metadata": {},
   "source": [
    "#### LDA With Bag Of Words"
   ]
  },
  {
   "cell_type": "code",
   "execution_count": 42,
   "id": "refined-aggregate",
   "metadata": {},
   "outputs": [
    {
     "name": "stdout",
     "output_type": "stream",
     "text": [
      "Topic: 0 \n",
      "Words: 0.004*\"arab\" + 0.003*\"palestinian\" + 0.003*\"israel\" + 0.003*\"iraq\" + 0.002*\"terror\" + 0.002*\"climat\" + 0.002*\"isra\" + 0.002*\"central\" + 0.002*\"deleg\" + 0.002*\"union\"\n",
      "Topic: 1 \n",
      "Words: 0.002*\"deleg\" + 0.002*\"of\n",
      "th\" + 0.002*\"summit\" + 0.002*\"growth\" + 0.002*\"climat\" + 0.002*\"small\" + 0.002*\"convent\" + 0.002*\"institut\" + 0.002*\"terror\" + 0.002*\"context\"\n",
      "Topic: 2 \n",
      "Words: 0.004*\"climat\" + 0.003*\"small\" + 0.003*\"island\" + 0.002*\"sustain\" + 0.002*\"agenda\" + 0.002*\"israel\" + 0.002*\"deleg\" + 0.002*\"america\" + 0.002*\"economi\" + 0.002*\"dialogu\"\n",
      "Topic: 3 \n",
      "Words: 0.004*\"sustain\" + 0.003*\"european\" + 0.003*\"union\" + 0.003*\"climat\" + 0.002*\"co-oper\" + 0.002*\"agenda\" + 0.002*\"comprehens\" + 0.002*\"growth\" + 0.002*\"disarma\" + 0.002*\"convent\"\n",
      "Topic: 4 \n",
      "Words: 0.002*\"of\n",
      "th\" + 0.002*\"union\" + 0.002*\"programm\" + 0.002*\"israel\" + 0.002*\"arab\" + 0.002*\"terror\" + 0.002*\"deleg\" + 0.002*\"sustain\" + 0.002*\"agenda\" + 0.002*\"rule\"\n",
      "Topic: 5 \n",
      "Words: 0.003*\"of\n",
      "th\" + 0.003*\"small\" + 0.002*\"poverti\" + 0.002*\"deleg\" + 0.002*\"sustain\" + 0.002*\"programm\" + 0.002*\"united\n",
      "n\" + 0.002*\"the\n",
      "unit\" + 0.002*\"economi\" + 0.002*\"product\"\n",
      "Topic: 6 \n",
      "Words: 0.002*\"israel\" + 0.002*\"palestinian\" + 0.002*\"co-oper\" + 0.002*\"arab\" + 0.002*\"namibia\" + 0.002*\"deleg\" + 0.002*\"struggl\" + 0.002*\"small\" + 0.002*\"last\" + 0.002*\"union\"\n",
      "Topic: 7 \n",
      "Words: 0.002*\"deleg\" + 0.002*\"of\n",
      "th\" + 0.002*\"korea\" + 0.002*\"struggl\" + 0.002*\"island\" + 0.002*\"co-oper\" + 0.002*\"programm\" + 0.002*\"signific\" + 0.002*\"dialogu\" + 0.002*\"terror\"\n",
      "Topic: 8 \n",
      "Words: 0.003*\"union\" + 0.002*\"soviet\" + 0.002*\"arab\" + 0.002*\"struggl\" + 0.002*\"co-oper\" + 0.002*\"deleg\" + 0.002*\"central\" + 0.002*\"iraq\" + 0.002*\"regim\" + 0.002*\"european\"\n",
      "Topic: 9 \n",
      "Words: 0.003*\"israel\" + 0.002*\"small\" + 0.002*\"palestinian\" + 0.002*\"struggl\" + 0.002*\"deleg\" + 0.002*\"central\" + 0.002*\"co-oper\" + 0.002*\"arab\" + 0.002*\"mankind\" + 0.002*\"regim\"\n"
     ]
    },
    {
     "name": "stderr",
     "output_type": "stream",
     "text": [
      "C:\\Users\\mtwpi\\AppData\\Local\\Programs\\Python\\Python38\\lib\\site-packages\\ipykernel\\ipkernel.py:287: DeprecationWarning: `should_run_async` will not call `transform_cell` automatically in the future. Please pass the result to `transformed_cell` argument and any exception that happen during thetransform in `preprocessing_exc_tuple` in IPython 7.17 and above.\n"
     ]
    }
   ],
   "source": [
    "for idx, topic in lda_model.print_topics(-1):\n",
    "    print('Topic: {} \\nWords: {}'.format(idx, topic))\n",
    "\n",
    "# oneList = \" \".join(text_data)\n",
    "# pd.Series(text_data)\n",
    "# speeches[\"text\"]"
   ]
  },
  {
   "cell_type": "markdown",
   "id": "difficult-rwanda",
   "metadata": {},
   "source": [
    "It appears that many of these words do not hold significant weight for each topic. Nevertheless, we can try to differentiate different topics. Topic 0 appears to be about co-operation between Palestine and Israel (two countries known to be at war with each other).\n",
    "\n",
    "Topic 1 seems to be about delegation."
   ]
  },
  {
   "cell_type": "code",
   "execution_count": 43,
   "id": "vital-moment",
   "metadata": {},
   "outputs": [
    {
     "name": "stderr",
     "output_type": "stream",
     "text": [
      "C:\\Users\\mtwpi\\AppData\\Local\\Programs\\Python\\Python38\\lib\\site-packages\\ipykernel\\ipkernel.py:287: DeprecationWarning: `should_run_async` will not call `transform_cell` automatically in the future. Please pass the result to `transformed_cell` argument and any exception that happen during thetransform in `preprocessing_exc_tuple` in IPython 7.17 and above.\n"
     ]
    },
    {
     "data": {
      "text/plain": [
       "0                   33:\n",
       "1                convey\n",
       "2                presid\n",
       "3             congratul\n",
       "4              albanian\n",
       "               ...     \n",
       "10025545        develop\n",
       "10025546    interaction\n",
       "10025547         poster\n",
       "10025548         expect\n",
       "10025549             us\n",
       "Length: 10025550, dtype: object"
      ]
     },
     "execution_count": 43,
     "metadata": {},
     "output_type": "execute_result"
    }
   ],
   "source": [
    "speechesSeries"
   ]
  },
  {
   "cell_type": "code",
   "execution_count": 44,
   "id": "advanced-spelling",
   "metadata": {},
   "outputs": [
    {
     "name": "stderr",
     "output_type": "stream",
     "text": [
      "C:\\Users\\mtwpi\\AppData\\Local\\Programs\\Python\\Python38\\lib\\site-packages\\ipykernel\\ipkernel.py:287: DeprecationWarning: `should_run_async` will not call `transform_cell` automatically in the future. Please pass the result to `transformed_cell` argument and any exception that happen during thetransform in `preprocessing_exc_tuple` in IPython 7.17 and above.\n"
     ]
    }
   ],
   "source": [
    "# 2: create dtm\n",
    "# myX = vec.fit_transform(speeches[\"text\"])\n",
    "myX = vec.fit_transform(speeches[\"text\"])"
   ]
  },
  {
   "cell_type": "code",
   "execution_count": 45,
   "id": "failing-march",
   "metadata": {},
   "outputs": [
    {
     "name": "stderr",
     "output_type": "stream",
     "text": [
      "C:\\Users\\mtwpi\\AppData\\Local\\Programs\\Python\\Python38\\lib\\site-packages\\ipykernel\\ipkernel.py:287: DeprecationWarning: `should_run_async` will not call `transform_cell` automatically in the future. Please pass the result to `transformed_cell` argument and any exception that happen during thetransform in `preprocessing_exc_tuple` in IPython 7.17 and above.\n"
     ]
    }
   ],
   "source": [
    "# 3 create lda\n",
    "lda = LatentDirichletAllocation(n_components= 4, learning_method= \"online\")"
   ]
  },
  {
   "cell_type": "code",
   "execution_count": 46,
   "id": "complex-butter",
   "metadata": {},
   "outputs": [
    {
     "name": "stderr",
     "output_type": "stream",
     "text": [
      "C:\\Users\\mtwpi\\AppData\\Local\\Programs\\Python\\Python38\\lib\\site-packages\\ipykernel\\ipkernel.py:287: DeprecationWarning: `should_run_async` will not call `transform_cell` automatically in the future. Please pass the result to `transformed_cell` argument and any exception that happen during thetransform in `preprocessing_exc_tuple` in IPython 7.17 and above.\n"
     ]
    }
   ],
   "source": [
    "# 4 fit lda\n",
    "doc_topics = lda.fit_transform(myX)"
   ]
  },
  {
   "cell_type": "code",
   "execution_count": 47,
   "id": "greatest-exclusion",
   "metadata": {},
   "outputs": [
    {
     "name": "stdout",
     "output_type": "stream",
     "text": [
      "There are 4 topics and 54568 words\n"
     ]
    },
    {
     "name": "stderr",
     "output_type": "stream",
     "text": [
      "C:\\Users\\mtwpi\\AppData\\Local\\Programs\\Python\\Python38\\lib\\site-packages\\ipykernel\\ipkernel.py:287: DeprecationWarning: `should_run_async` will not call `transform_cell` automatically in the future. Please pass the result to `transformed_cell` argument and any exception that happen during thetransform in `preprocessing_exc_tuple` in IPython 7.17 and above.\n"
     ]
    }
   ],
   "source": [
    "# 5\n",
    "print(f\"There are {lda.components_.shape[0]} topics and {lda.components_.shape[1]} words\")"
   ]
  },
  {
   "cell_type": "markdown",
   "id": "unknown-summer",
   "metadata": {},
   "source": [
    "### Extracting Top Words From Each Topic"
   ]
  },
  {
   "cell_type": "code",
   "execution_count": 48,
   "id": "described-wales",
   "metadata": {},
   "outputs": [
    {
     "name": "stderr",
     "output_type": "stream",
     "text": [
      "C:\\Users\\mtwpi\\AppData\\Local\\Programs\\Python\\Python38\\lib\\site-packages\\ipykernel\\ipkernel.py:287: DeprecationWarning: `should_run_async` will not call `transform_cell` automatically in the future. Please pass the result to `transformed_cell` argument and any exception that happen during thetransform in `preprocessing_exc_tuple` in IPython 7.17 and above.\n"
     ]
    },
    {
     "data": {
      "text/plain": [
       "array(['00', '000', '0001', ..., 'ш1оп', 'ш1ь1а', 'ьо1л'], dtype='<U23')"
      ]
     },
     "execution_count": 48,
     "metadata": {},
     "output_type": "execute_result"
    }
   ],
   "source": [
    "## Get feature names (vocabulary)\n",
    "voc = np.array(vec.get_feature_names())\n",
    "voc"
   ]
  },
  {
   "cell_type": "code",
   "execution_count": 49,
   "id": "innocent-advertiser",
   "metadata": {},
   "outputs": [
    {
     "name": "stderr",
     "output_type": "stream",
     "text": [
      "C:\\Users\\mtwpi\\AppData\\Local\\Programs\\Python\\Python38\\lib\\site-packages\\ipykernel\\ipkernel.py:287: DeprecationWarning: `should_run_async` will not call `transform_cell` automatically in the future. Please pass the result to `transformed_cell` argument and any exception that happen during thetransform in `preprocessing_exc_tuple` in IPython 7.17 and above.\n"
     ]
    },
    {
     "data": {
      "text/plain": [
       "False"
      ]
     },
     "execution_count": 49,
     "metadata": {},
     "output_type": "execute_result"
    }
   ],
   "source": [
    "\"nations\" in both_sw"
   ]
  },
  {
   "cell_type": "code",
   "execution_count": 50,
   "id": "intelligent-petroleum",
   "metadata": {},
   "outputs": [
    {
     "name": "stderr",
     "output_type": "stream",
     "text": [
      "C:\\Users\\mtwpi\\AppData\\Local\\Programs\\Python\\Python38\\lib\\site-packages\\ipykernel\\ipkernel.py:287: DeprecationWarning: `should_run_async` will not call `transform_cell` automatically in the future. Please pass the result to `transformed_cell` argument and any exception that happen during thetransform in `preprocessing_exc_tuple` in IPython 7.17 and above.\n"
     ]
    },
    {
     "data": {
      "text/html": [
       "<div>\n",
       "<style scoped>\n",
       "    .dataframe tbody tr th:only-of-type {\n",
       "        vertical-align: middle;\n",
       "    }\n",
       "\n",
       "    .dataframe tbody tr th {\n",
       "        vertical-align: top;\n",
       "    }\n",
       "\n",
       "    .dataframe thead th {\n",
       "        text-align: right;\n",
       "    }\n",
       "</style>\n",
       "<table border=\"1\" class=\"dataframe\">\n",
       "  <thead>\n",
       "    <tr style=\"text-align: right;\">\n",
       "      <th></th>\n",
       "      <th>top_words</th>\n",
       "    </tr>\n",
       "  </thead>\n",
       "  <tbody>\n",
       "    <tr>\n",
       "      <th>Topic_0</th>\n",
       "      <td>world people nations human today peace new cou...</td>\n",
       "    </tr>\n",
       "    <tr>\n",
       "      <th>Topic_1</th>\n",
       "      <td>nations development security peace world count...</td>\n",
       "    </tr>\n",
       "    <tr>\n",
       "      <th>Topic_2</th>\n",
       "      <td>people peace countries africa world nations so...</td>\n",
       "    </tr>\n",
       "    <tr>\n",
       "      <th>Topic_3</th>\n",
       "      <td>nations countries world peace economic general...</td>\n",
       "    </tr>\n",
       "  </tbody>\n",
       "</table>\n",
       "</div>"
      ],
      "text/plain": [
       "                                                 top_words\n",
       "Topic_0  world people nations human today peace new cou...\n",
       "Topic_1  nations development security peace world count...\n",
       "Topic_2  people peace countries africa world nations so...\n",
       "Topic_3  nations countries world peace economic general..."
      ]
     },
     "execution_count": 50,
     "metadata": {},
     "output_type": "execute_result"
    }
   ],
   "source": [
    "# Call function and specify number of top words\n",
    "numTopWords = 10\n",
    "main_topics_df = top_words_f(numTopWords)\n",
    "main_topics_df"
   ]
  },
  {
   "cell_type": "code",
   "execution_count": 51,
   "id": "lovely-ethics",
   "metadata": {},
   "outputs": [
    {
     "name": "stdout",
     "output_type": "stream",
     "text": [
      "Top words in topic 0: world people nations human today peace new countries years war\n",
      "\n",
      "Top words in topic 1: nations development security peace world countries general community economic council\n",
      "\n",
      "Top words in topic 2: people peace countries africa world nations south security peoples arab\n",
      "\n",
      "Top words in topic 3: nations countries world peace economic general new development nuclear security\n",
      "\n"
     ]
    },
    {
     "name": "stderr",
     "output_type": "stream",
     "text": [
      "C:\\Users\\mtwpi\\AppData\\Local\\Programs\\Python\\Python38\\lib\\site-packages\\ipykernel\\ipkernel.py:287: DeprecationWarning: `should_run_async` will not call `transform_cell` automatically in the future. Please pass the result to `transformed_cell` argument and any exception that happen during thetransform in `preprocessing_exc_tuple` in IPython 7.17 and above.\n"
     ]
    }
   ],
   "source": [
    "for i, each in enumerate(main_topics_df[\"top_words\"]):\n",
    "    print(f\"Top words in topic {i}: {each}\\n\")"
   ]
  },
  {
   "cell_type": "code",
   "execution_count": 52,
   "id": "joint-mercury",
   "metadata": {},
   "outputs": [
    {
     "name": "stderr",
     "output_type": "stream",
     "text": [
      "C:\\Users\\mtwpi\\AppData\\Local\\Programs\\Python\\Python38\\lib\\site-packages\\ipykernel\\ipkernel.py:287: DeprecationWarning: `should_run_async` will not call `transform_cell` automatically in the future. Please pass the result to `transformed_cell` argument and any exception that happen during thetransform in `preprocessing_exc_tuple` in IPython 7.17 and above.\n"
     ]
    }
   ],
   "source": [
    "topicDict = {\n",
    "    0: \"national security\",\n",
    "    1: \"people\",\n",
    "    2: \"countries\",\n",
    "    3: \"development\"\n",
    "}"
   ]
  },
  {
   "cell_type": "code",
   "execution_count": 53,
   "id": "plain-precipitation",
   "metadata": {},
   "outputs": [
    {
     "name": "stderr",
     "output_type": "stream",
     "text": [
      "C:\\Users\\mtwpi\\AppData\\Local\\Programs\\Python\\Python38\\lib\\site-packages\\ipykernel\\ipkernel.py:287: DeprecationWarning: `should_run_async` will not call `transform_cell` automatically in the future. Please pass the result to `transformed_cell` argument and any exception that happen during thetransform in `preprocessing_exc_tuple` in IPython 7.17 and above.\n"
     ]
    }
   ],
   "source": [
    "cols = [\"Topic_\" + str(each) for each in range(lda.n_components)]\n",
    "docs = [\"Document_\" + str(each) for each in range(myX.shape[0])]"
   ]
  },
  {
   "cell_type": "code",
   "execution_count": 54,
   "id": "incomplete-holiday",
   "metadata": {},
   "outputs": [
    {
     "name": "stdout",
     "output_type": "stream",
     "text": [
      "(7507, 4)\n"
     ]
    },
    {
     "name": "stderr",
     "output_type": "stream",
     "text": [
      "C:\\Users\\mtwpi\\AppData\\Local\\Programs\\Python\\Python38\\lib\\site-packages\\ipykernel\\ipkernel.py:287: DeprecationWarning: `should_run_async` will not call `transform_cell` automatically in the future. Please pass the result to `transformed_cell` argument and any exception that happen during thetransform in `preprocessing_exc_tuple` in IPython 7.17 and above.\n"
     ]
    },
    {
     "data": {
      "text/plain": [
       "array([[1.99249091e-02, 6.98776835e-05, 7.52226362e-01, 2.27778852e-01],\n",
       "       [9.37998840e-02, 5.29085838e-03, 1.28174197e-04, 9.00781083e-01],\n",
       "       [8.38622347e-02, 5.87351664e-02, 6.09026160e-04, 8.56793573e-01],\n",
       "       ...,\n",
       "       [2.49349732e-04, 8.41411815e-01, 1.58091845e-01, 2.46990118e-04],\n",
       "       [3.82426769e-02, 9.61289648e-01, 2.35447478e-04, 2.32227869e-04],\n",
       "       [7.66517311e-02, 7.85981063e-01, 1.37046770e-01, 3.20435252e-04]])"
      ]
     },
     "execution_count": 54,
     "metadata": {},
     "output_type": "execute_result"
    }
   ],
   "source": [
    "# the fitted lda model\n",
    "print(doc_topics.shape)\n",
    "doc_topics"
   ]
  },
  {
   "cell_type": "markdown",
   "id": "better-thunder",
   "metadata": {},
   "source": [
    "Honestly, doc_topics is simply a bumnch of weights"
   ]
  },
  {
   "cell_type": "code",
   "execution_count": 55,
   "id": "labeled-incident",
   "metadata": {},
   "outputs": [
    {
     "name": "stderr",
     "output_type": "stream",
     "text": [
      "C:\\Users\\mtwpi\\AppData\\Local\\Programs\\Python\\Python38\\lib\\site-packages\\ipykernel\\ipkernel.py:287: DeprecationWarning: `should_run_async` will not call `transform_cell` automatically in the future. Please pass the result to `transformed_cell` argument and any exception that happen during thetransform in `preprocessing_exc_tuple` in IPython 7.17 and above.\n"
     ]
    },
    {
     "data": {
      "text/html": [
       "<div>\n",
       "<style scoped>\n",
       "    .dataframe tbody tr th:only-of-type {\n",
       "        vertical-align: middle;\n",
       "    }\n",
       "\n",
       "    .dataframe tbody tr th {\n",
       "        vertical-align: top;\n",
       "    }\n",
       "\n",
       "    .dataframe thead th {\n",
       "        text-align: right;\n",
       "    }\n",
       "</style>\n",
       "<table border=\"1\" class=\"dataframe\">\n",
       "  <thead>\n",
       "    <tr style=\"text-align: right;\">\n",
       "      <th></th>\n",
       "      <th>Topic_0</th>\n",
       "      <th>Topic_1</th>\n",
       "      <th>Topic_2</th>\n",
       "      <th>Topic_3</th>\n",
       "      <th>top_topic</th>\n",
       "    </tr>\n",
       "  </thead>\n",
       "  <tbody>\n",
       "    <tr>\n",
       "      <th>Document_0</th>\n",
       "      <td>0.02</td>\n",
       "      <td>0.00</td>\n",
       "      <td>0.75</td>\n",
       "      <td>0.23</td>\n",
       "      <td>2</td>\n",
       "    </tr>\n",
       "    <tr>\n",
       "      <th>Document_1</th>\n",
       "      <td>0.09</td>\n",
       "      <td>0.01</td>\n",
       "      <td>0.00</td>\n",
       "      <td>0.90</td>\n",
       "      <td>3</td>\n",
       "    </tr>\n",
       "    <tr>\n",
       "      <th>Document_2</th>\n",
       "      <td>0.08</td>\n",
       "      <td>0.06</td>\n",
       "      <td>0.00</td>\n",
       "      <td>0.86</td>\n",
       "      <td>3</td>\n",
       "    </tr>\n",
       "    <tr>\n",
       "      <th>Document_3</th>\n",
       "      <td>0.07</td>\n",
       "      <td>0.03</td>\n",
       "      <td>0.02</td>\n",
       "      <td>0.88</td>\n",
       "      <td>3</td>\n",
       "    </tr>\n",
       "    <tr>\n",
       "      <th>Document_4</th>\n",
       "      <td>0.08</td>\n",
       "      <td>0.05</td>\n",
       "      <td>0.00</td>\n",
       "      <td>0.87</td>\n",
       "      <td>3</td>\n",
       "    </tr>\n",
       "    <tr>\n",
       "      <th>...</th>\n",
       "      <td>...</td>\n",
       "      <td>...</td>\n",
       "      <td>...</td>\n",
       "      <td>...</td>\n",
       "      <td>...</td>\n",
       "    </tr>\n",
       "    <tr>\n",
       "      <th>Document_7502</th>\n",
       "      <td>0.14</td>\n",
       "      <td>0.29</td>\n",
       "      <td>0.57</td>\n",
       "      <td>0.00</td>\n",
       "      <td>2</td>\n",
       "    </tr>\n",
       "    <tr>\n",
       "      <th>Document_7503</th>\n",
       "      <td>0.70</td>\n",
       "      <td>0.21</td>\n",
       "      <td>0.00</td>\n",
       "      <td>0.09</td>\n",
       "      <td>0</td>\n",
       "    </tr>\n",
       "    <tr>\n",
       "      <th>Document_7504</th>\n",
       "      <td>0.00</td>\n",
       "      <td>0.84</td>\n",
       "      <td>0.16</td>\n",
       "      <td>0.00</td>\n",
       "      <td>1</td>\n",
       "    </tr>\n",
       "    <tr>\n",
       "      <th>Document_7505</th>\n",
       "      <td>0.04</td>\n",
       "      <td>0.96</td>\n",
       "      <td>0.00</td>\n",
       "      <td>0.00</td>\n",
       "      <td>1</td>\n",
       "    </tr>\n",
       "    <tr>\n",
       "      <th>Document_7506</th>\n",
       "      <td>0.08</td>\n",
       "      <td>0.79</td>\n",
       "      <td>0.14</td>\n",
       "      <td>0.00</td>\n",
       "      <td>1</td>\n",
       "    </tr>\n",
       "  </tbody>\n",
       "</table>\n",
       "<p>7507 rows × 5 columns</p>\n",
       "</div>"
      ],
      "text/plain": [
       "               Topic_0  Topic_1  Topic_2  Topic_3  top_topic\n",
       "Document_0        0.02     0.00     0.75     0.23          2\n",
       "Document_1        0.09     0.01     0.00     0.90          3\n",
       "Document_2        0.08     0.06     0.00     0.86          3\n",
       "Document_3        0.07     0.03     0.02     0.88          3\n",
       "Document_4        0.08     0.05     0.00     0.87          3\n",
       "...                ...      ...      ...      ...        ...\n",
       "Document_7502     0.14     0.29     0.57     0.00          2\n",
       "Document_7503     0.70     0.21     0.00     0.09          0\n",
       "Document_7504     0.00     0.84     0.16     0.00          1\n",
       "Document_7505     0.04     0.96     0.00     0.00          1\n",
       "Document_7506     0.08     0.79     0.14     0.00          1\n",
       "\n",
       "[7507 rows x 5 columns]"
      ]
     },
     "execution_count": 55,
     "metadata": {},
     "output_type": "execute_result"
    }
   ],
   "source": [
    "df_topics_df = pd.DataFrame(np.round(doc_topics, 2),\n",
    "                        columns=cols,\n",
    "                        index=docs)\n",
    "imp_topic = np.argmax(df_topics_df.values, axis=1)\n",
    "df_topics_df[\"top_topic\"] = imp_topic\n",
    "df_topics_df"
   ]
  },
  {
   "cell_type": "code",
   "execution_count": 65,
   "id": "recovered-surfing",
   "metadata": {},
   "outputs": [
    {
     "name": "stdout",
     "output_type": "stream",
     "text": [
      "Speeches shape: (7507, 7)\n",
      "Topics Shape: (7507, 5)\n"
     ]
    },
    {
     "name": "stderr",
     "output_type": "stream",
     "text": [
      "C:\\Users\\mtwpi\\AppData\\Local\\Programs\\Python\\Python38\\lib\\site-packages\\ipykernel\\ipkernel.py:287: DeprecationWarning: `should_run_async` will not call `transform_cell` automatically in the future. Please pass the result to `transformed_cell` argument and any exception that happen during thetransform in `preprocessing_exc_tuple` in IPython 7.17 and above.\n"
     ]
    }
   ],
   "source": [
    "print(f\"Speeches shape: {speeches.shape}\")\n",
    "print(f\"Topics Shape: {df_topics_df.shape}\")"
   ]
  },
  {
   "cell_type": "code",
   "execution_count": 67,
   "id": "expensive-nirvana",
   "metadata": {},
   "outputs": [
    {
     "name": "stdout",
     "output_type": "stream",
     "text": [
      "speech_topics shape: (7507, 12)\n"
     ]
    },
    {
     "name": "stderr",
     "output_type": "stream",
     "text": [
      "C:\\Users\\mtwpi\\AppData\\Local\\Programs\\Python\\Python38\\lib\\site-packages\\ipykernel\\ipkernel.py:287: DeprecationWarning: `should_run_async` will not call `transform_cell` automatically in the future. Please pass the result to `transformed_cell` argument and any exception that happen during thetransform in `preprocessing_exc_tuple` in IPython 7.17 and above.\n"
     ]
    },
    {
     "data": {
      "text/html": [
       "<div>\n",
       "<style scoped>\n",
       "    .dataframe tbody tr th:only-of-type {\n",
       "        vertical-align: middle;\n",
       "    }\n",
       "\n",
       "    .dataframe tbody tr th {\n",
       "        vertical-align: top;\n",
       "    }\n",
       "\n",
       "    .dataframe thead th {\n",
       "        text-align: right;\n",
       "    }\n",
       "</style>\n",
       "<table border=\"1\" class=\"dataframe\">\n",
       "  <thead>\n",
       "    <tr style=\"text-align: right;\">\n",
       "      <th></th>\n",
       "      <th>session</th>\n",
       "      <th>year</th>\n",
       "      <th>country</th>\n",
       "      <th>country_name</th>\n",
       "      <th>speaker</th>\n",
       "      <th>position</th>\n",
       "      <th>text</th>\n",
       "      <th>Topic_0</th>\n",
       "      <th>Topic_1</th>\n",
       "      <th>Topic_2</th>\n",
       "      <th>Topic_3</th>\n",
       "      <th>top_topic</th>\n",
       "    </tr>\n",
       "  </thead>\n",
       "  <tbody>\n",
       "    <tr>\n",
       "      <th>0</th>\n",
       "      <td>25</td>\n",
       "      <td>1970</td>\n",
       "      <td>ALB</td>\n",
       "      <td>Albania</td>\n",
       "      <td>Mr. NAS</td>\n",
       "      <td>NaN</td>\n",
       "      <td>33: May I first convey to our President the co...</td>\n",
       "      <td>0.02</td>\n",
       "      <td>0.00</td>\n",
       "      <td>0.75</td>\n",
       "      <td>0.23</td>\n",
       "      <td>2</td>\n",
       "    </tr>\n",
       "    <tr>\n",
       "      <th>1</th>\n",
       "      <td>25</td>\n",
       "      <td>1970</td>\n",
       "      <td>ARG</td>\n",
       "      <td>Argentina</td>\n",
       "      <td>Mr. DE PABLO PARDO</td>\n",
       "      <td>NaN</td>\n",
       "      <td>177.\\t : It is a fortunate coincidence that pr...</td>\n",
       "      <td>0.09</td>\n",
       "      <td>0.01</td>\n",
       "      <td>0.00</td>\n",
       "      <td>0.90</td>\n",
       "      <td>3</td>\n",
       "    </tr>\n",
       "    <tr>\n",
       "      <th>2</th>\n",
       "      <td>25</td>\n",
       "      <td>1970</td>\n",
       "      <td>AUS</td>\n",
       "      <td>Australia</td>\n",
       "      <td>Mr. McMAHON</td>\n",
       "      <td>NaN</td>\n",
       "      <td>100.\\t  It is a pleasure for me to extend to y...</td>\n",
       "      <td>0.08</td>\n",
       "      <td>0.06</td>\n",
       "      <td>0.00</td>\n",
       "      <td>0.86</td>\n",
       "      <td>3</td>\n",
       "    </tr>\n",
       "    <tr>\n",
       "      <th>3</th>\n",
       "      <td>25</td>\n",
       "      <td>1970</td>\n",
       "      <td>AUT</td>\n",
       "      <td>Austria</td>\n",
       "      <td>Mr. KIRCHSCHLAEGER</td>\n",
       "      <td>NaN</td>\n",
       "      <td>155.\\t  May I begin by expressing to Ambassado...</td>\n",
       "      <td>0.07</td>\n",
       "      <td>0.03</td>\n",
       "      <td>0.02</td>\n",
       "      <td>0.88</td>\n",
       "      <td>3</td>\n",
       "    </tr>\n",
       "    <tr>\n",
       "      <th>4</th>\n",
       "      <td>25</td>\n",
       "      <td>1970</td>\n",
       "      <td>BEL</td>\n",
       "      <td>Belgium</td>\n",
       "      <td>Mr. HARMEL</td>\n",
       "      <td>NaN</td>\n",
       "      <td>176. No doubt each of us, before coming up to ...</td>\n",
       "      <td>0.08</td>\n",
       "      <td>0.05</td>\n",
       "      <td>0.00</td>\n",
       "      <td>0.87</td>\n",
       "      <td>3</td>\n",
       "    </tr>\n",
       "  </tbody>\n",
       "</table>\n",
       "</div>"
      ],
      "text/plain": [
       "   session  year country country_name             speaker position  \\\n",
       "0       25  1970     ALB      Albania             Mr. NAS      NaN   \n",
       "1       25  1970     ARG    Argentina  Mr. DE PABLO PARDO      NaN   \n",
       "2       25  1970     AUS    Australia         Mr. McMAHON      NaN   \n",
       "3       25  1970     AUT      Austria  Mr. KIRCHSCHLAEGER      NaN   \n",
       "4       25  1970     BEL      Belgium          Mr. HARMEL      NaN   \n",
       "\n",
       "                                                text  Topic_0  Topic_1  \\\n",
       "0  33: May I first convey to our President the co...     0.02     0.00   \n",
       "1  177.\\t : It is a fortunate coincidence that pr...     0.09     0.01   \n",
       "2  100.\\t  It is a pleasure for me to extend to y...     0.08     0.06   \n",
       "3  155.\\t  May I begin by expressing to Ambassado...     0.07     0.03   \n",
       "4  176. No doubt each of us, before coming up to ...     0.08     0.05   \n",
       "\n",
       "   Topic_2  Topic_3  top_topic  \n",
       "0     0.75     0.23          2  \n",
       "1     0.00     0.90          3  \n",
       "2     0.00     0.86          3  \n",
       "3     0.02     0.88          3  \n",
       "4     0.00     0.87          3  "
      ]
     },
     "execution_count": 67,
     "metadata": {},
     "output_type": "execute_result"
    }
   ],
   "source": [
    "# TODO: horizontally concat with speeches\n",
    "# pd.concat([speeches, df_topics_df], axis = 1, ignore_index = True)\n",
    "speech_topics = pd.concat([speeches.reset_index(drop=True), df_topics_df.reset_index(drop=True)], axis=1)\n",
    "print(f\"speech_topics shape: {speech_topics.shape}\")\n",
    "speech_topics.head()"
   ]
  },
  {
   "cell_type": "code",
   "execution_count": 57,
   "id": "boxed-facility",
   "metadata": {},
   "outputs": [
    {
     "name": "stderr",
     "output_type": "stream",
     "text": [
      "C:\\Users\\mtwpi\\AppData\\Local\\Programs\\Python\\Python38\\lib\\site-packages\\ipykernel\\ipkernel.py:287: DeprecationWarning: `should_run_async` will not call `transform_cell` automatically in the future. Please pass the result to `transformed_cell` argument and any exception that happen during thetransform in `preprocessing_exc_tuple` in IPython 7.17 and above.\n"
     ]
    }
   ],
   "source": [
    "# pyLDAvis.save_html(viz, 'lda.html')\n",
    "# pyLDAvis.save_html(viz, \"lda_4_topics.html\")"
   ]
  },
  {
   "cell_type": "code",
   "execution_count": null,
   "id": "charitable-latitude",
   "metadata": {},
   "outputs": [],
   "source": []
  },
  {
   "cell_type": "code",
   "execution_count": null,
   "id": "dedicated-value",
   "metadata": {},
   "outputs": [],
   "source": []
  },
  {
   "cell_type": "code",
   "execution_count": null,
   "id": "commercial-threat",
   "metadata": {},
   "outputs": [],
   "source": []
  },
  {
   "cell_type": "code",
   "execution_count": null,
   "id": "directed-essex",
   "metadata": {},
   "outputs": [],
   "source": []
  },
  {
   "cell_type": "code",
   "execution_count": null,
   "id": "burning-pitch",
   "metadata": {},
   "outputs": [],
   "source": []
  },
  {
   "cell_type": "code",
   "execution_count": null,
   "id": "ranging-monroe",
   "metadata": {},
   "outputs": [],
   "source": []
  },
  {
   "cell_type": "code",
   "execution_count": 59,
   "id": "incomplete-cigarette",
   "metadata": {},
   "outputs": [
    {
     "name": "stderr",
     "output_type": "stream",
     "text": [
      "C:\\Users\\mtwpi\\AppData\\Local\\Programs\\Python\\Python38\\lib\\site-packages\\ipykernel\\ipkernel.py:287: DeprecationWarning: `should_run_async` will not call `transform_cell` automatically in the future. Please pass the result to `transformed_cell` argument and any exception that happen during thetransform in `preprocessing_exc_tuple` in IPython 7.17 and above.\n"
     ]
    }
   ],
   "source": [
    "# summarize = pipeline(\"summarization\")\n",
    "# summary = summarize(list_of_strings[0:1], max_length = 10, clean_up_tokenization_spaces=True)\n",
    "# summary"
   ]
  },
  {
   "cell_type": "code",
   "execution_count": null,
   "id": "intense-fleece",
   "metadata": {
    "scrolled": true
   },
   "outputs": [],
   "source": [
    "# '''\n",
    "# for every speech:\n",
    "#     spawn nlp()\n",
    "#     tokenize()\n",
    "#     remove stop words\n",
    "#     remove punctuation and special characters!\n",
    "    \n",
    "# '''\n",
    "# def toTokenize(text):\n",
    "#     '''\n",
    "#     Tokenizes a text\n",
    "    \n",
    "#     @param NLP text the given NLP figure\n",
    "#     @return a list of tokenized words\n",
    "#     '''\n",
    "#     text_tokenized = []\n",
    "\n",
    "#     for t in text:\n",
    "#         text_tokenized.append(t.text)\n",
    "#     return text_tokenized\n",
    "\n",
    "# def removeStopwords(text_tokenized, sw = both_sw):\n",
    "#     '''\n",
    "#     Removes stopwords from a given tokenized text list\n",
    "    \n",
    "#     @param list text_tokenized the given list of tokenized words\n",
    "#     @param set sw default is the nltk-spaCy stopwords\n",
    "#     @return a filtered, tokenized list (without stopwords!)\n",
    "#     '''\n",
    "    \n",
    "#     # Filter out stopwords (using list comprehension)\n",
    "#     text_filtered = [w for w in text_tokenized if w not in sw]\n",
    "#     return text_filtered\n",
    "\n",
    "# def toLemmatize():\n",
    "#     '''\n",
    "    \n",
    "#     '''\n",
    "#     print(\"helo\")\n",
    "\n",
    "# maxNumDoc = 3\n",
    "# # docIndex = 0\n",
    "# for docIndex in range(len(speeches.text[0:maxNumDoc])):\n",
    "\n",
    "#     speech = speeches[\"text\"][docIndex].lower()\n",
    "    \n",
    "#     # nlp object\n",
    "#     nlpSpeech = nlp(speech)\n",
    "    \n",
    "#     # tokenize speech\n",
    "#     text_tokenized = toTokenize(nlpSpeech)\n",
    "    \n",
    "#     # tokenized, no stopwords\n",
    "#     text_filtered = removeStopwords(text_tokenized)\n",
    "    \n",
    "    \n",
    "#     vec = CountVectorizer\n",
    "# #     sentiment_polarity = [textblob.TextBlob(speech.text).sentiment.polarity for speech in doc]\n",
    "# #     print(len(sentiment_polarity))"
   ]
  },
  {
   "cell_type": "code",
   "execution_count": null,
   "id": "durable-compiler",
   "metadata": {},
   "outputs": [],
   "source": [
    "# # print(\"hello\")\n",
    "# myLemonizer = WordNetLemmatizer()\n",
    "# myStemmer = SnowballStemmer(language = \"english\")\n",
    "# words = [\"viet-nam\", \"Vietnam\", \"Viet\", \"depending\", \"depends\", \n",
    "#          \"carries\", \"carry\", \"carri\", \"generosity\", \"generous\", \"better\",\n",
    "#          \"best\", \"in a meeting\", \"meeting\", \"am meeting you\", \"countries\", \"country\"\n",
    "#         ]\n",
    "# for word in words:\n",
    "#     word = word.lower()\n",
    "#     print(f\"Lemmatize: {myLemonizer.lemmatize(word)}, Stem: {myStemmer.stem(word)}\")"
   ]
  },
  {
   "cell_type": "code",
   "execution_count": null,
   "id": "little-arbitration",
   "metadata": {},
   "outputs": [],
   "source": [
    "# sentiment_polarity = [textblob.TextBlob(speech).sentiment.polarity for speech in speeches.text[0:5]]\n",
    "# predicted_sentiments = ['positive' if score >= 0.1 else 'negative' for score in sentiment_polarity]"
   ]
  },
  {
   "cell_type": "code",
   "execution_count": null,
   "id": "special-louisville",
   "metadata": {},
   "outputs": [],
   "source": [
    "# sentiment_polarity"
   ]
  },
  {
   "cell_type": "code",
   "execution_count": null,
   "id": "bridal-sport",
   "metadata": {},
   "outputs": [],
   "source": []
  },
  {
   "cell_type": "markdown",
   "id": "adaptive-comment",
   "metadata": {},
   "source": [
    "Spliting CSV files in Python\n",
    "\n",
    "https://dzone.com/articles/splitting-csv-files-in-python"
   ]
  }
 ],
 "metadata": {
  "kernelspec": {
   "display_name": "Python 3",
   "language": "python",
   "name": "python3"
  },
  "language_info": {
   "codemirror_mode": {
    "name": "ipython",
    "version": 3
   },
   "file_extension": ".py",
   "mimetype": "text/x-python",
   "name": "python",
   "nbconvert_exporter": "python",
   "pygments_lexer": "ipython3",
   "version": "3.8.5"
  }
 },
 "nbformat": 4,
 "nbformat_minor": 5
}
