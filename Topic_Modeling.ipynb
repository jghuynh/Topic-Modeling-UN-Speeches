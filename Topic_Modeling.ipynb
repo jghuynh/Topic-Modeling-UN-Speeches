{
 "cells": [
  {
   "cell_type": "code",
   "execution_count": 27,
   "id": "young-mountain",
   "metadata": {},
   "outputs": [
    {
     "name": "stderr",
     "output_type": "stream",
     "text": [
      "C:\\Users\\mtwpi\\AppData\\Local\\Programs\\Python\\Python38\\lib\\site-packages\\ipykernel\\ipkernel.py:287: DeprecationWarning: `should_run_async` will not call `transform_cell` automatically in the future. Please pass the result to `transformed_cell` argument and any exception that happen during thetransform in `preprocessing_exc_tuple` in IPython 7.17 and above.\n"
     ]
    }
   ],
   "source": [
    "import spacy\n",
    "import numpy as np\n",
    "import pandas as pd\n",
    "import matplotlib.pyplot as plt\n",
    "import altair\n",
    "from dfply import *\n",
    "from plotnine import *\n",
    "import seaborn as sns\n",
    "import missingno\n",
    "import random\n",
    "\n",
    "# Stopwords from sklearn\n",
    "# Stopwords\n",
    "from sklearn.feature_extraction.text import ENGLISH_STOP_WORDS as esw\n",
    "\n",
    "#### Stopwords from nltk\n",
    "import nltk\n",
    "from nltk.corpus import stopwords\n",
    "nltk_sw = stopwords.words(\"english\")\n",
    "\n",
    "#### Stopwrods from spacy\n",
    "from spacy.lang.en.stop_words import STOP_WORDS as spacy_sw\n",
    "\n",
    "## Sentiemtn Analysis\n",
    "import textblob\n",
    "import vaderSentiment\n",
    "\n",
    "# Count vectorizer for word frequencies\n",
    "from sklearn.feature_extraction.text import CountVectorizer\n",
    "from sklearn.decomposition import LatentDirichletAllocation\n",
    "# Lemonizer\n",
    "from nltk.stem.wordnet import WordNetLemmatizer\n",
    "# Stemer\n",
    "from nltk.stem import SnowballStemmer\n",
    "\n",
    "# Topic modeling\n",
    "import gensim\n",
    "import pyLDAvis\n",
    "import pyLDAvis.gensim_models as gensimvis\n",
    "pyLDAvis.enable_notebook()\n",
    "from gensim import corpora\n",
    "import pickle # saves the object into a file\n",
    "# But don't worry Python can understand it\n",
    "# import spacy\n",
    "# spacy.load('en_core_web_sm')\n",
    "# from spacy.lang.en import English\n",
    "# parser = English()\n",
    "# import nltk\n",
    "# nltk.download('wordnet')\n",
    "# from nltk.corpus import wordnet as wn\n",
    "from transformers import pipeline"
   ]
  },
  {
   "cell_type": "code",
   "execution_count": 28,
   "id": "imported-century",
   "metadata": {},
   "outputs": [
    {
     "name": "stderr",
     "output_type": "stream",
     "text": [
      "C:\\Users\\mtwpi\\AppData\\Local\\Programs\\Python\\Python38\\lib\\site-packages\\ipykernel\\ipkernel.py:287: DeprecationWarning: `should_run_async` will not call `transform_cell` automatically in the future. Please pass the result to `transformed_cell` argument and any exception that happen during thetransform in `preprocessing_exc_tuple` in IPython 7.17 and above.\n"
     ]
    }
   ],
   "source": [
    "import sys\n",
    "# !{sys.executable}-m pip install --upgrade ipykernel"
   ]
  },
  {
   "cell_type": "code",
   "execution_count": 29,
   "id": "available-injury",
   "metadata": {},
   "outputs": [
    {
     "name": "stderr",
     "output_type": "stream",
     "text": [
      "C:\\Users\\mtwpi\\AppData\\Local\\Programs\\Python\\Python38\\lib\\site-packages\\ipykernel\\ipkernel.py:287: DeprecationWarning: `should_run_async` will not call `transform_cell` automatically in the future. Please pass the result to `transformed_cell` argument and any exception that happen during thetransform in `preprocessing_exc_tuple` in IPython 7.17 and above.\n"
     ]
    }
   ],
   "source": [
    "# Stopword calculations\n",
    "en_stop = set(nltk.corpus.stopwords.words('english'))\n",
    "specialChars = \"!@#$%^&*()\\'\\\"?.,~<>_-+{}[]|;\"\n",
    "myPunc = set(specialChars)\n",
    "en_stop.update(myPunc)\n",
    "en_stop.add('n\\'t')"
   ]
  },
  {
   "cell_type": "code",
   "execution_count": 30,
   "id": "living-bubble",
   "metadata": {},
   "outputs": [
    {
     "name": "stderr",
     "output_type": "stream",
     "text": [
      "C:\\Users\\mtwpi\\AppData\\Local\\Programs\\Python\\Python38\\lib\\site-packages\\ipykernel\\ipkernel.py:287: DeprecationWarning: `should_run_async` will not call `transform_cell` automatically in the future. Please pass the result to `transformed_cell` argument and any exception that happen during thetransform in `preprocessing_exc_tuple` in IPython 7.17 and above.\n"
     ]
    },
    {
     "name": "stdout",
     "output_type": "stream",
     "text": [
      "(7507, 7)\n",
      "Index(['session', 'year', 'country', 'country_name', 'speaker', 'position',\n",
      "       'text'],\n",
      "      dtype='object')\n"
     ]
    }
   ],
   "source": [
    "speeches = pd.read_csv(\"un_gen_debates_text.csv\", encoding = \"utf-8\")\n",
    "print(speeches.shape)\n",
    "print(speeches.columns)"
   ]
  },
  {
   "cell_type": "markdown",
   "id": "bibliographic-comment",
   "metadata": {},
   "source": [
    "7507 rows, 7 different columns."
   ]
  },
  {
   "cell_type": "code",
   "execution_count": 31,
   "id": "single-capability",
   "metadata": {},
   "outputs": [
    {
     "name": "stderr",
     "output_type": "stream",
     "text": [
      "C:\\Users\\mtwpi\\AppData\\Local\\Programs\\Python\\Python38\\lib\\site-packages\\ipykernel\\ipkernel.py:287: DeprecationWarning: `should_run_async` will not call `transform_cell` automatically in the future. Please pass the result to `transformed_cell` argument and any exception that happen during thetransform in `preprocessing_exc_tuple` in IPython 7.17 and above.\n"
     ]
    },
    {
     "data": {
      "text/html": [
       "<div>\n",
       "<style scoped>\n",
       "    .dataframe tbody tr th:only-of-type {\n",
       "        vertical-align: middle;\n",
       "    }\n",
       "\n",
       "    .dataframe tbody tr th {\n",
       "        vertical-align: top;\n",
       "    }\n",
       "\n",
       "    .dataframe thead th {\n",
       "        text-align: right;\n",
       "    }\n",
       "</style>\n",
       "<table border=\"1\" class=\"dataframe\">\n",
       "  <thead>\n",
       "    <tr style=\"text-align: right;\">\n",
       "      <th></th>\n",
       "      <th>session</th>\n",
       "      <th>year</th>\n",
       "      <th>country</th>\n",
       "      <th>country_name</th>\n",
       "      <th>speaker</th>\n",
       "      <th>position</th>\n",
       "      <th>text</th>\n",
       "    </tr>\n",
       "  </thead>\n",
       "  <tbody>\n",
       "    <tr>\n",
       "      <th>0</th>\n",
       "      <td>25</td>\n",
       "      <td>1970</td>\n",
       "      <td>ALB</td>\n",
       "      <td>Albania</td>\n",
       "      <td>Mr. NAS</td>\n",
       "      <td>NaN</td>\n",
       "      <td>33: May I first convey to our President the co...</td>\n",
       "    </tr>\n",
       "    <tr>\n",
       "      <th>1</th>\n",
       "      <td>25</td>\n",
       "      <td>1970</td>\n",
       "      <td>ARG</td>\n",
       "      <td>Argentina</td>\n",
       "      <td>Mr. DE PABLO PARDO</td>\n",
       "      <td>NaN</td>\n",
       "      <td>177.\\t : It is a fortunate coincidence that pr...</td>\n",
       "    </tr>\n",
       "    <tr>\n",
       "      <th>2</th>\n",
       "      <td>25</td>\n",
       "      <td>1970</td>\n",
       "      <td>AUS</td>\n",
       "      <td>Australia</td>\n",
       "      <td>Mr. McMAHON</td>\n",
       "      <td>NaN</td>\n",
       "      <td>100.\\t  It is a pleasure for me to extend to y...</td>\n",
       "    </tr>\n",
       "    <tr>\n",
       "      <th>3</th>\n",
       "      <td>25</td>\n",
       "      <td>1970</td>\n",
       "      <td>AUT</td>\n",
       "      <td>Austria</td>\n",
       "      <td>Mr. KIRCHSCHLAEGER</td>\n",
       "      <td>NaN</td>\n",
       "      <td>155.\\t  May I begin by expressing to Ambassado...</td>\n",
       "    </tr>\n",
       "    <tr>\n",
       "      <th>4</th>\n",
       "      <td>25</td>\n",
       "      <td>1970</td>\n",
       "      <td>BEL</td>\n",
       "      <td>Belgium</td>\n",
       "      <td>Mr. HARMEL</td>\n",
       "      <td>NaN</td>\n",
       "      <td>176. No doubt each of us, before coming up to ...</td>\n",
       "    </tr>\n",
       "  </tbody>\n",
       "</table>\n",
       "</div>"
      ],
      "text/plain": [
       "   session  year country country_name             speaker position  \\\n",
       "0       25  1970     ALB      Albania             Mr. NAS      NaN   \n",
       "1       25  1970     ARG    Argentina  Mr. DE PABLO PARDO      NaN   \n",
       "2       25  1970     AUS    Australia         Mr. McMAHON      NaN   \n",
       "3       25  1970     AUT      Austria  Mr. KIRCHSCHLAEGER      NaN   \n",
       "4       25  1970     BEL      Belgium          Mr. HARMEL      NaN   \n",
       "\n",
       "                                                text  \n",
       "0  33: May I first convey to our President the co...  \n",
       "1  177.\\t : It is a fortunate coincidence that pr...  \n",
       "2  100.\\t  It is a pleasure for me to extend to y...  \n",
       "3  155.\\t  May I begin by expressing to Ambassado...  \n",
       "4  176. No doubt each of us, before coming up to ...  "
      ]
     },
     "execution_count": 31,
     "metadata": {},
     "output_type": "execute_result"
    }
   ],
   "source": [
    "speeches.head()"
   ]
  },
  {
   "cell_type": "code",
   "execution_count": 32,
   "id": "protective-possibility",
   "metadata": {},
   "outputs": [
    {
     "name": "stderr",
     "output_type": "stream",
     "text": [
      "C:\\Users\\mtwpi\\AppData\\Local\\Programs\\Python\\Python38\\lib\\site-packages\\ipykernel\\ipkernel.py:287: DeprecationWarning: `should_run_async` will not call `transform_cell` automatically in the future. Please pass the result to `transformed_cell` argument and any exception that happen during thetransform in `preprocessing_exc_tuple` in IPython 7.17 and above.\n"
     ]
    },
    {
     "data": {
      "text/plain": [
       "<AxesSubplot:>"
      ]
     },
     "execution_count": 32,
     "metadata": {},
     "output_type": "execute_result"
    },
    {
     "data": {
      "image/png": "[encoded data removed]",
      "text/plain": [
       "<Figure size 1800x720 with 2 Axes>"
      ]
     },
     "metadata": {
      "needs_background": "light"
     },
     "output_type": "display_data"
    }
   ],
   "source": [
    "missingno.matrix(speeches)"
   ]
  },
  {
   "cell_type": "markdown",
   "id": "direct-prompt",
   "metadata": {},
   "source": [
    "Position appears to be the column with the biggest amount of missingness."
   ]
  },
  {
   "cell_type": "code",
   "execution_count": 33,
   "id": "geological-jungle",
   "metadata": {},
   "outputs": [
    {
     "name": "stderr",
     "output_type": "stream",
     "text": [
      "C:\\Users\\mtwpi\\AppData\\Local\\Programs\\Python\\Python38\\lib\\site-packages\\ipykernel\\ipkernel.py:287: DeprecationWarning: `should_run_async` will not call `transform_cell` automatically in the future. Please pass the result to `transformed_cell` argument and any exception that happen during thetransform in `preprocessing_exc_tuple` in IPython 7.17 and above.\n"
     ]
    },
    {
     "data": {
      "text/plain": [
       "session            0\n",
       "year               0\n",
       "country            0\n",
       "country_name       0\n",
       "speaker           27\n",
       "position        3005\n",
       "text               0\n",
       "dtype: int64"
      ]
     },
     "execution_count": 33,
     "metadata": {},
     "output_type": "execute_result"
    }
   ],
   "source": [
    "speeches.isna().sum()"
   ]
  },
  {
   "cell_type": "markdown",
   "id": "existing-blind",
   "metadata": {},
   "source": [
    "Wow. There are quite a bit of NAs in the `position` column. I wonder why. \n",
    "\n",
    "And a little bit in the `speaker` column."
   ]
  },
  {
   "cell_type": "markdown",
   "id": "pressing-functionality",
   "metadata": {},
   "source": [
    "My God these humans talked a FREAKTON! \n",
    "\n",
    "I'd rather eat horse scat off a rotting cow than read this mess."
   ]
  },
  {
   "cell_type": "code",
   "execution_count": 35,
   "id": "practical-dining",
   "metadata": {},
   "outputs": [
    {
     "name": "stderr",
     "output_type": "stream",
     "text": [
      "C:\\Users\\mtwpi\\AppData\\Local\\Programs\\Python\\Python38\\lib\\site-packages\\ipykernel\\ipkernel.py:287: DeprecationWarning: `should_run_async` will not call `transform_cell` automatically in the future. Please pass the result to `transformed_cell` argument and any exception that happen during thetransform in `preprocessing_exc_tuple` in IPython 7.17 and above.\n"
     ]
    }
   ],
   "source": [
    "# Creating an nlp object\n",
    "nlp = spacy.load(\"en_core_web_sm\")\n",
    "doc = nlp(speeches.text[0])"
   ]
  },
  {
   "cell_type": "markdown",
   "id": "defensive-appearance",
   "metadata": {},
   "source": [
    "### Printing text, lemma, parts of speech..."
   ]
  },
  {
   "cell_type": "code",
   "execution_count": null,
   "id": "settled-revision",
   "metadata": {},
   "outputs": [],
   "source": [
    "# for token in doc:\n",
    "#     print(token.text, token.lemma_, token.pos_, token.tag_, token.dep_,\n",
    "#             token.shape_, token.is_alpha, token.is_stop)"
   ]
  },
  {
   "cell_type": "code",
   "execution_count": null,
   "id": "color-bandwidth",
   "metadata": {},
   "outputs": [],
   "source": [
    "textblob.TextBlob(doc.text).sentiment.polarity"
   ]
  },
  {
   "cell_type": "markdown",
   "id": "prepared-saying",
   "metadata": {},
   "source": [
    "As a whole, the first speech is filled with 0.12 sentiment. Barely positive feelings."
   ]
  },
  {
   "cell_type": "code",
   "execution_count": null,
   "id": "abstract-pennsylvania",
   "metadata": {},
   "outputs": [],
   "source": [
    "print(f\"Number of stop words in nltk list: {len(nltk_sw)}\")\n",
    "print(f\"Number of stop words in list: {len(spacy_sw)}\")\n",
    "#### Comparing stopword lists\n",
    "print(f\"Words in spacy but not in nltk: {spacy_sw.difference(set(nltk_sw))}\")"
   ]
  },
  {
   "cell_type": "code",
   "execution_count": null,
   "id": "related-works",
   "metadata": {},
   "outputs": [],
   "source": [
    "#### Comparing stopword lists\n",
    "print(f\"Words in spacy but not in sklearn: {spacy_sw.difference(esw)}\")"
   ]
  },
  {
   "cell_type": "code",
   "execution_count": null,
   "id": "prospective-moment",
   "metadata": {},
   "outputs": [],
   "source": [
    "#### Combine nltk and spacy stopwords into one: both_sw\n",
    "both_sw = set.union(en_stop, spacy_sw)\n",
    "# both_sw = en_stop.update(spacy_sw)\n",
    "print(f\"Length of both nltk and spacy stopwords: {len(both_sw)}\")\n",
    "\n"
   ]
  },
  {
   "cell_type": "markdown",
   "id": "union-planet",
   "metadata": {},
   "source": [
    "We have successfully combined nltk, spacy, and Daniel's stop words!"
   ]
  },
  {
   "cell_type": "code",
   "execution_count": null,
   "id": "nonprofit-genealogy",
   "metadata": {},
   "outputs": [],
   "source": [
    "### Vectorize training text, set min_df to 5\n",
    "speeches_text = CountVectorizer(min_df=5).fit_transform(speeches[\"text\"])\n",
    "# We want words who appear in at least 5 docs"
   ]
  },
  {
   "cell_type": "code",
   "execution_count": null,
   "id": "suspended-apparel",
   "metadata": {},
   "outputs": [],
   "source": [
    "print(f\"Number Of Features, taking words that occur in at least 5 dfs: {speeches_text.shape[1]}\")"
   ]
  },
  {
   "cell_type": "code",
   "execution_count": null,
   "id": "martial-tolerance",
   "metadata": {},
   "outputs": [],
   "source": [
    "speeches.head()"
   ]
  },
  {
   "cell_type": "markdown",
   "id": "fifth-hierarchy",
   "metadata": {},
   "source": [
    "## Vectorization\n",
    "\n",
    "- Lowercase\n",
    "- Tokenize\n",
    "- Build vocab: collect all vocab\n",
    "- Lemmatize\n",
    "- Remove stopwords? and punctuation\n",
    "- Encode: count frequency of each word in each speech\n",
    "\n",
    "Daniels crazy idea\n",
    "\n",
    "- Grab multiple SA packages\n",
    "\n",
    "- SA of each speech\n",
    "\n",
    "- Graph the mean of each SA package or whatever and compare them?"
   ]
  },
  {
   "cell_type": "code",
   "execution_count": 76,
   "id": "developmental-victorian",
   "metadata": {},
   "outputs": [
    {
     "name": "stderr",
     "output_type": "stream",
     "text": [
      "C:\\Users\\mtwpi\\AppData\\Local\\Programs\\Python\\Python38\\lib\\site-packages\\ipykernel\\ipkernel.py:287: DeprecationWarning: `should_run_async` will not call `transform_cell` automatically in the future. Please pass the result to `transformed_cell` argument and any exception that happen during thetransform in `preprocessing_exc_tuple` in IPython 7.17 and above.\n"
     ]
    }
   ],
   "source": [
    "def get_lemma(word, myLemonizer = WordNetLemmatizer()):\n",
    "    '''\n",
    "    Lemmatizes the word\n",
    "    \n",
    "    @param String word the given word to lemmatize\n",
    "    @param myLemonizer the given lemmatizer; optional\n",
    "    @return the newly lemmatized core word\n",
    "    '''\n",
    "    \n",
    "#     print(\"word lemonizer\", WordNetLemmatizer().lemmatize(word))\n",
    "    # Should I do stemming too? Hmmmm\n",
    "    return myLemonizer.lemmatize(word)\n",
    "\n",
    "def get_stemmer(word, myStemmer = SnowballStemmer(language = \"english\")):\n",
    "    '''\n",
    "    Stems the word\n",
    "    \n",
    "    @param String word the given word to stem\n",
    "    @param myStemmer the given stemmer; optional\n",
    "    @return the newly stemmed core word\n",
    "    '''\n",
    "    return myStemmer.stem(word)\n",
    "    \n",
    "\n",
    "def removePunctuation(word):\n",
    "    '''\n",
    "    Removes punctuation from a given word\n",
    "    \n",
    "    @param String word the given word\n",
    "    @return the word, without punctuation\n",
    "    '''\n",
    "    \n",
    "    lastIndex = len(word) - 1\n",
    "    if word[lastIndex] in myPunc:\n",
    "        # eradicate the last index value\n",
    "        return word[:-1]\n",
    "\n",
    "    return word\n",
    "    \n",
    "\n",
    "def prepare_text_for_lda(text, myLemonizer = WordNetLemmatizer(), myStemmer = SnowballStemmer(language = \"english\")):\n",
    "    '''\n",
    "    Tokenizes, splits, removes stopwords from the text.\n",
    "    Basically, preparing text for LDA (one type of topic model)\n",
    "    \n",
    "    @param String text the given text\n",
    "    @param WordNetLemmatizer myLemonizer the given lemmatizer\n",
    "    @return the tokens\n",
    "    '''\n",
    "    text = text.lower()\n",
    "    \n",
    "    # Split by spaces\n",
    "    tokens = text.split(\" \")\n",
    "    \n",
    "    # Stripping away newline characters and tabs\n",
    "    tokens = [word.strip(\"\\n\") for word in tokens]\n",
    "    tokens = [word.strip(\"\\t\") for word in tokens]\n",
    "#     tokens = [word.strip(\"\\d\") for word in tokens]\n",
    "    # Strip damn numbers\n",
    "    \n",
    "    tokens = [token for token in tokens if len(token) > 1]\n",
    "    # a\n",
    "    \n",
    "    tokens = [token for token in tokens if token not in both_sw]\n",
    "#     if \"the\" or \"an\" or \"and\" in tokens:\n",
    "# #         print(f\"found the/an/and in: {tokens}\")\n",
    "#         print(\"found the/an/and\")\n",
    "    tokens = [get_lemma(token, myLemonizer) for token in tokens]\n",
    "    tokens = [get_stemmer(token, myStemmer) for token in tokens]\n",
    "    tokens = [removePunctuation(token) for token in tokens]\n",
    "    return tokens\n",
    "\n",
    "def getCleanedTokensList(data, myLemonizer = WordNetLemmatizer(), myStemmer = SnowballStemmer(language = \"english\")):\n",
    "    '''\n",
    "    Gets cleaned tokens. \n",
    "    Processes include: lowercasing, splitting by spaces, strips spaces/tabs/newlines,\n",
    "    punctuation, lemmatizing, stems\n",
    "    \n",
    "    @param DataFrame data the given data frame\n",
    "    @param WordNetLemmatizer myLemonizer the given lemmatizer\n",
    "    @param SnowballStemmer myStemmer the given stemmer\n",
    "    @return the list of tokens for each speech\n",
    "    '''\n",
    "    text_data = []\n",
    "\n",
    "    for line in data:\n",
    "        tokens = prepare_text_for_lda(line, myLemonizer, myStemmer)\n",
    "        text_data.append(tokens)\n",
    "    return text_data\n",
    "\n",
    "\n",
    "def generate_viz(data, NUM_TOPICS=5, myLemonizer = WordNetLemmatizer(), myStemmer = SnowballStemmer(language = \"english\")):\n",
    "    '''\n",
    "    Graphs the data by topic.\n",
    "    Also saves the files and model into other files\n",
    "    \n",
    "    @param list data the given list of Strings\n",
    "    @param int NUM_TOPICS number of topics to graph; default set to 5\n",
    "    @param WordNetLemmatizer myLemonizer the given lemmatizer\n",
    "    @return the graph, dictionary, and corpus\n",
    "    '''\n",
    "#     text_data = []\n",
    "\n",
    "#     for line in data:\n",
    "#         tokens = prepare_text_for_lda(line, myLemonizer, myStemmer)\n",
    "#         text_data.append(tokens)\n",
    "    text_data = getCleanedTokensList(data, myLemonizer, myStemmer)\n",
    "\n",
    "    dictionary = corpora.Dictionary(text_data)\n",
    "    corpus = [dictionary.doc2bow(text) for text in text_data]\n",
    "    pickle.dump(corpus, open('corpus.pkl', 'wb'))\n",
    "    dictionary.save('dictionary.gensim')\n",
    "    ldamodel = gensim.models.ldamodel.LdaModel(corpus, num_topics = NUM_TOPICS, id2word=dictionary, passes=15, random_state = 420)\n",
    "    ldamodel.save('model5.gensim')\n",
    "\n",
    "    topics = ldamodel.print_topics(num_words=4)\n",
    "    for topic in topics:\n",
    "        print(f\"topic: {topic}\")\n",
    "\n",
    "    dictionary = gensim.corpora.Dictionary.load('dictionary.gensim')\n",
    "    corpus = pickle.load(open('corpus.pkl', 'rb'))\n",
    "    lda = gensim.models.ldamodel.LdaModel.load('model5.gensim')\n",
    "\n",
    "    lda_display = gensimvis.prepare(lda, corpus, dictionary, sort_topics=False)\n",
    "    return lda_display, dictionary, corpus\n"
   ]
  },
  {
   "cell_type": "code",
   "execution_count": null,
   "id": "oriental-watson",
   "metadata": {},
   "outputs": [],
   "source": [
    "(\"the\" and \"an\" and \"and\") in both_sw"
   ]
  },
  {
   "cell_type": "code",
   "execution_count": null,
   "id": "robust-copying",
   "metadata": {},
   "outputs": [],
   "source": [
    "print(len(en_stop))\n",
    "print(f\"Both stop length: {len(both_sw)}\")\n",
    "print(\"one\" in en_stop)\n",
    "# print(both_sw)"
   ]
  },
  {
   "cell_type": "code",
   "execution_count": null,
   "id": "working-barrel",
   "metadata": {},
   "outputs": [],
   "source": [
    "# Updating Both_Sw\n",
    "both_sw.update([\"\\n\", \"\\t\", \"'s\"])\n",
    "\n",
    "# I also wanna eradicate words that appear in many documents, too\n",
    "both_sw.update([\"united\", \"states\", \"nation\", \"international\"])"
   ]
  },
  {
   "cell_type": "code",
   "execution_count": null,
   "id": "computational-outside",
   "metadata": {},
   "outputs": [],
   "source": [
    "# myLemonizer = WordNetLemmatizer()\n",
    "# list_of_strings = speeches[\"text\"].tolist()\n",
    "# viz, dictionary, corpus = generate_viz(list_of_strings[0:5], 3)\n",
    "# pyLDAvis.display(viz)"
   ]
  },
  {
   "cell_type": "code",
   "execution_count": null,
   "id": "colonial-kruger",
   "metadata": {},
   "outputs": [],
   "source": [
    "# myLemonizer = WordNetLemmatizer()\n",
    "# # list_of_strings = speeches[\"text\"].tolist()\n",
    "# list_of_strings = (\n",
    "#     speeches >>\n",
    "#     mask((X.country_name == \"China\") | (X.country_name == \"Canada\"))\n",
    "# )[\"text\"].tolist()\n",
    "# viz, dictionary, corpus = generate_viz(list_of_strings, 2)\n",
    "# pyLDAvis.display(viz)"
   ]
  },
  {
   "cell_type": "markdown",
   "id": "preceding-census",
   "metadata": {},
   "source": [
    "## Topic Modelling For Each Country"
   ]
  },
  {
   "cell_type": "code",
   "execution_count": null,
   "id": "about-chile",
   "metadata": {},
   "outputs": [],
   "source": [
    "'''\n",
    "for every country:\n",
    "    list of strings\n",
    "    spawn a viz, dictionary, corpus\n",
    "    display\n",
    "'''\n",
    "\n",
    "countriesList = speeches[\"country_name\"].unique()\n",
    "\n",
    "numTopics = 3\n",
    "for country in countriesList:\n",
    "    \n",
    "    # Grab the speeches from each country\n",
    "    list_of_strings = (\n",
    "        speeches >>\n",
    "        mask(X.country_name == country)\n",
    "    )[\"text\"].tolist()\n",
    "    \n",
    "    # Spawn vizualization, dictionary, corpus\n",
    "    viz, dictionary, corpus = generate_viz(list_of_strings, numTopics)\n",
    "    # pyLDAvis.display(viz)\n",
    "    # save image\n",
    "    pyLDAvis.save_html(viz, f\"Topic_Graphs_Country/{country}.html\")"
   ]
  },
  {
   "cell_type": "code",
   "execution_count": null,
   "id": "liked-circular",
   "metadata": {},
   "outputs": [],
   "source": [
    "yearsList = [1980, 1990, 2000, 2010, 2015]\n",
    "numTopics = 3\n",
    "for myYear in yearsList:\n",
    "    \n",
    "    # Grab the speeches from each year-group\n",
    "    list_of_strings = (\n",
    "        speeches >>\n",
    "        mask(X.year == myYear)\n",
    "    )[\"text\"].tolist()\n",
    "    \n",
    "    # Spawn vizualization, dictionary, corpus\n",
    "    viz, dictionary, corpus = generate_viz(list_of_strings, numTopics)\n",
    "    # pyLDAvis.display(viz)\n",
    "    # save image\n",
    "    pyLDAvis.save_html(viz, f\"Topic_Graphs_Year/{myYear}.html\")"
   ]
  },
  {
   "cell_type": "code",
   "execution_count": 75,
   "id": "bored-mercy",
   "metadata": {},
   "outputs": [
    {
     "name": "stderr",
     "output_type": "stream",
     "text": [
      "C:\\Users\\mtwpi\\AppData\\Local\\Programs\\Python\\Python38\\lib\\site-packages\\ipykernel\\ipkernel.py:287: DeprecationWarning: `should_run_async` will not call `transform_cell` automatically in the future. Please pass the result to `transformed_cell` argument and any exception that happen during thetransform in `preprocessing_exc_tuple` in IPython 7.17 and above.\n"
     ]
    },
    {
     "data": {
      "text/plain": [
       "\"The whole dam world is 3just as obsessed with \\nwho's \\tbetter dressed\""
      ]
     },
     "execution_count": 75,
     "metadata": {},
     "output_type": "execute_result"
    }
   ],
   "source": [
    "# Scratch\n",
    "d.strip(\"\\n\")"
   ]
  },
  {
   "cell_type": "code",
   "execution_count": 73,
   "id": "tested-ballet",
   "metadata": {},
   "outputs": [
    {
     "name": "stdout",
     "output_type": "stream",
     "text": [
      "topic: (0, '0.211*\"worl\" + 0.210*\"curios\" + 0.053*\"aniel\" + 0.053*\"umb\"')\n",
      "topic: (1, '0.100*\"ress\" + 0.100*\"better\" + 0.100*\"who\" + 0.100*\"obsess\"')\n",
      "topic: (2, '0.181*\"shine\" + 0.181*\"beautifully\" + 0.181*\"sun\" + 0.046*\"worl\"')\n"
     ]
    },
    {
     "name": "stderr",
     "output_type": "stream",
     "text": [
      "C:\\Users\\mtwpi\\AppData\\Local\\Programs\\Python\\Python38\\lib\\site-packages\\ipykernel\\ipkernel.py:287: DeprecationWarning: `should_run_async` will not call `transform_cell` automatically in the future. Please pass the result to `transformed_cell` argument and any exception that happen during thetransform in `preprocessing_exc_tuple` in IPython 7.17 and above.\n",
      "C:\\Users\\mtwpi\\AppData\\Local\\Programs\\Python\\Python38\\lib\\site-packages\\pyLDAvis\\_prepare.py:246: FutureWarning: In a future version of pandas all arguments of DataFrame.drop except for the argument 'labels' will be keyword-only\n"
     ]
    },
    {
     "data": {
      "text/html": [
       "\n",
       "<link rel=\"stylesheet\" type=\"text/css\" href=\"https://cdn.jsdelivr.net/gh/bmabey/pyLDAvis@3.3.1/pyLDAvis/js/ldavis.v1.0.0.css\">\n",
       "\n",
       "\n",
       "<div id=\"ldavis_el3427621160695269922158573735\"></div>\n",
       "<script type=\"text/javascript\">\n",
       "\n",
       "var ldavis_el3427621160695269922158573735_data = {\"mdsDat\": {\"x\": [-0.016233871070131602, -0.06578713037598216, 0.08202100144611374], \"y\": [-0.0443741957214889, 0.029497571546831736, 0.014876624174657124], \"topics\": [1, 2, 3], \"cluster\": [1, 1, 1], \"Freq\": [16.85900409272624, 59.830173598045434, 23.310822309228328]}, \"tinfo\": {\"Term\": [\"curios\", \"worl\", \"shine\", \"beautifully\", \"sun\", \"aniel\", \"umb\", \"idiot\", \"3just\", \"who\", \"obsess\", \"better\", \"ress\", \"curios\", \"worl\", \"sun\", \"beautifully\", \"shine\", \"aniel\", \"umb\", \"idiot\", \"3just\", \"who\", \"obsess\", \"better\", \"ress\", \"ress\", \"better\", \"who\", \"obsess\", \"3just\", \"idiot\", \"umb\", \"aniel\", \"worl\", \"curios\", \"sun\", \"beautifully\", \"shine\", \"shine\", \"beautifully\", \"sun\", \"curios\", \"aniel\", \"idiot\", \"umb\", \"obsess\", \"3just\", \"better\", \"who\", \"ress\", \"worl\"], \"Freq\": [0.0, 1.0, 0.0, 0.0, 0.0, 1.0, 1.0, 1.0, 1.0, 1.0, 1.0, 1.0, 1.0, 0.4945838397161044, 0.4981527436127082, 0.12418535420352267, 0.12418244383438926, 0.12417430183494049, 0.12468972732920236, 0.12459976966574632, 0.12459193540925728, 0.12422475409502365, 0.12421988296360398, 0.12421888060082087, 0.12421853768723717, 0.12421837062677332, 0.8382333067088409, 0.8382301239143286, 0.8382296870601799, 0.8382233838788908, 0.8382143347572383, 0.8370741454290157, 0.837067530209049, 0.8369035850877988, 0.8333349859544423, 0.21030793719258764, 0.21013981075305663, 0.21013622230826337, 0.21012962269023056, 0.5921536280291975, 0.5921392335000928, 0.592133154729356, 0.1486885801677631, 0.14890660135900818, 0.14890320940493706, 0.14889848012130386, 0.14853817922219387, 0.14853758350266166, 0.14853382682234634, 0.14853257459557456, 0.14853183298554468, 0.1490181346444865], \"Total\": [0.0, 1.0, 0.0, 0.0, 0.0, 1.0, 1.0, 1.0, 1.0, 1.0, 1.0, 1.0, 1.0, 0.8535803570764552, 1.480505864211637, 0.9264583196859353, 0.9264578996427454, 0.9264575525543686, 1.1104999137760094, 1.110565779996099, 1.11056929024321, 1.1109766723549237, 1.1109821446193584, 1.1109804437019055, 1.1109824884239121, 1.110983510321159, 1.110983510321159, 1.1109824884239121, 1.1109821446193584, 1.1109804437019055, 1.1109766723549237, 1.11056929024321, 1.110565779996099, 1.1104999137760094, 1.480505864211637, 0.8535803570764552, 0.9264583196859353, 0.9264578996427454, 0.9264575525543686, 0.9264575525543686, 0.9264578996427454, 0.9264583196859353, 0.8535803570764552, 1.1104999137760094, 1.11056929024321, 1.110565779996099, 1.1109804437019055, 1.1109766723549237, 1.1109824884239121, 1.1109821446193584, 1.110983510321159, 1.480505864211637], \"Category\": [\"Default\", \"Default\", \"Default\", \"Default\", \"Default\", \"Default\", \"Default\", \"Default\", \"Default\", \"Default\", \"Default\", \"Default\", \"Default\", \"Topic1\", \"Topic1\", \"Topic1\", \"Topic1\", \"Topic1\", \"Topic1\", \"Topic1\", \"Topic1\", \"Topic1\", \"Topic1\", \"Topic1\", \"Topic1\", \"Topic1\", \"Topic2\", \"Topic2\", \"Topic2\", \"Topic2\", \"Topic2\", \"Topic2\", \"Topic2\", \"Topic2\", \"Topic2\", \"Topic2\", \"Topic2\", \"Topic2\", \"Topic2\", \"Topic3\", \"Topic3\", \"Topic3\", \"Topic3\", \"Topic3\", \"Topic3\", \"Topic3\", \"Topic3\", \"Topic3\", \"Topic3\", \"Topic3\", \"Topic3\", \"Topic3\"], \"logprob\": [13.0, 12.0, 11.0, 10.0, 9.0, 8.0, 7.0, 6.0, 5.0, 4.0, 3.0, 2.0, 1.0, -1.5628, -1.5556, -2.9448, -2.9448, -2.9448, -2.9407, -2.9414, -2.9415, -2.9444, -2.9445, -2.9445, -2.9445, -2.9445, -2.3019, -2.3019, -2.3019, -2.3019, -2.3019, -2.3032, -2.3032, -2.3034, -2.3077, -3.6846, -3.6854, -3.6854, -3.6854, -1.7068, -1.7068, -1.7068, -3.0887, -3.0872, -3.0873, -3.0873, -3.0897, -3.0897, -3.0897, -3.0898, -3.0898, -3.0865], \"loglift\": [13.0, 12.0, 11.0, 10.0, 9.0, 8.0, 7.0, 6.0, 5.0, 4.0, 3.0, 2.0, 1.0, 1.2346, 0.6911, -0.2293, -0.2293, -0.2294, -0.4065, -0.4072, -0.4073, -0.4106, -0.4107, -0.4107, -0.4107, -0.4107, 0.232, 0.232, 0.232, 0.2319, 0.2319, 0.2309, 0.2309, 0.2308, -0.061, -0.8872, -0.9699, -0.97, -0.97, 1.0087, 1.0086, 1.0086, -0.2913, -0.553, -0.5531, -0.5531, -0.5559, -0.5559, -0.5559, -0.5559, -0.5559, -0.8398]}, \"token.table\": {\"Topic\": [2, 2, 3, 2, 2, 2, 2, 3, 3, 2, 2, 2], \"Freq\": [0.9001089085698912, 0.9004953423181467, 1.0793798621455044, 0.9001041964384545, 0.9004390890198343, 0.9001058530498459, 0.9001033685107745, 1.0793802665247478, 1.0793793727698349, 0.9004419351040265, 0.9001044749847147, 0.6754448085435282], \"Term\": [\"3just\", \"aniel\", \"beautifully\", \"better\", \"idiot\", \"obsess\", \"ress\", \"shine\", \"sun\", \"umb\", \"who\", \"worl\"]}, \"R\": 13, \"lambda.step\": 0.01, \"plot.opts\": {\"xlab\": \"PC1\", \"ylab\": \"PC2\"}, \"topic.order\": [1, 2, 3]};\n",
       "\n",
       "function LDAvis_load_lib(url, callback){\n",
       "  var s = document.createElement('script');\n",
       "  s.src = url;\n",
       "  s.async = true;\n",
       "  s.onreadystatechange = s.onload = callback;\n",
       "  s.onerror = function(){console.warn(\"failed to load library \" + url);};\n",
       "  document.getElementsByTagName(\"head\")[0].appendChild(s);\n",
       "}\n",
       "\n",
       "if(typeof(LDAvis) !== \"undefined\"){\n",
       "   // already loaded: just create the visualization\n",
       "   !function(LDAvis){\n",
       "       new LDAvis(\"#\" + \"ldavis_el3427621160695269922158573735\", ldavis_el3427621160695269922158573735_data);\n",
       "   }(LDAvis);\n",
       "}else if(typeof define === \"function\" && define.amd){\n",
       "   // require.js is available: use it to load d3/LDAvis\n",
       "   require.config({paths: {d3: \"https://d3js.org/d3.v5\"}});\n",
       "   require([\"d3\"], function(d3){\n",
       "      window.d3 = d3;\n",
       "      LDAvis_load_lib(\"https://cdn.jsdelivr.net/gh/bmabey/pyLDAvis@3.3.1/pyLDAvis/js/ldavis.v3.0.0.js\", function(){\n",
       "        new LDAvis(\"#\" + \"ldavis_el3427621160695269922158573735\", ldavis_el3427621160695269922158573735_data);\n",
       "      });\n",
       "    });\n",
       "}else{\n",
       "    // require.js not available: dynamically load d3 & LDAvis\n",
       "    LDAvis_load_lib(\"https://d3js.org/d3.v5.js\", function(){\n",
       "         LDAvis_load_lib(\"https://cdn.jsdelivr.net/gh/bmabey/pyLDAvis@3.3.1/pyLDAvis/js/ldavis.v3.0.0.js\", function(){\n",
       "                 new LDAvis(\"#\" + \"ldavis_el3427621160695269922158573735\", ldavis_el3427621160695269922158573735_data);\n",
       "            })\n",
       "         });\n",
       "}\n",
       "</script>"
      ],
      "text/plain": [
       "<IPython.core.display.HTML object>"
      ]
     },
     "execution_count": 73,
     "metadata": {},
     "output_type": "execute_result"
    }
   ],
   "source": [
    "myLemonizer = WordNetLemmatizer()\n",
    "a = \"The sun is shining beautifully.\"\n",
    "b = \"The world has curiosity\"\n",
    "c = \"Daniel is a dumb idiot\"\n",
    "d = \"The whole dam world is 3just as obsessed with \\nwho's \\tbetter dressed\"\n",
    "\n",
    "\n",
    "text = [a, b, c, d]\n",
    "# spareList = [\"hello\"]\n",
    "# tokens = prepare_text_for_lda(text, myLemonizer)\n",
    "# print(tokens)\n",
    "# spareList.append(tokens)\n",
    "# print(spareList)\n",
    "\n",
    "viz, dictionary, corpus = generate_viz(text, 3, myLemonizer)\n",
    "pyLDAvis.display(viz)"
   ]
  },
  {
   "cell_type": "code",
   "execution_count": null,
   "id": "functional-allergy",
   "metadata": {},
   "outputs": [],
   "source": [
    "list_of_strings = speeches[\"text\"].tolist()\n",
    "myLemonizer = WordNetLemmatizer()\n",
    "viz, dictionary, corpus = generate_viz(list_of_strings, 4, myLemonizer)\n",
    "pyLDAvis.display(viz)"
   ]
  },
  {
   "cell_type": "code",
   "execution_count": null,
   "id": "objective-visibility",
   "metadata": {},
   "outputs": [],
   "source": [
    "# Can we save the viz?\n",
    "print(type(viz))"
   ]
  },
  {
   "cell_type": "code",
   "execution_count": null,
   "id": "unsigned-juvenile",
   "metadata": {},
   "outputs": [],
   "source": [
    "# list_of_strings = speeches[\"text\"].tolist()\n",
    "viz, dictionary, corpus = generate_viz(list_of_strings, 3)\n",
    "pyLDAvis.display(viz)"
   ]
  },
  {
   "cell_type": "code",
   "execution_count": null,
   "id": "requested-james",
   "metadata": {},
   "outputs": [],
   "source": [
    "viz, dictionary, corpus = generate_viz(list_of_strings, 4)\n",
    "pyLDAvis.display(viz)"
   ]
  },
  {
   "cell_type": "code",
   "execution_count": 66,
   "id": "stuffed-hardware",
   "metadata": {},
   "outputs": [
    {
     "name": "stderr",
     "output_type": "stream",
     "text": [
      "C:\\Users\\mtwpi\\AppData\\Local\\Programs\\Python\\Python38\\lib\\site-packages\\ipykernel\\ipkernel.py:287: DeprecationWarning: `should_run_async` will not call `transform_cell` automatically in the future. Please pass the result to `transformed_cell` argument and any exception that happen during thetransform in `preprocessing_exc_tuple` in IPython 7.17 and above.\n",
      "<>:2: DeprecationWarning: invalid escape sequence \\d\n",
      "<>:2: DeprecationWarning: invalid escape sequence \\d\n",
      "<ipython-input-66-4587ec8c108d>:2: DeprecationWarning: invalid escape sequence \\d\n"
     ]
    },
    {
     "data": {
      "text/plain": [
       "'34 more \\n44moves'"
      ]
     },
     "execution_count": 66,
     "metadata": {},
     "output_type": "execute_result"
    }
   ],
   "source": [
    "myText = \"34 more \\n44moves\"\n",
    "myText.strip(\"\\d+\")\n",
    "myText.strip(\"\\n\")"
   ]
  },
  {
   "cell_type": "markdown",
   "id": "dimensional-welcome",
   "metadata": {},
   "source": [
    "## Attempting More Topic Modeling\n",
    "\n",
    "Using Prof Gregory Lyon's code"
   ]
  },
  {
   "cell_type": "code",
   "execution_count": null,
   "id": "enclosed-federation",
   "metadata": {},
   "outputs": [],
   "source": [
    "def top_words_f(n_words):\n",
    "    '''\n",
    "    Extract the top words from each topic\n",
    "    \n",
    "    @param int n_words the number of top words to grab from each topic\n",
    "    @return the resulting dataframe\n",
    "    '''\n",
    "    n_words=n_words\n",
    "    imp_words = lambda x: [voc[each] for each in np.argsort(x)[:-n_words-1:-1]]\n",
    "    words_in_topic = ([imp_words(x) for x in lda.components_])\n",
    "    main_topics = [' '.join(x) for x in words_in_topic]\n",
    "#     df = pd.DataFrame(main_topics).T\n",
    "#     df.columns = columns=[\"Topic_\" + str(each) for each in range(lda.n_components)]\n",
    "    df = pd.DataFrame({\"top_words\": main_topics},\n",
    "                             index=[\"Topic_\" + str(each) for each in range(lda.n_components)])\n",
    "    return df"
   ]
  },
  {
   "cell_type": "markdown",
   "id": "rotary-property",
   "metadata": {},
   "source": [
    "#### Steps:\n",
    "\n",
    "    1: Instantiate vectorizer with parameters: vec\n",
    "    2: Vectorize column of text with fit_transform: X\n",
    "    3: Instantiate LDA model with parameters: lda\n",
    "    4: Fit LDA model to vectorized text: doc_topics"
   ]
  },
  {
   "cell_type": "code",
   "execution_count": 36,
   "id": "endangered-smart",
   "metadata": {},
   "outputs": [
    {
     "name": "stderr",
     "output_type": "stream",
     "text": [
      "C:\\Users\\mtwpi\\AppData\\Local\\Programs\\Python\\Python38\\lib\\site-packages\\ipykernel\\ipkernel.py:287: DeprecationWarning: `should_run_async` will not call `transform_cell` automatically in the future. Please pass the result to `transformed_cell` argument and any exception that happen during thetransform in `preprocessing_exc_tuple` in IPython 7.17 and above.\n"
     ]
    }
   ],
   "source": [
    "# 1: create vectorizer\n",
    "# countervectorizer transforms words into vectors!\n",
    "vec = CountVectorizer(stop_words= both_sw)"
   ]
  },
  {
   "cell_type": "code",
   "execution_count": 37,
   "id": "sized-maintenance",
   "metadata": {},
   "outputs": [
    {
     "name": "stderr",
     "output_type": "stream",
     "text": [
      "C:\\Users\\mtwpi\\AppData\\Local\\Programs\\Python\\Python38\\lib\\site-packages\\ipykernel\\ipkernel.py:287: DeprecationWarning: `should_run_async` will not call `transform_cell` automatically in the future. Please pass the result to `transformed_cell` argument and any exception that happen during thetransform in `preprocessing_exc_tuple` in IPython 7.17 and above.\n"
     ]
    }
   ],
   "source": [
    "# get_stemmer()\n",
    "# speeches[\"text\"]\n",
    "# text_data[0]"
   ]
  },
  {
   "cell_type": "code",
   "execution_count": 38,
   "id": "explicit-exception",
   "metadata": {
    "scrolled": true
   },
   "outputs": [
    {
     "name": "stderr",
     "output_type": "stream",
     "text": [
      "C:\\Users\\mtwpi\\AppData\\Local\\Programs\\Python\\Python38\\lib\\site-packages\\ipykernel\\ipkernel.py:287: DeprecationWarning: `should_run_async` will not call `transform_cell` automatically in the future. Please pass the result to `transformed_cell` argument and any exception that happen during thetransform in `preprocessing_exc_tuple` in IPython 7.17 and above.\n"
     ]
    }
   ],
   "source": [
    "myLemonizer = WordNetLemmatizer()\n",
    "myStemmer = SnowballStemmer(language = \"english\")\n",
    "\n",
    "# for mySpeech in speeches[\"text\"]:\n",
    "#     prepare_text_for_lda(mySpeech, myLemonizer, myStemmer)\n",
    "text_data = getCleanedTokensList(speeches[\"text\"], myLemonizer, myStemmer)"
   ]
  },
  {
   "cell_type": "code",
   "execution_count": 64,
   "id": "frozen-suspect",
   "metadata": {},
   "outputs": [
    {
     "name": "stdout",
     "output_type": "stream",
     "text": [
      "['33:', 'convey', 'presid', 'congratul', 'albanian', 'deleg', 'elect', 'presid', 'twenty-fifth', 'session', 'general', 'assembly?\\n34.\\tin', 'take', 'work', 'agenda', 'twenty', 'fifth', 'session', 'general', 'assembly', 'held', 'eve', 'twenty-fifth', 'anniversari', 'come', 'forc', 'charter', 'nations', 'peace-lov', 'member', 'wish', 'posit', 'present', 'occas', 'pictur', 'posit', 'satisfactori', 'activ', 'nations', 'albanian', 'delegation', 'part', 'taken', 'great', 'pleasur', 'draw', 'balanc', 'sheet', 'activ', 'cover', 'quarter', 'century', 'certain', 'short', 'period', 'life', 'organization', 'unfortunately', 'situation', 'creat', 'day', 'victori', 'achiev', 'power', 'rome', 'berlintokyo', 'axi', 'conceiv', 'spirit', 'principl', 'predomin', 'war', 'antifascist', 'coalition', 'organ', 'awaken', 'progress', 'human', 'hope', 'serv', 'import', 'factor', 'creat', 'better', 'condit', 'order', 'favor', 'caus', 'freedom', 'peac', 'world', 'security', 'activ', 'number', 'event', 'occur', 'world', 'arena', 'period', 'disappoint', 'hope', 'peoples', 'nations', 'far', 'contributed', 'requir', 'fundament', 'provis', 'charter', 'consolid', 'peac', 'secur', 'liber', 'struggl', 'peoples', 'contrary', 'diktat', 'imperialist', 'powers', 'america', 'foremost', 'them', 'embark', 'path', 'diametr', 'oppos', 'principles', 'serv', 'instrument', 'favor', 'polici', 'pillage', 'oppress', 'aggress', 'peace-lov', 'peopl', 'countries.\\n35.\\tth', 'util', 'nation', 'serv', 'polici', 'result', 'organ', 'abl', 'stay', 'hand', 'commit', 'aggress', 'part', 'world', 'frequent', 'help', 'aggressors', 'activ', 'direct', 'go', 'far', 'moreover', 'flag', 'nation', 'perpetr', 'barbar', 'aggress', 'experienc', 'end', 'second', 'world', 'war', 'as', 'others', 'arm', 'aggress', 'korea', 'congo.\\n36.\\tth', 'progress', 'mankind', 'recal', 'admir', 'heroic', 'struggl', 'which', 'direct', 'great', 'stalin', 'soviet', 'union', 'waged', 'cooper', 'angloamerican', 'coalition', 'defend', 'peac', 'peopl', 'countri', 'hitlerit', 'germany', 'histor', 'decis', 'victori', 'red', 'armi', 'nazi', 'hord', 'great', 'role', 'play', 'soviet', 'union', 'second', 'world', 'war', 'arous', 'great', 'enthusiasm', 'peopl', 'awaken', 'hope', 'better', 'future', 'follow', 'great', 'interest', 'particular', 'joy', 'unflinch', 'struggl', 'wage', 'leninist', 'soviet', 'union', 'world', 'arena', 'authent', 'repres', 'organization', 'order', 'defend', 'vital', 'interest', 'sustain', 'legitim', 'struggl', 'liber', 'imperialist', 'colonialist', 'racist', 'yoke', 'follow', 'usurp', 'power', 'countri', 'khrushchev', 'clique', 'situat', 'chang', 'completely', 'struggl', 'soviet', 'union', 'american', 'imperi', 'alli', 'replac', 'holi', 'allianc', 'soviet', 'union', 'peace-lov', 'freedom-lov', 'peopl', 'countries', 'that', 'far', 'nation', 'concerned', 'center', 'bargaining', 'maneuv', 'underhand', 'manipul', 'american', 'imperialist', 'soviet', 'social-imperialists', 'design', 'lull', 'vigil', 'peopl', 'disguis', 'best', 'polici', 'world', 'hegemony.\\n37.\\tal', 'known', 'consequ', 'nations', 'particular', 'damag', 'author', 'abil', 'play', 'incumb', 'charter', 'but', 'time', 'negat', 'activ', 'help', 'peopl', 'realiz', 'better', 'natur', 'imperialist', 'power', 'expect', 'nation', 'present', 'circumst', 'manipul', 'powers', 'has', 'particular', 'obvious', 'initi', 'propos', 'american', 'govern', 'circl', 'moscow', 'revisionist', 'connexion', 'disarma', 'agreement', 'seek', 'impos', 'field', 'respect', 'convent', 'armament', 'nuclear', 'armaments', 'design', 'sole', 'disarm', 'peace-lov', 'countri', 'ensur', 'nuclear', 'monopoli', 'largest', 'possibl', 'quantiti', 'armament', 'sort', 'order', 'subjug', 'peopl', 'enslav', 'world', 'wish', 'divid', 'them', 'peopl', 'awar', 'way', 'break', 'free', 'imperialist', 'colonialist', 'racist', 'yoke', 'arm', 'struggl', 'trust', 'strength', 'time', 'enjoy', 'solidar', 'support', 'freedom-lov', 'peopl', 'countries.\\n38.\\ton', 'undeni', 'proof', 'nation', 'embark', 'road', 'violat', 'principl', 'spirit', 'charter', 'withhold', '21', 'year', 'legitim', 'right', 'peopl', 'republ', 'china', 'organization', 'circumst', 'brought', 'abnorm', 'situat', 'preced', 'organ', 'constitut', 'sever', 'blow', 'prestige', 'time', 'affect', 'capac', 'contribut', 'settlement', 'import', 'problem', 'time', 'which', 'know', 'given', 'real', 'solut', 'particip', 'great', 'socialist', 'china', '700', 'million', 'people.\\n39.\\tundoubtedly', 'state', 'affair', 'organ', 'discourag', 'member', 'espous', 'fundament', 'principl', 'charter', 'contrary', 'trust', 'strength', 'possibl', 'encourag', 'develop', 'victori', 'liber', 'struggl', 'wage', 'peopl', 'continents', 'redoubl', 'effort', 'cooper', 'close', 'order', 'wage', 'effect', 'battl', 'polici', 'diktat', 'forc', 'practic', 'great', 'imperialist', 'power', 'nation', 'world.\\n40.\\tth', 'liber', 'movement', 'world', 'level', 'imperialist', 'colonialist', 'power', 'present', 'make', 'new', 'strides', 'peopl', 'react', 'polici', 'oppress', 'domin', 'practic', 'imperialist', 'power', 'aggress', 'plots', 'strengthen', 'struggl', 'independ', 'freedom', 'join', 'rank', 'arm', 'struggl', 'aggressors', 'shown', 'struggl', 'heroic', 'peopl', 'vietnam', 'laos', 'cambodia', 'countri', 'indo-china', 'straggl', 'peopl', 'korea', 'peopl', 'far', 'east', 'imperialists', 'alli', 'tools', 'struggl', 'valiant', 'palestinian', 'arab', 'peopl', 'imperialistzionist', 'aggression', 'struggl', 'peopl', 'oman', 'dhofar', 'peopl', 'arabian', 'gulf', 'free', 'coloni', 'yoke', 'resist', 'peopl', 'eastern', 'europ', 'domin', 'new', 'imperialist', 'kremlin', 'struggl', 'african', 'peopl', 'mozambique', 'angola', 'guinea', '(bissau)', 'namibia', 'southern', 'rhodesia', 'south', 'africa', 'coloni', 'powers', 'settler', 'racist', 'tools', 'struggl', 'peopl', 'puerto', 'rico', 'free', 'imperialist', 'yoke', 'states', 'struggl', 'wage', 'peopl', 'part', 'world', 'includ', 'american', 'peopl', 'citadel', 'imperialism', 'imperialist', 'power', 'alli', 'suffer', 'defeat', 'defeat', 'power', 'blow', 'struck', 'peopl', 'struggl', 'nation', 'independence', 'freedom', 'sacr', 'inalien', 'right', 'master', 'destiny.\\n41.\\tpanic-stricken', 'impetu', 'growth', 'revolutionari', 'struggl', 'liber', 'peopl', 'assail', 'multipl', 'intern', 'extern', 'difficulties', 'so-cal', 'superpowers', 'american', 'imperi', 'soviet', 'social-imperialism', 'head', 'reactionari', 'forces', 'strive', 'mean', 'power', 'face', 'desper', 'situat', 'acceler', 'implement', 'aggress', 'warlik', 'plan', 'peace-lov', 'peopl', 'countries', 'power', 'period', 'intensifi', 'collus', 'crimin', 'activities', 'deceit', 'demagogi', 'form', 'pressure', 'forc', 'arm', 'aggression.\\n42.\\talthough', 'split', 'numer', 'contradict', 'deriv', 'imperialist', 'nature', 'tri', 'undermin', 'evict', 'political', 'econom', 'strateg', 'positions', 'superpow', 'common', 'hatr', 'freedom', 'peopl', 'socialist', 'revolution', 'basi', 'rest', 'cooper', 'aggress', 'activities', 'plan', 'plots', 'extend', 'contin', 'conform', 'global', 'counterrevolutionari', 'strategy', 'design', 'divid', 'domin', 'world', 'glasborough', 'polici', 'pursu', 'uninterruptedly', 'americansoviet', 'collus', 'taken', 'fresh', 'step', 'forward', 'guis', 'peac', 'slogan', 'peac', 'settlement', 'conflict', 'brought', 'precis', 'aggress', 'perpetr', 'directed', 'european', 'asian', 'secur', 'fact', 'secur', 'imperialist', 'order', 'disarmament', 'intern', 'presuppos', 'limit', \"sovereignty'\", 'exact', 'subjug', 'peopl', 'nations', 'slogans', 'plot', 'coordin', 'posit', 'activ', 'problem', 'affect', 'interest', 'mankind', 'whole', 'slogans', 'hatch', 'plan', 'tri', 'impos', 'so-cal', 'peac', 'settlement', 'mean', 'tri', 'repress', 'liber', 'struggl', 'wage', 'peoples', 'conclud', 'treati', 'fraudul', 'enslav', 'tri', 'conclud', 'new', 'aggress', 'pact', 'ad', 'pacts', 'bloc', 'militari', 'base', 'existence', 'exert', 'pressur', 'sort', 'freedom-lov', 'peopl', 'countri', 'dare', 'resist', 'them', 'carri', 'arm', 'race', 'prepar', 'new', 'war', 'indulg', 'nuclear', 'blackmail', 'fresh', 'act', 'aggression.\\n43.\\tin', 'connexion', 'cite', 'simultan', 'secret', 'negoti', 'power', 'diplomat', 'channels', 'long', 'meet', 'repres', 'helsinki', 'later', 'vienna', 'meet', 'certain', 'limit', 'question', 'limit', 'strateg', \"arms'\", 'socal', 'roger', 'plan', 'peac', 'settlement', 'middl', 'east', 'problem', 'plan', 'result', 'american', 'soviet', 'plot', 'design', 'stifl', 'legitim', 'liber', 'struggl', 'palestinian', 'peopl', 'arab', 'peoples', 'origin', 'bloodi', 'event', 'taken', 'place', 'recent', 'jordan', 'similar', 'natur', 'negoti', 'soviet', 'union', 'indo-china', 'meet', 'organ', 'moscow', 'repres', 'reactionari', 'regim', 'asia', 'bring', 'peac', 'settlement', 'problem', 'settlement', 'believ', 'lead', 'capitul', 'peopl', 'vietnam', 'lao', 'cambodia', 'travel', 'high', 'emissari', 'power', 'asia', 'effort', 'creat', 'new', 'aggress', 'pact', 'accord', 'brezhnev', 'plan', 'collect', 'secur', 'asia', 'nixon', 'plan', 'pit', 'asiat', 'asiatics', 'plan', 'concert', 'power', 'design', 'foremost', 'creat', 'circl', 'fire', 'peopl', 'republ', 'china', 'categori', 'mention', 'enslav', 'sovietczechoslovak', 'treati', 'moscowbonn', 'treaty', 'thing', 'trampl', 'foot', 'sovereign', 'right', 'german', 'peopl', 'democrat', 'republ', 'germani', 'which', 'sovietamerican', 'project', 'so-cal', 'european', 'security', 'relat', 'sphere', 'influenc', 'power', 'europ', 'rearguard', 'activ', 'contin', 'order', 'implement', 'counterrevolutionari', 'plan', 'asia', 'africa', 'elsewhere.\\n44.\\tin', 'order', 'bring', 'great', 'anti-popular', 'conspiracy', 'american', 'soviet', 'imperialist', 'appli', 'seri', 'political', 'econom', 'militari', 'measures', 'intensifi', 'imperialist', 'american', 'aggress', 'lao', 'new', 'aggress', 'cambodia', 'plot', 'wile', 'design', 'divid', 'arab', 'peopl', 'countri', 'plung', 'bloodi', 'fratricid', 'conflict', 'repress', 'mean', 'possible', 'includ', 'arm', 'force', 'legitim', 'struggl', 'heroic', 'peopl', 'palestine', 'similar', 'natur', 'threat', 'measur', 'taken', 'soviet', 'revisionist', 'peopl', 'eastern', 'european', 'countries', 'includ', 'militari', 'maneuv', 'soviet', 'occup', 'forc', 'czechoslovakia', 'carri', 'august', 'intimid', 'peopl', 'eve', 'second', 'anniversari', 'soviet', 'invas', 'czechoslovakia.\\n45.\\tthus', 'power', 'stop', 'realiz', 'imperialist', 'plan', 'stifl', 'revolutionari', 'struggl', 'peace-lov', 'peopl', 'countries', 'establish', 'domin', 'world', 'arrog', 'role', 'polic', 'order', 'decid', 'good', 'time', 'fate', 'humanity.\\n46.\\thowever', 'castl', 'air', 'wheel', 'histori', 'turn', 'backwards', 'era', 'fate', 'peopl', 'small', 'countri', 'decid', 'great', 'imperialist', 'power', 'gone', 'ever', 'imperialist', 'intensifi', 'aggress', 'activities', 'peopl', 'strengthen', 'struggl', 'peopl', 'strengthen', 'struggl', 'close', 'vast', 'arm', 'struggl', 'common', 'enemy', 'peopl', 'renounc', 'legitim', 'struggl', 'win', 'vital', 'rights', 'despit', 'temporari', 'vicissitudes', 'struggl', 'increas', 'strengthen', 'appear', 'ever', 'storm', 'liber', 'break', 'asia', 'africa', 'elsewhere', 'storm', 'complet', 'annihilate', 'spite', 'underhand', 'maneuv', 'repressions', 'imperialist', 'colonialist', 'domin', 'form', 'exist.\\n47.\\ta', 'recent', 'exampl', 'best', 'illustr', 'await', 'american', 'imperialist', 'polici', 'intervent', 'war', 'arm', 'aggress', 'perpetr', 'cambodia', 'march', 'immedi', 'coup', \"d'etat\", 'plot', 'country', 'face', 'impass', 'blow', 'mete', 'struggl', 'vietnames', 'people', 'american', 'aggressor', 'sent', 'troop', 'cambodia', 'order', 'implement', 'nixon', \"doctrine'\", 'design', 'pit', 'indochines', 'indochinese', 'aggression', 'far', 'lead', 'expect', 'results', 'immedi', 'met', 'arm', 'resist', 'peopl', 'cambodia', 'militari', 'solidar', 'vietnames', 'laotian', 'brothers', 'power', 'support', 'great', 'chines', 'peopl', 'peopl', 'asia', 'arous', 'energet', 'opposit', 'peopl', 'world', 'includ', 'american', 'people', 'instead', 'stifl', 'liber', 'struggl', 'vietnames', 'people', 'aggress', 'cambodia', 'spread', 'indo-china', 'fire', 'liber', 'revolutionari', 'struggl', 'open', 'wider', 'deeper', 'abyss', 'american', 'imperi', 'final', 'engulf', 'hope', 'rescued.\\n48.\\tth', 'success', 'gain', 'cambodian', 'people', 'leadership', 'cambodia', 'presid', 'head', 'state', 'samdech', 'norodom', 'sihanouk', 'liber', 'larg', 'nation', 'territori', 'aggressor', 'lackeys', 'solidar', 'new', 'consolid', 'uniti', 'peopl', 'cambodia', 'vietnam', 'laos', 'peopl', 'republ', 'china', 'democrat', 'peopl', 'republ', 'korea', 'revolutionari', 'peopl', 'asia', 'constitut', 'harsh', 'blow', 'american', 'imperialism', 'collabor', 'lackeys.\\n49.\\tth', 'american', 'aggress', 'cambodia', 'time', 'proof', 'collusion', 'expens', 'people', 'american', 'imperi', 'revisionist', 'moscow', 'adopt', 'occas', 'attitud', 'similar', 'american', 'govern', 'aggress', 'czechoslovakia', 'particular', 'refus', 'recogn', 'govern', 'cambodia', 'fact', 'maintain', 'normal', 'diplomat', 'relat', 'lon', 'nol', 'clique', 'instrument', 'american', 'imperi', 'support', 'puppet', 'saigon', 'seoul', 'riffraff', 'chiang', 'kaishek', 'reaction', 'whole', 'reveal', 'world', 'public', 'opinion', 'true\\nway', 'camp', 'imperi', 'reaction.\\n50.\\tth', 'event', 'current', 'year', 'cambodia', 'indo-china', 'great', 'import', 'indochines', 'peoples', 'fresh', 'proof', 'obstinaci', 'american', 'imperi', 'carri', 'act', 'aggress', 'extend', 'war', 'better', 'posit', 'decid', 'sincer', 'yanke', 'invad', 'him', 'soviet', 'social-imperialist', 'great', 'socialist', 'china', 'repres', 'them', 'realiz', 'arm', 'struggl', 'way', 'free', 'american', 'aggressors.\\n51.\\tdespit', 'intensif', 'effort', 'american', 'imperialists', 'back', 'soviet', 'revisionists', 'valiant', 'peopl', 'vietnam', 'thwart', 'plan', 'danger', 'subterfug', 'design', 'bring', 'capitulation', 'south', 'vietnam', 'peopl', 'popular', 'liber', 'armi', 'taken', 'arm', 'struck', 'crush', 'blow', 'american', 'aggressors', 'give', 'moment', 'respit', 'militari', 'camp', 'bases', 'da', 'nang', 'ben', 'tre', 'hue', 'outskirt', 'saigon', 'part', 'country', 'vietnames', 'peopl', 'arm', 'forc', 'have', 'brilliant', 'victories', 'tie', 'american', 'imperialist', 'saigon', 'tool', 'battlefield', 'victori', 'shown', 'undeni', 'effort', 'yanke', 'aggressor', 'escap', 'inevit', 'defeat', 'extend', 'war', 'brought', 'irrepar', 'reversals', 'long', 'revolutionari', 'struggl', 'temper', 'vietnames', 'peopl', 'invincible', 'determin', 'heroic', 'struggl', 'undoubt', 'deal', 'crush', 'blow', 'american', 'imperi', 'complet', 'defeated.\\n52.\\tth', 'arm', 'struggl', 'nation', 'wellb', 'peoples', 'vietnam', 'lao', 'cambodia', 'constant', 'develop', 'reinforced', 'new', 'stage', 'crimin', 'plot', 'american', 'soviet', 'imperialist', 'hatch', 'order', 'bring', 'so-cal', 'peac', 'settlement', 'indo-china', 'doom', 'complet', 'failure', 'american', 'imperi', 'surround', 'defeat', 'fronts', 'bound', 'beaten.\\n53.\\ta', 'typic', 'case', 'show', 'feroc', 'great', 'americansoviet', 'conspiraci', 'method', 'combin', 'divers', 'mean', 'action', 'imperialist', 'power', 'order', 'carri', 'polici', 'aggress', 'hegemoni', 'tragic', 'situat', 'prevail', 'present', 'time', 'near', 'east', 'concern', 'implement', 'cost', 'common', 'plan', 'sad', 'reput', 'baptiz', 'roger', 'plan', 'design', 'liquid', 'palestinian', 'question', 'divid', 'arab', 'peoples', 'legal', 'reward', 'imperialistisra', 'aggress', 'assur', 'imperialist', 'interest', 'area', 'revisionist', 'soviet', 'union', 'plot', 'effect', 'crimin', 'collus', 'design', 'stifl', 'palestinian', 'liber', 'movement', 'reactionari', 'regim', 'jordan', 'tri', 'implement', 'near', 'east', 'nixon', 'doctrin', 'aim', 'pit', 'asian', 'asians', 'jordanian', 'reaction', 'serv', 'american', 'imperi', 'zionism', 'fire', 'sword', 'cannons', 'tank', 'aviat', 'heroic', 'palestinian', 'fighters', 'barbar', 'mass', 'massacr', 'perpetr', 'palestinian', 'popul', 'amman', 'elsewhere', 'time', 'american', 'imperialism', 'statement', 'nixon', 'laird', 'leaders', 'threaten', 'interven', 'intern', 'affair', 'arab', 'countri', 'threaten', 'intervent', 'sixth', 'fleet', 'trying', 'always', 'play', 'role', 'policeman', 'oppress', 'peopl', 'suppress', 'liber', 'struggles', 'defend', 'cliqu', 'pockets', 'defend', 'rapaci', 'interest', 'enslav', 'peoples.\\n54.\\tamerican', 'imperi', 'world', 'reaction', 'consid', 'unfair', 'fratern', 'assist', 'given', 'syria', 'iraq', 'arab', 'brother', 'struggl', 'cause', 'common', 'cause', 'accord', 'logic', 'right', 'freedom', 'interven', 'countries', 'everywhere', 'util', 'tanks', 'cannons', 'war', 'fleet', 'oppress', 'exploit', 'peopl', 'countries', 'syria', 'iraq', 'entitl', 'come', 'aid', 'brothers.\\n55.\\ta', 'wave', 'indign', 'resent', 'unleash', 'progress', 'world', 'rightly', 'conscienc', 'arab', 'peopl', 'revolt', 'treacheri', 'rule', 'cliqu', 'jordan', 'world', 'wonders:', 'tank', 'bullet', 'palestinians', 'struggl', 'liberty', 'independ', 'sacr', 'land?\\n56.\\tth', 'peopl', 'continents', 'profound', 'indignant', 'rais', 'voic', 'protest', 'american', 'imperialist', 'soviet', 'socio', 'imperialists', 'crying:', 'hand', 'palestinian', 'people', 'jordan', 'syria', 'arab', \"countries.'\\n57.\\tit\", 'clear', 'palestinian', 'obey', 'roger', \"plan'\", 'know', 'american', 'plan', 'base', 'secur', 'council', 'resolut', '22', 'novemb', '1967', '[242', '(1967)', 'which', 'know', 'result', 'bargain', 'corridor', 'american', 'soviet', 'designed', 'inter', 'alia', 'impos', 'elimin', 'palestinian', 'question', 'recognit', 'israel', 'right', 'annex', 'territori', 'invad', 'follow', 'aggress', 'june', '1967', 'plan', 'design', 'reward', 'zionist', 'aggress', 'guarante', 'exist', 'state', 'israel', 'taken', 'arab', 'territori', 'conquer', 'aggression', 'recogn', 'rights', 'worse', 'superpow', 'want', 'use', 'new', 'ceasefir', 'continu', 'maneuv', 'machin', 'engag', 'past', 'year', 'order', 'appli', 'tactic', 'imperialist', 'power', 'isra', 'aggress', '1948', 'aim', 'put', 'fulfil', 'sacr', 'caus', 'arab', 'make', 'fait', 'accompli', 'israel', 'new', 'occup', 'territories.\\n58.\\tno', 'arab', 'peopl', 'accept', 'statessoviet', 'diktat', 'design', 'bring', 'recapitulation', 'palestinian', 'peopl', 'arab', 'peopl', 'reject', 'plot', 'effort', 'imperialist', 'soviet', 'revisionist', 'vain', 'arab', 'peopl', 'long', 'experience', 'know', 'isra', 'aggressor', 'masters', 'allow', 'foreign', 'power', 'decid', 'fate', 'machin', 'share', 'roles', 'present', 'author', 'crimin', 'plan', 'give', 'plan', 'support.\\n59.\\tth', 'arab', 'peopl', 'know', 'propos', 'america', 'incit', 'assist', 'israel', 'unleash', 'aggress', 'year', 'ago', 'continu', 'provid', 'israel', 'armament', 'encourag', 'pursu', 'aggress', 'provocation', 'design', 'simpli', 'serv', 'imperialist', 'interest', 'power', 'area', 'near', 'east', 'great', 'strateg', 'import', 'rich', 'petroleum', 'deposits', 'interest', 'israel', 'instrument', 'obvious', 'deni', 'assist', 'support', 'israel', 'posit', 'initi', 'aggress', 'june', '1967', 'continu', 'occupi', 'arab', 'territories.\\n60.\\twith', 'regard', 'soviet', 'revisionists', 'mask', 'on', 'arab', 'peopl', 'know', 'faces', 'especi', 'americanisra', 'aggression', 'convinc', 'interest', 'penetr', 'near', 'east', 'mediterranean', 'basin', 'creat', 'condit', 'favor', 'expans', 'area.\\n61.\\tth', 'leader', 'albanian', 'people', 'comrad', 'enver', 'hoxha', 'refer', 'problem', 'statement', '18', 'septemb', 'elector', 'tirana', 'said', \"things:\\n'in\", 'final', 'analysis', 'glorious', 'revolutionari', 'arab', 'peopl', 'wool', 'pull', 'eye', 'fals', 'friendship', 'soviet', 'social', 'imperialism', 'taken', 'advantag', 'temporari', 'difficulti', 'occupi', 'port', 'sea', 'stifl', 'liber', 'struggl', 'fascist', 'zionist', 'imperialists', 'aggress', 'imperialist', 'power', 'interest', 'plant', 'root', 'deep', 'near', 'east', 'ensur', 'economic', 'polit', 'militari', 'base', 'countri', 'area', 'want', 'oppress', 'peopl', 'countries', 'lull', 'words', 'demor', 'corrupt', 'order', 'finally', 'use', 'bases', 'invad', 'africa', 'asia', 'regions', 'start', 'coloni', 'war', 'plunder', \"continents.\\n'th\", 'albanian', 'peopl', 'love', 'arab', 'peoples', 'brother', 'friend', 'good', 'time', 'bad', 'time', 'revolutionari', 'liber', 'struggles', 'constantly', 'support', 'continu', 'support', 'mean', 'disposal', 'confid', 'triumph', 'caus', 'fighting', 'but', 'order', 'win', 'earli', 'victori', 'common', 'enemy', 'uniti', 'hard', 'steel', 'forg', 'arab', 'peopl', 'arm', 'struggle', 'zionists', 'imperialist', 'soviet', 'revisionist', 'seek', 'divid', 'arab', 'peoples', 'disarm', 'them', 'impos', 'peac', \"enemies'\", 'arm', 'suppli', 'control', 'soviets', 'avail', 'sacr', 'arab', 'cause', 'precis', 'deceiv', 'arabs', 'tie', 'hand', 'send', 'slaughterhouse', 'roger', 'plan', 'ill', 'reput', 'accur', 'call', 'rogersgromyko', \"plan'\", 'arab', 'peopl', 'certain', 'fall', 'terribl', 'trap', 'plan', 'sovietunit', 'armi', 'can', 'recours', 'insidi', 'means', 'succeed', 'establish', 'side', 'suez', 'canal', 'case', 'wonder', 'purpos', 'hardwar', 'suppli', 'arab', 'soviet', 'serve', 'heroic', 'driven', 'imperialist', 'canal', 'occupi', \"others.\\n'th\", 'clamor', 'day', 'harmoni', 'secret', 'maneuv', 'soviet', 'revisionists', 'crackl', 'heroic', 'gun', 'arab', 'palestinian', 'brother', 'glorious', 'reply', 'great', 'conspiraci', 'enemies', 'therefore', 'possibl', 'means', 'resolut', 'assist', 'partisan', 'struggl', 'palestinians', 'struggl', 'forefront', 'general', 'battl', 'wage', 'arab', 'peopl', 'fronts', 'arab', 'brother', 'succeed', 'rais', 'high', 'banner', 'liber', 'struggl', 'imperialist', 'zionists', 'reduc', 'plan', 'soviet', 'revisionist', 'provoc', 'organ', 'agenc', 'cia', 'conspir', 'liber', 'struggl', 'peopl', 'palestin', 'arab', \"peoples.'\\n62.\\tth\", 'arab', 'peopl', 'great', 'revolutionari', 'tradit', 'known', 'braveri', 'liber', 'struggles', 'know', 'fight', 'isra', 'aggressor', 'only', 'imperialist', 'power', 'main', 'respons', 'situat', 'near', 'east', 'and', 'therefore', 'allow', 'fall', 'trap', 'powers.\\n63.\\tth', 'event', 'recent', 'day', 'jordan', 'confirm', 'that', 'leader', 'albanian', 'people', 'comrad', 'enver', 'hoxha', 'indic', 'statement', '18', 'september', 'soviet', 'social-imperi', 'pursu', 'aim', 'common', 'interest', 'arab', 'peoples', 'occasions', 'concern', 'fate', 'arab', 'peoples', 'sole', 'aim', 'consolid', 'imperialist', 'positions', 'particular', 'case', 'soviet', 'revisionist', 'leaders', 'repli', 'nixon', 'appeal', 'bring', 'moscow', 'fire', 'brigad', 'snuff', 'revolutionari', 'struggl', 'palestinian', 'arab', 'peoples', 'subjug', 'enslav', 'them', 'hasten', 'assum', 'role', 'firemen', 'offici', 'declar', 'propaganda', 'organs', 'came', 'defens', 'cliqu', 'power', 'jordan', 'threaten', 'palestinian', 'slogan', 'violenc', 'lead', \"violence'\", 'address', 'appeal', 'arab', 'peopl', 'ask', 'struggle', 'fact', 'serv', 'obvious', 'arab', 'peopl', 'perfidi', 'role', 'play', 'social', 'imperialist', 'moscow', 'real', 'aim', 'statessoviet', 'plan', 'near', 'east.\\n64.\\tth', 'palestinian', 'consid', 'jordan', 'second', 'homeland', 'caus', 'disrupt', 'jordan', 'rather', 'fault', 'lie', 'reactionari', 'regim', 'jordan', 'king', 'hussein', 'servic', 'imperi', 'roger', \"plan'\", 'contrary', 'palestinian', 'jordan', 'healthiest', 'element', 'common', 'struggl', 'annihil', 'common', 'enemy.\\n65.\\tth', 'albanian', 'peopl', 'profound', 'indignant', 'strong', 'condemn', 'crimin', 'act', 'support', 'heroic', 'struggl', 'palestinian', 'fight', 'sacr', 'rights', 'convinc', 'that', 'thank', 'resolut', 'struggl', 'strengthen', 'uniti', 'combat', 'enjoy', 'support', 'true', 'friends', 'freedom-lov', 'peoples', 'expos', 'plot', 'enemi', 'gain', 'final', 'victori', 'aggressors.\\n66.\\tin', 'deal', 'soviet', 'union', 'import', 'place', 'held', 'so-cal', 'question', 'european', 'secur', 'conference', 'propos', 'year', 'kremlin', 'leader', 'instrument', 'aggression', 'warsaw', 'treaty', 'sign', 'intens', 'activ', 'year', 'instig', 'powers', 'accord', 'strategi', 'consolid', 'subsequ', 'extend', 'domin', 'europ', 'carri', 'aggress', 'plan', 'areas', 'soviet', 'imperialist', 'particular', 'concern', 'ensur', 'success', 'project', 'soviet', 'revisionist', 'particular', 'show', 'special', 'haste', 'explain', 'intern', 'difficulties', 'grow', 'resist', 'countri', 'eastern', 'europ', 'polici', 'intervent', 'domination', 'plan', 'prepar', 'aggress', 'direct', 'asia', 'peopl', 'republ', 'china', 'cours', 'west', 'em', 'allies', 'particular', 'feder', 'republ', 'germany', 'fail', 'power', 'exploit', 'hast', 'display', 'soviet', 'revisionist', 'leadership', 'order', 'obtain', 'largest', 'possibl', 'number', 'concess', 'german', 'problem', 'west', 'berlin', 'ensur', 'economic', 'polit', 'cultur', 'penetr', 'countri', 'eastern', 'europe.\\n67.\\tconfront', 'insurmount', 'difficulti', 'relat', 'contradict', 'exist', 'problem', 'imperialist', 'soviet', 'social', 'imperialist', 'european', 'states', 'call', 'superpowers', 'order', 'find', 'way', 'mislead', 'public', 'opinion', 'hit', 'follow', 'formula', 'serv', 'guid', 'principl', 'agreement', 'conclud', 'framework:', 'renunci', 'use', 'forc', 'relat', \"europe'\", 'mislead', 'formula', 'design', 'fact', 'cling', 'conclud', 'agreements', 'basi', 'formula', 'negoti', 'took', 'place', 'feder', 'republ', 'germani', 'german', 'democrat', 'republ', 'poland', 'long', 'negotiations', 'paramount', 'importance', 'soviet', 'union', 'west', 'germany.\\n68.\\tin', 'activ', 'step', 'greatest', 'impact', 'sovietwest', 'german', 'treati', 'sign', '12', 'august', 'moscow', 'intens', 'propaganda', 'attend', 'sign', 'treati', 'design', 'present', 'histor', 'event', 'said', 'bring', 'peac', 'europ', 'integr', 'borders', 'course', 'campaign', 'regardless', 'mean', 'used', 'deceiv', 'naive', 'peopl', 'europe', 'great', 'experience', 'taken', 'rhetoric', 'particular', 'propaganda', 'statement', 'soviet', 'american', 'leaders', 'supporters', 'fail', 'recal', 'vast', 'deceit', 'campaign', 'accompani', 'stage', 'plot', 'compromis', 'western', 'power', 'hitlerian', 'militarism', 'especi', 'regard', 'munich', 'agreement', 'septemb', '1938.\\n69.\\tthe', 'moscow', 'treati', 'fact', 'solut', 'german', 'problem', 'open', 'violat', 'decis', 'problem', 'adopt', 'alli', 'power', 'war', 'oft', 'renew', 'promis', 'soviet', 'revisionist', 'leadership', 'conclud', 'peac', 'treati', 'german', 'states', 'simpli', 'german', 'democrat', 'republic', 'defend', 'interest', 'sovereign', 'right', 'latter', 'soviet', 'revisionist', 'trampl', 'foot', 'commit', 'obligations', 'commit', 'crime', 'german', 'people', 'german', 'democrat', 'republic', 'peac', 'secur', 'europ', 'entir', 'world', 'assum', 'heavi', 'responsibility.\\n70.\\tth', 'moscow', 'treati', 'fact', 'formal', 'recognit', 'entri', 'conquer', 'germani', 'communiti', 'states', 'sign', 'peac', 'treaty', 'sovietgerman', 'treaty', 'apart', 'equivoc', 'question', 'terms', 'refer', 'recognit', 'border', 'german', 'oderneiss', 'line', 'divid', 'poland', 'german', 'democrat', 'republ', 'final', 'unchang', 'borders', 'recognit', 'feder', 'republ', 'germani', 'german', 'democrat', 'republ', 'independent', 'sovereign', 'state', 'fulli', 'enjoy', 'rights', 'important', 'chancellor', 'west', 'germani', 'leader', 'bonn', 'state', 'occasion', 'sign', 'treaty', 'idea', 'reunif', 'german', 'nation', 'mean', 'annex', 'german', 'democrat', 'republic', 'posit', 'confirm', 'document', 'annex', 'treaty', 'bonn', 'govern', 'endeavor', 'situat', 'gain', 'time', 'order', 'prepar', 'attain', 'its', 'expansionist', 'object', 'favor', 'circumstances', 'thus', 'soviet', 'revisionist', 'consid', 'german', 'democrat', 'republ', 'bargain', 'counter', 'deal', 'revengeseek', 'bonn', 'claim', 'right', 'speak', 'act', 'behalf', 'germany', 'support', 'great', 'western', 'powers.\\n71.\\ta', 'provis', 'treati', 'concern', 'renunci', 'use', 'forc', 'inviol', 'borders', 'mean', 'border', 'fact', 'unchangeable', 'peopl', 'europ', 'know', 'valu', 'commit', 'german', 'revenge-seekers', 'memori', 'hitler', 'nonaggress', 'pact', 'european', 'fresh', 'minds.\\n72.\\ttherefore', 'point', 'view', 'moscow', 'treati', 'undeni', 'provid', 'bonn', 'leader', 'fall', 'on', 'encourag', 'expansionist', 'revenge-seek', 'plan', 'time', 'blow', 'german', 'democrat', 'republ', 'progress', 'peace-lov', 'forc', 'germany.\\n73.\\tno', 'deni', 'he', 'creation', 'german', 'democrat', 'republ', 'great', 'victori', 'german', 'peopl', 'peopl', 'europe', 'close', 'connect', 'peac', 'secur', 'europe', 'strengthen', 'german', 'democrat', 'republ', 'recognit', 'europe', 'basi', 'principl', 'sovereign', 'equality', 'interest', 'security', 'essenti', 'condit', 'settlement', 'german', 'problem', 'sound', 'basi', 'sincer', 'attempt', 'place', 'german', 'peopl', 'road', 'peac', 'democracy', 'cooperation', 'friendship', 'european', 'peoples', 'agreement', 'soviet', 'union', 'west', 'germani', 'danger', 'step', 'opposit', 'direction', 'fail', 'condemn', ',bi', 'peac', 'freedom-lov', 'countri', 'peopl', 'europe.\\n74.\\tit', 'obvious', 'moscow', 'treati', 'foremost', 'result', 'bargain', 'soviet', 'imperialists', 'framework', 'plan', 'global', 'strategi', 'europ', 'continents', 'treati', 'time', 'agreement', 'new', 'imperialist', 'powers', 'soviet', 'social', 'imperi', 'west', 'german', 'militarism', 'and', 'such', 'threat', 'european', 'contin', 'area', 'world', 'object', 'statessoviet', 'plan', 'aggression', 'leader', 'moscow', 'join', 'success', 'govern', 'washington', 'rais', 'west', 'germani', 'level', 'main', 'shock', 'force', 'princip', 'partner', 'power', 'put', 'effect', 'counterrevolutionari', 'plan', 'plan', 'subjug', 'freedom-lov', 'peopl', 'countries', 'fail', 'occas', 'remind', 'assembl', 'similar', 'plan', 'polici', 'western', 'power', 'hitler', 'germany', 'prove', 'cost', 'them', 'hitler', 'germani', 'eventu', 'turn', 'them.\\n75.\\tth', 'moscowbonn', 'treati', 'undeni', 'new', 'link', 'seri', 'plot', 'soviet', 'american', 'world', 'peoples', 'threat', 'entail', 'escap', 'attent', 'govern', 'sincer', 'concern', 'vital', 'interest', 'people', 'nation', 'secur', 'independ', 'world', 'peace.\\n76.\\tth', 'albanian', 'govern', 'sympathi', 'justifi', 'concern', 'european', 'sincer', 'interest', 'secur', 'peac', 'europ', 'search', 'appropri', 'way', 'mean', 'normal', 'situat', 'continent', 'deliv', 'hegemoni', 'major', 'imperialist', 'power', 'reject', 'idea', 'sphere', 'influence', 'elimin', 'aggress', 'bloc', 'domin', 'them', 'creat', 'favor', 'circumst', 'develop', 'european', 'cooper', 'basi', 'respect', 'independ', 'nation', 'sovereignty', 'sovereign', 'equal', 'mutual', 'benefit.\\nthat', 'fulli', 'line', 'principl', 'under', 'foreign', 'policy', 'but', 'know', 'well', 'nobl', 'object', 'common', 'crimin', 'plan', 'soviet', 'imperialist', 'supporters', 'activities', 'pact', 'propos', 'conclude', 'initi', 'proposals', 'includ', 'european', \"security'\", 'collect', 'secur', \"asia'\", 'intern', 'secur', 'present', 'again', 'initi', 'soviet', 'revisionists', 'present', 'session', 'general', 'assembl', 'power', 'constant', 'motiv', 'insati', 'greed', 'domin', 'exploit', 'peopl', 'world', 'desir', 'maintain', 'consolid', 'sphere', 'influenc', 'europ', 'free', 'hand', 'areas', 'ensur', 'tranquil', 'rear', 'better', 'carri', 'expansionist', 'plan', 'asia', 'africa', 'elsewhere', 'mean', 'necessary', 'extent', 'threaten', 'arm', 'force.\\n77.\\tther', 'need', 'prove', 'true', 'state', 'affairs', 'ampli', 'born', 'realiti', 'hotb', 'imperialist', 'war', 'area', 'world', 'aggress', 'indo-china', 'middl', 'east', 'far', 'east', 'europ', 'elsewhere', 'militari', 'base', 'soviet', 'imperialist', 'europ', 'continents', 'occup', 'foreign', 'territories', 'nuclear', 'blackmail', 'arm', 'race', 'fleet', 'warship', 'v/hich', 'cruis', 'mediterranean', 'pacif', 'sea', 'ocean', 'threaten', 'peace-lov', 'peopl', 'countri', 'areas', 'born', 'out', 'inter', 'alia', 'crimin', 'plan', 'europe', 'particular', 'role', 'assign', 'revenge-seek', 'germany', 'plan', 'asia', 'aim', 'particular', 'encircl', 'peopl', 'republ', 'china', 'prepar', 'war', 'countri', 'cooper', 'aggress', 'powers', 'particular', 'japanes', 'militarism', 'claim', 'guarante', 'peac', 'europ', 'condit', 'aegi', 'protect', 'imperialist', 'powers', 'american', 'soviet?\\n78.\\ton', 'wonder', 'peac', 'guaranteed', 'threaten', 'peac', 'secur', 'peopl', 'europe', 'small', 'peace-lov', 'countries', 'opinion', 'caught', 'sovietamerican', 'trap', 'european', 'secur', 'collect', 'secur', 'asia', 'tantamount', 'serv', 'aggress', 'plan', 'or', 'rather', 'throw', 'oneself', 'wolves', 'today', 'peac', 'indivisible', 'peac', 'europ', 'war', 'asia', 'elsewhere.\\n79.\\tcomrad', 'enver', 'hoxha', 'statement', 'occas', 'twenty-fifth', 'anniversari', 'liber', 'albania', 'state', \"connexion:\\n'first\", 'question', 'assur', 'whom', 'european', 'secur', 'sought', 'soviet', 'revisionist', 'support', 'imperialist', 'mean', 'secur', 'sphere', 'influenc', 'europe', 'secur', 'militari', 'base', 'right', 'squadron', 'patrol', 'european', 'coasts', 'mean', 'peopl', 'europ', 'legal', 'offici', 'recogn', 'right', 'moscow', 'washington', 'conserv', 'special', 'privileg', 'imperialist', 'colonialist', 'natur', 'countri', 'europe', 'secur', 'boil', 'perman', 'mainten', 'europ', 'status', 'quo', 'soviet', 'american', 'domination', 'calm', 'ensur', 'contin', 'soviet', 'revisionist', 'american', 'imperialist', 'freedom', 'movement', 'act', 'freeli', 'asia', 'africa', 'order', 'subjug', 'enslav', 'peoples', 'reinforc', 'capitalist', 'system', 'exploitation', 'home', \"empires.'\\n80.\\tw\", 'believ', 'peac', 'secur', 'assur', 'resolut', 'opposit', 'struggl', 'imperialist', 'powers', 'polici', 'diktat', 'aggress', 'war', 'way', 'grist', 'mill', 'powers', 'envisag', 'enslav', 'europ', 'world.\\n81.\\tw', 'convinc', 'matter', 'effort', 'american', 'soviet', 'imperialist', 'collaborators', 'tranquil', 'seek', 'europe', 'run', 'contradictions', 'peopl', 'europ', 'accept', 'hegemoni', 'guise', 'allow', 'pit', 'europ', 'asia', 'allow', 'cannon', 'fodder', 'realize', 'crimin', 'plan', 'powers.\\n82.\\tw', 'awar', 'peace-lov', 'member', 'condemn', 'aggress', 'polici', 'imperialist', 'powers', 'collus', 'expens', 'caus', 'peace-lov', 'peopl', 'countries', 'monstrous', 'plan', 'redivid', 'domin', 'world', 'constant', 'admir', 'courag', 'struggl', 'wage', 'countries', 'nation', 'outsid', 'it', 'grand', 'conspiraci', 'powers', 'present', 'situat', 'requir', 'member', 'faith', 'principl', 'independ', 'equal', 'great', 'small', 'respect', 'sovereignti', 'territori', 'integr', 'intensifi', 'struggl', 'unit', 'effort', 'americansoviet', 'imperi', 'collus', 'desir', 'impos', 'diktat', 'here', 'higher', 'interest', 'peac', 'security', 'serious', 'threaten', 'aggress', 'polici', 'american', 'soviet', 'coalition', 'requir', 'lofti', 'interest', 'peopl', 'fight', 'imperialism', 'coloni', 'reaction.\\n83.\\tmani', 'fought', 'unceas', 'away', 'unpreced', 'anomali', 'exist', 'organ', 'result', 'violat', 'law', 'right', 'peopl', 'republ', 'china', 'usurp', 'place', 'cliqu', 'renegad', 'servic', 'american', 'imperialism', 'nevertheless', 'scandal', 'intoler', 'situat', 'continu', 'today', 'hostil', 'aggress', 'polici', 'great', 'socialist', 'china', 'manipul', 'nations.\\n84.\\tat', 'session', 'albania', 'fourteen', 'countri', 'place', 'assembl', 'agenda', 'question', 'restor', 'law', 'right', 'peopl', 'republ', 'china', 'nation', '[a/8043', 'add.i', '2]', 'flagrant', 'gross', 'violat', 'charter', 'affect', 'sovereign', 'right', 'found', 'member', 'state', 'nation', 'perman', 'member', 'secur', 'council', 'elimin', 'abnormal', 'unpreced', 'situat', 'urgent', 'necess', 'nation', 'desir', 'step', 'recoveri', 'posit', 'accomplish', 'task', 'charter', 'clear', 'peopl', 'republ', 'china', 'given', 'authority', 'great', 'role', 'tremend', 'potential', 'organ', 'posit', 'effect', 'contribut', 'settlement', 'import', 'problem', 'time.\\n85.\\tth', 'peopl', 'republ', 'china', 'great', 'power', 'socialist', 'state', 'tremend', 'success', 'area', 'enjoy', 'incompar', 'prestig', 'authority', 'dazzl', 'victori', 'great', 'proletarian', 'cultur', 'revolut', 'thwart', 'plot', 'imperialist', 'revisionist', 'took', 'control', 'insid', 'chines', 'citadel', 'live', 'testimoni', 'invinc', 'forc', 'great', 'chines', 'peopl', 'guarante', 'great', 'role', 'power', 'socialist', 'china', 'undeni', 'play', 'destini', 'peopl', 'world.\\n86.\\tth', 'peopl', 'republ', 'china', 'today', 'great', 'impregn', 'fortress', 'liber', 'struggl', 'peopl', 'imperialism', 'coloni', 'reaction', 'unshak', 'rampart', 'progress', 'mankind.\\n87.\\tw', 'consid', 'posit', 'taken', 'general', 'assembl', 'question', 'prove', 'determin', 'reject', 'diktat', 'great', 'imperialist', 'power', 'seek', 'lo', 'exercis', 'nation', 'embark', 'cours', 'conform', 'aspir', 'peopl', 'fundament', 'provis', 'charter', 'express', 'hope', 'govern', 'peace-lov', 'constitut', 'xnajor', 'here', 'awar', 'situat', 'nations', 'courag', 'adopt', 'attitud', 'dictat', 'convict', 'true', 'interest', 'countri', 'organ', 'itself.\\n88.\\tth', 'peopl', 'republ', 'albania', 'constant', 'pursu', 'independ', 'revolutionari', 'foreign', 'polici', 'accord', 'higher', 'interest', 'build', 'defens', 'socialist', 'homeland', 'great', 'caus', 'peopl', 'fight', 'freedom', 'independ', 'sacr', 'right', 'freeli', 'determin', 'future,\\n89.\\tth', 'albanian', 'peopl', 'abl', 'defend', 'socialist', 'homeland', 'circumst', 'plots', 'threat', 'provoc', 'imperialist', 'revisionists', 'watch', 'prepar', 'moment', 'respond', 'dare', 'rais', 'hand', 'it.\\n16\\n90.\\tth', 'albanian', 'people', 'parti', 'government', 'support', 'continu', 'strong', 'support', 'legitim', 'struggl', 'peace-lov', 'peopl', 'countri', 'aggress', 'polici', 'imperialist', 'powers', 'colonialist', 'collabor', 'lackey', 'kinds', 'stood', 'shall', 'stand', 'brother', 'peopl', 'vietnam', 'laos', 'cambodia', 'peopl', 'indo-china', 'asia', 'heroic', 'struggl', 'american', 'aggressor', 'alli', 'kinds', 'support', 'shall', 'continu', 'unreserv', 'support', 'legitim', 'fight', 'fratern', 'arab', 'peopl', 'zionist', 'aggressor', 'american', 'soviet', 'imperialists', 'main', 'respons', 'present', 'situat', 'middl', 'east', 'vigor', 'support', 'struggl', 'peopl', 'european', 'countri', 'peopl', 'czechoslovakia', 'german', 'democrat', 'republ', 'peopl', 'contin', 'peopl', 'contin', 'polici', 'domination', 'oppress', 'exploit', 'imperialist', 'power', 'counterrevolutionari', 'holi', \"alliance'.\\n91.\\tw\", 'firm', 'convinc', 'peopl', 'entir', 'world', 'fight', 'caus', 'vast', 'anti-imperialist', 'anti-colonialist', 'front', 'resolut', 'combat', 'solidarity', 'plots', 'aggress', 'plan', 'aggressions', 'matter', 'respons', 'them', 'win', 'final', 'victori', 'common', 'enemies.\\n92.\\tth', 'deleg', 'peopl', 'republ', 'albania', 'session', 'general', 'assembly', 'guid', 'marxistleninist', 'principl', 'socialist', 'state', 'continue', 'past', 'freedom-lov', 'peopl', 'modest', 'contribut', 'caus', 'freedom', 'independ', 'genuin', 'cooper', 'friendship', 'peopl', 'th', 'world']\n"
     ]
    },
    {
     "name": "stderr",
     "output_type": "stream",
     "text": [
      "C:\\Users\\mtwpi\\AppData\\Local\\Programs\\Python\\Python38\\lib\\site-packages\\ipykernel\\ipkernel.py:287: DeprecationWarning: `should_run_async` will not call `transform_cell` automatically in the future. Please pass the result to `transformed_cell` argument and any exception that happen during thetransform in `preprocessing_exc_tuple` in IPython 7.17 and above.\n"
     ]
    }
   ],
   "source": [
    "# print(\" \".join(text_data[0]))\n",
    "print(text_data[0])"
   ]
  },
  {
   "cell_type": "code",
   "execution_count": 39,
   "id": "coordinated-tuning",
   "metadata": {},
   "outputs": [
    {
     "name": "stderr",
     "output_type": "stream",
     "text": [
      "C:\\Users\\mtwpi\\AppData\\Local\\Programs\\Python\\Python38\\lib\\site-packages\\ipykernel\\ipkernel.py:287: DeprecationWarning: `should_run_async` will not call `transform_cell` automatically in the future. Please pass the result to `transformed_cell` argument and any exception that happen during thetransform in `preprocessing_exc_tuple` in IPython 7.17 and above.\n",
      "<ipython-input-39-fd25541ce06f>:3: DeprecationWarning: The default dtype for empty Series will be 'object' instead of 'float64' in a future version. Specify a dtype explicitly to silence this warning.\n"
     ]
    },
    {
     "name": "stdout",
     "output_type": "stream",
     "text": [
      "7507\n"
     ]
    }
   ],
   "source": [
    "# print(text_data[0])\n",
    "print(len(text_data))\n",
    "speechesSeries = pd.Series()\n",
    "for mySpeech in text_data:\n",
    "#     textForm = \" \".join(mySpeech)\n",
    "    seriesForm = pd.Series(mySpeech)\n",
    "    speechesSeries = speechesSeries.append(seriesForm, ignore_index=True)"
   ]
  },
  {
   "cell_type": "code",
   "execution_count": 40,
   "id": "norman-buying",
   "metadata": {},
   "outputs": [
    {
     "name": "stderr",
     "output_type": "stream",
     "text": [
      "C:\\Users\\mtwpi\\AppData\\Local\\Programs\\Python\\Python38\\lib\\site-packages\\ipykernel\\ipkernel.py:287: DeprecationWarning: `should_run_async` will not call `transform_cell` automatically in the future. Please pass the result to `transformed_cell` argument and any exception that happen during thetransform in `preprocessing_exc_tuple` in IPython 7.17 and above.\n"
     ]
    },
    {
     "name": "stdout",
     "output_type": "stream",
     "text": [
      "0 (1967)\n",
      "1 (bissau)\n",
      "2 ,bi\n",
      "3 12\n",
      "4 18\n",
      "5 1938.\n",
      "69.\tthe\n",
      "6 1948\n",
      "7 1967\n",
      "8 21\n",
      "9 22\n",
      "10 2]\n"
     ]
    }
   ],
   "source": [
    "dictionary = gensim.corpora.Dictionary(text_data)\n",
    "\n",
    "# For fun\n",
    "count = 0\n",
    "for k, v in dictionary.iteritems():\n",
    "    print(k, v)\n",
    "    count += 1\n",
    "    if count > 10:\n",
    "        break\n"
   ]
  },
  {
   "cell_type": "markdown",
   "id": "virtual-stand",
   "metadata": {},
   "source": [
    "I want to extract words who appear in:\n",
    "\n",
    "- fewer than 15 speeches\n",
    "- more than 50% of speeches in total\n",
    "\n",
    "and keep only the first 100000 most frequent words."
   ]
  },
  {
   "cell_type": "code",
   "execution_count": 41,
   "id": "compound-baseball",
   "metadata": {},
   "outputs": [
    {
     "name": "stderr",
     "output_type": "stream",
     "text": [
      "C:\\Users\\mtwpi\\AppData\\Local\\Programs\\Python\\Python38\\lib\\site-packages\\ipykernel\\ipkernel.py:287: DeprecationWarning: `should_run_async` will not call `transform_cell` automatically in the future. Please pass the result to `transformed_cell` argument and any exception that happen during thetransform in `preprocessing_exc_tuple` in IPython 7.17 and above.\n"
     ]
    }
   ],
   "source": [
    "dictionary.filter_extremes(no_below=15, no_above=0.5, keep_n=100000)"
   ]
  },
  {
   "cell_type": "markdown",
   "id": "prepared-rental",
   "metadata": {},
   "source": [
    "#### Gensim doc2bow"
   ]
  },
  {
   "cell_type": "code",
   "execution_count": 42,
   "id": "environmental-emphasis",
   "metadata": {},
   "outputs": [
    {
     "name": "stderr",
     "output_type": "stream",
     "text": [
      "C:\\Users\\mtwpi\\AppData\\Local\\Programs\\Python\\Python38\\lib\\site-packages\\ipykernel\\ipkernel.py:287: DeprecationWarning: `should_run_async` will not call `transform_cell` automatically in the future. Please pass the result to `transformed_cell` argument and any exception that happen during thetransform in `preprocessing_exc_tuple` in IPython 7.17 and above.\n"
     ]
    },
    {
     "name": "stdout",
     "output_type": "stream",
     "text": [
      "Word 6 (\"21\") appears 1 time.\n",
      "Word 12 (\"acceler\") appears 2 time.\n",
      "Word 21 (\"aegi\") appears 1 time.\n",
      "Word 23 (\"affairs\") appears 1 time.\n",
      "Word 34 (\"aid\") appears 1 time.\n",
      "Word 43 (\"america\") appears 1 time.\n",
      "Word 48 (\"angola\") appears 2 time.\n",
      "Word 56 (\"appeal\") appears 1 time.\n",
      "Word 63 (\"areas\") appears 1 time.\n",
      "Word 78 (\"assum\") appears 1 time.\n",
      "Word 93 (\"awar\") appears 2 time.\n",
      "Word 99 (\"balanc\") appears 1 time.\n",
      "Word 104 (\"basin\") appears 1 time.\n",
      "Word 106 (\"battlefield\") appears 1 time.\n",
      "Word 107 (\"behalf\") appears 1 time.\n",
      "Word 113 (\"bloodi\") appears 2 time.\n",
      "Word 114 (\"blow\") appears 1 time.\n",
      "Word 119 (\"born\") appears 1 time.\n",
      "Word 128 (\"brought\") appears 1 time.\n",
      "Word 134 (\"came\") appears 1 time.\n",
      "Word 136 (\"campaign\") appears 2 time.\n",
      "Word 143 (\"carri\") appears 2 time.\n",
      "Word 150 (\"century\") appears 1 time.\n",
      "Word 167 (\"close\") appears 2 time.\n",
      "Word 176 (\"combat\") appears 1 time.\n",
      "Word 182 (\"conceiv\") appears 1 time.\n",
      "Word 183 (\"concerned\") appears 1 time.\n",
      "Word 191 (\"confirm\") appears 1 time.\n",
      "Word 197 (\"consequ\") appears 1 time.\n",
      "Word 198 (\"conserv\") appears 3 time.\n",
      "Word 199 (\"consolid\") appears 1 time.\n",
      "Word 203 (\"constant\") appears 2 time.\n",
      "Word 205 (\"contin\") appears 2 time.\n",
      "Word 208 (\"continue\") appears 1 time.\n",
      "Word 216 (\"convict\") appears 1 time.\n",
      "Word 217 (\"convinc\") appears 1 time.\n",
      "Word 222 (\"cost\") appears 2 time.\n",
      "Word 227 (\"cours\") appears 1 time.\n",
      "Word 235 (\"cultur\") appears 1 time.\n",
      "Word 240 (\"danger\") appears 2 time.\n",
      "Word 242 (\"day\") appears 1 time.\n",
      "Word 257 (\"democracy\") appears 3 time.\n",
      "Word 261 (\"design\") appears 1 time.\n",
      "Word 263 (\"desir\") appears 1 time.\n",
      "Word 284 (\"divers\") appears 1 time.\n",
      "Word 288 (\"domin\") appears 1 time.\n",
      "Word 293 (\"earli\") appears 2 time.\n",
      "Word 299 (\"elsewhere\") appears 1 time.\n",
      "Word 314 (\"entir\") appears 1 time.\n",
      "Word 323 (\"especi\") appears 1 time.\n",
      "Word 325 (\"essenti\") appears 1 time.\n",
      "Word 330 (\"event\") appears 1 time.\n",
      "Word 332 (\"ever\") appears 1 time.\n",
      "Word 336 (\"exampl\") appears 1 time.\n",
      "Word 337 (\"exercis\") appears 1 time.\n",
      "Word 345 (\"experience\") appears 1 time.\n",
      "Word 363 (\"fate\") appears 1 time.\n",
      "Word 366 (\"feder\") appears 1 time.\n",
      "Word 368 (\"field\") appears 1 time.\n",
      "Word 372 (\"fighting\") appears 1 time.\n",
      "Word 374 (\"finally\") appears 1 time.\n",
      "Word 393 (\"fratern\") appears 2 time.\n",
      "Word 394 (\"fratricid\") appears 1 time.\n",
      "Word 397 (\"freeli\") appears 1 time.\n",
      "Word 421 (\"grow\") appears 1 time.\n",
      "Word 423 (\"guarante\") appears 4 time.\n",
      "Word 425 (\"guid\") appears 2 time.\n",
      "Word 431 (\"hand\") appears 1 time.\n",
      "Word 432 (\"hard\") appears 1 time.\n",
      "Word 444 (\"head\") appears 5 time.\n",
      "Word 445 (\"heavi\") appears 1 time.\n",
      "Word 462 (\"hotb\") appears 1 time.\n",
      "Word 467 (\"illustr\") appears 1 time.\n",
      "Word 483 (\"independence\") appears 1 time.\n",
      "Word 514 (\"inviol\") appears 1 time.\n",
      "Word 526 (\"june\") appears 2 time.\n",
      "Word 530 (\"know\") appears 1 time.\n",
      "Word 542 (\"leader\") appears 1 time.\n",
      "Word 545 (\"legal\") appears 2 time.\n",
      "Word 546 (\"legitim\") appears 1 time.\n",
      "Word 556 (\"lofti\") appears 1 time.\n",
      "Word 559 (\"love\") appears 1 time.\n",
      "Word 562 (\"main\") appears 1 time.\n",
      "Word 567 (\"mankind\") appears 2 time.\n",
      "Word 568 (\"march\") appears 1 time.\n",
      "Word 574 (\"matter\") appears 3 time.\n",
      "Word 579 (\"mention\") appears 1 time.\n",
      "Word 582 (\"method\") appears 1 time.\n",
      "Word 584 (\"million\") appears 2 time.\n",
      "Word 599 (\"namibia\") appears 1 time.\n",
      "Word 605 (\"negat\") appears 1 time.\n",
      "Word 626 (\"occur\") appears 1 time.\n",
      "Word 630 (\"on\") appears 1 time.\n",
      "Word 637 (\"or\") appears 1 time.\n",
      "Word 640 (\"others\") appears 1 time.\n",
      "Word 653 (\"partner\") appears 2 time.\n",
      "Word 654 (\"path\") appears 1 time.\n",
      "Word 665 (\"pit\") appears 1 time.\n",
      "Word 666 (\"plan\") appears 1 time.\n",
      "Word 678 (\"popul\") appears 1 time.\n",
      "Word 685 (\"practic\") appears 1 time.\n",
      "Word 689 (\"prepar\") appears 2 time.\n",
      "Word 707 (\"prove\") appears 1 time.\n",
      "Word 716 (\"pursu\") appears 1 time.\n",
      "Word 728 (\"react\") appears 1 time.\n",
      "Word 736 (\"recal\") appears 3 time.\n",
      "Word 742 (\"reduc\") appears 1 time.\n",
      "Word 743 (\"refer\") appears 4 time.\n",
      "Word 767 (\"restor\") appears 1 time.\n",
      "Word 786 (\"root\") appears 1 time.\n",
      "Word 787 (\"rule\") appears 1 time.\n",
      "Word 789 (\"sacr\") appears 1 time.\n",
      "Word 797 (\"search\") appears 1 time.\n",
      "Word 798 (\"second\") appears 1 time.\n",
      "Word 807 (\"serious\") appears 1 time.\n",
      "Word 808 (\"serv\") appears 2 time.\n",
      "Word 810 (\"servic\") appears 1 time.\n",
      "Word 817 (\"show\") appears 1 time.\n",
      "Word 818 (\"shown\") appears 1 time.\n",
      "Word 820 (\"sign\") appears 3 time.\n",
      "Word 823 (\"simpli\") appears 1 time.\n",
      "Word 830 (\"small\") appears 1 time.\n",
      "Word 831 (\"so-cal\") appears 1 time.\n",
      "Word 835 (\"solidar\") appears 5 time.\n",
      "Word 839 (\"sound\") appears 1 time.\n",
      "Word 842 (\"sovereignti\") appears 1 time.\n",
      "Word 843 (\"sovereignty\") appears 1 time.\n",
      "Word 847 (\"spirit\") appears 4 time.\n",
      "Word 853 (\"stand\") appears 3 time.\n",
      "Word 870 (\"struggl\") appears 1 time.\n",
      "Word 871 (\"struggle\") appears 1 time.\n",
      "Word 876 (\"succeed\") appears 1 time.\n",
      "Word 885 (\"sustain\") appears 5 time.\n",
      "Word 890 (\"tank\") appears 1 time.\n",
      "Word 902 (\"them\") appears 1 time.\n",
      "Word 903 (\"therefore\") appears 1 time.\n",
      "Word 923 (\"tri\") appears 2 time.\n",
      "Word 926 (\"true\") appears 1 time.\n",
      "Word 937 (\"undermin\") appears 1 time.\n",
      "Word 938 (\"undoubt\") appears 1 time.\n",
      "Word 941 (\"unfortunately\") appears 1 time.\n",
      "Word 955 (\"valu\") appears 1 time.\n",
      "Word 967 (\"vital\") appears 1 time.\n",
      "Word 981 (\"western\") appears 1 time.\n",
      "Word 1022 (\"acquir\") appears 1 time.\n",
      "Word 1027 (\"advanc\") appears 1 time.\n",
      "Word 1030 (\"agre\") appears 2 time.\n",
      "Word 1045 (\"appreci\") appears 1 time.\n",
      "Word 1066 (\"begin\") appears 1 time.\n",
      "Word 1070 (\"bilater\") appears 1 time.\n",
      "Word 1073 (\"bridg\") appears 1 time.\n",
      "Word 1077 (\"burden\") appears 2 time.\n",
      "Word 1087 (\"civil\") appears 1 time.\n",
      "Word 1097 (\"committe\") appears 6 time.\n",
      "Word 1109 (\"confront\") appears 1 time.\n",
      "Word 1113 (\"consider\") appears 1 time.\n",
      "Word 1119 (\"context\") appears 2 time.\n",
      "Word 1132 (\"decad\") appears 1 time.\n",
      "Word 1144 (\"democraci\") appears 2 time.\n",
      "Word 1148 (\"deserv\") appears 3 time.\n",
      "Word 1150 (\"destruct\") appears 2 time.\n",
      "Word 1155 (\"digniti\") appears 1 time.\n",
      "Word 1160 (\"disput\") appears 1 time.\n",
      "Word 1162 (\"disputes\") appears 1 time.\n",
      "Word 1168 (\"draft\") appears 1 time.\n",
      "Word 1171 (\"duti\") appears 4 time.\n",
      "Word 1179 (\"embodi\") appears 1 time.\n",
      "Word 1180 (\"emerg\") appears 1 time.\n",
      "Word 1198 (\"experi\") appears 1 time.\n",
      "Word 1199 (\"extrem\") appears 1 time.\n",
      "Word 1210 (\"forget\") appears 1 time.\n",
      "Word 1220 (\"function\") appears 2 time.\n",
      "Word 1227 (\"grave\") appears 1 time.\n",
      "Word 1239 (\"hold\") appears 1 time.\n",
      "Word 1243 (\"ideal\") appears 1 time.\n",
      "Word 1244 (\"identifi\") appears 1 time.\n",
      "Word 1252 (\"indiscrimin\") appears 1 time.\n",
      "Word 1255 (\"indivis\") appears 1 time.\n",
      "Word 1271 (\"involv\") appears 2 time.\n",
      "Word 1274 (\"is\") appears 2 time.\n",
      "Word 1283 (\"jurisdict\") appears 1 time.\n",
      "Word 1286 (\"justic\") appears 1 time.\n",
      "Word 1287 (\"justice\") appears 2 time.\n",
      "Word 1292 (\"kind\") appears 3 time.\n",
      "Word 1293 (\"kingdom\") appears 1 time.\n",
      "Word 1295 (\"lack\") appears 2 time.\n",
      "Word 1297 (\"last\") appears 1 time.\n",
      "Word 1302 (\"left\") appears 1 time.\n",
      "Word 1304 (\"letter\") appears 1 time.\n",
      "Word 1317 (\"manag\") appears 4 time.\n",
      "Word 1321 (\"mind\") appears 2 time.\n",
      "Word 1322 (\"mission\") appears 1 time.\n",
      "Word 1328 (\"mrs\") appears 1 time.\n",
      "Word 1329 (\"multilater\") appears 1 time.\n",
      "Word 1344 (\"observ\") appears 1 time.\n",
      "Word 1348 (\"one\") appears 3 time.\n",
      "Word 1351 (\"outstand\") appears 1 time.\n",
      "Word 1357 (\"perform\") appears 1 time.\n",
      "Word 1363 (\"phenomenon\") appears 1 time.\n",
      "Word 1377 (\"prohibit\") appears 1 time.\n",
      "Word 1379 (\"publish\") appears 1 time.\n",
      "Word 1394 (\"recommend\") appears 1 time.\n",
      "Word 1396 (\"reflect\") appears 3 time.\n",
      "Word 1400 (\"reiter\") appears 2 time.\n",
      "Word 1406 (\"report\") appears 3 time.\n",
      "Word 1416 (\"scale\") appears 1 time.\n",
      "Word 1435 (\"societi\") appears 1 time.\n",
      "Word 1438 (\"solemn\") appears 2 time.\n",
      "Word 1442 (\"sourc\") appears 1 time.\n",
      "Word 1445 (\"stability\") appears 2 time.\n",
      "Word 1452 (\"subject\") appears 2 time.\n",
      "Word 1453 (\"submit\") appears 1 time.\n",
      "Word 1465 (\"systemat\") appears 1 time.\n",
      "Word 1472 (\"tension\") appears 1 time.\n",
      "Word 1479 (\"the\n",
      "unit\") appears 1 time.\n",
      "Word 1482 (\"think\") appears 1 time.\n",
      "Word 1486 (\"threefold\") appears 2 time.\n",
      "Word 1490 (\"total\") appears 1 time.\n",
      "Word 1494 (\"transfer\") appears 1 time.\n",
      "Word 1497 (\"trend\") appears 1 time.\n",
      "Word 1500 (\"twentieth\") appears 1 time.\n",
      "Word 1513 (\"us\") appears 1 time.\n",
      "Word 1523 (\"warn\") appears 2 time.\n",
      "Word 1532 (\"widespread\") appears 1 time.\n",
      "Word 1540 (\"zone\") appears 1 time.\n",
      "Word 1546 (\"11\") appears 2 time.\n",
      "Word 1557 (\"account\") appears 1 time.\n",
      "Word 1582 (\"arisen\") appears 1 time.\n",
      "Word 1608 (\"cent\") appears 2 time.\n",
      "Word 1610 (\"chair\") appears 1 time.\n",
      "Word 1613 (\"choic\") appears 1 time.\n",
      "Word 1635 (\"congo\") appears 3 time.\n",
      "Word 1636 (\"conscious\") appears 1 time.\n",
      "Word 1658 (\"demonstr\") appears 1 time.\n",
      "Word 1659 (\"deplor\") appears 1 time.\n",
      "Word 1665 (\"devot\") appears 1 time.\n",
      "Word 1667 (\"disastr\") appears 1 time.\n",
      "Word 1670 (\"discuss\") appears 1 time.\n",
      "Word 1677 (\"donor\") appears 1 time.\n",
      "Word 1682 (\"economi\") appears 1 time.\n",
      "Word 1696 (\"environ\") appears 2 time.\n",
      "Word 1701 (\"ethnic\") appears 1 time.\n",
      "Word 1703 (\"events\") appears 1 time.\n",
      "Word 1728 (\"forum\") appears 2 time.\n",
      "Word 1730 (\"fragment\") appears 1 time.\n",
      "Word 1734 (\"generat\") appears 3 time.\n",
      "Word 1740 (\"guidanc\") appears 1 time.\n",
      "Word 1781 (\"itself\") appears 2 time.\n",
      "Word 1802 (\"manner\") appears 1 time.\n",
      "Word 1808 (\"men\") appears 5 time.\n",
      "Word 1809 (\"mere\") appears 1 time.\n",
      "Word 1818 (\"month\") appears 1 time.\n",
      "Word 1834 (\"note\") appears 2 time.\n",
      "Word 1850 (\"overal\") appears 1 time.\n",
      "Word 1857 (\"parliament\") appears 1 time.\n",
      "Word 1860 (\"pay\") appears 1 time.\n",
      "Word 1861 (\"peacekeep\") appears 1 time.\n",
      "Word 1871 (\"predecessor\") appears 1 time.\n",
      "Word 1873 (\"preserv\") appears 2 time.\n",
      "Word 1878 (\"proceed\") appears 1 time.\n",
      "Word 1883 (\"prolifer\") appears 1 time.\n",
      "Word 1885 (\"prompt\") appears 1 time.\n",
      "Word 1889 (\"protection\") appears 1 time.\n",
      "Word 1898 (\"regime\") appears 1 time.\n",
      "Word 1902 (\"resources\") appears 2 time.\n",
      "Word 1916 (\"secretariat\") appears 1 time.\n",
      "Word 1923 (\"sens\") appears 1 time.\n",
      "Word 1964 (\"this\") appears 1 time.\n",
      "Word 1999 (\"withdraw\") appears 2 time.\n",
      "Word 2004 (\"you\") appears 1 time.\n",
      "Word 2023 (\"addit\") appears 1 time.\n",
      "Word 2024 (\"administr\") appears 1 time.\n",
      "Word 2025 (\"advisori\") appears 2 time.\n",
      "Word 2058 (\"central\") appears 24 time.\n",
      "Word 2072 (\"conclusion\") appears 1 time.\n",
      "Word 2080 (\"court\") appears 5 time.\n",
      "Word 2089 (\"demand\") appears 1 time.\n",
      "Word 2090 (\"deploy\") appears 1 time.\n",
      "Word 2098 (\"domest\") appears 1 time.\n",
      "Word 2132 (\"host\") appears 1 time.\n",
      "Word 2147 (\"interfer\") appears 1 time.\n",
      "Word 2154 (\"juli\") appears 2 time.\n",
      "Word 2163 (\"light\") appears 1 time.\n",
      "Word 2166 (\"longer\") appears 1 time.\n",
      "Word 2188 (\"overcom\") appears 2 time.\n",
      "Word 2199 (\"planet\") appears 1 time.\n",
      "Word 2204 (\"premis\") appears 1 time.\n",
      "Word 2207 (\"presenc\") appears 1 time.\n",
      "Word 2216 (\"ratifi\") appears 1 time.\n",
      "Word 2230 (\"safeguard\") appears 2 time.\n",
      "Word 2232 (\"scourg\") appears 1 time.\n",
      "Word 2235 (\"seminar\") appears 2 time.\n",
      "Word 2247 (\"speedi\") appears 1 time.\n",
      "Word 2261 (\"too\") appears 1 time.\n",
      "Word 2263 (\"twenty-first\") appears 1 time.\n",
      "Word 2277 (\"word\") appears 1 time.\n",
      "Word 2283 (\"24\") appears 1 time.\n",
      "Word 2284 (\"25\") appears 1 time.\n",
      "Word 2290 (\"absenc\") appears 1 time.\n",
      "Word 2297 (\"annual\") appears 1 time.\n",
      "Word 2315 (\"centuri\") appears 3 time.\n",
      "Word 2339 (\"destruction\") appears 1 time.\n",
      "Word 2357 (\"exclud\") appears 1 time.\n",
      "Word 2364 (\"financ\") appears 1 time.\n",
      "Word 2371 (\"frank\") appears 1 time.\n",
      "Word 2390 (\"imposs\") appears 1 time.\n",
      "Word 2395 (\"inspir\") appears 1 time.\n",
      "Word 2397 (\"inter-st\") appears 1 time.\n",
      "Word 2402 (\"jeopard\") appears 1 time.\n",
      "Word 2409 (\"leav\") appears 1 time.\n",
      "Word 2438 (\"persist\") appears 2 time.\n",
      "Word 2462 (\"seat\") appears 1 time.\n",
      "Word 2463 (\"secretary-general\") appears 1 time.\n",
      "Word 2487 (\"transnat\") appears 1 time.\n",
      "Word 2490 (\"tribut\") appears 1 time.\n",
      "Word 2496 (\"urg\") appears 1 time.\n",
      "Word 2509 (\"younger\") appears 1 time.\n",
      "Word 2515 (\"acut\") appears 1 time.\n",
      "Word 2519 (\"age\") appears 1 time.\n",
      "Word 2524 (\"ass\") appears 1 time.\n",
      "Word 2529 (\"ban\") appears 1 time.\n",
      "Word 2530 (\"before\") appears 1 time.\n",
      "Word 2544 (\"claus\") appears 1 time.\n",
      "Word 2555 (\"conflicts\") appears 1 time.\n",
      "Word 2558 (\"contact\") appears 1 time.\n",
      "Word 2561 (\"decision\") appears 2 time.\n",
      "Word 2562 (\"destroy\") appears 1 time.\n",
      "Word 2564 (\"disappear\") appears 1 time.\n",
      "Word 2574 (\"erad\") appears 1 time.\n",
      "Word 2580 (\"februari\") appears 1 time.\n",
      "Word 2596 (\"holocaust\") appears 1 time.\n",
      "Word 2615 (\"land\") appears 1 time.\n",
      "Word 2620 (\"mark\") appears 2 time.\n",
      "Word 2633 (\"octob\") appears 1 time.\n",
      "Word 2649 (\"poverty\") appears 4 time.\n",
      "Word 2660 (\"recognition\") appears 1 time.\n",
      "Word 2669 (\"sake\") appears 1 time.\n",
      "Word 2706 (\"united\n",
      "n\") appears 5 time.\n",
      "Word 2720 (\"about\") appears 1 time.\n",
      "Word 2735 (\"animals\") appears 1 time.\n",
      "Word 2751 (\"characterist\") appears 1 time.\n",
      "Word 2808 (\"duties\") appears 2 time.\n",
      "Word 2817 (\"export\") appears 1 time.\n",
      "Word 2849 (\"inequ\") appears 1 time.\n",
      "Word 2869 (\"legaci\") appears 1 time.\n",
      "Word 2907 (\"pleas\") appears 2 time.\n",
      "Word 2921 (\"proport\") appears 1 time.\n",
      "Word 2922 (\"prosper\") appears 3 time.\n",
      "Word 2943 (\"sacrific\") appears 1 time.\n",
      "Word 2958 (\"subregion\") appears 9 time.\n",
      "Word 2992 (\"abandon\") appears 1 time.\n",
      "Word 2993 (\"abdic\") appears 1 time.\n",
      "Word 3005 (\"blind\") appears 1 time.\n",
      "Word 3011 (\"capabl\") appears 1 time.\n",
      "Word 3013 (\"chairmanship\") appears 1 time.\n",
      "Word 3027 (\"contrast\") appears 1 time.\n",
      "Word 3030 (\"crises\") appears 1 time.\n",
      "Word 3031 (\"crisis\") appears 2 time.\n",
      "Word 3052 (\"entrust\") appears 1 time.\n",
      "Word 3067 (\"forgotten\") appears 1 time.\n",
      "Word 3069 (\"fragil\") appears 1 time.\n",
      "Word 3076 (\"harmon\") appears 1 time.\n",
      "Word 3081 (\"humanity\") appears 1 time.\n",
      "Word 3104 (\"match\") appears 1 time.\n",
      "Word 3114 (\"option\") appears 1 time.\n",
      "Word 3133 (\"prioriti\") appears 2 time.\n",
      "Word 3188 (\"viabl\") appears 1 time.\n",
      "Word 3240 (\"postpon\") appears 1 time.\n",
      "Word 3270 (\"cameroon\") appears 10 time.\n",
      "Word 3273 (\"clearly\") appears 1 time.\n",
      "Word 3310 (\"of\n",
      "th\") appears 3 time.\n",
      "Word 3335 (\"structure\") appears 1 time.\n",
      "Word 3347 (\"worthi\") appears 1 time.\n",
      "Word 3382 (\"durabl\") appears 1 time.\n",
      "Word 3383 (\"egypt\") appears 1 time.\n",
      "Word 3455 (\"thousand\") appears 1 time.\n",
      "Word 3469 (\"why\") appears 1 time.\n",
      "Word 3470 (\"woman\") appears 4 time.\n",
      "Word 3520 (\"code\") appears 1 time.\n",
      "Word 3554 (\"dilemma\") appears 1 time.\n",
      "Word 3576 (\"expert\") appears 1 time.\n",
      "Word 3599 (\"injustice\") appears 1 time.\n",
      "Word 3618 (\"maritim\") appears 1 time.\n",
      "Word 3619 (\"mechan\") appears 2 time.\n",
      "Word 3636 (\"otherwise\") appears 1 time.\n",
      "Word 3696 (\"tenac\") appears 1 time.\n",
      "Word 3723 (\"wars\") appears 1 time.\n",
      "Word 3758 (\"blood\") appears 1 time.\n",
      "Word 3764 (\"climat\") appears 1 time.\n",
      "Word 3765 (\"commission\") appears 1 time.\n",
      "Word 3803 (\"halt\") appears 1 time.\n",
      "Word 3919 (\"civilian\") appears 3 time.\n",
      "Word 3946 (\"heart\") appears 1 time.\n",
      "Word 3961 (\"lend\") appears 1 time.\n",
      "Word 3974 (\"personnel\") appears 1 time.\n",
      "Word 3980 (\"princ\") appears 1 time.\n",
      "Word 3995 (\"royal\") appears 1 time.\n",
      "Word 4021 (\"undertook\") appears 1 time.\n",
      "Word 4089 (\"prais\") appears 1 time.\n",
      "Word 4116 (\"wisdom\") appears 1 time.\n",
      "Word 4135 (\"child\") appears 1 time.\n",
      "Word 4136 (\"children\") appears 1 time.\n",
      "Word 4137 (\"circul\") appears 1 time.\n",
      "Word 4182 (\"summit\") appears 3 time.\n",
      "Word 4184 (\"symbol\") appears 1 time.\n",
      "Word 4199 (\"19\") appears 1 time.\n",
      "Word 4212 (\"biospher\") appears 1 time.\n",
      "Word 4244 (\"from\") appears 1 time.\n",
      "Word 4262 (\"lock\") appears 1 time.\n",
      "Word 4276 (\"on\n",
      "th\") appears 3 time.\n",
      "Word 4329 (\"2000\") appears 1 time.\n",
      "Word 4340 (\"cannot\") appears 1 time.\n",
      "Word 4363 (\"hague\") appears 1 time.\n",
      "Word 4367 (\"high-level\") appears 1 time.\n",
      "Word 4372 (\"ireland\") appears 2 time.\n",
      "Word 4382 (\"northern\") appears 2 time.\n",
      "Word 4395 (\"prosperity\") appears 1 time.\n",
      "Word 4477 (\"helpless\") appears 1 time.\n",
      "Word 4516 (\"zambia\") appears 1 time.\n",
      "Word 4549 (\"experts\") appears 1 time.\n",
      "Word 4558 (\"ignorance\") appears 2 time.\n",
      "Word 4617 (\"tomorrow\") appears 1 time.\n",
      "Word 4679 (\"verdict\") appears 1 time.\n",
      "Word 4727 (\"fund\") appears 4 time.\n",
      "Word 4757 (\"nigeria\") appears 3 time.\n",
      "Word 4829 (\"mine\") appears 1 time.\n",
      "Word 4838 (\"species\") appears 1 time.\n",
      "Word 4854 (\"chao\") appears 1 time.\n",
      "Word 4896 (\"signatori\") appears 1 time.\n",
      "Word 4981 (\"interference\") appears 1 time.\n",
      "Word 5036 (\"tragedies\") appears 1 time.\n",
      "Word 5051 (\"women\") appears 2 time.\n",
      "Word 5097 (\"modal\") appears 1 time.\n",
      "Word 5401 (\"centre\") appears 1 time.\n",
      "Word 5460 (\"illicit\") appears 1 time.\n",
      "Word 5496 (\"of\n",
      "stat\") appears 1 time.\n",
      "Word 5517 (\"quest\") appears 1 time.\n",
      "Word 5590 (\"elements\") appears 1 time.\n",
      "Word 5625 (\"mechanism\") appears 1 time.\n",
      "Word 5692 (\"ravag\") appears 1 time.\n",
      "Word 5912 (\"season\") appears 1 time.\n",
      "Word 5953 (\"recov\") appears 1 time.\n",
      "Word 5958 (\"yet\") appears 1 time.\n",
      "Word 6031 (\"stark\") appears 1 time.\n",
      "Word 6068 (\"sahara\") appears 1 time.\n",
      "Word 6105 (\"sick\") appears 1 time.\n",
      "Word 6243 (\"challenges\") appears 1 time.\n",
      "Word 6275 (\"epidem\") appears 1 time.\n",
      "Word 6282 (\"indifference\") appears 1 time.\n",
      "Word 6289 (\"needed\") appears 1 time.\n",
      "Word 6348 (\"forest\") appears 11 time.\n",
      "Word 6448 (\"ethic\") appears 1 time.\n",
      "Word 6453 (\"illiteracy\") appears 1 time.\n",
      "Word 6469 (\"paul\") appears 1 time.\n",
      "Word 6499 (\"grim\") appears 1 time.\n",
      "Word 6509 (\"spiral\") appears 1 time.\n",
      "Word 6510 (\"suicid\") appears 1 time.\n",
      "Word 6517 (\"accentu\") appears 1 time.\n",
      "Word 6575 (\"rwanda\") appears 1 time.\n",
      "Word 6584 (\"adult\") appears 1 time.\n",
      "Word 6647 (\"senior\") appears 1 time.\n",
      "Word 6651 (\"sudan\") appears 1 time.\n",
      "Word 6723 (\"diagnosi\") appears 2 time.\n",
      "Word 6737 (\"lift\") appears 1 time.\n",
      "Word 6740 (\"of\n",
      "justic\") appears 1 time.\n",
      "Word 6749 (\"sierra\") appears 1 time.\n",
      "Word 6762 (\"300\") appears 1 time.\n",
      "Word 6882 (\"somalia\") appears 2 time.\n",
      "Word 6954 (\"vigorously\") appears 1 time.\n",
      "Word 6980 (\"poorest\") appears 1 time.\n",
      "Word 7128 (\"member\n",
      "st\") appears 1 time.\n",
      "Word 7182 (\"inappropri\") appears 1 time.\n",
      "Word 7297 (\"causes\") appears 1 time.\n",
      "Word 7431 (\"balkan\") appears 1 time.\n",
      "Word 7503 (\"actor\") appears 1 time.\n",
      "Word 7657 (\"wind\") appears 1 time.\n",
      "Word 7725 (\"et\") appears 1 time.\n",
      "Word 7768 (\"bereft\") appears 1 time.\n",
      "Word 7781 (\"mutil\") appears 1 time.\n",
      "Word 7804 (\"centr\") appears 2 time.\n",
      "Word 7901 (\"flouted\") appears 1 time.\n",
      "Word 8121 (\"mari\") appears 1 time.\n",
      "Word 8140 (\"heighten\") appears 1 time.\n",
      "Word 8285 (\"ethiopia\") appears 1 time.\n",
      "Word 8881 (\"loud\") appears 1 time.\n",
      "Word 8893 (\"secretary-\n",
      "general\") appears 2 time.\n",
      "Word 8968 (\"parliamentarian\") appears 1 time.\n",
      "Word 9082 (\"everyone\") appears 1 time.\n",
      "Word 9270 (\"nauru\") appears 1 time.\n",
      "Word 9279 (\"tonga\") appears 1 time.\n",
      "Word 9378 (\"the\n",
      "establish\") appears 2 time.\n",
      "Word 9401 (\"and\n",
      "th\") appears 2 time.\n",
      "Word 9527 (\"mediators\") appears 1 time.\n",
      "Word 9619 (\"coverag\") appears 1 time.\n",
      "Word 9628 (\"their\n",
      "effort\") appears 1 time.\n",
      "Word 9748 (\"reintroduc\") appears 1 time.\n",
      "Word 9890 (\"non-government\") appears 1 time.\n",
      "Word 9970 (\"in-depth\") appears 1 time.\n",
      "Word 10045 (\"fundamentally\") appears 1 time.\n",
      "Word 10102 (\"actors\") appears 1 time.\n",
      "Word 10295 (\"the\n",
      "intern\") appears 3 time.\n",
      "Word 10315 (\"costs\") appears 1 time.\n",
      "Word 10347 (\"destitution\") appears 2 time.\n",
      "Word 10402 (\"majest\") appears 1 time.\n",
      "Word 10447 (\"jobs\") appears 1 time.\n",
      "Word 10606 (\"meagr\") appears 1 time.\n",
      "Word 10624 (\"the\n",
      "lead\") appears 1 time.\n",
      "Word 10779 (\"anti-personnel\") appears 1 time.\n",
      "Word 10951 (\"peers\") appears 1 time.\n",
      "Word 11141 (\"millennium\") appears 2 time.\n",
      "Word 11151 (\"open-minded\") appears 1 time.\n",
      "Word 11279 (\"legacy\") appears 1 time.\n",
      "Word 11331 (\"marked\") appears 2 time.\n",
      "Word 11399 (\"hectar\") appears 1 time.\n",
      "Word 11684 (\"to\n",
      "follow\") appears 1 time.\n",
      "Word 11851 (\"humankind\") appears 4 time.\n",
      "Word 11890 (\"general\n",
      "assembl\") appears 1 time.\n",
      "Word 12009 (\"the\n",
      "secretary-gener\") appears 1 time.\n",
      "Word 12018 (\"special\n",
      "attent\") appears 1 time.\n",
      "Word 12022 (\"it\n",
      "poss\") appears 1 time.\n",
      "Word 12101 (\"peace.\n",
      "in\") appears 1 time.\n",
      "Word 12105 (\"our\n",
      "organization\") appears 1 time.\n",
      "Word 12113 (\"libreville\") appears 1 time.\n",
      "Word 12132 (\"the\n",
      "world\") appears 2 time.\n",
      "Word 12209 (\"now:\") appears 1 time.\n",
      "Word 12253 (\"international\n",
      "commun\") appears 1 time.\n",
      "Word 12398 (\"in\n",
      "africa\") appears 3 time.\n",
      "Word 12424 (\"didier\") appears 1 time.\n",
      "Word 12460 (\"the\n",
      "problem\") appears 1 time.\n",
      "Word 12496 (\"states\n",
      "memb\") appears 1 time.\n",
      "Word 12512 (\"maputo\") appears 1 time.\n",
      "Word 12546 (\"east\n",
      "timor\") appears 1 time.\n",
      "Word 12634 (\"1999\") appears 2 time.\n",
      "Word 12666 (\"and\n",
      "commit\") appears 1 time.\n",
      "Word 12667 (\"countries\n",
      "and\") appears 1 time.\n",
      "Word 12722 (\"to\n",
      "safeguard\") appears 1 time.\n",
      "Word 12733 (\"of\n",
      "mankind\") appears 1 time.\n",
      "Word 12742 (\"and\n",
      "secur\") appears 1 time.\n",
      "Word 12843 (\"to\n",
      "b\") appears 1 time.\n",
      "Word 12858 (\"starving\") appears 1 time.\n",
      "Word 12892 (\"entire\n",
      "intern\") appears 1 time.\n",
      "Word 12904 (\"that\n",
      "th\") appears 1 time.\n",
      "Word 12908 (\"at\n",
      "th\") appears 1 time.\n",
      "Word 12992 (\"israeli-palestinian\") appears 1 time.\n",
      "Word 13067 (\"countries.\n",
      "th\") appears 1 time.\n",
      "Word 13074 (\"kiribati\") appears 1 time.\n",
      "Word 13120 (\"eight\") appears 1 time.\n",
      "Word 13152 (\"fifty-third\") appears 2 time.\n",
      "Word 13170 (\"yaoundé\") appears 4 time.\n",
      "Word 13210 (\"as\n",
      "th\") appears 1 time.\n",
      "Word 13216 (\"in\n",
      "centr\") appears 3 time.\n",
      "Word 13223 (\"the\n",
      "last\") appears 1 time.\n",
      "Word 13343 (\"but\n",
      "w\") appears 1 time.\n",
      "Word 13426 (\"africa.\n",
      "th\") appears 1 time.\n",
      "Word 13526 (\"secretary-general.\n",
      "th\") appears 1 time.\n",
      "Word 13693 (\"be\n",
      "held\") appears 1 time.\n",
      "Word 13722 (\"in\n",
      "ord\") appears 1 time.\n",
      "Word 13772 (\"the\n",
      "next\") appears 1 time.\n",
      "Word 13785 (\"to\n",
      "promot\") appears 1 time.\n",
      "Word 13850 (\"session.\n",
      "i\") appears 1 time.\n",
      "Word 13901 (\"nations\n",
      "and\") appears 1 time.\n",
      "Word 13939 (\"biya\") appears 1 time.\n",
      "Word 13972 (\"international\n",
      "community\") appears 2 time.\n",
      "Word 13984 (\"security\n",
      "and\") appears 1 time.\n",
      "Word 14113 (\"regarding\n",
      "th\") appears 1 time.\n",
      "Word 14158 (\"the\n",
      "progress\") appears 1 time.\n",
      "Word 14266 (\"state\n",
      "of\") appears 1 time.\n",
      "Word 14279 (\"the\n",
      "protect\") appears 1 time.\n",
      "Word 14286 (\"to\n",
      "sav\") appears 1 time.\n",
      "Word 14290 (\"too\n",
      "mani\") appears 1 time.\n",
      "Word 14351 (\"century.\n",
      "th\") appears 1 time.\n",
      "Word 14500 (\"transparency\") appears 1 time.\n",
      "Word 14503 (\"africa.\n",
      "a\") appears 1 time.\n",
      "Word 14641 (\"them.\n",
      "thi\") appears 1 time.\n",
      "Word 14680 (\"to\n",
      "continu\") appears 1 time.\n",
      "Word 14780 (\"the\n",
      "abs\") appears 1 time.\n",
      "Word 14839 (\"the\n",
      "resolut\") appears 1 time.\n",
      "Word 14846 (\"the\n",
      "head\") appears 1 time.\n",
      "Word 14847 (\"is\n",
      "not\") appears 1 time.\n",
      "Word 14952 (\"and\n",
      "stabl\") appears 1 time.\n",
      "Word 15104 (\"and\n",
      "conflict\") appears 1 time.\n",
      "Word 15109 (\"as\n",
      "a\") appears 1 time.\n",
      "Word 15124 (\"on\n",
      "their\") appears 1 time.\n",
      "Word 15142 (\"two\n",
      "countries\") appears 1 time.\n",
      "Word 15187 (\"rights\n",
      "and\") appears 1 time.\n",
      "Word 15189 (\"solidarity\n",
      "and\") appears 1 time.\n",
      "Word 15191 (\"the\n",
      "conflict\") appears 1 time.\n",
      "Word 15291 (\"kosovo\") appears 1 time.\n",
      "Word 15364 (\"robinson\") appears 1 time.\n",
      "Word 15367 (\"debt\n",
      "burden\") appears 1 time.\n",
      "Word 15385 (\"biodivers\") appears 1 time.\n",
      "Word 15447 (\"biodiversity\") appears 1 time.\n",
      "Word 15456 (\"governance\") appears 3 time.\n",
      "Word 15556 (\"we\n",
      "wil\") appears 1 time.\n",
      "Word 15615 (\"the\n",
      "support\") appears 1 time.\n",
      "Word 15684 (\"the\n",
      "sign\") appears 1 time.\n",
      "Word 15741 (\"republic\n",
      "of\") appears 1 time.\n",
      "Word 15747 (\"the\n",
      "promot\") appears 2 time.\n",
      "Word 15806 (\"the\n",
      "threat\") appears 1 time.\n",
      "Word 15859 (\"the\n",
      "prolifer\") appears 1 time.\n",
      "Word 15862 (\"the\n",
      "summit\") appears 2 time.\n",
      "Word 15868 (\"we\n",
      "must\") appears 1 time.\n",
      "Word 15874 (\"and\n",
      "manag\") appears 1 time.\n",
      "Word 15924 (\"in\n",
      "angola\") appears 1 time.\n",
      "Word 15940 (\"the\n",
      "major\") appears 1 time.\n",
      "Word 16025 (\"of\n",
      "fundament\") appears 1 time.\n",
      "Word 16045 (\"to\n",
      "se\") appears 1 time.\n",
      "Word 16059 (\"for\n",
      "human\") appears 1 time.\n",
      "Word 16069 (\"of\n",
      "natur\") appears 1 time.\n",
      "Word 16074 (\"the\n",
      "democrat\") appears 2 time.\n",
      "Word 16129 (\"must\n",
      "not\") appears 1 time.\n",
      "Word 16154 (\"the\n",
      "subregion\") appears 1 time.\n",
      "Word 16185 (\"international\n",
      "humanitarian\") appears 1 time.\n",
      "Word 16238 (\"be\n",
      "taken\") appears 1 time.\n",
      "Word 16278 (\"to\n",
      "consolid\") appears 2 time.\n",
      "Word 16298 (\"only\n",
      "a\") appears 1 time.\n",
      "Word 16404 (\"the\n",
      "futur\") appears 2 time.\n",
      "Word 16430 (\"of\n",
      "disputes\") appears 1 time.\n",
      "Word 16479 (\"is\n",
      "an\") appears 1 time.\n",
      "Word 16492 (\"of\n",
      "good\") appears 1 time.\n",
      "Word 16500 (\"taking\n",
      "into\") appears 1 time.\n",
      "Word 16613 (\"the\n",
      "highest\") appears 1 time.\n",
      "Word 16618 (\"to\n",
      "stress\") appears 1 time.\n",
      "Word 16650 (\"and\n",
      "sustain\") appears 1 time.\n",
      "Word 16661 (\"arms\n",
      "and\") appears 1 time.\n",
      "Word 16682 (\"will\n",
      "tak\") appears 1 time.\n",
      "Word 16773 (\"to\n",
      "do\") appears 1 time.\n",
      "Word 16825 (\"has\n",
      "also\") appears 1 time.\n",
      "Word 16833 (\"should\n",
      "also\") appears 1 time.\n",
      "Word 16897 (\"central\n",
      "african\") appears 1 time.\n",
      "Word 16902 (\"heads\n",
      "of\") appears 1 time.\n",
      "Word 16916 (\"prevention,\n",
      "manag\") appears 1 time.\n",
      "Word 16956 (\"central\n",
      "africa\") appears 1 time.\n",
      "Word 16992 (\"and\n",
      "foremost\") appears 1 time.\n",
      "Word 17034 (\"of\n",
      "oth\") appears 1 time.\n",
      "Word 17043 (\"the\n",
      "year\") appears 1 time.\n",
      "Word 17081 (\"caused\n",
      "bi\") appears 1 time.\n",
      "Word 17202 (\"a\n",
      "direct\") appears 1 time.\n",
      "Word 17270 (\"the\n",
      "law\") appears 1 time.\n",
      "Word 17423 (\"are\n",
      "al\") appears 1 time.\n",
      "Word 17425 (\"ever\n",
      "before\") appears 1 time.\n",
      "Word 17444 (\"the\n",
      "poorest\") appears 1 time.\n",
      "Word 17718 (\"is\n",
      "alreadi\") appears 1 time.\n",
      "Word 18004 (\"world\n",
      "and\") appears 1 time.\n",
      "Word 18019 (\"his\n",
      "report\") appears 1 time.\n",
      "Word 18060 (\"particularly\n",
      "th\") appears 1 time.\n",
      "Word 18100 (\"state\n",
      "and\") appears 1 time.\n",
      "Word 18103 (\"this\n",
      "great\") appears 1 time.\n",
      "Word 18179 (\"of\n",
      "concern\") appears 1 time.\n",
      "Word 18187 (\"the\n",
      "step\") appears 1 time.\n",
      "Word 18192 (\"dealing\n",
      "with\") appears 1 time.\n",
      "Word 18253 (\"that\n",
      "should\") appears 2 time.\n",
      "Word 18279 (\"appreciation\n",
      "to\") appears 1 time.\n",
      "Word 18346 (\"the\n",
      "threshold\") appears 1 time.\n",
      "Word 18378 (\"us\n",
      "in\") appears 1 time.\n",
      "Word 18441 (\"a\n",
      "distinguish\") appears 1 time.\n",
      "Word 18493 (\"by\n",
      "provid\") appears 1 time.\n",
      "Word 18522 (\"than\n",
      "ev\") appears 1 time.\n",
      "Word 18679 (\"common\n",
      "interest\") appears 1 time.\n",
      "Word 18740 (\"peace,\n",
      "security\") appears 1 time.\n",
      "Word 18772 (\"civil\n",
      "societi\") appears 1 time.\n",
      "Word 18945 (\"the\n",
      "congo\") appears 1 time.\n",
      "Word 18981 (\"the\n",
      "encourag\") appears 1 time.\n",
      "Word 19007 (\"and\n",
      "techn\") appears 1 time.\n",
      "Word 19110 (\"a\n",
      "good\") appears 1 time.\n",
      "Word 19121 (\"of\n",
      "conduct\") appears 1 time.\n",
      "Word 19176 (\"our\n",
      "continent\") appears 1 time.\n",
      "Word 19329 (\"pandemics\") appears 1 time.\n",
      "Word 19471 (\"stockpiling,\n",
      "product\") appears 1 time.\n",
      "Word 19472 (\"annan\") appears 1 time.\n",
      "Word 19476 (\"kofi\") appears 1 time.\n",
      "Word 19523 (\"opertti\") appears 1 time.\n",
      "Word 19529 (\"ottawa\n",
      "convent\") appears 1 time.\n",
      "Word 19539 (\"millennium\n",
      "assembl\") appears 1 time.\n",
      "Word 19573 (\"theo-ben\n",
      "gurirab\") appears 1 time.\n"
     ]
    }
   ],
   "source": [
    "bow_corpus = [dictionary.doc2bow(doc) for doc in text_data]\n",
    "bow_doc_4310 = bow_corpus[4310]\n",
    "for i in range(len(bow_doc_4310)):\n",
    "    print(\"Word {} (\\\"{}\\\") appears {} time.\".format(bow_doc_4310[i][0], \n",
    "                                               dictionary[bow_doc_4310[i][0]], \n",
    "bow_doc_4310[i][1]))"
   ]
  },
  {
   "cell_type": "code",
   "execution_count": 43,
   "id": "nonprofit-jewel",
   "metadata": {},
   "outputs": [
    {
     "name": "stderr",
     "output_type": "stream",
     "text": [
      "C:\\Users\\mtwpi\\AppData\\Local\\Programs\\Python\\Python38\\lib\\site-packages\\ipykernel\\ipkernel.py:287: DeprecationWarning: `should_run_async` will not call `transform_cell` automatically in the future. Please pass the result to `transformed_cell` argument and any exception that happen during thetransform in `preprocessing_exc_tuple` in IPython 7.17 and above.\n"
     ]
    }
   ],
   "source": [
    "lda_model = gensim.models.LdaMulticore(bow_corpus, num_topics=10, id2word=dictionary, passes=2, workers=2)"
   ]
  },
  {
   "cell_type": "markdown",
   "id": "nutritional-longitude",
   "metadata": {},
   "source": [
    "#### LDA With Bag Of Words"
   ]
  },
  {
   "cell_type": "code",
   "execution_count": 44,
   "id": "refined-aggregate",
   "metadata": {},
   "outputs": [
    {
     "name": "stdout",
     "output_type": "stream",
     "text": [
      "Topic: 0 \n",
      "Words: 0.004*\"arab\" + 0.003*\"palestinian\" + 0.003*\"israel\" + 0.002*\"co-oper\" + 0.002*\"regim\" + 0.002*\"struggl\" + 0.002*\"namibia\" + 0.002*\"union\" + 0.002*\"korea\" + 0.002*\"movement\"\n",
      "Topic: 1 \n",
      "Words: 0.003*\"iraq\" + 0.002*\"of\n",
      "th\" + 0.002*\"palestinian\" + 0.002*\"convent\" + 0.002*\"rule\" + 0.002*\"israel\" + 0.002*\"union\" + 0.002*\"agenda\" + 0.002*\"collect\" + 0.002*\"sustain\"\n",
      "Topic: 2 \n",
      "Words: 0.003*\"struggl\" + 0.003*\"co-oper\" + 0.003*\"israel\" + 0.003*\"arab\" + 0.003*\"deleg\" + 0.002*\"soviet\" + 0.002*\"palestinian\" + 0.002*\"america\" + 0.002*\"union\" + 0.002*\"disarma\"\n",
      "Topic: 3 \n",
      "Words: 0.003*\"central\" + 0.003*\"sustain\" + 0.002*\"union\" + 0.002*\"israel\" + 0.002*\"palestinian\" + 0.002*\"deleg\" + 0.002*\"climat\" + 0.002*\"agenda\" + 0.002*\"summit\" + 0.002*\"european\"\n",
      "Topic: 4 \n",
      "Words: 0.003*\"climat\" + 0.003*\"japan\" + 0.002*\"deleg\" + 0.002*\"small\" + 0.002*\"sustain\" + 0.002*\"island\" + 0.002*\"union\" + 0.002*\"signific\" + 0.002*\"european\" + 0.002*\"comprehens\"\n",
      "Topic: 5 \n",
      "Words: 0.002*\"small\" + 0.002*\"sustain\" + 0.002*\"israel\" + 0.002*\"deleg\" + 0.002*\"arab\" + 0.002*\"palestinian\" + 0.002*\"millennium\" + 0.002*\"let\" + 0.001*\"island\" + 0.001*\"european\"\n",
      "Topic: 6 \n",
      "Words: 0.003*\"sustain\" + 0.003*\"of\n",
      "th\" + 0.003*\"climat\" + 0.002*\"terror\" + 0.002*\"dialogu\" + 0.002*\"iraq\" + 0.002*\"fight\" + 0.002*\"institut\" + 0.002*\"union\" + 0.002*\"rule\"\n",
      "Topic: 7 \n",
      "Words: 0.003*\"small\" + 0.003*\"deleg\" + 0.003*\"island\" + 0.003*\"co-oper\" + 0.002*\"israel\" + 0.002*\"economi\" + 0.002*\"sustain\" + 0.002*\"growth\" + 0.002*\"of\n",
      "th\" + 0.002*\"programm\"\n",
      "Topic: 8 \n",
      "Words: 0.002*\"climat\" + 0.002*\"co-oper\" + 0.002*\"struggl\" + 0.002*\"deleg\" + 0.002*\"central\" + 0.002*\"small\" + 0.002*\"america\" + 0.002*\"institut\" + 0.002*\"affect\" + 0.002*\"plan\"\n",
      "Topic: 9 \n",
      "Words: 0.003*\"european\" + 0.002*\"union\" + 0.002*\"sustain\" + 0.002*\"deleg\" + 0.002*\"of\n",
      "th\" + 0.002*\"dialogu\" + 0.002*\"climat\" + 0.002*\"small\" + 0.002*\"affect\" + 0.002*\"spirit\"\n"
     ]
    },
    {
     "name": "stderr",
     "output_type": "stream",
     "text": [
      "C:\\Users\\mtwpi\\AppData\\Local\\Programs\\Python\\Python38\\lib\\site-packages\\ipykernel\\ipkernel.py:287: DeprecationWarning: `should_run_async` will not call `transform_cell` automatically in the future. Please pass the result to `transformed_cell` argument and any exception that happen during thetransform in `preprocessing_exc_tuple` in IPython 7.17 and above.\n"
     ]
    }
   ],
   "source": [
    "for idx, topic in lda_model.print_topics(-1):\n",
    "    print('Topic: {} \\nWords: {}'.format(idx, topic))\n",
    "\n",
    "# oneList = \" \".join(text_data)\n",
    "# pd.Series(text_data)\n",
    "# speeches[\"text\"]"
   ]
  },
  {
   "cell_type": "markdown",
   "id": "difficult-rwanda",
   "metadata": {},
   "source": [
    "It appears that many of these words do not hold significant weight for each topic. Nevertheless, we can try to differentiate different topics. Topic 0 appears to be about co-operation between Palestine and Israel (two countries known to be at war with each other).\n",
    "\n",
    "Topic 1 seems to be about delegation."
   ]
  },
  {
   "cell_type": "code",
   "execution_count": 50,
   "id": "vital-moment",
   "metadata": {},
   "outputs": [
    {
     "name": "stderr",
     "output_type": "stream",
     "text": [
      "C:\\Users\\mtwpi\\AppData\\Local\\Programs\\Python\\Python38\\lib\\site-packages\\ipykernel\\ipkernel.py:287: DeprecationWarning: `should_run_async` will not call `transform_cell` automatically in the future. Please pass the result to `transformed_cell` argument and any exception that happen during thetransform in `preprocessing_exc_tuple` in IPython 7.17 and above.\n"
     ]
    },
    {
     "data": {
      "text/plain": [
       "0                   33:\n",
       "1                convey\n",
       "2                presid\n",
       "3             congratul\n",
       "4              albanian\n",
       "               ...     \n",
       "10084225        develop\n",
       "10084226    interaction\n",
       "10084227         poster\n",
       "10084228         expect\n",
       "10084229             us\n",
       "Length: 10084230, dtype: object"
      ]
     },
     "execution_count": 50,
     "metadata": {},
     "output_type": "execute_result"
    }
   ],
   "source": [
    "speechesSeries"
   ]
  },
  {
   "cell_type": "code",
   "execution_count": 77,
   "id": "advanced-spelling",
   "metadata": {},
   "outputs": [
    {
     "name": "stderr",
     "output_type": "stream",
     "text": [
      "C:\\Users\\mtwpi\\AppData\\Local\\Programs\\Python\\Python38\\lib\\site-packages\\ipykernel\\ipkernel.py:287: DeprecationWarning: `should_run_async` will not call `transform_cell` automatically in the future. Please pass the result to `transformed_cell` argument and any exception that happen during thetransform in `preprocessing_exc_tuple` in IPython 7.17 and above.\n"
     ]
    }
   ],
   "source": [
    "# 2: create dtm\n",
    "# myX = vec.fit_transform(speeches[\"text\"])\n",
    "myX = vec.fit_transform(speeches[\"text\"])"
   ]
  },
  {
   "cell_type": "code",
   "execution_count": null,
   "id": "failing-march",
   "metadata": {},
   "outputs": [],
   "source": [
    "# 3 create lda\n",
    "lda = LatentDirichletAllocation(n_components= 4, learning_method= \"online\")"
   ]
  },
  {
   "cell_type": "code",
   "execution_count": null,
   "id": "complex-butter",
   "metadata": {},
   "outputs": [],
   "source": [
    "# 4 fit lda\n",
    "doc_topics = lda.fit_transform(myX)"
   ]
  },
  {
   "cell_type": "code",
   "execution_count": null,
   "id": "greatest-exclusion",
   "metadata": {},
   "outputs": [],
   "source": [
    "# 5\n",
    "print(f\"There are {lda.components_.shape[0]} topics and {lda.components_.shape[1]} words\")"
   ]
  },
  {
   "cell_type": "markdown",
   "id": "unknown-summer",
   "metadata": {},
   "source": [
    "### Extracting Top Words From Each Topic"
   ]
  },
  {
   "cell_type": "code",
   "execution_count": null,
   "id": "described-wales",
   "metadata": {},
   "outputs": [],
   "source": [
    "## Get feature names (vocabulary)\n",
    "voc = np.array(vec.get_feature_names())\n",
    "voc"
   ]
  },
  {
   "cell_type": "code",
   "execution_count": null,
   "id": "innocent-advertiser",
   "metadata": {},
   "outputs": [],
   "source": [
    "\"nations\" in both_sw"
   ]
  },
  {
   "cell_type": "code",
   "execution_count": null,
   "id": "intelligent-petroleum",
   "metadata": {},
   "outputs": [],
   "source": [
    "# Call function and specify number of top words\n",
    "numTopWords = 10\n",
    "main_topics_df = top_words_f(numTopWords)\n",
    "main_topics_df"
   ]
  },
  {
   "cell_type": "code",
   "execution_count": null,
   "id": "lovely-ethics",
   "metadata": {},
   "outputs": [],
   "source": [
    "for i, each in enumerate(main_topics_df[\"top_words\"]):\n",
    "    print(f\"Top words in topic {i}: {each}\\n\")"
   ]
  },
  {
   "cell_type": "code",
   "execution_count": null,
   "id": "joint-mercury",
   "metadata": {},
   "outputs": [],
   "source": [
    "topicDict = {\n",
    "    0: \"national security\",\n",
    "    1: \"people\",\n",
    "    2: \"countries\",\n",
    "    3: \"development\"\n",
    "}"
   ]
  },
  {
   "cell_type": "code",
   "execution_count": null,
   "id": "plain-precipitation",
   "metadata": {},
   "outputs": [],
   "source": [
    "cols = [\"Topic_\" + str(each) for each in range(lda.n_components)]\n",
    "docs = [\"Document_\" + str(each) for each in range(myX.shape[0])]"
   ]
  },
  {
   "cell_type": "code",
   "execution_count": null,
   "id": "incomplete-holiday",
   "metadata": {},
   "outputs": [],
   "source": [
    "# the fitted lda model\n",
    "print(doc_topics.shape)\n",
    "doc_topics"
   ]
  },
  {
   "cell_type": "markdown",
   "id": "better-thunder",
   "metadata": {},
   "source": [
    "Honestly, doc_topics is simply a bumnch of weights"
   ]
  },
  {
   "cell_type": "code",
   "execution_count": null,
   "id": "labeled-incident",
   "metadata": {},
   "outputs": [],
   "source": [
    "df_topics_df = pd.DataFrame(np.round(doc_topics, 2),\n",
    "                        columns=cols,\n",
    "                        index=docs)\n",
    "imp_topic = np.argmax(df_topics_df.values, axis=1)\n",
    "df_topics_df[\"top_topic\"] = imp_topic\n",
    "df_topics_df"
   ]
  },
  {
   "cell_type": "code",
   "execution_count": null,
   "id": "expensive-nirvana",
   "metadata": {},
   "outputs": [],
   "source": [
    "# TODO: horizontally concat with speeches"
   ]
  },
  {
   "cell_type": "code",
   "execution_count": null,
   "id": "boxed-facility",
   "metadata": {},
   "outputs": [],
   "source": [
    "# pyLDAvis.save_html(viz, 'lda.html')\n",
    "# pyLDAvis.save_html(viz, \"lda_4_topics.html\")"
   ]
  },
  {
   "cell_type": "code",
   "execution_count": null,
   "id": "charitable-latitude",
   "metadata": {},
   "outputs": [],
   "source": []
  },
  {
   "cell_type": "code",
   "execution_count": null,
   "id": "dedicated-value",
   "metadata": {},
   "outputs": [],
   "source": []
  },
  {
   "cell_type": "code",
   "execution_count": null,
   "id": "commercial-threat",
   "metadata": {},
   "outputs": [],
   "source": []
  },
  {
   "cell_type": "code",
   "execution_count": null,
   "id": "directed-essex",
   "metadata": {},
   "outputs": [],
   "source": []
  },
  {
   "cell_type": "code",
   "execution_count": null,
   "id": "burning-pitch",
   "metadata": {},
   "outputs": [],
   "source": []
  },
  {
   "cell_type": "code",
   "execution_count": null,
   "id": "ranging-monroe",
   "metadata": {},
   "outputs": [],
   "source": []
  },
  {
   "cell_type": "code",
   "execution_count": null,
   "id": "incomplete-cigarette",
   "metadata": {},
   "outputs": [],
   "source": [
    "summarize = pipeline(\"summarization\")\n",
    "summary = summarize(list_of_strings[0:1], max_length = 10, clean_up_tokenization_spaces=True)\n",
    "summary"
   ]
  },
  {
   "cell_type": "code",
   "execution_count": null,
   "id": "intense-fleece",
   "metadata": {
    "scrolled": true
   },
   "outputs": [],
   "source": [
    "'''\n",
    "for every speech:\n",
    "    spawn nlp()\n",
    "    tokenize()\n",
    "    remove stop words\n",
    "    remove punctuation and special characters!\n",
    "    \n",
    "'''\n",
    "def toTokenize(text):\n",
    "    '''\n",
    "    Tokenizes a text\n",
    "    \n",
    "    @param NLP text the given NLP figure\n",
    "    @return a list of tokenized words\n",
    "    '''\n",
    "    text_tokenized = []\n",
    "\n",
    "    for t in text:\n",
    "        text_tokenized.append(t.text)\n",
    "    return text_tokenized\n",
    "\n",
    "def removeStopwords(text_tokenized, sw = both_sw):\n",
    "    '''\n",
    "    Removes stopwords from a given tokenized text list\n",
    "    \n",
    "    @param list text_tokenized the given list of tokenized words\n",
    "    @param set sw default is the nltk-spaCy stopwords\n",
    "    @return a filtered, tokenized list (without stopwords!)\n",
    "    '''\n",
    "    \n",
    "    # Filter out stopwords (using list comprehension)\n",
    "    text_filtered = [w for w in text_tokenized if w not in sw]\n",
    "    return text_filtered\n",
    "\n",
    "def toLemmatize():\n",
    "    '''\n",
    "    \n",
    "    '''\n",
    "    print(\"helo\")\n",
    "\n",
    "maxNumDoc = 3\n",
    "# docIndex = 0\n",
    "for docIndex in range(len(speeches.text[0:maxNumDoc])):\n",
    "\n",
    "    speech = speeches[\"text\"][docIndex].lower()\n",
    "    \n",
    "    # nlp object\n",
    "    nlpSpeech = nlp(speech)\n",
    "    \n",
    "    # tokenize speech\n",
    "    text_tokenized = toTokenize(nlpSpeech)\n",
    "    \n",
    "    # tokenized, no stopwords\n",
    "    text_filtered = removeStopwords(text_tokenized)\n",
    "    \n",
    "    \n",
    "    vec = CountVectorizer\n",
    "#     sentiment_polarity = [textblob.TextBlob(speech.text).sentiment.polarity for speech in doc]\n",
    "#     print(len(sentiment_polarity))"
   ]
  },
  {
   "cell_type": "code",
   "execution_count": null,
   "id": "durable-compiler",
   "metadata": {},
   "outputs": [],
   "source": [
    "# print(\"hello\")\n",
    "myLemonizer = WordNetLemmatizer()\n",
    "myStemmer = SnowballStemmer(language = \"english\")\n",
    "words = [\"viet-nam\", \"Vietnam\", \"Viet\", \"depending\", \"depends\", \n",
    "         \"carries\", \"carry\", \"carri\", \"generosity\", \"generous\", \"better\",\n",
    "         \"best\", \"in a meeting\", \"meeting\", \"am meeting you\", \"countries\", \"country\"\n",
    "        ]\n",
    "for word in words:\n",
    "    word = word.lower()\n",
    "    print(f\"Lemmatize: {myLemonizer.lemmatize(word)}, Stem: {myStemmer.stem(word)}\")"
   ]
  },
  {
   "cell_type": "code",
   "execution_count": null,
   "id": "little-arbitration",
   "metadata": {},
   "outputs": [],
   "source": [
    "sentiment_polarity = [textblob.TextBlob(speech).sentiment.polarity for speech in speeches.text[0:5]]\n",
    "predicted_sentiments = ['positive' if score >= 0.1 else 'negative' for score in sentiment_polarity]"
   ]
  },
  {
   "cell_type": "code",
   "execution_count": null,
   "id": "special-louisville",
   "metadata": {},
   "outputs": [],
   "source": [
    "# sentiment_polarity"
   ]
  },
  {
   "cell_type": "code",
   "execution_count": null,
   "id": "bridal-sport",
   "metadata": {},
   "outputs": [],
   "source": [
    "predicted_sentiments"
   ]
  },
  {
   "cell_type": "markdown",
   "id": "adaptive-comment",
   "metadata": {},
   "source": [
    "Spliting CSV files in Python\n",
    "\n",
    "https://dzone.com/articles/splitting-csv-files-in-python"
   ]
  }
 ],
 "metadata": {
  "kernelspec": {
   "display_name": "Python 3",
   "language": "python",
   "name": "python3"
  },
  "language_info": {
   "codemirror_mode": {
    "name": "ipython",
    "version": 3
   },
   "file_extension": ".py",
   "mimetype": "text/x-python",
   "name": "python",
   "nbconvert_exporter": "python",
   "pygments_lexer": "ipython3",
   "version": "3.8.5"
  }
 },
 "nbformat": 4,
 "nbformat_minor": 5
}
